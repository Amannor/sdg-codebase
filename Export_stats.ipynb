{
  "nbformat": 4,
  "nbformat_minor": 0,
  "metadata": {
    "colab": {
      "name": "Export stats.ipynb",
      "provenance": [],
      "collapsed_sections": [
        "0vs1RGRs0mzF",
        "nTyLKROHz-ls",
        "lJkMVMhsH8Uc",
        "nu_JYRELaTmx",
        "WSbbkSCmH3hO",
        "ErkpxWCmjWzR",
        "7yCJ-zSlxaQF",
        "Aukid_TVyS1J",
        "f7US6RYy7CUU",
        "nONAOufi7HGL",
        "G_v_8Ttbxel5",
        "VOYLvHSVFke-",
        "gd3QJECQ6va7",
        "-tciU8Ezvcvd",
        "hCOsDV_Fwc4P",
        "Fzf-dwazCkOM",
        "XvTVf_BX41UI",
        "rYHb_VOap54k",
        "qI743qQj4u_2",
        "EB_wCCC74oFE",
        "4jysoWrkxhOO",
        "I4KR-v0Y1JcS",
        "LrvEaVhk2696",
        "fONRugHqym0x",
        "qnNu1Esr1Mxq",
        "EJM-0OkS24Jn",
        "nu3_SkBQzV_d",
        "H071_Jfl1OQN",
        "_Oh12Lqy21eC",
        "Ame7d7fczd8d",
        "Lx8yrmNr1Q3a",
        "n5MtBW7Nzmiv",
        "CuMrd6-Kzmiv"
      ]
    },
    "kernelspec": {
      "name": "python3",
      "display_name": "Python 3"
    },
    "accelerator": "GPU"
  },
  "cells": [
    {
      "cell_type": "code",
      "metadata": {
        "id": "D4jXbHljcE9d",
        "colab": {
          "base_uri": "https://localhost:8080/"
        },
        "outputId": "d8ecd57b-90b7-481e-d103-cf9230d489de"
      },
      "source": [
        "from google.colab import drive\n",
        "drive.mount('/content/drive')\n",
        "%cd drive/My Drive/SDG"
      ],
      "execution_count": 1,
      "outputs": [
        {
          "output_type": "stream",
          "text": [
            "Drive already mounted at /content/drive; to attempt to forcibly remount, call drive.mount(\"/content/drive\", force_remount=True).\n",
            "/content/drive/My Drive/SDG\n"
          ],
          "name": "stdout"
        }
      ]
    },
    {
      "cell_type": "markdown",
      "metadata": {
        "id": "0vs1RGRs0mzF"
      },
      "source": [
        "## Funcs"
      ]
    },
    {
      "cell_type": "code",
      "metadata": {
        "id": "RpvmDgzzxOdD"
      },
      "source": [
        "import gc\n",
        "import psutil\n",
        "\n",
        "def showMem():\n",
        "  print(f\"cuda mem after = {torch.cuda.memory_reserved()}\")\n",
        "  !/opt/bin/nvidia-smi\n",
        "  print(dict(psutil.virtual_memory()._asdict()))"
      ],
      "execution_count": 2,
      "outputs": []
    },
    {
      "cell_type": "code",
      "metadata": {
        "id": "aO6fNUO9vGFd"
      },
      "source": [
        "def cleanMemory():\n",
        "  # print(f\"cuda mem before = {torch.cuda.memory_reserved()}\")\n",
        "  # del trainer\n",
        "  torch.cuda.empty_cache()\n",
        "  gc.collect()\n",
        "  showMem()"
      ],
      "execution_count": 3,
      "outputs": []
    },
    {
      "cell_type": "code",
      "metadata": {
        "id": "LPmeEWfahUHD"
      },
      "source": [
        "def SDGToFivePs(x):\n",
        "  x = int(x.replace(\"_goal\",\"\"))\n",
        "  if x in range(0,7):\n",
        "    return 'People'\n",
        "  if x in range(13,16):\n",
        "    return 'Planet'\n",
        "  if x in range(7,13):\n",
        "    return 'Prosperity'\n",
        "  if x in range(16,17):\n",
        "    return 'Peace'\n",
        "  if x in range(17,18):\n",
        "    return 'Partnerships'\n",
        "  return None"
      ],
      "execution_count": 4,
      "outputs": []
    },
    {
      "cell_type": "markdown",
      "metadata": {
        "id": "nTyLKROHz-ls"
      },
      "source": [
        "### imports"
      ]
    },
    {
      "cell_type": "code",
      "metadata": {
        "id": "OME6hHN_fF6T",
        "colab": {
          "base_uri": "https://localhost:8080/"
        },
        "outputId": "e441e8b3-986d-48e4-e470-056396b2d0bc"
      },
      "source": [
        "import pandas as pd\n",
        "!pip install transformers\n",
        "from transformers import BertTokenizer, BertModel, BertForMaskedLM\n",
        "from transformers import AdamW\n",
        "import torch\n",
        "import matplotlib.pyplot as plt\n",
        "from sklearn.model_selection import train_test_split\n",
        "from sklearn.metrics import confusion_matrix, accuracy_score"
      ],
      "execution_count": 5,
      "outputs": [
        {
          "output_type": "stream",
          "text": [
            "Requirement already satisfied: transformers in /usr/local/lib/python3.6/dist-packages (3.5.1)\n",
            "Requirement already satisfied: numpy in /usr/local/lib/python3.6/dist-packages (from transformers) (1.18.5)\n",
            "Requirement already satisfied: tokenizers==0.9.3 in /usr/local/lib/python3.6/dist-packages (from transformers) (0.9.3)\n",
            "Requirement already satisfied: tqdm>=4.27 in /usr/local/lib/python3.6/dist-packages (from transformers) (4.41.1)\n",
            "Requirement already satisfied: protobuf in /usr/local/lib/python3.6/dist-packages (from transformers) (3.12.4)\n",
            "Requirement already satisfied: dataclasses; python_version < \"3.7\" in /usr/local/lib/python3.6/dist-packages (from transformers) (0.7)\n",
            "Requirement already satisfied: packaging in /usr/local/lib/python3.6/dist-packages (from transformers) (20.4)\n",
            "Requirement already satisfied: requests in /usr/local/lib/python3.6/dist-packages (from transformers) (2.23.0)\n",
            "Requirement already satisfied: regex!=2019.12.17 in /usr/local/lib/python3.6/dist-packages (from transformers) (2019.12.20)\n",
            "Requirement already satisfied: filelock in /usr/local/lib/python3.6/dist-packages (from transformers) (3.0.12)\n",
            "Requirement already satisfied: sentencepiece==0.1.91 in /usr/local/lib/python3.6/dist-packages (from transformers) (0.1.91)\n",
            "Requirement already satisfied: sacremoses in /usr/local/lib/python3.6/dist-packages (from transformers) (0.0.43)\n",
            "Requirement already satisfied: setuptools in /usr/local/lib/python3.6/dist-packages (from protobuf->transformers) (50.3.2)\n",
            "Requirement already satisfied: six>=1.9 in /usr/local/lib/python3.6/dist-packages (from protobuf->transformers) (1.15.0)\n",
            "Requirement already satisfied: pyparsing>=2.0.2 in /usr/local/lib/python3.6/dist-packages (from packaging->transformers) (2.4.7)\n",
            "Requirement already satisfied: urllib3!=1.25.0,!=1.25.1,<1.26,>=1.21.1 in /usr/local/lib/python3.6/dist-packages (from requests->transformers) (1.24.3)\n",
            "Requirement already satisfied: chardet<4,>=3.0.2 in /usr/local/lib/python3.6/dist-packages (from requests->transformers) (3.0.4)\n",
            "Requirement already satisfied: idna<3,>=2.5 in /usr/local/lib/python3.6/dist-packages (from requests->transformers) (2.10)\n",
            "Requirement already satisfied: certifi>=2017.4.17 in /usr/local/lib/python3.6/dist-packages (from requests->transformers) (2020.6.20)\n",
            "Requirement already satisfied: joblib in /usr/local/lib/python3.6/dist-packages (from sacremoses->transformers) (0.17.0)\n",
            "Requirement already satisfied: click in /usr/local/lib/python3.6/dist-packages (from sacremoses->transformers) (7.1.2)\n"
          ],
          "name": "stdout"
        }
      ]
    },
    {
      "cell_type": "markdown",
      "metadata": {
        "id": "lJkMVMhsH8Uc"
      },
      "source": [
        "### plot metrics"
      ]
    },
    {
      "cell_type": "code",
      "metadata": {
        "id": "jGZfgw8l86Xy"
      },
      "source": [
        "def plotAccPrecRecall(y_test, y_pred, predicted_prob, verbose=False):\n",
        "  accuracy = metrics.accuracy_score(y_test, y_pred)\n",
        "  auc = metrics.roc_auc_score(y_test, predicted_prob, multi_class=\"ovr\")\n",
        "  print(\"Accuracy:\",  round(accuracy,2))\n",
        "  if verbose:\n",
        "    print(\"Auc:\", round(auc,2))\n",
        "    print(\"Detail:\")\n",
        "    print(metrics.classification_report(y_test, y_pred))\n",
        "\n",
        "  return accuracy"
      ],
      "execution_count": 6,
      "outputs": []
    },
    {
      "cell_type": "code",
      "metadata": {
        "id": "4cGzkgf39VMB"
      },
      "source": [
        "def plotConfusionMatrix(y_test, y_pred, labels):\n",
        "  cm = metrics.confusion_matrix(y_test, y_pred, labels=labels)\n",
        "  fig, ax = plt.subplots()\n",
        "  sns.heatmap(cm, annot=True, fmt='d', ax=ax, cmap=plt.cm.Blues, \n",
        "              cbar=False)\n",
        "  ax.set(xlabel=\"Pred\", ylabel=\"True\", xticklabels=labels, \n",
        "        yticklabels=labels, title=\"Confusion matrix\")\n",
        "  plt.yticks(rotation=0)"
      ],
      "execution_count": 7,
      "outputs": []
    },
    {
      "cell_type": "code",
      "metadata": {
        "id": "Cj3Ax6ZC-aow"
      },
      "source": [
        "from sklearn.metrics import roc_curve, auc\n",
        "from sklearn.model_selection import train_test_split\n",
        "from sklearn.preprocessing import label_binarize\n",
        "from sklearn.multiclass import OneVsRestClassifier\n",
        "from scipy import interp\n",
        "from sklearn.metrics import roc_auc_score\n",
        "from itertools import cycle\n",
        "\n",
        "def plotRocPrecRecallCurve(y_test, predicted_prob, labels):\n",
        "  y_test_array = pd.get_dummies(y_test, drop_first=False).values\n",
        "  fig, ax = plt.subplots(nrows=1, ncols=2, figsize=(10,5))\n",
        "  fpr = dict()\n",
        "  tpr = dict()\n",
        "  roc_auc = dict()\n",
        "  ## Plot roc\n",
        "  for i in range(len(labels)):\n",
        "      fpr[i], tpr[i], thresholds = metrics.roc_curve(y_test_array[:,i],  \n",
        "                            predicted_prob[:,i])\n",
        "      ax[0].plot(fpr[i], tpr[i], lw=3,\n",
        "                label='{0} (area={1:0.2f})'.format(labels[i], \n",
        "                                metrics.auc(fpr[i], tpr[i]),)\n",
        "                )\n",
        "  # fpr[\"micro\"], tpr[\"micro\"], _ = roc_curve(y_test.ravel(), predicted_prob.ravel())\n",
        "  # roc_auc[\"micro\"] = auc(fpr[\"micro\"], tpr[\"micro\"])\n",
        "\n",
        "  # First aggregate all false positive rates\n",
        "  all_fpr = np.unique(np.concatenate([fpr[i] for i in range(len(labels))]))\n",
        "\n",
        "  # Then interpolate all ROC curves at this points\n",
        "  mean_tpr = np.zeros_like(all_fpr)\n",
        "  for i in range(len(labels)):\n",
        "      mean_tpr += interp(all_fpr, fpr[i], tpr[i])\n",
        "\n",
        "  # Finally average it and compute AUC\n",
        "  mean_tpr /= len(labels)\n",
        "\n",
        "  fpr[\"macro\"] = all_fpr\n",
        "  tpr[\"macro\"] = mean_tpr\n",
        "  roc_auc[\"macro\"] = auc(fpr[\"macro\"], tpr[\"macro\"])\n",
        "\n",
        "  # Plot all ROC curves\n",
        "  plt.figure()\n",
        "  # plt.plot(fpr[\"micro\"], tpr[\"micro\"],\n",
        "  #         label='micro-average ROC curve (area = {0:0.2f})'\n",
        "  #               ''.format(roc_auc[\"micro\"]),\n",
        "  #         color='deeppink', linestyle=':', linewidth=4)\n",
        "\n",
        "  plt.plot(fpr[\"macro\"], tpr[\"macro\"],\n",
        "          label='macro-average ROC curve (area = {0:0.2f})'\n",
        "                ''.format(roc_auc[\"macro\"]),\n",
        "          color='navy', linestyle=':', linewidth=4)\n",
        "\n",
        "  # colors = cycle(['aqua', 'darkorange', 'cornflowerblue'])\n",
        "  # for i, color in zip(range(len(labels)), colors):\n",
        "  #     plt.plot(fpr[i], tpr[i], color=color, lw=lw,\n",
        "  #             label='ROC curve of class {0} (area = {1:0.2f})'\n",
        "  #             ''.format(i, roc_auc[i]))\n",
        "  \n",
        "  plt.plot([0, 1], [0, 1], 'k--', lw=2)\n",
        "  plt.xlim([0.0, 1.0])\n",
        "  plt.ylim([0.0, 1.05])\n",
        "  plt.xlabel('False Positive Rate')\n",
        "  plt.ylabel('True Positive Rate')\n",
        "  plt.title('Some extension of Receiver operating characteristic to multi-class')\n",
        "  plt.legend(loc=\"lower right\")\n",
        "  plt.show()\n",
        "\n",
        "  ax[0].plot([0,1], [0,1], color='navy', lw=3, linestyle='--')\n",
        "  ax[0].set(xlim=[-0.05,1.0], ylim=[0.0,1.05], \n",
        "            xlabel='False Positive Rate', \n",
        "            ylabel=\"True Positive Rate (Recall)\", \n",
        "            title=\"Receiver operating characteristic\")\n",
        "  ax[0].legend(loc=\"lower right\")\n",
        "  ax[0].grid(True)\n",
        "      \n",
        "  ## Plot precision-recall curve\n",
        "  for i in range(len(labels)):\n",
        "      precision, recall, thresholds = metrics.precision_recall_curve(\n",
        "                  y_test_array[:,i], predicted_prob[:,i])\n",
        "      ax[1].plot(recall, precision, lw=3, \n",
        "                label='{0} (area={1:0.2f})'.format(labels[i], \n",
        "                                    metrics.auc(recall, precision))\n",
        "                )\n",
        "  ax[1].set(xlim=[0.0,1.05], ylim=[0.0,1.05], xlabel='Recall', \n",
        "            ylabel=\"Precision\", title=\"Precision-Recall curve\")\n",
        "  ax[1].legend(loc=\"best\")\n",
        "  ax[1].grid(True)\n",
        "  plt.show()"
      ],
      "execution_count": 8,
      "outputs": []
    },
    {
      "cell_type": "markdown",
      "metadata": {
        "id": "nu_JYRELaTmx"
      },
      "source": [
        "### Model"
      ]
    },
    {
      "cell_type": "code",
      "metadata": {
        "id": "4DVefNNeaTmy"
      },
      "source": [
        "class SDGModel(torch.nn.Module):\n",
        "  def __init__(self, output_size, device='cuda'):\n",
        "    super(SDGModel, self).__init__()\n",
        "    self.device = device\n",
        "    self.tokenizer = BertTokenizer.from_pretrained('bert-base-uncased', do_lower_case=True)\n",
        "    self.bert = BertModel.from_pretrained('bert-base-uncased', output_attentions=True)\n",
        "#     for index, param in enumerate(self.bert.parameters()):\n",
        "#         print(index, param.shape)\n",
        "#         param.requires_grad = False\n",
        "    self.out1 = torch.nn.Linear(768, 400)\n",
        "    self.drop = torch.nn.Dropout(0.5)\n",
        "    self.out2 = torch.nn.Linear(400, output_size)\n",
        "\n",
        "  def forward(self, text):\n",
        "    tokenized_text = self.tokenizer.tokenize(\"[CLS] \" + text + \" [SEP]\")\n",
        "    indexed_tokens = self.tokenizer.convert_tokens_to_ids(tokenized_text)\n",
        "    tokens_tensor = torch.tensor([indexed_tokens])\n",
        "    if self.device == 'cuda':\n",
        "      tokens_tensor = tokens_tensor.cuda()\n",
        "    \n",
        "    if tokens_tensor.shape[1] > 500:\n",
        "      tokens_tensor = tokens_tensor[0][0:500].unsqueeze(0)\n",
        "    outputs = self.bert(tokens_tensor)[0]\n",
        "    o = torch.nn.ReLU()(self.out1(outputs[0][0]))\n",
        "    o = self.drop(o)\n",
        "    return self.out2(o)\n",
        "\n",
        "  def getAttention(self, text):\n",
        "    # tbd\n",
        "    self.eval()\n",
        "    inputs = self.tokenizer.encode_plus(text, return_tensors='pt', add_special_tokens=True)\n",
        "    token_type_ids = inputs['token_type_ids']\n",
        "    input_ids = inputs['input_ids']\n",
        "    attention = self.bert(torch.tensor(input_ids).cuda(), token_type_ids=torch.tensor(token_type_ids).cuda())[-1]\n",
        "    input_id_list = input_ids[0].tolist() # Batch index 0\n",
        "    tokens = self.tokenizer.convert_ids_to_tokens(input_id_list)\n",
        "    \n",
        "    # call_html()\n",
        "    # head_view(attention, tokens)\n",
        "    # self.train()\n",
        "    return attention, tokens"
      ],
      "execution_count": 9,
      "outputs": []
    },
    {
      "cell_type": "code",
      "metadata": {
        "id": "Nm80HdsEaTm1"
      },
      "source": [
        "from sklearn import metrics\n",
        "import seaborn as sns\n",
        "import numpy as np\n",
        "\n",
        "def evaluate_mode(X_test, model, labels, verbose=True):\n",
        "\n",
        "  model.eval()\n",
        "  errors = []\n",
        "  softmax = torch.nn.Softmax(dim=0)\n",
        "\n",
        "  #eval\n",
        "  with torch.no_grad():\n",
        "      y_pred = []\n",
        "      predicted_prob = []\n",
        "      y_test = X_test[\"Target\"]\n",
        "      for index, instance in X_test.iterrows():\n",
        "          out = model(instance[\"Description\"].lower())\n",
        "          predicted_prob.append(softmax(out).tolist())\n",
        "          y_pred.append(labels[torch.argmax(out).item()])\n",
        "          # collect companies with errors\n",
        "          if instance['Target'] != labels[torch.argmax(out).item()]:\n",
        "            errors.append((instance['Company'], instance['Target'], labels[torch.argmax(out).item()]))\n",
        "      model.train()\n",
        "\n",
        "  predicted_prob = np.array(predicted_prob)\n",
        "\n",
        "  ## plot Accuracy, Precision, Recall\n",
        "  accuracy = plotAccPrecRecall(y_test, y_pred, predicted_prob, verbose)\n",
        "      \n",
        "  ## Plot confusion matrix\n",
        "  plotConfusionMatrix(y_test, y_pred, labels)\n",
        "\n",
        "  ## Plot roc, precision recall curve\n",
        "  if verbose:\n",
        "    plotRocPrecRecallCurve(y_test, predicted_prob, labels)\n",
        "\n",
        "  return errors, accuracy, y_pred, predicted_prob"
      ],
      "execution_count": 10,
      "outputs": []
    },
    {
      "cell_type": "code",
      "metadata": {
        "id": "4st4D0tMVUb_"
      },
      "source": [
        "# load model from checkpoint\n",
        "\n",
        "def loadModel(filename, dev='cuda', target=None):\n",
        "  checkpoint = torch.load(f\"models/\"+filename, map_location=torch.device(dev))\n",
        "  if target is None:\n",
        "    labels = checkpoint['labels']\n",
        "  elif target == 'SDG Goal':\n",
        "    labels = [7, 2, 3, 12, 1, 9, 13, 4, 8, 16, 11, 6, 14, 10, 5, 15, 17]\n",
        "  else:\n",
        "    labels = ['Prosperity', 'People', 'Planet', 'Peace', 'Partnerships']\n",
        "\n",
        "  device = torch.device(dev)\n",
        "  model = SDGModel(len(labels))\n",
        "  optimizer = AdamW(model.parameters(), lr=1e-5)\n",
        "\n",
        "  model.load_state_dict(checkpoint['model_state_dict'])\n",
        "  model.to(device)\n",
        "  optimizer.load_state_dict(checkpoint['optimizer_state_dict'])\n",
        "  # epoch = checkpoint['epoch']\n",
        "  # losses = checkpoint['losses']\n",
        "  # errors = checkpoint['errors']\n",
        "  # accuracies = checkpoint['accuracies']\n",
        "\n",
        "  model.eval()\n",
        "  # - or -\n",
        "  # model.train()\n",
        "\n",
        "  return model"
      ],
      "execution_count": 11,
      "outputs": []
    },
    {
      "cell_type": "markdown",
      "metadata": {
        "id": "WSbbkSCmH3hO"
      },
      "source": [
        "### Model Trainer"
      ]
    },
    {
      "cell_type": "code",
      "metadata": {
        "id": "M3WvN7bWGSJ1"
      },
      "source": [
        "class ModelTrainer():\n",
        "  def __init__(self, data, newModel=True, n_epochs=6, test_size=0.15, random_state=42, target_col='SDG Goal', modelFilename=None, device='cuda'):\n",
        "    \n",
        "    self.n_epochs = n_epochs\n",
        "    self.data = data\n",
        "    self.data['Target'] = self.data[target_col]\n",
        "    self.labels = list(self.data['Target'].value_counts().keys().values)\n",
        "    self.newModel = newModel\n",
        "    self.criterion = torch.nn.CrossEntropyLoss()\n",
        "    self.modelFilename = modelFilename\n",
        "    self.test_size = test_size\n",
        "    self.random_state = random_state\n",
        "    self.target_col = target_col\n",
        "    self.n_epochs = n_epochs\n",
        "    self.device = device\n",
        "    self.X_train, self.X_test, self.y_train, self.y_test = train_test_split(self.data, self.data[\"Target\"], test_size=self.test_size, random_state=self.random_state)\n",
        "\n",
        "    \n",
        "    if self.newModel:\n",
        "      self.createModel()\n",
        "    else:\n",
        "      self.loadModel(self.modelFilename)\n",
        "\n",
        "    self.model.train()\n",
        "\n",
        "  def createModel(self):\n",
        "    self.model = SDGModel(len(self.labels), self.device)\n",
        "    self.model.to(self.device)\n",
        "    self.optimizer = AdamW(self.model.parameters(), lr=1e-5)\n",
        "    self.losses = []\n",
        "    self.errors = []\n",
        "    self.epoch = 1\n",
        "    self.accuracies = []\n",
        "    self.y_preds = []\n",
        "    self.predicted_probs = []\n",
        "\n",
        "  def loadModel(self, modelFilename):\n",
        "    self.checkpoint = torch.load(f\"models/\"+modelFilename, map_location=torch.device(self.device))\n",
        "    self.labels = self.checkpoint['labels']\n",
        "    # labels = [7, 2, 3, 12, 1, 9, 13, 4, 8, 16, 11, 6, 14, 10, 5, 15, 17]\n",
        "\n",
        "    device = torch.device(self.device)\n",
        "    self.model = SDGModel(len(self.labels))\n",
        "    self.optimizer = AdamW(self.model.parameters(), lr=1e-5)\n",
        "\n",
        "    self.model.load_state_dict(self.checkpoint['model_state_dict'])\n",
        "    self.model.to(device)\n",
        "    self.optimizer.load_state_dict(self.checkpoint['optimizer_state_dict'])\n",
        "\n",
        "    self.epoch = self.checkpoint['epoch']\n",
        "    self.losses = self.checkpoint['losses']\n",
        "    self.errors = self.checkpoint['errors']\n",
        "    self.accuracies = self.checkpoint['accuracies']\n",
        "    self.y_preds = self.checkpoint['y_preds']\n",
        "    self.predicted_probs = self.checkpoint['predicted_probs']\n",
        "\n",
        "  def train(self):\n",
        "    # self.printDataValueCounts()\n",
        "\n",
        "    start_time = time.time()\n",
        "\n",
        "    self.epochs = self.epoch+self.n_epochs-1\n",
        "\n",
        "    for e in range(self.epoch, self.epochs+1):\n",
        "      cnt = 0\n",
        "      current_loss = 0\n",
        "      epoc_loss = 0;\n",
        "      curr_data = self.X_train.sample(frac=1)\n",
        "      print(len(curr_data))\n",
        "      for index, instance in curr_data.iterrows():\n",
        "        cnt += 1\n",
        "        self.optimizer.zero_grad()\n",
        "        out = self.model(instance[\"Description\"].lower())\n",
        "        target = torch.LongTensor([self.labels.index(instance[\"Target\"])])\n",
        "        if self.device == 'cuda':\n",
        "          target = target.cuda()\n",
        "        loss = self.criterion(out.view(1, -1), target)\n",
        "        epoc_loss += loss\n",
        "        loss.backward()\n",
        "        self.optimizer.step()\n",
        "        current_loss += loss.item()\n",
        "        if index % 50 == 0:\n",
        "          print(f\"Epoch={e}, index={index}, loss={current_loss/30}, counter={cnt}\")\n",
        "          print(f\"{instance['Target']} --> {self.labels[torch.argmax(out).item()]}\")\n",
        "          current_loss = 0\n",
        "      error, acc, y_pred, predicted_prob = evaluate_mode(self.X_test, self.model, self.labels, False)\n",
        "      print(error[0][:5])\n",
        "      print(f\"total loss={epoc_loss/len(curr_data)}\")\n",
        "\n",
        "      self.losses.append(epoc_loss/len(curr_data))\n",
        "      self.errors.append(error)\n",
        "      self.accuracies.append(acc)\n",
        "      self.y_preds.append(y_pred)\n",
        "      self.predicted_probs.append(predicted_prob)\n",
        "      \n",
        "      print(f\"TIME TILL NOW: avg={(time.time() - start_time)/60/e:.1f}, for {e} epochs - {(time.time() - start_time)/60:.1f} min\")\n",
        "\n",
        "\n",
        "  def printDataValueCounts(self):\n",
        "    print(\"Labels: \" + str(self.labels))\n",
        "    print(\"X_train: \" + str(len(self.X_train)) + \" samples\")\n",
        "    print(\"X_test: \" + str(len(self.X_test)) + \" samples\")\n",
        "\n",
        "    # print(\"X_train:\")\n",
        "    # print(self.X_train['Target'].value_counts())\n",
        "    \n",
        "    # print(\"X_test:\")\n",
        "    # print(self.X_test['Target'].value_counts())\n",
        "\n",
        "  def getLastEval(self):\n",
        "    return evaluate_mode(self.X_test, self.model, self.labels)\n",
        "\n",
        "  def plotLosses(self):\n",
        "    ## Plot loss for epoc\n",
        "    %matplotlib inline\n",
        "    plt.plot(range(self.epoch+self.n_epochs-1), self.losses)\n",
        "    plt.ylabel('Cross Entropy Loss')\n",
        "    plt.xlabel('epoch');\n",
        "\n",
        "  def saveModel(self, filename):\n",
        "    checkpoint = {\n",
        "        'model_state_dict': self.model.state_dict(),\n",
        "        'optimizer_state_dict': self.optimizer.state_dict(),\n",
        "        'epoch': self.epochs+1,\n",
        "        'losses': self.losses,\n",
        "        'errors': self.errors,\n",
        "        'accuracies': self.accuracies,\n",
        "        'y_preds': self.y_preds,\n",
        "        'predicted_probs': self.predicted_probs,\n",
        "        'labels': self.labels\n",
        "    }\n",
        "    filename = filename.split(\"_checkpoint\")[0]\n",
        "    newFilename = f\"{filename}_{checkpoint['epoch']}.tar\"\n",
        "    torch.save(checkpoint, f\"models/{newFilename}\")\n",
        "    return newFilename\n",
        "\n",
        "  def getEvalOfEpoch(self, i):\n",
        "    plotAccPrecRecall(self.X_test['Target'], self.y_preds[i], self.predicted_probs[i], verbose=True)\n",
        "    plotConfusionMatrix(self.X_test['Target'], self.y_preds[i], self.labels)\n",
        "    plotRocPrecRecallCurve(self.X_test['Target'], self.predicted_probs[i], self.labels)\n",
        "\n"
      ],
      "execution_count": 12,
      "outputs": []
    },
    {
      "cell_type": "code",
      "metadata": {
        "id": "4x_altHny3wM"
      },
      "source": [
        "# # model.eval()\n",
        "# # - or -\n",
        "# model.train()"
      ],
      "execution_count": 13,
      "outputs": []
    },
    {
      "cell_type": "markdown",
      "metadata": {
        "id": "AcOTLitJhvAy"
      },
      "source": [
        "# Loading data"
      ]
    },
    {
      "cell_type": "code",
      "metadata": {
        "id": "d3nn_3rVT85l"
      },
      "source": [
        "dataFilename = 'SDG_data_2729.csv'\n",
        "# dataFilename = 'data_1_label_ai_scoop_new.csv'\n",
        "# dataFilename = 'data_2652.csv'\n",
        "sncFilename = 'snc100annotations.csv'\n",
        "\n",
        "modelPsAllFilename = 'model_5Ps_all_11.tar'\n",
        "modelSDGAllFilename = 'model_SDG_all_8.tar'\n",
        "modelPsTopFilename = 'model_5Ps_top_7_7.tar'\n",
        "modelSDGTopFilename = 'model_SDG_top_7_7.tar'\n",
        "\n",
        "test_size=0.15\n",
        "random_state=42"
      ],
      "execution_count": 14,
      "outputs": []
    },
    {
      "cell_type": "code",
      "metadata": {
        "id": "8D5Ya4sH-s_r",
        "colab": {
          "base_uri": "https://localhost:8080/"
        },
        "outputId": "1fbc0813-db77-4ad4-84e6-3b68775ab01b"
      },
      "source": [
        "data = pd.read_csv('data/' + dataFilename)\n",
        "data['SDG Goal'] = data['SDG Goal'].astype(int)\n",
        "data.shape"
      ],
      "execution_count": 15,
      "outputs": [
        {
          "output_type": "execute_result",
          "data": {
            "text/plain": [
              "(2729, 18)"
            ]
          },
          "metadata": {
            "tags": []
          },
          "execution_count": 15
        }
      ]
    },
    {
      "cell_type": "markdown",
      "metadata": {
        "id": "UNo35VEvbh4G"
      },
      "source": [
        "# stats"
      ]
    },
    {
      "cell_type": "markdown",
      "metadata": {
        "id": "ErkpxWCmjWzR"
      },
      "source": [
        "## general"
      ]
    },
    {
      "cell_type": "code",
      "metadata": {
        "id": "VgJJ6-WyjY_3",
        "colab": {
          "base_uri": "https://localhost:8080/"
        },
        "outputId": "a04b8e6f-274f-4e4c-8af1-1ed84cc032d6"
      },
      "source": [
        "# Additional SDGs\n",
        "data[data['Additional SDGs'].isnull() == False].shape"
      ],
      "execution_count": 16,
      "outputs": [
        {
          "output_type": "execute_result",
          "data": {
            "text/plain": [
              "(133, 18)"
            ]
          },
          "metadata": {
            "tags": []
          },
          "execution_count": 16
        }
      ]
    },
    {
      "cell_type": "code",
      "metadata": {
        "id": "fiPkAox3jY_8",
        "colab": {
          "base_uri": "https://localhost:8080/"
        },
        "outputId": "ad74d5f6-82a1-4d82-c3c3-9f752c1bc2cc"
      },
      "source": [
        "# Location\n",
        "data[data['Location'].isnull() == False].shape"
      ],
      "execution_count": 17,
      "outputs": [
        {
          "output_type": "execute_result",
          "data": {
            "text/plain": [
              "(2493, 18)"
            ]
          },
          "metadata": {
            "tags": []
          },
          "execution_count": 17
        }
      ]
    },
    {
      "cell_type": "code",
      "metadata": {
        "id": "DiTCUvDijY_-",
        "colab": {
          "base_uri": "https://localhost:8080/"
        },
        "outputId": "88593030-0cbd-4d72-89e6-6d4769aeeb2f"
      },
      "source": [
        "# Location of Impact\n",
        "data[data['Location of Impact'].isnull() == False].shape"
      ],
      "execution_count": 18,
      "outputs": [
        {
          "output_type": "execute_result",
          "data": {
            "text/plain": [
              "(1781, 18)"
            ]
          },
          "metadata": {
            "tags": []
          },
          "execution_count": 18
        }
      ]
    },
    {
      "cell_type": "code",
      "metadata": {
        "id": "lQUPW8wqjZAA",
        "colab": {
          "base_uri": "https://localhost:8080/"
        },
        "outputId": "5307f0c4-eeb4-4960-b0f8-8c1e1d964455"
      },
      "source": [
        "# sub topics\n",
        "data[(data['sub target'].isnull() == False) | (data['Rainmaking SDG Subtopic'].isnull() == False)].shape"
      ],
      "execution_count": 19,
      "outputs": [
        {
          "output_type": "execute_result",
          "data": {
            "text/plain": [
              "(1751, 18)"
            ]
          },
          "metadata": {
            "tags": []
          },
          "execution_count": 19
        }
      ]
    },
    {
      "cell_type": "code",
      "metadata": {
        "id": "jJx_tzUGjZAC",
        "colab": {
          "base_uri": "https://localhost:8080/"
        },
        "outputId": "b5b6958f-b9cb-47f1-d761-86e80c142096"
      },
      "source": [
        "# Impact Statement\n",
        "data[data['Impact Statement'].isnull() == False].shape"
      ],
      "execution_count": 20,
      "outputs": [
        {
          "output_type": "execute_result",
          "data": {
            "text/plain": [
              "(2160, 18)"
            ]
          },
          "metadata": {
            "tags": []
          },
          "execution_count": 20
        }
      ]
    },
    {
      "cell_type": "markdown",
      "metadata": {
        "id": "7yCJ-zSlxaQF"
      },
      "source": [
        "## sdg goals and ps"
      ]
    },
    {
      "cell_type": "code",
      "metadata": {
        "id": "-iumGgwW7X7A",
        "colab": {
          "base_uri": "https://localhost:8080/"
        },
        "outputId": "70bf842b-7999-4ae3-9740-a16edd30a216"
      },
      "source": [
        "data['SDG Goal'].value_counts()"
      ],
      "execution_count": 21,
      "outputs": [
        {
          "output_type": "execute_result",
          "data": {
            "text/plain": [
              "7     719\n",
              "2     375\n",
              "3     259\n",
              "12    235\n",
              "1     222\n",
              "9     167\n",
              "13    142\n",
              "4     102\n",
              "8      85\n",
              "16     78\n",
              "11     64\n",
              "6      58\n",
              "14     55\n",
              "10     51\n",
              "5      46\n",
              "15     36\n",
              "17     35\n",
              "Name: SDG Goal, dtype: int64"
            ]
          },
          "metadata": {
            "tags": []
          },
          "execution_count": 21
        }
      ]
    },
    {
      "cell_type": "code",
      "metadata": {
        "id": "0owuuKtz7dkO",
        "colab": {
          "base_uri": "https://localhost:8080/"
        },
        "outputId": "68d51be5-7047-4d6f-d72f-ebbc8e848c26"
      },
      "source": [
        "data['five Ps'].value_counts()"
      ],
      "execution_count": 22,
      "outputs": [
        {
          "output_type": "execute_result",
          "data": {
            "text/plain": [
              "Prosperity      1321\n",
              "People          1062\n",
              "Planet           233\n",
              "Peace             78\n",
              "Partnerships      35\n",
              "Name: five Ps, dtype: int64"
            ]
          },
          "metadata": {
            "tags": []
          },
          "execution_count": 22
        }
      ]
    },
    {
      "cell_type": "markdown",
      "metadata": {
        "id": "Aukid_TVyS1J"
      },
      "source": [
        "## words mean + std, characters mean + std"
      ]
    },
    {
      "cell_type": "markdown",
      "metadata": {
        "id": "f7US6RYy7CUU"
      },
      "source": [
        "### Pre processing"
      ]
    },
    {
      "cell_type": "code",
      "metadata": {
        "id": "FkJVSnDL6jWr"
      },
      "source": [
        "data['words_count'] = data['Description'].apply(lambda x: len(x.split()))\n",
        "data['character_count'] = data['Description'].apply(lambda x: len(x))"
      ],
      "execution_count": 23,
      "outputs": []
    },
    {
      "cell_type": "code",
      "metadata": {
        "id": "djOpGa7q9HPM",
        "colab": {
          "base_uri": "https://localhost:8080/"
        },
        "outputId": "a0455c9a-f792-4ec2-9d60-6afead205b0b"
      },
      "source": [
        "data[data['words_count'] > 500].shape"
      ],
      "execution_count": 24,
      "outputs": [
        {
          "output_type": "execute_result",
          "data": {
            "text/plain": [
              "(7, 20)"
            ]
          },
          "metadata": {
            "tags": []
          },
          "execution_count": 24
        }
      ]
    },
    {
      "cell_type": "markdown",
      "metadata": {
        "id": "nONAOufi7HGL"
      },
      "source": [
        "### Results"
      ]
    },
    {
      "cell_type": "code",
      "metadata": {
        "id": "ToYBeQZS82Dv",
        "colab": {
          "base_uri": "https://localhost:8080/"
        },
        "outputId": "e4e09fc6-e2c6-4038-ed5a-780dc5634a05"
      },
      "source": [
        "data.words_count.describe()"
      ],
      "execution_count": 25,
      "outputs": [
        {
          "output_type": "execute_result",
          "data": {
            "text/plain": [
              "count    2729.000000\n",
              "mean       81.222426\n",
              "std        80.997289\n",
              "min         1.000000\n",
              "25%        30.000000\n",
              "50%        58.000000\n",
              "75%        97.000000\n",
              "max       766.000000\n",
              "Name: words_count, dtype: float64"
            ]
          },
          "metadata": {
            "tags": []
          },
          "execution_count": 25
        }
      ]
    },
    {
      "cell_type": "code",
      "metadata": {
        "id": "_FMLqjMX9Ax9",
        "colab": {
          "base_uri": "https://localhost:8080/"
        },
        "outputId": "351e85cc-97c1-44fa-ec59-de59ac898a20"
      },
      "source": [
        "data.character_count.describe()"
      ],
      "execution_count": 26,
      "outputs": [
        {
          "output_type": "execute_result",
          "data": {
            "text/plain": [
              "count    2729.000000\n",
              "mean      529.080982\n",
              "std       504.831483\n",
              "min         4.000000\n",
              "25%       200.000000\n",
              "50%       387.000000\n",
              "75%       640.000000\n",
              "max      4772.000000\n",
              "Name: character_count, dtype: float64"
            ]
          },
          "metadata": {
            "tags": []
          },
          "execution_count": 26
        }
      ]
    },
    {
      "cell_type": "markdown",
      "metadata": {
        "id": "pDC_qz60xloc"
      },
      "source": [
        "## by source"
      ]
    },
    {
      "cell_type": "code",
      "metadata": {
        "id": "wSOsOyUz_LcE",
        "colab": {
          "base_uri": "https://localhost:8080/"
        },
        "outputId": "939233f7-a7a8-4216-e31d-54d30f641197"
      },
      "source": [
        "# data['source'] = data['Source'].apply(lambda x: 'Plus impact' if x.startswith('https://plusimpact.io') else x)\n",
        "data['Source'].value_counts()"
      ],
      "execution_count": 27,
      "outputs": [
        {
          "output_type": "execute_result",
          "data": {
            "text/plain": [
              "Rainmaking       2187\n",
              "Plus impact       424\n",
              "Agora              43\n",
              "Cfamedia           25\n",
              "Masschallenge      21\n",
              "Tech2impact        17\n",
              "ZORA VC             8\n",
              "Tech nation         2\n",
              "ARC Impact          2\n",
              "Name: Source, dtype: int64"
            ]
          },
          "metadata": {
            "tags": []
          },
          "execution_count": 27
        }
      ]
    },
    {
      "cell_type": "markdown",
      "metadata": {
        "id": "G_v_8Ttbxel5"
      },
      "source": [
        "## by country"
      ]
    },
    {
      "cell_type": "code",
      "metadata": {
        "id": "MPDbc5ddGZ80",
        "colab": {
          "base_uri": "https://localhost:8080/"
        },
        "outputId": "d35edd7e-440c-45e5-bc9b-40b945c3885d"
      },
      "source": [
        "data['Location'].str.lower().value_counts()[:30]"
      ],
      "execution_count": 28,
      "outputs": [
        {
          "output_type": "execute_result",
          "data": {
            "text/plain": [
              "usa               471\n",
              "sweden            247\n",
              "denmark           209\n",
              "united kingdom    137\n",
              "norway            131\n",
              "india             126\n",
              "finland            96\n",
              "netherlands        72\n",
              "france             64\n",
              "københavn          57\n",
              "germany            53\n",
              "kenya              48\n",
              "spain              40\n",
              "canada             36\n",
              "chile              33\n",
              "argentina          33\n",
              "switzerland        32\n",
              "australia          31\n",
              "helsinki           30\n",
              "israel             30\n",
              "south africa       29\n",
              "austria            26\n",
              "mexico             24\n",
              "china              20\n",
              "singapore          19\n",
              "ireland            16\n",
              "nigeria            16\n",
              "italy              16\n",
              "ghana              15\n",
              "helsingfors        13\n",
              "Name: Location, dtype: int64"
            ]
          },
          "metadata": {
            "tags": []
          },
          "execution_count": 28
        }
      ]
    },
    {
      "cell_type": "markdown",
      "metadata": {
        "id": "VOYLvHSVFke-"
      },
      "source": [
        "## SNC scores"
      ]
    },
    {
      "cell_type": "markdown",
      "metadata": {
        "id": "gd3QJECQ6va7"
      },
      "source": [
        "### Pre processing"
      ]
    },
    {
      "cell_type": "code",
      "metadata": {
        "id": "t0bEHLgfBkJG",
        "colab": {
          "base_uri": "https://localhost:8080/"
        },
        "outputId": "052661f7-b262-48fc-bacf-5e04071964e0"
      },
      "source": [
        "# arranging goals and ps\n",
        "\n",
        "snc = pd.read_csv('data/'+sncFilename)\n",
        "snc.shape"
      ],
      "execution_count": 29,
      "outputs": [
        {
          "output_type": "execute_result",
          "data": {
            "text/plain": [
              "(100, 17)"
            ]
          },
          "metadata": {
            "tags": []
          },
          "execution_count": 29
        }
      ]
    },
    {
      "cell_type": "code",
      "metadata": {
        "id": "QjDWs_y1C6KL",
        "colab": {
          "base_uri": "https://localhost:8080/"
        },
        "outputId": "0a867203-6365-4ac9-fce0-53e3134f1c02"
      },
      "source": [
        "snc['five Ps']"
      ],
      "execution_count": 30,
      "outputs": [
        {
          "output_type": "execute_result",
          "data": {
            "text/plain": [
              "0            Prosperity\n",
              "1            Prosperity\n",
              "2                People\n",
              "3            Prosperity\n",
              "4     Prosperity,Planet\n",
              "            ...        \n",
              "95               People\n",
              "96               People\n",
              "97               People\n",
              "98               Planet\n",
              "99               People\n",
              "Name: five Ps, Length: 100, dtype: object"
            ]
          },
          "metadata": {
            "tags": []
          },
          "execution_count": 30
        }
      ]
    },
    {
      "cell_type": "code",
      "metadata": {
        "id": "WS85enTPH2Hf",
        "colab": {
          "base_uri": "https://localhost:8080/"
        },
        "outputId": "b4df7b4d-e558-4d8a-9d7a-d86fcc7f69f2"
      },
      "source": [
        "snc['SDG Goal']"
      ],
      "execution_count": 31,
      "outputs": [
        {
          "output_type": "execute_result",
          "data": {
            "text/plain": [
              "0     6,7,12\n",
              "1         11\n",
              "2          4\n",
              "3          7\n",
              "4       7,12\n",
              "       ...  \n",
              "95         3\n",
              "96         6\n",
              "97         6\n",
              "98     13,14\n",
              "99         6\n",
              "Name: SDG Goal, Length: 100, dtype: object"
            ]
          },
          "metadata": {
            "tags": []
          },
          "execution_count": 31
        }
      ]
    },
    {
      "cell_type": "markdown",
      "metadata": {
        "id": "-tciU8Ezvcvd"
      },
      "source": [
        "#### adding Ps predictions"
      ]
    },
    {
      "cell_type": "code",
      "metadata": {
        "id": "4xqz-j3na1bb"
      },
      "source": [
        "trainer = ModelTrainer(data, newModel=False, modelFilename=modelPsAllFilename)"
      ],
      "execution_count": 32,
      "outputs": []
    },
    {
      "cell_type": "code",
      "metadata": {
        "id": "QODqMqPta1bd",
        "colab": {
          "base_uri": "https://localhost:8080/"
        },
        "outputId": "105f12cc-2a10-4fd0-d49e-310e553523b2"
      },
      "source": [
        "# model = loadModel(modelSDGAllFilename, 'cuda', 'SDG Goal')\n",
        "model = trainer.model\n",
        "model.eval()"
      ],
      "execution_count": 33,
      "outputs": [
        {
          "output_type": "execute_result",
          "data": {
            "text/plain": [
              "SDGModel(\n",
              "  (bert): BertModel(\n",
              "    (embeddings): BertEmbeddings(\n",
              "      (word_embeddings): Embedding(30522, 768, padding_idx=0)\n",
              "      (position_embeddings): Embedding(512, 768)\n",
              "      (token_type_embeddings): Embedding(2, 768)\n",
              "      (LayerNorm): LayerNorm((768,), eps=1e-12, elementwise_affine=True)\n",
              "      (dropout): Dropout(p=0.1, inplace=False)\n",
              "    )\n",
              "    (encoder): BertEncoder(\n",
              "      (layer): ModuleList(\n",
              "        (0): BertLayer(\n",
              "          (attention): BertAttention(\n",
              "            (self): BertSelfAttention(\n",
              "              (query): Linear(in_features=768, out_features=768, bias=True)\n",
              "              (key): Linear(in_features=768, out_features=768, bias=True)\n",
              "              (value): Linear(in_features=768, out_features=768, bias=True)\n",
              "              (dropout): Dropout(p=0.1, inplace=False)\n",
              "            )\n",
              "            (output): BertSelfOutput(\n",
              "              (dense): Linear(in_features=768, out_features=768, bias=True)\n",
              "              (LayerNorm): LayerNorm((768,), eps=1e-12, elementwise_affine=True)\n",
              "              (dropout): Dropout(p=0.1, inplace=False)\n",
              "            )\n",
              "          )\n",
              "          (intermediate): BertIntermediate(\n",
              "            (dense): Linear(in_features=768, out_features=3072, bias=True)\n",
              "          )\n",
              "          (output): BertOutput(\n",
              "            (dense): Linear(in_features=3072, out_features=768, bias=True)\n",
              "            (LayerNorm): LayerNorm((768,), eps=1e-12, elementwise_affine=True)\n",
              "            (dropout): Dropout(p=0.1, inplace=False)\n",
              "          )\n",
              "        )\n",
              "        (1): BertLayer(\n",
              "          (attention): BertAttention(\n",
              "            (self): BertSelfAttention(\n",
              "              (query): Linear(in_features=768, out_features=768, bias=True)\n",
              "              (key): Linear(in_features=768, out_features=768, bias=True)\n",
              "              (value): Linear(in_features=768, out_features=768, bias=True)\n",
              "              (dropout): Dropout(p=0.1, inplace=False)\n",
              "            )\n",
              "            (output): BertSelfOutput(\n",
              "              (dense): Linear(in_features=768, out_features=768, bias=True)\n",
              "              (LayerNorm): LayerNorm((768,), eps=1e-12, elementwise_affine=True)\n",
              "              (dropout): Dropout(p=0.1, inplace=False)\n",
              "            )\n",
              "          )\n",
              "          (intermediate): BertIntermediate(\n",
              "            (dense): Linear(in_features=768, out_features=3072, bias=True)\n",
              "          )\n",
              "          (output): BertOutput(\n",
              "            (dense): Linear(in_features=3072, out_features=768, bias=True)\n",
              "            (LayerNorm): LayerNorm((768,), eps=1e-12, elementwise_affine=True)\n",
              "            (dropout): Dropout(p=0.1, inplace=False)\n",
              "          )\n",
              "        )\n",
              "        (2): BertLayer(\n",
              "          (attention): BertAttention(\n",
              "            (self): BertSelfAttention(\n",
              "              (query): Linear(in_features=768, out_features=768, bias=True)\n",
              "              (key): Linear(in_features=768, out_features=768, bias=True)\n",
              "              (value): Linear(in_features=768, out_features=768, bias=True)\n",
              "              (dropout): Dropout(p=0.1, inplace=False)\n",
              "            )\n",
              "            (output): BertSelfOutput(\n",
              "              (dense): Linear(in_features=768, out_features=768, bias=True)\n",
              "              (LayerNorm): LayerNorm((768,), eps=1e-12, elementwise_affine=True)\n",
              "              (dropout): Dropout(p=0.1, inplace=False)\n",
              "            )\n",
              "          )\n",
              "          (intermediate): BertIntermediate(\n",
              "            (dense): Linear(in_features=768, out_features=3072, bias=True)\n",
              "          )\n",
              "          (output): BertOutput(\n",
              "            (dense): Linear(in_features=3072, out_features=768, bias=True)\n",
              "            (LayerNorm): LayerNorm((768,), eps=1e-12, elementwise_affine=True)\n",
              "            (dropout): Dropout(p=0.1, inplace=False)\n",
              "          )\n",
              "        )\n",
              "        (3): BertLayer(\n",
              "          (attention): BertAttention(\n",
              "            (self): BertSelfAttention(\n",
              "              (query): Linear(in_features=768, out_features=768, bias=True)\n",
              "              (key): Linear(in_features=768, out_features=768, bias=True)\n",
              "              (value): Linear(in_features=768, out_features=768, bias=True)\n",
              "              (dropout): Dropout(p=0.1, inplace=False)\n",
              "            )\n",
              "            (output): BertSelfOutput(\n",
              "              (dense): Linear(in_features=768, out_features=768, bias=True)\n",
              "              (LayerNorm): LayerNorm((768,), eps=1e-12, elementwise_affine=True)\n",
              "              (dropout): Dropout(p=0.1, inplace=False)\n",
              "            )\n",
              "          )\n",
              "          (intermediate): BertIntermediate(\n",
              "            (dense): Linear(in_features=768, out_features=3072, bias=True)\n",
              "          )\n",
              "          (output): BertOutput(\n",
              "            (dense): Linear(in_features=3072, out_features=768, bias=True)\n",
              "            (LayerNorm): LayerNorm((768,), eps=1e-12, elementwise_affine=True)\n",
              "            (dropout): Dropout(p=0.1, inplace=False)\n",
              "          )\n",
              "        )\n",
              "        (4): BertLayer(\n",
              "          (attention): BertAttention(\n",
              "            (self): BertSelfAttention(\n",
              "              (query): Linear(in_features=768, out_features=768, bias=True)\n",
              "              (key): Linear(in_features=768, out_features=768, bias=True)\n",
              "              (value): Linear(in_features=768, out_features=768, bias=True)\n",
              "              (dropout): Dropout(p=0.1, inplace=False)\n",
              "            )\n",
              "            (output): BertSelfOutput(\n",
              "              (dense): Linear(in_features=768, out_features=768, bias=True)\n",
              "              (LayerNorm): LayerNorm((768,), eps=1e-12, elementwise_affine=True)\n",
              "              (dropout): Dropout(p=0.1, inplace=False)\n",
              "            )\n",
              "          )\n",
              "          (intermediate): BertIntermediate(\n",
              "            (dense): Linear(in_features=768, out_features=3072, bias=True)\n",
              "          )\n",
              "          (output): BertOutput(\n",
              "            (dense): Linear(in_features=3072, out_features=768, bias=True)\n",
              "            (LayerNorm): LayerNorm((768,), eps=1e-12, elementwise_affine=True)\n",
              "            (dropout): Dropout(p=0.1, inplace=False)\n",
              "          )\n",
              "        )\n",
              "        (5): BertLayer(\n",
              "          (attention): BertAttention(\n",
              "            (self): BertSelfAttention(\n",
              "              (query): Linear(in_features=768, out_features=768, bias=True)\n",
              "              (key): Linear(in_features=768, out_features=768, bias=True)\n",
              "              (value): Linear(in_features=768, out_features=768, bias=True)\n",
              "              (dropout): Dropout(p=0.1, inplace=False)\n",
              "            )\n",
              "            (output): BertSelfOutput(\n",
              "              (dense): Linear(in_features=768, out_features=768, bias=True)\n",
              "              (LayerNorm): LayerNorm((768,), eps=1e-12, elementwise_affine=True)\n",
              "              (dropout): Dropout(p=0.1, inplace=False)\n",
              "            )\n",
              "          )\n",
              "          (intermediate): BertIntermediate(\n",
              "            (dense): Linear(in_features=768, out_features=3072, bias=True)\n",
              "          )\n",
              "          (output): BertOutput(\n",
              "            (dense): Linear(in_features=3072, out_features=768, bias=True)\n",
              "            (LayerNorm): LayerNorm((768,), eps=1e-12, elementwise_affine=True)\n",
              "            (dropout): Dropout(p=0.1, inplace=False)\n",
              "          )\n",
              "        )\n",
              "        (6): BertLayer(\n",
              "          (attention): BertAttention(\n",
              "            (self): BertSelfAttention(\n",
              "              (query): Linear(in_features=768, out_features=768, bias=True)\n",
              "              (key): Linear(in_features=768, out_features=768, bias=True)\n",
              "              (value): Linear(in_features=768, out_features=768, bias=True)\n",
              "              (dropout): Dropout(p=0.1, inplace=False)\n",
              "            )\n",
              "            (output): BertSelfOutput(\n",
              "              (dense): Linear(in_features=768, out_features=768, bias=True)\n",
              "              (LayerNorm): LayerNorm((768,), eps=1e-12, elementwise_affine=True)\n",
              "              (dropout): Dropout(p=0.1, inplace=False)\n",
              "            )\n",
              "          )\n",
              "          (intermediate): BertIntermediate(\n",
              "            (dense): Linear(in_features=768, out_features=3072, bias=True)\n",
              "          )\n",
              "          (output): BertOutput(\n",
              "            (dense): Linear(in_features=3072, out_features=768, bias=True)\n",
              "            (LayerNorm): LayerNorm((768,), eps=1e-12, elementwise_affine=True)\n",
              "            (dropout): Dropout(p=0.1, inplace=False)\n",
              "          )\n",
              "        )\n",
              "        (7): BertLayer(\n",
              "          (attention): BertAttention(\n",
              "            (self): BertSelfAttention(\n",
              "              (query): Linear(in_features=768, out_features=768, bias=True)\n",
              "              (key): Linear(in_features=768, out_features=768, bias=True)\n",
              "              (value): Linear(in_features=768, out_features=768, bias=True)\n",
              "              (dropout): Dropout(p=0.1, inplace=False)\n",
              "            )\n",
              "            (output): BertSelfOutput(\n",
              "              (dense): Linear(in_features=768, out_features=768, bias=True)\n",
              "              (LayerNorm): LayerNorm((768,), eps=1e-12, elementwise_affine=True)\n",
              "              (dropout): Dropout(p=0.1, inplace=False)\n",
              "            )\n",
              "          )\n",
              "          (intermediate): BertIntermediate(\n",
              "            (dense): Linear(in_features=768, out_features=3072, bias=True)\n",
              "          )\n",
              "          (output): BertOutput(\n",
              "            (dense): Linear(in_features=3072, out_features=768, bias=True)\n",
              "            (LayerNorm): LayerNorm((768,), eps=1e-12, elementwise_affine=True)\n",
              "            (dropout): Dropout(p=0.1, inplace=False)\n",
              "          )\n",
              "        )\n",
              "        (8): BertLayer(\n",
              "          (attention): BertAttention(\n",
              "            (self): BertSelfAttention(\n",
              "              (query): Linear(in_features=768, out_features=768, bias=True)\n",
              "              (key): Linear(in_features=768, out_features=768, bias=True)\n",
              "              (value): Linear(in_features=768, out_features=768, bias=True)\n",
              "              (dropout): Dropout(p=0.1, inplace=False)\n",
              "            )\n",
              "            (output): BertSelfOutput(\n",
              "              (dense): Linear(in_features=768, out_features=768, bias=True)\n",
              "              (LayerNorm): LayerNorm((768,), eps=1e-12, elementwise_affine=True)\n",
              "              (dropout): Dropout(p=0.1, inplace=False)\n",
              "            )\n",
              "          )\n",
              "          (intermediate): BertIntermediate(\n",
              "            (dense): Linear(in_features=768, out_features=3072, bias=True)\n",
              "          )\n",
              "          (output): BertOutput(\n",
              "            (dense): Linear(in_features=3072, out_features=768, bias=True)\n",
              "            (LayerNorm): LayerNorm((768,), eps=1e-12, elementwise_affine=True)\n",
              "            (dropout): Dropout(p=0.1, inplace=False)\n",
              "          )\n",
              "        )\n",
              "        (9): BertLayer(\n",
              "          (attention): BertAttention(\n",
              "            (self): BertSelfAttention(\n",
              "              (query): Linear(in_features=768, out_features=768, bias=True)\n",
              "              (key): Linear(in_features=768, out_features=768, bias=True)\n",
              "              (value): Linear(in_features=768, out_features=768, bias=True)\n",
              "              (dropout): Dropout(p=0.1, inplace=False)\n",
              "            )\n",
              "            (output): BertSelfOutput(\n",
              "              (dense): Linear(in_features=768, out_features=768, bias=True)\n",
              "              (LayerNorm): LayerNorm((768,), eps=1e-12, elementwise_affine=True)\n",
              "              (dropout): Dropout(p=0.1, inplace=False)\n",
              "            )\n",
              "          )\n",
              "          (intermediate): BertIntermediate(\n",
              "            (dense): Linear(in_features=768, out_features=3072, bias=True)\n",
              "          )\n",
              "          (output): BertOutput(\n",
              "            (dense): Linear(in_features=3072, out_features=768, bias=True)\n",
              "            (LayerNorm): LayerNorm((768,), eps=1e-12, elementwise_affine=True)\n",
              "            (dropout): Dropout(p=0.1, inplace=False)\n",
              "          )\n",
              "        )\n",
              "        (10): BertLayer(\n",
              "          (attention): BertAttention(\n",
              "            (self): BertSelfAttention(\n",
              "              (query): Linear(in_features=768, out_features=768, bias=True)\n",
              "              (key): Linear(in_features=768, out_features=768, bias=True)\n",
              "              (value): Linear(in_features=768, out_features=768, bias=True)\n",
              "              (dropout): Dropout(p=0.1, inplace=False)\n",
              "            )\n",
              "            (output): BertSelfOutput(\n",
              "              (dense): Linear(in_features=768, out_features=768, bias=True)\n",
              "              (LayerNorm): LayerNorm((768,), eps=1e-12, elementwise_affine=True)\n",
              "              (dropout): Dropout(p=0.1, inplace=False)\n",
              "            )\n",
              "          )\n",
              "          (intermediate): BertIntermediate(\n",
              "            (dense): Linear(in_features=768, out_features=3072, bias=True)\n",
              "          )\n",
              "          (output): BertOutput(\n",
              "            (dense): Linear(in_features=3072, out_features=768, bias=True)\n",
              "            (LayerNorm): LayerNorm((768,), eps=1e-12, elementwise_affine=True)\n",
              "            (dropout): Dropout(p=0.1, inplace=False)\n",
              "          )\n",
              "        )\n",
              "        (11): BertLayer(\n",
              "          (attention): BertAttention(\n",
              "            (self): BertSelfAttention(\n",
              "              (query): Linear(in_features=768, out_features=768, bias=True)\n",
              "              (key): Linear(in_features=768, out_features=768, bias=True)\n",
              "              (value): Linear(in_features=768, out_features=768, bias=True)\n",
              "              (dropout): Dropout(p=0.1, inplace=False)\n",
              "            )\n",
              "            (output): BertSelfOutput(\n",
              "              (dense): Linear(in_features=768, out_features=768, bias=True)\n",
              "              (LayerNorm): LayerNorm((768,), eps=1e-12, elementwise_affine=True)\n",
              "              (dropout): Dropout(p=0.1, inplace=False)\n",
              "            )\n",
              "          )\n",
              "          (intermediate): BertIntermediate(\n",
              "            (dense): Linear(in_features=768, out_features=3072, bias=True)\n",
              "          )\n",
              "          (output): BertOutput(\n",
              "            (dense): Linear(in_features=3072, out_features=768, bias=True)\n",
              "            (LayerNorm): LayerNorm((768,), eps=1e-12, elementwise_affine=True)\n",
              "            (dropout): Dropout(p=0.1, inplace=False)\n",
              "          )\n",
              "        )\n",
              "      )\n",
              "    )\n",
              "    (pooler): BertPooler(\n",
              "      (dense): Linear(in_features=768, out_features=768, bias=True)\n",
              "      (activation): Tanh()\n",
              "    )\n",
              "  )\n",
              "  (out1): Linear(in_features=768, out_features=400, bias=True)\n",
              "  (drop): Dropout(p=0.5, inplace=False)\n",
              "  (out2): Linear(in_features=400, out_features=5, bias=True)\n",
              ")"
            ]
          },
          "metadata": {
            "tags": []
          },
          "execution_count": 33
        }
      ]
    },
    {
      "cell_type": "code",
      "metadata": {
        "id": "4ohZHkipa1bf"
      },
      "source": [
        "from torch import nn\n",
        "soft = nn.Softmax(dim=0)\n",
        "y_pred = []\n",
        "\n",
        "for index, instance in snc.iterrows():\n",
        "  # print(instance['name'])\n",
        "  \n",
        "  out = model(instance[\"description\"].lower())\n",
        "  y_pred.append(trainer.labels[torch.argmax(out).item()])"
      ],
      "execution_count": 34,
      "outputs": []
    },
    {
      "cell_type": "code",
      "metadata": {
        "id": "v8PH42AZa1bh",
        "colab": {
          "base_uri": "https://localhost:8080/"
        },
        "outputId": "e9dfe5fd-2afe-4e46-d620-a8b6a65ca03c"
      },
      "source": [
        "snc['new pred five Ps'] = pd.Series(np.array(y_pred))\n",
        "snc['new pred five Ps'].value_counts()"
      ],
      "execution_count": 35,
      "outputs": [
        {
          "output_type": "execute_result",
          "data": {
            "text/plain": [
              "People        73\n",
              "Prosperity    26\n",
              "Planet         1\n",
              "Name: new pred five Ps, dtype: int64"
            ]
          },
          "metadata": {
            "tags": []
          },
          "execution_count": 35
        }
      ]
    },
    {
      "cell_type": "code",
      "metadata": {
        "id": "_Txm1o8hSlGc"
      },
      "source": [
        "# #old\n",
        "# snc['new pred five Ps'] = pd.Series(np.array(y_pred))\n",
        "# snc['new pred five Ps'].value_counts()"
      ],
      "execution_count": 36,
      "outputs": []
    },
    {
      "cell_type": "markdown",
      "metadata": {
        "id": "hCOsDV_Fwc4P"
      },
      "source": [
        "#### adding SDGs"
      ]
    },
    {
      "cell_type": "code",
      "metadata": {
        "id": "U1OJ1CKDx8KP",
        "colab": {
          "base_uri": "https://localhost:8080/"
        },
        "outputId": "d5418093-b676-4559-f57d-d91d64efa85f"
      },
      "source": [
        "print(f\"cuda mem before = {torch.cuda.memory_reserved()}\")\n",
        "del trainer\n",
        "cleanMemory()"
      ],
      "execution_count": 37,
      "outputs": [
        {
          "output_type": "stream",
          "text": [
            "cuda mem before = 3206545408\n",
            "cuda mem after = 1138753536\n",
            "Fri Nov 20 09:15:42 2020       \n",
            "+-----------------------------------------------------------------------------+\n",
            "| NVIDIA-SMI 418.67       Driver Version: 418.67       CUDA Version: 10.1     |\n",
            "|-------------------------------+----------------------+----------------------+\n",
            "| GPU  Name        Persistence-M| Bus-Id        Disp.A | Volatile Uncorr. ECC |\n",
            "| Fan  Temp  Perf  Pwr:Usage/Cap|         Memory-Usage | GPU-Util  Compute M. |\n",
            "|===============================+======================+======================|\n",
            "|   0  Tesla T4            Off  | 00000000:00:04.0 Off |                    0 |\n",
            "| N/A   70C    P0    43W /  70W |   2149MiB / 15079MiB |      0%      Default |\n",
            "+-------------------------------+----------------------+----------------------+\n",
            "                                                                               \n",
            "+-----------------------------------------------------------------------------+\n",
            "| Processes:                                                       GPU Memory |\n",
            "|  GPU       PID   Type   Process name                             Usage      |\n",
            "|=============================================================================|\n",
            "+-----------------------------------------------------------------------------+\n",
            "{'total': 13653602304, 'available': 9547010048, 'percent': 30.1, 'used': 5539962880, 'free': 176680960, 'active': 6805819392, 'inactive': 6249730048, 'buffers': 55386112, 'cached': 7881572352, 'shared': 11472896, 'slab': 180465664}\n"
          ],
          "name": "stdout"
        }
      ]
    },
    {
      "cell_type": "code",
      "metadata": {
        "id": "ppFf8VwzY50m"
      },
      "source": [
        "trainer = ModelTrainer(data, newModel=False, modelFilename=modelSDGAllFilename)"
      ],
      "execution_count": 38,
      "outputs": []
    },
    {
      "cell_type": "code",
      "metadata": {
        "id": "Uduh9kwrAO6n",
        "colab": {
          "base_uri": "https://localhost:8080/",
          "height": 0
        },
        "outputId": "735e7184-7e2d-40c8-d6c1-eea70480e2e2"
      },
      "source": [
        "modelSDGAllFilename"
      ],
      "execution_count": 39,
      "outputs": [
        {
          "output_type": "execute_result",
          "data": {
            "application/vnd.google.colaboratory.intrinsic+json": {
              "type": "string"
            },
            "text/plain": [
              "'model_SDG_all_8.tar'"
            ]
          },
          "metadata": {
            "tags": []
          },
          "execution_count": 39
        }
      ]
    },
    {
      "cell_type": "code",
      "metadata": {
        "id": "nOgrIGu5SoNv",
        "colab": {
          "base_uri": "https://localhost:8080/"
        },
        "outputId": "8604142c-bbc8-4f42-812b-24e5d0c78537"
      },
      "source": [
        "# model = loadModel(modelSDGAllFilename, 'cuda', 'SDG Goal')\n",
        "model = trainer.model\n",
        "model.eval()"
      ],
      "execution_count": 40,
      "outputs": [
        {
          "output_type": "execute_result",
          "data": {
            "text/plain": [
              "SDGModel(\n",
              "  (bert): BertModel(\n",
              "    (embeddings): BertEmbeddings(\n",
              "      (word_embeddings): Embedding(30522, 768, padding_idx=0)\n",
              "      (position_embeddings): Embedding(512, 768)\n",
              "      (token_type_embeddings): Embedding(2, 768)\n",
              "      (LayerNorm): LayerNorm((768,), eps=1e-12, elementwise_affine=True)\n",
              "      (dropout): Dropout(p=0.1, inplace=False)\n",
              "    )\n",
              "    (encoder): BertEncoder(\n",
              "      (layer): ModuleList(\n",
              "        (0): BertLayer(\n",
              "          (attention): BertAttention(\n",
              "            (self): BertSelfAttention(\n",
              "              (query): Linear(in_features=768, out_features=768, bias=True)\n",
              "              (key): Linear(in_features=768, out_features=768, bias=True)\n",
              "              (value): Linear(in_features=768, out_features=768, bias=True)\n",
              "              (dropout): Dropout(p=0.1, inplace=False)\n",
              "            )\n",
              "            (output): BertSelfOutput(\n",
              "              (dense): Linear(in_features=768, out_features=768, bias=True)\n",
              "              (LayerNorm): LayerNorm((768,), eps=1e-12, elementwise_affine=True)\n",
              "              (dropout): Dropout(p=0.1, inplace=False)\n",
              "            )\n",
              "          )\n",
              "          (intermediate): BertIntermediate(\n",
              "            (dense): Linear(in_features=768, out_features=3072, bias=True)\n",
              "          )\n",
              "          (output): BertOutput(\n",
              "            (dense): Linear(in_features=3072, out_features=768, bias=True)\n",
              "            (LayerNorm): LayerNorm((768,), eps=1e-12, elementwise_affine=True)\n",
              "            (dropout): Dropout(p=0.1, inplace=False)\n",
              "          )\n",
              "        )\n",
              "        (1): BertLayer(\n",
              "          (attention): BertAttention(\n",
              "            (self): BertSelfAttention(\n",
              "              (query): Linear(in_features=768, out_features=768, bias=True)\n",
              "              (key): Linear(in_features=768, out_features=768, bias=True)\n",
              "              (value): Linear(in_features=768, out_features=768, bias=True)\n",
              "              (dropout): Dropout(p=0.1, inplace=False)\n",
              "            )\n",
              "            (output): BertSelfOutput(\n",
              "              (dense): Linear(in_features=768, out_features=768, bias=True)\n",
              "              (LayerNorm): LayerNorm((768,), eps=1e-12, elementwise_affine=True)\n",
              "              (dropout): Dropout(p=0.1, inplace=False)\n",
              "            )\n",
              "          )\n",
              "          (intermediate): BertIntermediate(\n",
              "            (dense): Linear(in_features=768, out_features=3072, bias=True)\n",
              "          )\n",
              "          (output): BertOutput(\n",
              "            (dense): Linear(in_features=3072, out_features=768, bias=True)\n",
              "            (LayerNorm): LayerNorm((768,), eps=1e-12, elementwise_affine=True)\n",
              "            (dropout): Dropout(p=0.1, inplace=False)\n",
              "          )\n",
              "        )\n",
              "        (2): BertLayer(\n",
              "          (attention): BertAttention(\n",
              "            (self): BertSelfAttention(\n",
              "              (query): Linear(in_features=768, out_features=768, bias=True)\n",
              "              (key): Linear(in_features=768, out_features=768, bias=True)\n",
              "              (value): Linear(in_features=768, out_features=768, bias=True)\n",
              "              (dropout): Dropout(p=0.1, inplace=False)\n",
              "            )\n",
              "            (output): BertSelfOutput(\n",
              "              (dense): Linear(in_features=768, out_features=768, bias=True)\n",
              "              (LayerNorm): LayerNorm((768,), eps=1e-12, elementwise_affine=True)\n",
              "              (dropout): Dropout(p=0.1, inplace=False)\n",
              "            )\n",
              "          )\n",
              "          (intermediate): BertIntermediate(\n",
              "            (dense): Linear(in_features=768, out_features=3072, bias=True)\n",
              "          )\n",
              "          (output): BertOutput(\n",
              "            (dense): Linear(in_features=3072, out_features=768, bias=True)\n",
              "            (LayerNorm): LayerNorm((768,), eps=1e-12, elementwise_affine=True)\n",
              "            (dropout): Dropout(p=0.1, inplace=False)\n",
              "          )\n",
              "        )\n",
              "        (3): BertLayer(\n",
              "          (attention): BertAttention(\n",
              "            (self): BertSelfAttention(\n",
              "              (query): Linear(in_features=768, out_features=768, bias=True)\n",
              "              (key): Linear(in_features=768, out_features=768, bias=True)\n",
              "              (value): Linear(in_features=768, out_features=768, bias=True)\n",
              "              (dropout): Dropout(p=0.1, inplace=False)\n",
              "            )\n",
              "            (output): BertSelfOutput(\n",
              "              (dense): Linear(in_features=768, out_features=768, bias=True)\n",
              "              (LayerNorm): LayerNorm((768,), eps=1e-12, elementwise_affine=True)\n",
              "              (dropout): Dropout(p=0.1, inplace=False)\n",
              "            )\n",
              "          )\n",
              "          (intermediate): BertIntermediate(\n",
              "            (dense): Linear(in_features=768, out_features=3072, bias=True)\n",
              "          )\n",
              "          (output): BertOutput(\n",
              "            (dense): Linear(in_features=3072, out_features=768, bias=True)\n",
              "            (LayerNorm): LayerNorm((768,), eps=1e-12, elementwise_affine=True)\n",
              "            (dropout): Dropout(p=0.1, inplace=False)\n",
              "          )\n",
              "        )\n",
              "        (4): BertLayer(\n",
              "          (attention): BertAttention(\n",
              "            (self): BertSelfAttention(\n",
              "              (query): Linear(in_features=768, out_features=768, bias=True)\n",
              "              (key): Linear(in_features=768, out_features=768, bias=True)\n",
              "              (value): Linear(in_features=768, out_features=768, bias=True)\n",
              "              (dropout): Dropout(p=0.1, inplace=False)\n",
              "            )\n",
              "            (output): BertSelfOutput(\n",
              "              (dense): Linear(in_features=768, out_features=768, bias=True)\n",
              "              (LayerNorm): LayerNorm((768,), eps=1e-12, elementwise_affine=True)\n",
              "              (dropout): Dropout(p=0.1, inplace=False)\n",
              "            )\n",
              "          )\n",
              "          (intermediate): BertIntermediate(\n",
              "            (dense): Linear(in_features=768, out_features=3072, bias=True)\n",
              "          )\n",
              "          (output): BertOutput(\n",
              "            (dense): Linear(in_features=3072, out_features=768, bias=True)\n",
              "            (LayerNorm): LayerNorm((768,), eps=1e-12, elementwise_affine=True)\n",
              "            (dropout): Dropout(p=0.1, inplace=False)\n",
              "          )\n",
              "        )\n",
              "        (5): BertLayer(\n",
              "          (attention): BertAttention(\n",
              "            (self): BertSelfAttention(\n",
              "              (query): Linear(in_features=768, out_features=768, bias=True)\n",
              "              (key): Linear(in_features=768, out_features=768, bias=True)\n",
              "              (value): Linear(in_features=768, out_features=768, bias=True)\n",
              "              (dropout): Dropout(p=0.1, inplace=False)\n",
              "            )\n",
              "            (output): BertSelfOutput(\n",
              "              (dense): Linear(in_features=768, out_features=768, bias=True)\n",
              "              (LayerNorm): LayerNorm((768,), eps=1e-12, elementwise_affine=True)\n",
              "              (dropout): Dropout(p=0.1, inplace=False)\n",
              "            )\n",
              "          )\n",
              "          (intermediate): BertIntermediate(\n",
              "            (dense): Linear(in_features=768, out_features=3072, bias=True)\n",
              "          )\n",
              "          (output): BertOutput(\n",
              "            (dense): Linear(in_features=3072, out_features=768, bias=True)\n",
              "            (LayerNorm): LayerNorm((768,), eps=1e-12, elementwise_affine=True)\n",
              "            (dropout): Dropout(p=0.1, inplace=False)\n",
              "          )\n",
              "        )\n",
              "        (6): BertLayer(\n",
              "          (attention): BertAttention(\n",
              "            (self): BertSelfAttention(\n",
              "              (query): Linear(in_features=768, out_features=768, bias=True)\n",
              "              (key): Linear(in_features=768, out_features=768, bias=True)\n",
              "              (value): Linear(in_features=768, out_features=768, bias=True)\n",
              "              (dropout): Dropout(p=0.1, inplace=False)\n",
              "            )\n",
              "            (output): BertSelfOutput(\n",
              "              (dense): Linear(in_features=768, out_features=768, bias=True)\n",
              "              (LayerNorm): LayerNorm((768,), eps=1e-12, elementwise_affine=True)\n",
              "              (dropout): Dropout(p=0.1, inplace=False)\n",
              "            )\n",
              "          )\n",
              "          (intermediate): BertIntermediate(\n",
              "            (dense): Linear(in_features=768, out_features=3072, bias=True)\n",
              "          )\n",
              "          (output): BertOutput(\n",
              "            (dense): Linear(in_features=3072, out_features=768, bias=True)\n",
              "            (LayerNorm): LayerNorm((768,), eps=1e-12, elementwise_affine=True)\n",
              "            (dropout): Dropout(p=0.1, inplace=False)\n",
              "          )\n",
              "        )\n",
              "        (7): BertLayer(\n",
              "          (attention): BertAttention(\n",
              "            (self): BertSelfAttention(\n",
              "              (query): Linear(in_features=768, out_features=768, bias=True)\n",
              "              (key): Linear(in_features=768, out_features=768, bias=True)\n",
              "              (value): Linear(in_features=768, out_features=768, bias=True)\n",
              "              (dropout): Dropout(p=0.1, inplace=False)\n",
              "            )\n",
              "            (output): BertSelfOutput(\n",
              "              (dense): Linear(in_features=768, out_features=768, bias=True)\n",
              "              (LayerNorm): LayerNorm((768,), eps=1e-12, elementwise_affine=True)\n",
              "              (dropout): Dropout(p=0.1, inplace=False)\n",
              "            )\n",
              "          )\n",
              "          (intermediate): BertIntermediate(\n",
              "            (dense): Linear(in_features=768, out_features=3072, bias=True)\n",
              "          )\n",
              "          (output): BertOutput(\n",
              "            (dense): Linear(in_features=3072, out_features=768, bias=True)\n",
              "            (LayerNorm): LayerNorm((768,), eps=1e-12, elementwise_affine=True)\n",
              "            (dropout): Dropout(p=0.1, inplace=False)\n",
              "          )\n",
              "        )\n",
              "        (8): BertLayer(\n",
              "          (attention): BertAttention(\n",
              "            (self): BertSelfAttention(\n",
              "              (query): Linear(in_features=768, out_features=768, bias=True)\n",
              "              (key): Linear(in_features=768, out_features=768, bias=True)\n",
              "              (value): Linear(in_features=768, out_features=768, bias=True)\n",
              "              (dropout): Dropout(p=0.1, inplace=False)\n",
              "            )\n",
              "            (output): BertSelfOutput(\n",
              "              (dense): Linear(in_features=768, out_features=768, bias=True)\n",
              "              (LayerNorm): LayerNorm((768,), eps=1e-12, elementwise_affine=True)\n",
              "              (dropout): Dropout(p=0.1, inplace=False)\n",
              "            )\n",
              "          )\n",
              "          (intermediate): BertIntermediate(\n",
              "            (dense): Linear(in_features=768, out_features=3072, bias=True)\n",
              "          )\n",
              "          (output): BertOutput(\n",
              "            (dense): Linear(in_features=3072, out_features=768, bias=True)\n",
              "            (LayerNorm): LayerNorm((768,), eps=1e-12, elementwise_affine=True)\n",
              "            (dropout): Dropout(p=0.1, inplace=False)\n",
              "          )\n",
              "        )\n",
              "        (9): BertLayer(\n",
              "          (attention): BertAttention(\n",
              "            (self): BertSelfAttention(\n",
              "              (query): Linear(in_features=768, out_features=768, bias=True)\n",
              "              (key): Linear(in_features=768, out_features=768, bias=True)\n",
              "              (value): Linear(in_features=768, out_features=768, bias=True)\n",
              "              (dropout): Dropout(p=0.1, inplace=False)\n",
              "            )\n",
              "            (output): BertSelfOutput(\n",
              "              (dense): Linear(in_features=768, out_features=768, bias=True)\n",
              "              (LayerNorm): LayerNorm((768,), eps=1e-12, elementwise_affine=True)\n",
              "              (dropout): Dropout(p=0.1, inplace=False)\n",
              "            )\n",
              "          )\n",
              "          (intermediate): BertIntermediate(\n",
              "            (dense): Linear(in_features=768, out_features=3072, bias=True)\n",
              "          )\n",
              "          (output): BertOutput(\n",
              "            (dense): Linear(in_features=3072, out_features=768, bias=True)\n",
              "            (LayerNorm): LayerNorm((768,), eps=1e-12, elementwise_affine=True)\n",
              "            (dropout): Dropout(p=0.1, inplace=False)\n",
              "          )\n",
              "        )\n",
              "        (10): BertLayer(\n",
              "          (attention): BertAttention(\n",
              "            (self): BertSelfAttention(\n",
              "              (query): Linear(in_features=768, out_features=768, bias=True)\n",
              "              (key): Linear(in_features=768, out_features=768, bias=True)\n",
              "              (value): Linear(in_features=768, out_features=768, bias=True)\n",
              "              (dropout): Dropout(p=0.1, inplace=False)\n",
              "            )\n",
              "            (output): BertSelfOutput(\n",
              "              (dense): Linear(in_features=768, out_features=768, bias=True)\n",
              "              (LayerNorm): LayerNorm((768,), eps=1e-12, elementwise_affine=True)\n",
              "              (dropout): Dropout(p=0.1, inplace=False)\n",
              "            )\n",
              "          )\n",
              "          (intermediate): BertIntermediate(\n",
              "            (dense): Linear(in_features=768, out_features=3072, bias=True)\n",
              "          )\n",
              "          (output): BertOutput(\n",
              "            (dense): Linear(in_features=3072, out_features=768, bias=True)\n",
              "            (LayerNorm): LayerNorm((768,), eps=1e-12, elementwise_affine=True)\n",
              "            (dropout): Dropout(p=0.1, inplace=False)\n",
              "          )\n",
              "        )\n",
              "        (11): BertLayer(\n",
              "          (attention): BertAttention(\n",
              "            (self): BertSelfAttention(\n",
              "              (query): Linear(in_features=768, out_features=768, bias=True)\n",
              "              (key): Linear(in_features=768, out_features=768, bias=True)\n",
              "              (value): Linear(in_features=768, out_features=768, bias=True)\n",
              "              (dropout): Dropout(p=0.1, inplace=False)\n",
              "            )\n",
              "            (output): BertSelfOutput(\n",
              "              (dense): Linear(in_features=768, out_features=768, bias=True)\n",
              "              (LayerNorm): LayerNorm((768,), eps=1e-12, elementwise_affine=True)\n",
              "              (dropout): Dropout(p=0.1, inplace=False)\n",
              "            )\n",
              "          )\n",
              "          (intermediate): BertIntermediate(\n",
              "            (dense): Linear(in_features=768, out_features=3072, bias=True)\n",
              "          )\n",
              "          (output): BertOutput(\n",
              "            (dense): Linear(in_features=3072, out_features=768, bias=True)\n",
              "            (LayerNorm): LayerNorm((768,), eps=1e-12, elementwise_affine=True)\n",
              "            (dropout): Dropout(p=0.1, inplace=False)\n",
              "          )\n",
              "        )\n",
              "      )\n",
              "    )\n",
              "    (pooler): BertPooler(\n",
              "      (dense): Linear(in_features=768, out_features=768, bias=True)\n",
              "      (activation): Tanh()\n",
              "    )\n",
              "  )\n",
              "  (out1): Linear(in_features=768, out_features=400, bias=True)\n",
              "  (drop): Dropout(p=0.5, inplace=False)\n",
              "  (out2): Linear(in_features=400, out_features=17, bias=True)\n",
              ")"
            ]
          },
          "metadata": {
            "tags": []
          },
          "execution_count": 40
        }
      ]
    },
    {
      "cell_type": "code",
      "metadata": {
        "id": "y-dN2sucwmzK"
      },
      "source": [
        "from torch import nn\n",
        "soft = nn.Softmax(dim=0)\n",
        "y_pred = []\n",
        "\n",
        "for index, instance in snc.iterrows():\n",
        "  # print(instance['name'])\n",
        "  \n",
        "  out = model(instance[\"description\"].lower())\n",
        "  y_pred.append(trainer.labels[torch.argmax(out).item()])"
      ],
      "execution_count": 41,
      "outputs": []
    },
    {
      "cell_type": "code",
      "metadata": {
        "id": "M1xIAAwwk2Gv",
        "colab": {
          "base_uri": "https://localhost:8080/"
        },
        "outputId": "ab2f0dd5-4a8e-4caf-a73b-9587bff0a195"
      },
      "source": [
        "snc['new pred SDG'] = pd.Series(np.array(y_pred))\n",
        "snc['new pred SDG'].value_counts()"
      ],
      "execution_count": 42,
      "outputs": [
        {
          "output_type": "execute_result",
          "data": {
            "text/plain": [
              "6     22\n",
              "2     18\n",
              "7     16\n",
              "3     14\n",
              "4     10\n",
              "5      4\n",
              "14     3\n",
              "12     3\n",
              "10     3\n",
              "9      3\n",
              "8      2\n",
              "15     1\n",
              "1      1\n",
              "Name: new pred SDG, dtype: int64"
            ]
          },
          "metadata": {
            "tags": []
          },
          "execution_count": 42
        }
      ]
    },
    {
      "cell_type": "code",
      "metadata": {
        "id": "1UfuD3TGaqkn"
      },
      "source": [
        "# #old\n",
        "# snc['new pred SDG'] = pd.Series(np.array(y_pred))\n",
        "# snc['new pred SDG'].value_counts()"
      ],
      "execution_count": 43,
      "outputs": []
    },
    {
      "cell_type": "markdown",
      "metadata": {
        "id": "Fzf-dwazCkOM"
      },
      "source": [
        "#### both"
      ]
    },
    {
      "cell_type": "code",
      "metadata": {
        "id": "hGZCa4gKFiL2"
      },
      "source": [
        "# 1\tSame results\n",
        "# 2\tSame P different goal\n",
        "# 3\tDifferent results but with logic behind the confusion\n",
        "# 4\tDifferent, mistake\n",
        "# 5 same SDG different P"
      ],
      "execution_count": 44,
      "outputs": []
    },
    {
      "cell_type": "code",
      "metadata": {
        "id": "WvYNPhwzLLpJ"
      },
      "source": [
        "snc['five Ps'] = snc['five Ps'].fillna(\"\")"
      ],
      "execution_count": 45,
      "outputs": []
    },
    {
      "cell_type": "code",
      "metadata": {
        "id": "jSgzk6SfLqE5"
      },
      "source": [
        "snc['new pred SDG'] = snc['new pred SDG'].astype(str)"
      ],
      "execution_count": 46,
      "outputs": []
    },
    {
      "cell_type": "code",
      "metadata": {
        "id": "6dVw2J0wF3ea"
      },
      "source": [
        "def sameValSDG(x):\n",
        "  goals = x['SDG Goal'].split(',')\n",
        "  if x['new pred SDG'] in goals:\n",
        "    return True\n",
        "  return False"
      ],
      "execution_count": 47,
      "outputs": []
    },
    {
      "cell_type": "code",
      "metadata": {
        "id": "uNObBZolFeJH"
      },
      "source": [
        "snc['SDG ok'] = snc.apply(sameValSDG, axis=1)"
      ],
      "execution_count": 48,
      "outputs": []
    },
    {
      "cell_type": "code",
      "metadata": {
        "id": "NfagkKZUK8BO"
      },
      "source": [
        "def sameValPs(x):\n",
        "  goals = x['five Ps'].split(',')\n",
        "  if x['new pred five Ps'] in goals:\n",
        "    return True\n",
        "  return False"
      ],
      "execution_count": 49,
      "outputs": []
    },
    {
      "cell_type": "code",
      "metadata": {
        "id": "jET7GY2cK8BQ"
      },
      "source": [
        "snc['Ps ok'] = snc.apply(sameValPs, axis=1)"
      ],
      "execution_count": 50,
      "outputs": []
    },
    {
      "cell_type": "code",
      "metadata": {
        "id": "dU-dMsk6Lbgt",
        "colab": {
          "base_uri": "https://localhost:8080/"
        },
        "outputId": "f05c17a5-e08c-4d86-a598-6f117acc5bc8"
      },
      "source": [
        "snc['SDG ok'].value_counts()"
      ],
      "execution_count": 51,
      "outputs": [
        {
          "output_type": "execute_result",
          "data": {
            "text/plain": [
              "True     78\n",
              "False    22\n",
              "Name: SDG ok, dtype: int64"
            ]
          },
          "metadata": {
            "tags": []
          },
          "execution_count": 51
        }
      ]
    },
    {
      "cell_type": "code",
      "metadata": {
        "id": "pD-v2W4VL8Nf",
        "colab": {
          "base_uri": "https://localhost:8080/"
        },
        "outputId": "866b525e-7f56-49a1-c6a0-674c678ee825"
      },
      "source": [
        "snc['Ps ok'].value_counts()"
      ],
      "execution_count": 52,
      "outputs": [
        {
          "output_type": "execute_result",
          "data": {
            "text/plain": [
              "True     86\n",
              "False    14\n",
              "Name: Ps ok, dtype: int64"
            ]
          },
          "metadata": {
            "tags": []
          },
          "execution_count": 52
        }
      ]
    },
    {
      "cell_type": "code",
      "metadata": {
        "id": "_yAj7yd8MuPx",
        "colab": {
          "base_uri": "https://localhost:8080/"
        },
        "outputId": "d42ec490-fd14-4710-9868-8b4eacadd5cf"
      },
      "source": [
        "snc[snc['SDG ok'] & snc['Ps ok']].shape"
      ],
      "execution_count": 53,
      "outputs": [
        {
          "output_type": "execute_result",
          "data": {
            "text/plain": [
              "(72, 19)"
            ]
          },
          "metadata": {
            "tags": []
          },
          "execution_count": 53
        }
      ]
    },
    {
      "cell_type": "code",
      "metadata": {
        "id": "x0atQIeuPkLR"
      },
      "source": [
        "def markMistake(snc):\n",
        "  if snc['SDG ok'] & snc['Ps ok']:\n",
        "    return 1\n",
        "  if snc['SDG ok']:\n",
        "    return 5\n",
        "  if snc['Ps ok']:\n",
        "    return 2\n",
        "  return 0"
      ],
      "execution_count": 54,
      "outputs": []
    },
    {
      "cell_type": "code",
      "metadata": {
        "id": "PTDsk_lqPeyS",
        "colab": {
          "base_uri": "https://localhost:8080/"
        },
        "outputId": "24830383-1da1-4893-f519-4eeb44603b1e"
      },
      "source": [
        "snc['new Mistakes'] = snc.apply(markMistake, axis=1)\n",
        "snc['new Mistakes'].value_counts()"
      ],
      "execution_count": 55,
      "outputs": [
        {
          "output_type": "execute_result",
          "data": {
            "text/plain": [
              "1    72\n",
              "2    14\n",
              "0     8\n",
              "5     6\n",
              "Name: new Mistakes, dtype: int64"
            ]
          },
          "metadata": {
            "tags": []
          },
          "execution_count": 55
        }
      ]
    },
    {
      "cell_type": "code",
      "metadata": {
        "id": "xeC-n9K0czRP"
      },
      "source": [
        "snc.to_csv('data/sncPredUpdated.csv')"
      ],
      "execution_count": 56,
      "outputs": []
    },
    {
      "cell_type": "code",
      "metadata": {
        "id": "bcctRpXqf0dq",
        "colab": {
          "base_uri": "https://localhost:8080/"
        },
        "outputId": "0dac0d57-fa29-4c91-f980-1f08e157ec16"
      },
      "source": [
        "data = pd.read_csv('data/sncPredUpdated.csv')\n",
        "data.shape"
      ],
      "execution_count": 57,
      "outputs": [
        {
          "output_type": "execute_result",
          "data": {
            "text/plain": [
              "(100, 20)"
            ]
          },
          "metadata": {
            "tags": []
          },
          "execution_count": 57
        }
      ]
    },
    {
      "cell_type": "markdown",
      "metadata": {
        "id": "XvTVf_BX41UI"
      },
      "source": [
        "### Results"
      ]
    },
    {
      "cell_type": "code",
      "metadata": {
        "id": "cnse6p8bsOQf"
      },
      "source": [
        "# 1\tSame results\n",
        "# 2\tSame P different goal\n",
        "# 3\tDifferent results but with logic behind the confusion\n",
        "# 4\tDifferent, mistake\n",
        "# 5 same SDG different P"
      ],
      "execution_count": 58,
      "outputs": []
    },
    {
      "cell_type": "code",
      "metadata": {
        "id": "49RPTf6Of5SG",
        "colab": {
          "base_uri": "https://localhost:8080/"
        },
        "outputId": "79edf2c5-0090-432c-9076-48c2d8e94626"
      },
      "source": [
        "data['new Mistakes'].value_counts()"
      ],
      "execution_count": 59,
      "outputs": [
        {
          "output_type": "execute_result",
          "data": {
            "text/plain": [
              "1    72\n",
              "2    14\n",
              "0     8\n",
              "5     6\n",
              "Name: new Mistakes, dtype: int64"
            ]
          },
          "metadata": {
            "tags": []
          },
          "execution_count": 59
        }
      ]
    },
    {
      "cell_type": "markdown",
      "metadata": {
        "id": "rYHb_VOap54k"
      },
      "source": [
        "## SNC not SDGs thresholds stats"
      ]
    },
    {
      "cell_type": "markdown",
      "metadata": {
        "id": "qI743qQj4u_2"
      },
      "source": [
        "### Pre processing"
      ]
    },
    {
      "cell_type": "code",
      "metadata": {
        "id": "ktXB_kQ4fCln",
        "colab": {
          "base_uri": "https://localhost:8080/"
        },
        "outputId": "e896849e-29c0-451d-8aad-4a08dcf2e540"
      },
      "source": [
        "sdg = pd.read_excel('data/SDG_israel_no_tags.xlsx')\n",
        "sdg.rename({'description':'Description'}, axis=1,inplace=True)\n",
        "sdg.shape"
      ],
      "execution_count": 60,
      "outputs": [
        {
          "output_type": "execute_result",
          "data": {
            "text/plain": [
              "(508, 34)"
            ]
          },
          "metadata": {
            "tags": []
          },
          "execution_count": 60
        }
      ]
    },
    {
      "cell_type": "code",
      "metadata": {
        "id": "EhmpnM8EfuA0",
        "colab": {
          "base_uri": "https://localhost:8080/"
        },
        "outputId": "0c3bbd77-9686-4d79-c28f-d69adfd48b41"
      },
      "source": [
        "other = pd.read_csv('data/sncCompaniesNotSdg.csv')\n",
        "other.rename({'About':'Description'}, axis=1,inplace=True)\n",
        "other = other[other['Description'].isnull() == False]\n",
        "other.shape"
      ],
      "execution_count": 61,
      "outputs": [
        {
          "output_type": "execute_result",
          "data": {
            "text/plain": [
              "(1015, 12)"
            ]
          },
          "metadata": {
            "tags": []
          },
          "execution_count": 61
        }
      ]
    },
    {
      "cell_type": "code",
      "metadata": {
        "id": "JAqHouJJc0ic"
      },
      "source": [
        "trainer = ModelTrainer(data, newModel=False, modelFilename=modelSDGAllFilename)"
      ],
      "execution_count": 62,
      "outputs": []
    },
    {
      "cell_type": "code",
      "metadata": {
        "id": "3aJ66EJhc0ig",
        "colab": {
          "base_uri": "https://localhost:8080/"
        },
        "outputId": "956f2135-52be-4b97-f9fc-cd2e16943005"
      },
      "source": [
        "# model = loadModel(modelSDGAllFilename, 'cuda', 'SDG Goal')\n",
        "model = trainer.model\n",
        "model.eval()"
      ],
      "execution_count": 63,
      "outputs": [
        {
          "output_type": "execute_result",
          "data": {
            "text/plain": [
              "SDGModel(\n",
              "  (bert): BertModel(\n",
              "    (embeddings): BertEmbeddings(\n",
              "      (word_embeddings): Embedding(30522, 768, padding_idx=0)\n",
              "      (position_embeddings): Embedding(512, 768)\n",
              "      (token_type_embeddings): Embedding(2, 768)\n",
              "      (LayerNorm): LayerNorm((768,), eps=1e-12, elementwise_affine=True)\n",
              "      (dropout): Dropout(p=0.1, inplace=False)\n",
              "    )\n",
              "    (encoder): BertEncoder(\n",
              "      (layer): ModuleList(\n",
              "        (0): BertLayer(\n",
              "          (attention): BertAttention(\n",
              "            (self): BertSelfAttention(\n",
              "              (query): Linear(in_features=768, out_features=768, bias=True)\n",
              "              (key): Linear(in_features=768, out_features=768, bias=True)\n",
              "              (value): Linear(in_features=768, out_features=768, bias=True)\n",
              "              (dropout): Dropout(p=0.1, inplace=False)\n",
              "            )\n",
              "            (output): BertSelfOutput(\n",
              "              (dense): Linear(in_features=768, out_features=768, bias=True)\n",
              "              (LayerNorm): LayerNorm((768,), eps=1e-12, elementwise_affine=True)\n",
              "              (dropout): Dropout(p=0.1, inplace=False)\n",
              "            )\n",
              "          )\n",
              "          (intermediate): BertIntermediate(\n",
              "            (dense): Linear(in_features=768, out_features=3072, bias=True)\n",
              "          )\n",
              "          (output): BertOutput(\n",
              "            (dense): Linear(in_features=3072, out_features=768, bias=True)\n",
              "            (LayerNorm): LayerNorm((768,), eps=1e-12, elementwise_affine=True)\n",
              "            (dropout): Dropout(p=0.1, inplace=False)\n",
              "          )\n",
              "        )\n",
              "        (1): BertLayer(\n",
              "          (attention): BertAttention(\n",
              "            (self): BertSelfAttention(\n",
              "              (query): Linear(in_features=768, out_features=768, bias=True)\n",
              "              (key): Linear(in_features=768, out_features=768, bias=True)\n",
              "              (value): Linear(in_features=768, out_features=768, bias=True)\n",
              "              (dropout): Dropout(p=0.1, inplace=False)\n",
              "            )\n",
              "            (output): BertSelfOutput(\n",
              "              (dense): Linear(in_features=768, out_features=768, bias=True)\n",
              "              (LayerNorm): LayerNorm((768,), eps=1e-12, elementwise_affine=True)\n",
              "              (dropout): Dropout(p=0.1, inplace=False)\n",
              "            )\n",
              "          )\n",
              "          (intermediate): BertIntermediate(\n",
              "            (dense): Linear(in_features=768, out_features=3072, bias=True)\n",
              "          )\n",
              "          (output): BertOutput(\n",
              "            (dense): Linear(in_features=3072, out_features=768, bias=True)\n",
              "            (LayerNorm): LayerNorm((768,), eps=1e-12, elementwise_affine=True)\n",
              "            (dropout): Dropout(p=0.1, inplace=False)\n",
              "          )\n",
              "        )\n",
              "        (2): BertLayer(\n",
              "          (attention): BertAttention(\n",
              "            (self): BertSelfAttention(\n",
              "              (query): Linear(in_features=768, out_features=768, bias=True)\n",
              "              (key): Linear(in_features=768, out_features=768, bias=True)\n",
              "              (value): Linear(in_features=768, out_features=768, bias=True)\n",
              "              (dropout): Dropout(p=0.1, inplace=False)\n",
              "            )\n",
              "            (output): BertSelfOutput(\n",
              "              (dense): Linear(in_features=768, out_features=768, bias=True)\n",
              "              (LayerNorm): LayerNorm((768,), eps=1e-12, elementwise_affine=True)\n",
              "              (dropout): Dropout(p=0.1, inplace=False)\n",
              "            )\n",
              "          )\n",
              "          (intermediate): BertIntermediate(\n",
              "            (dense): Linear(in_features=768, out_features=3072, bias=True)\n",
              "          )\n",
              "          (output): BertOutput(\n",
              "            (dense): Linear(in_features=3072, out_features=768, bias=True)\n",
              "            (LayerNorm): LayerNorm((768,), eps=1e-12, elementwise_affine=True)\n",
              "            (dropout): Dropout(p=0.1, inplace=False)\n",
              "          )\n",
              "        )\n",
              "        (3): BertLayer(\n",
              "          (attention): BertAttention(\n",
              "            (self): BertSelfAttention(\n",
              "              (query): Linear(in_features=768, out_features=768, bias=True)\n",
              "              (key): Linear(in_features=768, out_features=768, bias=True)\n",
              "              (value): Linear(in_features=768, out_features=768, bias=True)\n",
              "              (dropout): Dropout(p=0.1, inplace=False)\n",
              "            )\n",
              "            (output): BertSelfOutput(\n",
              "              (dense): Linear(in_features=768, out_features=768, bias=True)\n",
              "              (LayerNorm): LayerNorm((768,), eps=1e-12, elementwise_affine=True)\n",
              "              (dropout): Dropout(p=0.1, inplace=False)\n",
              "            )\n",
              "          )\n",
              "          (intermediate): BertIntermediate(\n",
              "            (dense): Linear(in_features=768, out_features=3072, bias=True)\n",
              "          )\n",
              "          (output): BertOutput(\n",
              "            (dense): Linear(in_features=3072, out_features=768, bias=True)\n",
              "            (LayerNorm): LayerNorm((768,), eps=1e-12, elementwise_affine=True)\n",
              "            (dropout): Dropout(p=0.1, inplace=False)\n",
              "          )\n",
              "        )\n",
              "        (4): BertLayer(\n",
              "          (attention): BertAttention(\n",
              "            (self): BertSelfAttention(\n",
              "              (query): Linear(in_features=768, out_features=768, bias=True)\n",
              "              (key): Linear(in_features=768, out_features=768, bias=True)\n",
              "              (value): Linear(in_features=768, out_features=768, bias=True)\n",
              "              (dropout): Dropout(p=0.1, inplace=False)\n",
              "            )\n",
              "            (output): BertSelfOutput(\n",
              "              (dense): Linear(in_features=768, out_features=768, bias=True)\n",
              "              (LayerNorm): LayerNorm((768,), eps=1e-12, elementwise_affine=True)\n",
              "              (dropout): Dropout(p=0.1, inplace=False)\n",
              "            )\n",
              "          )\n",
              "          (intermediate): BertIntermediate(\n",
              "            (dense): Linear(in_features=768, out_features=3072, bias=True)\n",
              "          )\n",
              "          (output): BertOutput(\n",
              "            (dense): Linear(in_features=3072, out_features=768, bias=True)\n",
              "            (LayerNorm): LayerNorm((768,), eps=1e-12, elementwise_affine=True)\n",
              "            (dropout): Dropout(p=0.1, inplace=False)\n",
              "          )\n",
              "        )\n",
              "        (5): BertLayer(\n",
              "          (attention): BertAttention(\n",
              "            (self): BertSelfAttention(\n",
              "              (query): Linear(in_features=768, out_features=768, bias=True)\n",
              "              (key): Linear(in_features=768, out_features=768, bias=True)\n",
              "              (value): Linear(in_features=768, out_features=768, bias=True)\n",
              "              (dropout): Dropout(p=0.1, inplace=False)\n",
              "            )\n",
              "            (output): BertSelfOutput(\n",
              "              (dense): Linear(in_features=768, out_features=768, bias=True)\n",
              "              (LayerNorm): LayerNorm((768,), eps=1e-12, elementwise_affine=True)\n",
              "              (dropout): Dropout(p=0.1, inplace=False)\n",
              "            )\n",
              "          )\n",
              "          (intermediate): BertIntermediate(\n",
              "            (dense): Linear(in_features=768, out_features=3072, bias=True)\n",
              "          )\n",
              "          (output): BertOutput(\n",
              "            (dense): Linear(in_features=3072, out_features=768, bias=True)\n",
              "            (LayerNorm): LayerNorm((768,), eps=1e-12, elementwise_affine=True)\n",
              "            (dropout): Dropout(p=0.1, inplace=False)\n",
              "          )\n",
              "        )\n",
              "        (6): BertLayer(\n",
              "          (attention): BertAttention(\n",
              "            (self): BertSelfAttention(\n",
              "              (query): Linear(in_features=768, out_features=768, bias=True)\n",
              "              (key): Linear(in_features=768, out_features=768, bias=True)\n",
              "              (value): Linear(in_features=768, out_features=768, bias=True)\n",
              "              (dropout): Dropout(p=0.1, inplace=False)\n",
              "            )\n",
              "            (output): BertSelfOutput(\n",
              "              (dense): Linear(in_features=768, out_features=768, bias=True)\n",
              "              (LayerNorm): LayerNorm((768,), eps=1e-12, elementwise_affine=True)\n",
              "              (dropout): Dropout(p=0.1, inplace=False)\n",
              "            )\n",
              "          )\n",
              "          (intermediate): BertIntermediate(\n",
              "            (dense): Linear(in_features=768, out_features=3072, bias=True)\n",
              "          )\n",
              "          (output): BertOutput(\n",
              "            (dense): Linear(in_features=3072, out_features=768, bias=True)\n",
              "            (LayerNorm): LayerNorm((768,), eps=1e-12, elementwise_affine=True)\n",
              "            (dropout): Dropout(p=0.1, inplace=False)\n",
              "          )\n",
              "        )\n",
              "        (7): BertLayer(\n",
              "          (attention): BertAttention(\n",
              "            (self): BertSelfAttention(\n",
              "              (query): Linear(in_features=768, out_features=768, bias=True)\n",
              "              (key): Linear(in_features=768, out_features=768, bias=True)\n",
              "              (value): Linear(in_features=768, out_features=768, bias=True)\n",
              "              (dropout): Dropout(p=0.1, inplace=False)\n",
              "            )\n",
              "            (output): BertSelfOutput(\n",
              "              (dense): Linear(in_features=768, out_features=768, bias=True)\n",
              "              (LayerNorm): LayerNorm((768,), eps=1e-12, elementwise_affine=True)\n",
              "              (dropout): Dropout(p=0.1, inplace=False)\n",
              "            )\n",
              "          )\n",
              "          (intermediate): BertIntermediate(\n",
              "            (dense): Linear(in_features=768, out_features=3072, bias=True)\n",
              "          )\n",
              "          (output): BertOutput(\n",
              "            (dense): Linear(in_features=3072, out_features=768, bias=True)\n",
              "            (LayerNorm): LayerNorm((768,), eps=1e-12, elementwise_affine=True)\n",
              "            (dropout): Dropout(p=0.1, inplace=False)\n",
              "          )\n",
              "        )\n",
              "        (8): BertLayer(\n",
              "          (attention): BertAttention(\n",
              "            (self): BertSelfAttention(\n",
              "              (query): Linear(in_features=768, out_features=768, bias=True)\n",
              "              (key): Linear(in_features=768, out_features=768, bias=True)\n",
              "              (value): Linear(in_features=768, out_features=768, bias=True)\n",
              "              (dropout): Dropout(p=0.1, inplace=False)\n",
              "            )\n",
              "            (output): BertSelfOutput(\n",
              "              (dense): Linear(in_features=768, out_features=768, bias=True)\n",
              "              (LayerNorm): LayerNorm((768,), eps=1e-12, elementwise_affine=True)\n",
              "              (dropout): Dropout(p=0.1, inplace=False)\n",
              "            )\n",
              "          )\n",
              "          (intermediate): BertIntermediate(\n",
              "            (dense): Linear(in_features=768, out_features=3072, bias=True)\n",
              "          )\n",
              "          (output): BertOutput(\n",
              "            (dense): Linear(in_features=3072, out_features=768, bias=True)\n",
              "            (LayerNorm): LayerNorm((768,), eps=1e-12, elementwise_affine=True)\n",
              "            (dropout): Dropout(p=0.1, inplace=False)\n",
              "          )\n",
              "        )\n",
              "        (9): BertLayer(\n",
              "          (attention): BertAttention(\n",
              "            (self): BertSelfAttention(\n",
              "              (query): Linear(in_features=768, out_features=768, bias=True)\n",
              "              (key): Linear(in_features=768, out_features=768, bias=True)\n",
              "              (value): Linear(in_features=768, out_features=768, bias=True)\n",
              "              (dropout): Dropout(p=0.1, inplace=False)\n",
              "            )\n",
              "            (output): BertSelfOutput(\n",
              "              (dense): Linear(in_features=768, out_features=768, bias=True)\n",
              "              (LayerNorm): LayerNorm((768,), eps=1e-12, elementwise_affine=True)\n",
              "              (dropout): Dropout(p=0.1, inplace=False)\n",
              "            )\n",
              "          )\n",
              "          (intermediate): BertIntermediate(\n",
              "            (dense): Linear(in_features=768, out_features=3072, bias=True)\n",
              "          )\n",
              "          (output): BertOutput(\n",
              "            (dense): Linear(in_features=3072, out_features=768, bias=True)\n",
              "            (LayerNorm): LayerNorm((768,), eps=1e-12, elementwise_affine=True)\n",
              "            (dropout): Dropout(p=0.1, inplace=False)\n",
              "          )\n",
              "        )\n",
              "        (10): BertLayer(\n",
              "          (attention): BertAttention(\n",
              "            (self): BertSelfAttention(\n",
              "              (query): Linear(in_features=768, out_features=768, bias=True)\n",
              "              (key): Linear(in_features=768, out_features=768, bias=True)\n",
              "              (value): Linear(in_features=768, out_features=768, bias=True)\n",
              "              (dropout): Dropout(p=0.1, inplace=False)\n",
              "            )\n",
              "            (output): BertSelfOutput(\n",
              "              (dense): Linear(in_features=768, out_features=768, bias=True)\n",
              "              (LayerNorm): LayerNorm((768,), eps=1e-12, elementwise_affine=True)\n",
              "              (dropout): Dropout(p=0.1, inplace=False)\n",
              "            )\n",
              "          )\n",
              "          (intermediate): BertIntermediate(\n",
              "            (dense): Linear(in_features=768, out_features=3072, bias=True)\n",
              "          )\n",
              "          (output): BertOutput(\n",
              "            (dense): Linear(in_features=3072, out_features=768, bias=True)\n",
              "            (LayerNorm): LayerNorm((768,), eps=1e-12, elementwise_affine=True)\n",
              "            (dropout): Dropout(p=0.1, inplace=False)\n",
              "          )\n",
              "        )\n",
              "        (11): BertLayer(\n",
              "          (attention): BertAttention(\n",
              "            (self): BertSelfAttention(\n",
              "              (query): Linear(in_features=768, out_features=768, bias=True)\n",
              "              (key): Linear(in_features=768, out_features=768, bias=True)\n",
              "              (value): Linear(in_features=768, out_features=768, bias=True)\n",
              "              (dropout): Dropout(p=0.1, inplace=False)\n",
              "            )\n",
              "            (output): BertSelfOutput(\n",
              "              (dense): Linear(in_features=768, out_features=768, bias=True)\n",
              "              (LayerNorm): LayerNorm((768,), eps=1e-12, elementwise_affine=True)\n",
              "              (dropout): Dropout(p=0.1, inplace=False)\n",
              "            )\n",
              "          )\n",
              "          (intermediate): BertIntermediate(\n",
              "            (dense): Linear(in_features=768, out_features=3072, bias=True)\n",
              "          )\n",
              "          (output): BertOutput(\n",
              "            (dense): Linear(in_features=3072, out_features=768, bias=True)\n",
              "            (LayerNorm): LayerNorm((768,), eps=1e-12, elementwise_affine=True)\n",
              "            (dropout): Dropout(p=0.1, inplace=False)\n",
              "          )\n",
              "        )\n",
              "      )\n",
              "    )\n",
              "    (pooler): BertPooler(\n",
              "      (dense): Linear(in_features=768, out_features=768, bias=True)\n",
              "      (activation): Tanh()\n",
              "    )\n",
              "  )\n",
              "  (out1): Linear(in_features=768, out_features=400, bias=True)\n",
              "  (drop): Dropout(p=0.5, inplace=False)\n",
              "  (out2): Linear(in_features=400, out_features=17, bias=True)\n",
              ")"
            ]
          },
          "metadata": {
            "tags": []
          },
          "execution_count": 63
        }
      ]
    },
    {
      "cell_type": "code",
      "metadata": {
        "id": "qYHn8clUfCl5"
      },
      "source": [
        "# model.eval()\n",
        "\n",
        "from torch import nn\n",
        "soft = nn.Softmax(dim=0)\n",
        "y_pred = []\n",
        "max_vals = []\n",
        "stds = []\n",
        "predicted_prob = []\n",
        "\n",
        "for index, instance in sdg.iterrows():\n",
        "  # print(instance['name'])\n",
        "  \n",
        "  out = model(instance[\"Description\"].lower())\n",
        "  probs = soft(out).tolist()\n",
        "  stds.append(probs)\n",
        "  predicted_prob.append(max(probs))\n",
        "  y_pred.append(trainer.labels[torch.argmax(out).item()])"
      ],
      "execution_count": 64,
      "outputs": []
    },
    {
      "cell_type": "code",
      "metadata": {
        "id": "_icKtlWjhgU5",
        "colab": {
          "base_uri": "https://localhost:8080/"
        },
        "outputId": "f888af20-2ecc-48af-9f82-fa9e9da1eeb2"
      },
      "source": [
        "sdg['SDG Goal pred'] = pd.Series(np.array(y_pred))\n",
        "sdg['SDG Goal pred'].value_counts()"
      ],
      "execution_count": 65,
      "outputs": [
        {
          "output_type": "execute_result",
          "data": {
            "text/plain": [
              "2     129\n",
              "7      82\n",
              "6      77\n",
              "3      69\n",
              "4      40\n",
              "9      24\n",
              "14     17\n",
              "12     15\n",
              "10     13\n",
              "11      9\n",
              "5       9\n",
              "15      7\n",
              "13      6\n",
              "1       5\n",
              "8       4\n",
              "16      2\n",
              "Name: SDG Goal pred, dtype: int64"
            ]
          },
          "metadata": {
            "tags": []
          },
          "execution_count": 65
        }
      ]
    },
    {
      "cell_type": "code",
      "metadata": {
        "id": "1pK2ov3qhgU7"
      },
      "source": [
        "sdg['max_prob'] = np.array(predicted_prob)\n",
        "# X_train['max_prob'] = X_train['max_prob'].apply(lambda x: round(x*10)/10)\n",
        "# X_train.max_prob.value_counts()"
      ],
      "execution_count": 66,
      "outputs": []
    },
    {
      "cell_type": "code",
      "metadata": {
        "id": "TINK87aohQnK"
      },
      "source": [
        "# model.eval()\n",
        "\n",
        "from torch import nn\n",
        "soft = nn.Softmax(dim=0)\n",
        "y_pred = []\n",
        "max_vals = []\n",
        "stds = []\n",
        "predicted_prob = []\n",
        "\n",
        "for index, instance in other.iterrows():\n",
        "  # print(instance['name'])\n",
        "  \n",
        "  out = model(instance[\"Description\"].lower())\n",
        "  probs = soft(out).tolist()\n",
        "  # print(probs)\n",
        "  stds.append(probs)\n",
        "  predicted_prob.append(max(probs))\n",
        "  max_vals.append(max(out).item())\n",
        "  # if max(out).item() < 2 :\n",
        "  #   print(instance)\n",
        "  y_pred.append(trainer.labels[torch.argmax(out).item()])"
      ],
      "execution_count": 67,
      "outputs": []
    },
    {
      "cell_type": "code",
      "metadata": {
        "id": "jaLLGPG1fCl7",
        "colab": {
          "base_uri": "https://localhost:8080/"
        },
        "outputId": "b8d6e09d-7470-4b06-eda6-674dde19ab97"
      },
      "source": [
        "other['SDG Goal pred'] = pd.Series(np.array(y_pred))\n",
        "other['SDG Goal pred'].value_counts()"
      ],
      "execution_count": 68,
      "outputs": [
        {
          "output_type": "execute_result",
          "data": {
            "text/plain": [
              "9.0     248\n",
              "3.0     198\n",
              "1.0     142\n",
              "10.0     72\n",
              "12.0     53\n",
              "8.0      52\n",
              "2.0      50\n",
              "7.0      47\n",
              "4.0      31\n",
              "11.0     31\n",
              "16.0     27\n",
              "13.0     22\n",
              "5.0      10\n",
              "14.0     10\n",
              "15.0      7\n",
              "6.0       3\n",
              "17.0      1\n",
              "Name: SDG Goal pred, dtype: int64"
            ]
          },
          "metadata": {
            "tags": []
          },
          "execution_count": 68
        }
      ]
    },
    {
      "cell_type": "code",
      "metadata": {
        "id": "zzJu2LcLfCl9"
      },
      "source": [
        "other['max_prob'] = np.array(predicted_prob)\n",
        "# X_train['max_prob'] = X_train['max_prob'].apply(lambda x: round(x*10)/10)\n",
        "# X_train.max_prob.value_counts()"
      ],
      "execution_count": 69,
      "outputs": []
    },
    {
      "cell_type": "markdown",
      "metadata": {
        "id": "EB_wCCC74oFE"
      },
      "source": [
        "### Results"
      ]
    },
    {
      "cell_type": "code",
      "metadata": {
        "id": "0NeJEfdDh14x",
        "colab": {
          "base_uri": "https://localhost:8080/"
        },
        "outputId": "199d9a96-fb6b-4bc2-af7f-89ca388ff7d5"
      },
      "source": [
        "sdg['max_prob'].describe()"
      ],
      "execution_count": 70,
      "outputs": [
        {
          "output_type": "execute_result",
          "data": {
            "text/plain": [
              "count    508.000000\n",
              "mean       0.896559\n",
              "std        0.156801\n",
              "min        0.259591\n",
              "25%        0.877829\n",
              "50%        0.969925\n",
              "75%        0.992124\n",
              "max        0.996525\n",
              "Name: max_prob, dtype: float64"
            ]
          },
          "metadata": {
            "tags": []
          },
          "execution_count": 70
        }
      ]
    },
    {
      "cell_type": "code",
      "metadata": {
        "id": "rP9TT7Tlh8i0",
        "colab": {
          "base_uri": "https://localhost:8080/"
        },
        "outputId": "50607632-4fc9-433d-c72a-3326f34145a5"
      },
      "source": [
        "other['max_prob'].describe()"
      ],
      "execution_count": 71,
      "outputs": [
        {
          "output_type": "execute_result",
          "data": {
            "text/plain": [
              "count    1015.000000\n",
              "mean        0.797556\n",
              "std         0.205540\n",
              "min         0.194778\n",
              "25%         0.646087\n",
              "50%         0.877363\n",
              "75%         0.974788\n",
              "max         0.996403\n",
              "Name: max_prob, dtype: float64"
            ]
          },
          "metadata": {
            "tags": []
          },
          "execution_count": 71
        }
      ]
    },
    {
      "cell_type": "code",
      "metadata": {
        "id": "oVfwyIYpfCmK",
        "colab": {
          "base_uri": "https://localhost:8080/"
        },
        "outputId": "1b122f24-a8f3-47ee-d7e3-fa2ebb3b9077"
      },
      "source": [
        "from scipy import stats\n",
        "cor = np.array(sdg['max_prob'].values)\n",
        "erro = np.array(other['max_prob'].values)\n",
        "stats.ttest_ind(cor,erro)\n",
        "# stats.kruskal(cor, erro)"
      ],
      "execution_count": 72,
      "outputs": [
        {
          "output_type": "execute_result",
          "data": {
            "text/plain": [
              "Ttest_indResult(statistic=9.553250165712685, pvalue=4.827157294923636e-21)"
            ]
          },
          "metadata": {
            "tags": []
          },
          "execution_count": 72
        }
      ]
    },
    {
      "cell_type": "markdown",
      "metadata": {
        "id": "4jysoWrkxhOO"
      },
      "source": [
        "## SCORES: acc, precision, recall, matrix, roc"
      ]
    },
    {
      "cell_type": "markdown",
      "metadata": {
        "id": "I4KR-v0Y1JcS"
      },
      "source": [
        "### Goals All"
      ]
    },
    {
      "cell_type": "markdown",
      "metadata": {
        "id": "LrvEaVhk2696"
      },
      "source": [
        "#### Loading model"
      ]
    },
    {
      "cell_type": "code",
      "metadata": {
        "id": "QbdDUB4OuHdl",
        "colab": {
          "base_uri": "https://localhost:8080/"
        },
        "outputId": "b8be05f5-f047-44e1-8aca-5fbd498e346a"
      },
      "source": [
        "data = pd.read_csv('data/' + dataFilename)\n",
        "data['SDG Goal'] = data['SDG Goal'].astype(int)\n",
        "data.shape"
      ],
      "execution_count": 73,
      "outputs": [
        {
          "output_type": "execute_result",
          "data": {
            "text/plain": [
              "(2729, 18)"
            ]
          },
          "metadata": {
            "tags": []
          },
          "execution_count": 73
        }
      ]
    },
    {
      "cell_type": "code",
      "metadata": {
        "id": "QxZk-Bmi1IT8"
      },
      "source": [
        "trainer = ModelTrainer(data, newModel=False, n_epochs=3, modelFilename=modelSDGAllFilename)"
      ],
      "execution_count": 74,
      "outputs": []
    },
    {
      "cell_type": "markdown",
      "metadata": {
        "id": "fONRugHqym0x"
      },
      "source": [
        "#### Results"
      ]
    },
    {
      "cell_type": "code",
      "metadata": {
        "id": "Ab7ZI5Ylg4xs",
        "colab": {
          "base_uri": "https://localhost:8080/"
        },
        "outputId": "b9a9452b-81e5-4f04-bbc3-d4f6e37aaf36"
      },
      "source": [
        "trainer.printDataValueCounts()"
      ],
      "execution_count": 75,
      "outputs": [
        {
          "output_type": "stream",
          "text": [
            "Labels: [7, 2, 3, 12, 1, 9, 13, 4, 8, 16, 11, 6, 14, 10, 5, 15, 17]\n",
            "X_train: 2319 samples\n",
            "X_test: 410 samples\n"
          ],
          "name": "stdout"
        }
      ]
    },
    {
      "cell_type": "code",
      "metadata": {
        "id": "jjiRkZnGDKE2",
        "colab": {
          "base_uri": "https://localhost:8080/"
        },
        "outputId": "c1c4598c-940d-4e0f-91ef-21c9769caadb"
      },
      "source": [
        "print(f\"Avg acc = {sum(trainer.accuracies[1:])/len(trainer.accuracies[1:])}\")\n",
        "trainer.accuracies"
      ],
      "execution_count": 76,
      "outputs": [
        {
          "output_type": "stream",
          "text": [
            "Avg acc = 0.7178861788617885\n"
          ],
          "name": "stdout"
        },
        {
          "output_type": "execute_result",
          "data": {
            "text/plain": [
              "[0.6560975609756098,\n",
              " 0.7024390243902439,\n",
              " 0.7073170731707317,\n",
              " 0.7195121951219512,\n",
              " 0.7146341463414634,\n",
              " 0.7365853658536585,\n",
              " 0.7268292682926829]"
            ]
          },
          "metadata": {
            "tags": []
          },
          "execution_count": 76
        }
      ]
    },
    {
      "cell_type": "code",
      "metadata": {
        "id": "EFP_CRYfUlaV",
        "colab": {
          "base_uri": "https://localhost:8080/",
          "height": 1000
        },
        "outputId": "6ab97265-8beb-4e33-d0b4-a723fce882c0"
      },
      "source": [
        "i = trainer.accuracies.index(max(trainer.accuracies))\n",
        "trainer.getEvalOfEpoch(i)"
      ],
      "execution_count": 77,
      "outputs": [
        {
          "output_type": "stream",
          "text": [
            "Accuracy: 0.74\n",
            "Auc: 0.72\n",
            "Detail:\n",
            "              precision    recall  f1-score   support\n",
            "\n",
            "           1       0.73      0.76      0.75        29\n",
            "           2       0.85      0.93      0.88        54\n",
            "           3       0.78      0.88      0.82        48\n",
            "           4       0.62      0.71      0.67        14\n",
            "           5       1.00      0.80      0.89         5\n",
            "           6       1.00      0.82      0.90        11\n",
            "           7       0.84      0.95      0.89       114\n",
            "           8       0.71      0.56      0.63         9\n",
            "           9       0.28      0.35      0.31        26\n",
            "          10       0.83      0.50      0.62        10\n",
            "          11       0.75      0.19      0.30        16\n",
            "          12       0.72      0.64      0.68        28\n",
            "          13       0.41      0.45      0.43        20\n",
            "          14       0.75      0.60      0.67         5\n",
            "          15       0.00      0.00      0.00         8\n",
            "          16       1.00      0.50      0.67        10\n",
            "          17       0.00      0.00      0.00         3\n",
            "\n",
            "    accuracy                           0.74       410\n",
            "   macro avg       0.66      0.57      0.59       410\n",
            "weighted avg       0.74      0.74      0.72       410\n",
            "\n"
          ],
          "name": "stdout"
        },
        {
          "output_type": "stream",
          "text": [
            "/usr/local/lib/python3.6/dist-packages/ipykernel_launcher.py:32: DeprecationWarning: scipy.interp is deprecated and will be removed in SciPy 2.0.0, use numpy.interp instead\n"
          ],
          "name": "stderr"
        },
        {
          "output_type": "display_data",
          "data": {
            "image/png": "[encoded data removed]",
            "text/plain": [
              "<Figure size 432x288 with 1 Axes>"
            ]
          },
          "metadata": {
            "tags": [],
            "needs_background": "light"
          }
        },
        {
          "output_type": "display_data",
          "data": {
            "image/png": "[encoded data removed]",
            "text/plain": [
              "<Figure size 720x360 with 2 Axes>"
            ]
          },
          "metadata": {
            "tags": [],
            "needs_background": "light"
          }
        },
        {
          "output_type": "display_data",
          "data": {
            "image/png": "[encoded data removed]",
            "text/plain": [
              "<Figure size 432x288 with 1 Axes>"
            ]
          },
          "metadata": {
            "tags": [],
            "needs_background": "light"
          }
        }
      ]
    },
    {
      "cell_type": "markdown",
      "metadata": {
        "id": "qnNu1Esr1Mxq"
      },
      "source": [
        "### Ps All"
      ]
    },
    {
      "cell_type": "markdown",
      "metadata": {
        "id": "EJM-0OkS24Jn"
      },
      "source": [
        "#### Loading model"
      ]
    },
    {
      "cell_type": "code",
      "metadata": {
        "colab": {
          "base_uri": "https://localhost:8080/"
        },
        "id": "Uxc7vqumzV_c",
        "outputId": "e15233e0-b9df-4f44-ee21-1c5af3c73166"
      },
      "source": [
        "data = pd.read_csv('data/' + dataFilename)\n",
        "data['SDG Goal'] = data['SDG Goal'].astype(int)\n",
        "data.shape"
      ],
      "execution_count": 78,
      "outputs": [
        {
          "output_type": "execute_result",
          "data": {
            "text/plain": [
              "(2729, 18)"
            ]
          },
          "metadata": {
            "tags": []
          },
          "execution_count": 78
        }
      ]
    },
    {
      "cell_type": "code",
      "metadata": {
        "id": "qN73A02_P0Pp"
      },
      "source": [
        "trainer = ModelTrainer(data, newModel=False, n_epochs=3, test_size=test_size, modelFilename=modelPsAllFilename, target_col='five Ps')"
      ],
      "execution_count": 79,
      "outputs": []
    },
    {
      "cell_type": "markdown",
      "metadata": {
        "id": "nu3_SkBQzV_d"
      },
      "source": [
        "#### Results"
      ]
    },
    {
      "cell_type": "code",
      "metadata": {
        "colab": {
          "base_uri": "https://localhost:8080/"
        },
        "id": "_dGCoK-OzV_d",
        "outputId": "bc329e91-2d7d-47cd-edd4-0eb77650edc6"
      },
      "source": [
        "trainer.printDataValueCounts()"
      ],
      "execution_count": 80,
      "outputs": [
        {
          "output_type": "stream",
          "text": [
            "Labels: ['Prosperity', 'People', 'Planet', 'Peace', 'Partnerships']\n",
            "X_train: 2319 samples\n",
            "X_test: 410 samples\n"
          ],
          "name": "stdout"
        }
      ]
    },
    {
      "cell_type": "code",
      "metadata": {
        "colab": {
          "base_uri": "https://localhost:8080/"
        },
        "id": "cS9YqZmJzV_d",
        "outputId": "d9770322-e2f8-44c4-a6a8-b54c5f2b5198"
      },
      "source": [
        "print(f\"Avg acc = {sum(trainer.accuracies[1:])/len(trainer.accuracies[1:])}\")\n",
        "trainer.accuracies"
      ],
      "execution_count": 81,
      "outputs": [
        {
          "output_type": "stream",
          "text": [
            "Avg acc = 0.8073170731707318\n"
          ],
          "name": "stdout"
        },
        {
          "output_type": "execute_result",
          "data": {
            "text/plain": [
              "[0.7975609756097561,\n",
              " 0.8097560975609757,\n",
              " 0.8,\n",
              " 0.8048780487804879,\n",
              " 0.824390243902439,\n",
              " 0.8170731707317073,\n",
              " 0.7829268292682927,\n",
              " 0.8121951219512196,\n",
              " 0.8048780487804879,\n",
              " 0.8097560975609757]"
            ]
          },
          "metadata": {
            "tags": []
          },
          "execution_count": 81
        }
      ]
    },
    {
      "cell_type": "code",
      "metadata": {
        "colab": {
          "base_uri": "https://localhost:8080/",
          "height": 1000
        },
        "id": "pWF6O4RmzV_d",
        "outputId": "4f4eea1a-72b6-43c8-8893-e67b15787144"
      },
      "source": [
        "i = trainer.accuracies.index(max(trainer.accuracies))\n",
        "trainer.getEvalOfEpoch(i)"
      ],
      "execution_count": 82,
      "outputs": [
        {
          "output_type": "stream",
          "text": [
            "Accuracy: 0.82\n",
            "Auc: 0.45\n",
            "Detail:\n",
            "              precision    recall  f1-score   support\n",
            "\n",
            "Partnerships       0.00      0.00      0.00         3\n",
            "       Peace       0.75      0.60      0.67        10\n",
            "      People       0.85      0.85      0.85       161\n",
            "      Planet       0.58      0.42      0.49        33\n",
            "  Prosperity       0.83      0.89      0.86       203\n",
            "\n",
            "    accuracy                           0.82       410\n",
            "   macro avg       0.60      0.55      0.57       410\n",
            "weighted avg       0.81      0.82      0.82       410\n",
            "\n"
          ],
          "name": "stdout"
        },
        {
          "output_type": "stream",
          "text": [
            "/usr/local/lib/python3.6/dist-packages/sklearn/metrics/_classification.py:1272: UndefinedMetricWarning: Precision and F-score are ill-defined and being set to 0.0 in labels with no predicted samples. Use `zero_division` parameter to control this behavior.\n",
            "  _warn_prf(average, modifier, msg_start, len(result))\n",
            "/usr/local/lib/python3.6/dist-packages/ipykernel_launcher.py:32: DeprecationWarning: scipy.interp is deprecated and will be removed in SciPy 2.0.0, use numpy.interp instead\n"
          ],
          "name": "stderr"
        },
        {
          "output_type": "display_data",
          "data": {
            "image/png": "[encoded data removed]",
            "text/plain": [
              "<Figure size 432x288 with 1 Axes>"
            ]
          },
          "metadata": {
            "tags": [],
            "needs_background": "light"
          }
        },
        {
          "output_type": "display_data",
          "data": {
            "image/png": "[encoded data removed]",
            "text/plain": [
              "<Figure size 720x360 with 2 Axes>"
            ]
          },
          "metadata": {
            "tags": [],
            "needs_background": "light"
          }
        },
        {
          "output_type": "display_data",
          "data": {
            "image/png": "[encoded data removed]",
            "text/plain": [
              "<Figure size 432x288 with 1 Axes>"
            ]
          },
          "metadata": {
            "tags": [],
            "needs_background": "light"
          }
        }
      ]
    },
    {
      "cell_type": "markdown",
      "metadata": {
        "id": "H071_Jfl1OQN"
      },
      "source": [
        "### Goals Top"
      ]
    },
    {
      "cell_type": "markdown",
      "metadata": {
        "id": "_Oh12Lqy21eC"
      },
      "source": [
        "#### Loading model"
      ]
    },
    {
      "cell_type": "code",
      "metadata": {
        "colab": {
          "base_uri": "https://localhost:8080/"
        },
        "id": "mAzWq81lzd8d",
        "outputId": "4afca8fe-b4e9-4ed2-cf82-ff0bce06e74d"
      },
      "source": [
        "data = pd.read_csv('data/' + dataFilename)\n",
        "data['SDG Goal'] = data['SDG Goal'].astype(int)\n",
        "labels = data['SDG Goal'].value_counts().index.tolist()[:7]\n",
        "data = data[data['SDG Goal'].isin(labels)]\n",
        "data.shape"
      ],
      "execution_count": 83,
      "outputs": [
        {
          "output_type": "execute_result",
          "data": {
            "text/plain": [
              "(2119, 18)"
            ]
          },
          "metadata": {
            "tags": []
          },
          "execution_count": 83
        }
      ]
    },
    {
      "cell_type": "code",
      "metadata": {
        "id": "5HplnZMZzd8d"
      },
      "source": [
        "trainer = ModelTrainer(data, newModel=False, n_epochs=6, test_size=test_size, modelFilename=modelSDGTopFilename)"
      ],
      "execution_count": 84,
      "outputs": []
    },
    {
      "cell_type": "markdown",
      "metadata": {
        "id": "Ame7d7fczd8d"
      },
      "source": [
        "#### Results"
      ]
    },
    {
      "cell_type": "code",
      "metadata": {
        "colab": {
          "base_uri": "https://localhost:8080/"
        },
        "id": "OVyEKl_hzd8d",
        "outputId": "feadddd3-ef5d-445e-8c6a-6da52a2433d7"
      },
      "source": [
        "trainer.printDataValueCounts()"
      ],
      "execution_count": 85,
      "outputs": [
        {
          "output_type": "stream",
          "text": [
            "Labels: [7, 2, 3, 12, 1, 9, 13]\n",
            "X_train: 1801 samples\n",
            "X_test: 318 samples\n"
          ],
          "name": "stdout"
        }
      ]
    },
    {
      "cell_type": "code",
      "metadata": {
        "colab": {
          "base_uri": "https://localhost:8080/"
        },
        "id": "3g6Z2_VFzd8d",
        "outputId": "31c5d4cd-3d50-4c12-c0cf-9fa39ebb29bf"
      },
      "source": [
        "print(f\"Avg acc = {sum(trainer.accuracies[1:])/len(trainer.accuracies[1:])}\")\n",
        "trainer.accuracies"
      ],
      "execution_count": 86,
      "outputs": [
        {
          "output_type": "stream",
          "text": [
            "Avg acc = 0.820754716981132\n"
          ],
          "name": "stdout"
        },
        {
          "output_type": "execute_result",
          "data": {
            "text/plain": [
              "[0.8113207547169812,\n",
              " 0.8050314465408805,\n",
              " 0.8333333333333334,\n",
              " 0.8050314465408805,\n",
              " 0.8301886792452831,\n",
              " 0.8301886792452831]"
            ]
          },
          "metadata": {
            "tags": []
          },
          "execution_count": 86
        }
      ]
    },
    {
      "cell_type": "code",
      "metadata": {
        "colab": {
          "base_uri": "https://localhost:8080/",
          "height": 1000
        },
        "id": "qgFIKaEAzd8d",
        "outputId": "a3a00426-f997-4b6a-f9c2-f40a5b0231c2"
      },
      "source": [
        "i = trainer.accuracies.index(max(trainer.accuracies))\n",
        "trainer.getEvalOfEpoch(i)"
      ],
      "execution_count": 87,
      "outputs": [
        {
          "output_type": "stream",
          "text": [
            "Accuracy: 0.83\n",
            "Auc: 0.67\n",
            "Detail:\n",
            "              precision    recall  f1-score   support\n",
            "\n",
            "           1       0.87      0.82      0.84        33\n",
            "           2       0.90      0.91      0.90        57\n",
            "           3       0.85      0.87      0.86        39\n",
            "           7       0.91      0.94      0.92       110\n",
            "           9       0.77      0.40      0.53        25\n",
            "          12       0.61      0.90      0.73        31\n",
            "          13       0.65      0.48      0.55        23\n",
            "\n",
            "    accuracy                           0.83       318\n",
            "   macro avg       0.79      0.76      0.76       318\n",
            "weighted avg       0.84      0.83      0.83       318\n",
            "\n"
          ],
          "name": "stdout"
        },
        {
          "output_type": "stream",
          "text": [
            "/usr/local/lib/python3.6/dist-packages/ipykernel_launcher.py:32: DeprecationWarning: scipy.interp is deprecated and will be removed in SciPy 2.0.0, use numpy.interp instead\n"
          ],
          "name": "stderr"
        },
        {
          "output_type": "display_data",
          "data": {
            "image/png": "[encoded data removed]",
            "text/plain": [
              "<Figure size 432x288 with 1 Axes>"
            ]
          },
          "metadata": {
            "tags": [],
            "needs_background": "light"
          }
        },
        {
          "output_type": "display_data",
          "data": {
            "image/png": "[encoded data removed]",
            "text/plain": [
              "<Figure size 720x360 with 2 Axes>"
            ]
          },
          "metadata": {
            "tags": [],
            "needs_background": "light"
          }
        },
        {
          "output_type": "display_data",
          "data": {
            "image/png": "[encoded data removed]",
            "text/plain": [
              "<Figure size 432x288 with 1 Axes>"
            ]
          },
          "metadata": {
            "tags": [],
            "needs_background": "light"
          }
        }
      ]
    },
    {
      "cell_type": "markdown",
      "metadata": {
        "id": "Lx8yrmNr1Q3a"
      },
      "source": [
        "### Ps Top"
      ]
    },
    {
      "cell_type": "markdown",
      "metadata": {
        "id": "n5MtBW7Nzmiv"
      },
      "source": [
        "#### Loading model"
      ]
    },
    {
      "cell_type": "code",
      "metadata": {
        "colab": {
          "base_uri": "https://localhost:8080/"
        },
        "id": "rwQO3wvqzmiv",
        "outputId": "78ce3815-ffd2-4176-91c9-19122b7aa1ba"
      },
      "source": [
        "data = pd.read_csv('data/' + dataFilename)\n",
        "data['SDG Goal'] = data['SDG Goal'].astype(int)\n",
        "labels = data['SDG Goal'].value_counts().index.tolist()[:7]\n",
        "data = data[data['SDG Goal'].isin(labels)]\n",
        "data.shape"
      ],
      "execution_count": 88,
      "outputs": [
        {
          "output_type": "execute_result",
          "data": {
            "text/plain": [
              "(2119, 18)"
            ]
          },
          "metadata": {
            "tags": []
          },
          "execution_count": 88
        }
      ]
    },
    {
      "cell_type": "code",
      "metadata": {
        "id": "yadnaX8Ezmiv"
      },
      "source": [
        "trainer = ModelTrainer(data, newModel=False, n_epochs=6, test_size=test_size, modelFilename=modelPsTopFilename, target_col='five Ps')"
      ],
      "execution_count": 89,
      "outputs": []
    },
    {
      "cell_type": "markdown",
      "metadata": {
        "id": "CuMrd6-Kzmiv"
      },
      "source": [
        "#### Results"
      ]
    },
    {
      "cell_type": "code",
      "metadata": {
        "colab": {
          "base_uri": "https://localhost:8080/"
        },
        "id": "UBsmKFxMzmiv",
        "outputId": "697eaa95-5916-407b-893e-e81a10fcc495"
      },
      "source": [
        "trainer.printDataValueCounts()"
      ],
      "execution_count": 90,
      "outputs": [
        {
          "output_type": "stream",
          "text": [
            "Labels: ['Prosperity', 'People', 'Planet']\n",
            "X_train: 1801 samples\n",
            "X_test: 318 samples\n"
          ],
          "name": "stdout"
        }
      ]
    },
    {
      "cell_type": "code",
      "metadata": {
        "colab": {
          "base_uri": "https://localhost:8080/"
        },
        "id": "sNaAf7w3zmiv",
        "outputId": "61807e3c-3b4c-4447-af97-933e001ed968"
      },
      "source": [
        "print(f\"Avg acc = {sum(trainer.accuracies[1:])/len(trainer.accuracies[1:])}\")\n",
        "trainer.accuracies"
      ],
      "execution_count": 91,
      "outputs": [
        {
          "output_type": "stream",
          "text": [
            "Avg acc = 0.8754716981132076\n"
          ],
          "name": "stdout"
        },
        {
          "output_type": "execute_result",
          "data": {
            "text/plain": [
              "[0.8584905660377359,\n",
              " 0.8679245283018868,\n",
              " 0.8805031446540881,\n",
              " 0.8584905660377359,\n",
              " 0.8930817610062893,\n",
              " 0.8773584905660378]"
            ]
          },
          "metadata": {
            "tags": []
          },
          "execution_count": 91
        }
      ]
    },
    {
      "cell_type": "code",
      "metadata": {
        "colab": {
          "base_uri": "https://localhost:8080/",
          "height": 1000
        },
        "id": "wCCBJV6Lzmiv",
        "outputId": "69e49d91-2a06-49fb-e638-a5efed465c1d"
      },
      "source": [
        "i = trainer.accuracies.index(max(trainer.accuracies))\n",
        "trainer.getEvalOfEpoch(i)"
      ],
      "execution_count": 92,
      "outputs": [
        {
          "output_type": "stream",
          "text": [
            "Accuracy: 0.89\n",
            "Auc: 0.42\n",
            "Detail:\n",
            "              precision    recall  f1-score   support\n",
            "\n",
            "      People       0.90      0.93      0.91       129\n",
            "      Planet       0.68      0.57      0.62        23\n",
            "  Prosperity       0.92      0.91      0.91       166\n",
            "\n",
            "    accuracy                           0.89       318\n",
            "   macro avg       0.83      0.80      0.81       318\n",
            "weighted avg       0.89      0.89      0.89       318\n",
            "\n"
          ],
          "name": "stdout"
        },
        {
          "output_type": "stream",
          "text": [
            "/usr/local/lib/python3.6/dist-packages/ipykernel_launcher.py:32: DeprecationWarning: scipy.interp is deprecated and will be removed in SciPy 2.0.0, use numpy.interp instead\n"
          ],
          "name": "stderr"
        },
        {
          "output_type": "display_data",
          "data": {
            "image/png": "[encoded data removed]",
            "text/plain": [
              "<Figure size 432x288 with 1 Axes>"
            ]
          },
          "metadata": {
            "tags": [],
            "needs_background": "light"
          }
        },
        {
          "output_type": "display_data",
          "data": {
            "image/png": "[encoded data removed]",
            "text/plain": [
              "<Figure size 720x360 with 2 Axes>"
            ]
          },
          "metadata": {
            "tags": [],
            "needs_background": "light"
          }
        },
        {
          "output_type": "display_data",
          "data": {
            "image/png": "[encoded data removed]",
            "text/plain": [
              "<Figure size 432x288 with 1 Axes>"
            ]
          },
          "metadata": {
            "tags": [],
            "needs_background": "light"
          }
        }
      ]
    }
  ]
}