{
  "nbformat": 4,
  "nbformat_minor": 0,
  "metadata": {
    "colab": {
      "name": "SDG_5Ps_experiment_rainmakig_impact.ipynb",
      "provenance": [],
      "collapsed_sections": [
        "qb_3CdPWECz-"
      ]
    },
    "kernelspec": {
      "name": "python3",
      "display_name": "Python 3"
    },
    "accelerator": "GPU",
    "widgets": {
      "application/vnd.jupyter.widget-state+json": {
        "0642efc997764b5999ec7add14941d84": {
          "model_module": "@jupyter-widgets/controls",
          "model_name": "HBoxModel",
          "state": {
            "_view_name": "HBoxView",
            "_dom_classes": [],
            "_model_name": "HBoxModel",
            "_view_module": "@jupyter-widgets/controls",
            "_model_module_version": "1.5.0",
            "_view_count": null,
            "_view_module_version": "1.5.0",
            "box_style": "",
            "layout": "IPY_MODEL_da8f32176c09476f944c6f8c8627e589",
            "_model_module": "@jupyter-widgets/controls",
            "children": [
              "IPY_MODEL_214088575595428682cf20825f9d9f20",
              "IPY_MODEL_d351c3d79b704e448a73724a520aa06d"
            ]
          }
        },
        "da8f32176c09476f944c6f8c8627e589": {
          "model_module": "@jupyter-widgets/base",
          "model_name": "LayoutModel",
          "state": {
            "_view_name": "LayoutView",
            "grid_template_rows": null,
            "right": null,
            "justify_content": null,
            "_view_module": "@jupyter-widgets/base",
            "overflow": null,
            "_model_module_version": "1.2.0",
            "_view_count": null,
            "flex_flow": null,
            "width": null,
            "min_width": null,
            "border": null,
            "align_items": null,
            "bottom": null,
            "_model_module": "@jupyter-widgets/base",
            "top": null,
            "grid_column": null,
            "overflow_y": null,
            "overflow_x": null,
            "grid_auto_flow": null,
            "grid_area": null,
            "grid_template_columns": null,
            "flex": null,
            "_model_name": "LayoutModel",
            "justify_items": null,
            "grid_row": null,
            "max_height": null,
            "align_content": null,
            "visibility": null,
            "align_self": null,
            "height": null,
            "min_height": null,
            "padding": null,
            "grid_auto_rows": null,
            "grid_gap": null,
            "max_width": null,
            "order": null,
            "_view_module_version": "1.2.0",
            "grid_template_areas": null,
            "object_position": null,
            "object_fit": null,
            "grid_auto_columns": null,
            "margin": null,
            "display": null,
            "left": null
          }
        },
        "214088575595428682cf20825f9d9f20": {
          "model_module": "@jupyter-widgets/controls",
          "model_name": "FloatProgressModel",
          "state": {
            "_view_name": "ProgressView",
            "style": "IPY_MODEL_aff439c4e4764021a13507d08f494ce6",
            "_dom_classes": [],
            "description": "Downloading: 100%",
            "_model_name": "FloatProgressModel",
            "bar_style": "success",
            "max": 231508,
            "_view_module": "@jupyter-widgets/controls",
            "_model_module_version": "1.5.0",
            "value": 231508,
            "_view_count": null,
            "_view_module_version": "1.5.0",
            "orientation": "horizontal",
            "min": 0,
            "description_tooltip": null,
            "_model_module": "@jupyter-widgets/controls",
            "layout": "IPY_MODEL_e79eb350e914483382814d1208a8dc97"
          }
        },
        "d351c3d79b704e448a73724a520aa06d": {
          "model_module": "@jupyter-widgets/controls",
          "model_name": "HTMLModel",
          "state": {
            "_view_name": "HTMLView",
            "style": "IPY_MODEL_78fed43421f24201bca1d53afd9290a7",
            "_dom_classes": [],
            "description": "",
            "_model_name": "HTMLModel",
            "placeholder": "​",
            "_view_module": "@jupyter-widgets/controls",
            "_model_module_version": "1.5.0",
            "value": " 232k/232k [00:00&lt;00:00, 784kB/s]",
            "_view_count": null,
            "_view_module_version": "1.5.0",
            "description_tooltip": null,
            "_model_module": "@jupyter-widgets/controls",
            "layout": "IPY_MODEL_a126dbd9c20a406780f7c5bf8337cce2"
          }
        },
        "aff439c4e4764021a13507d08f494ce6": {
          "model_module": "@jupyter-widgets/controls",
          "model_name": "ProgressStyleModel",
          "state": {
            "_view_name": "StyleView",
            "_model_name": "ProgressStyleModel",
            "description_width": "initial",
            "_view_module": "@jupyter-widgets/base",
            "_model_module_version": "1.5.0",
            "_view_count": null,
            "_view_module_version": "1.2.0",
            "bar_color": null,
            "_model_module": "@jupyter-widgets/controls"
          }
        },
        "e79eb350e914483382814d1208a8dc97": {
          "model_module": "@jupyter-widgets/base",
          "model_name": "LayoutModel",
          "state": {
            "_view_name": "LayoutView",
            "grid_template_rows": null,
            "right": null,
            "justify_content": null,
            "_view_module": "@jupyter-widgets/base",
            "overflow": null,
            "_model_module_version": "1.2.0",
            "_view_count": null,
            "flex_flow": null,
            "width": null,
            "min_width": null,
            "border": null,
            "align_items": null,
            "bottom": null,
            "_model_module": "@jupyter-widgets/base",
            "top": null,
            "grid_column": null,
            "overflow_y": null,
            "overflow_x": null,
            "grid_auto_flow": null,
            "grid_area": null,
            "grid_template_columns": null,
            "flex": null,
            "_model_name": "LayoutModel",
            "justify_items": null,
            "grid_row": null,
            "max_height": null,
            "align_content": null,
            "visibility": null,
            "align_self": null,
            "height": null,
            "min_height": null,
            "padding": null,
            "grid_auto_rows": null,
            "grid_gap": null,
            "max_width": null,
            "order": null,
            "_view_module_version": "1.2.0",
            "grid_template_areas": null,
            "object_position": null,
            "object_fit": null,
            "grid_auto_columns": null,
            "margin": null,
            "display": null,
            "left": null
          }
        },
        "78fed43421f24201bca1d53afd9290a7": {
          "model_module": "@jupyter-widgets/controls",
          "model_name": "DescriptionStyleModel",
          "state": {
            "_view_name": "StyleView",
            "_model_name": "DescriptionStyleModel",
            "description_width": "",
            "_view_module": "@jupyter-widgets/base",
            "_model_module_version": "1.5.0",
            "_view_count": null,
            "_view_module_version": "1.2.0",
            "_model_module": "@jupyter-widgets/controls"
          }
        },
        "a126dbd9c20a406780f7c5bf8337cce2": {
          "model_module": "@jupyter-widgets/base",
          "model_name": "LayoutModel",
          "state": {
            "_view_name": "LayoutView",
            "grid_template_rows": null,
            "right": null,
            "justify_content": null,
            "_view_module": "@jupyter-widgets/base",
            "overflow": null,
            "_model_module_version": "1.2.0",
            "_view_count": null,
            "flex_flow": null,
            "width": null,
            "min_width": null,
            "border": null,
            "align_items": null,
            "bottom": null,
            "_model_module": "@jupyter-widgets/base",
            "top": null,
            "grid_column": null,
            "overflow_y": null,
            "overflow_x": null,
            "grid_auto_flow": null,
            "grid_area": null,
            "grid_template_columns": null,
            "flex": null,
            "_model_name": "LayoutModel",
            "justify_items": null,
            "grid_row": null,
            "max_height": null,
            "align_content": null,
            "visibility": null,
            "align_self": null,
            "height": null,
            "min_height": null,
            "padding": null,
            "grid_auto_rows": null,
            "grid_gap": null,
            "max_width": null,
            "order": null,
            "_view_module_version": "1.2.0",
            "grid_template_areas": null,
            "object_position": null,
            "object_fit": null,
            "grid_auto_columns": null,
            "margin": null,
            "display": null,
            "left": null
          }
        },
        "7be9caed054449f48e34bfd1f139abb3": {
          "model_module": "@jupyter-widgets/controls",
          "model_name": "HBoxModel",
          "state": {
            "_view_name": "HBoxView",
            "_dom_classes": [],
            "_model_name": "HBoxModel",
            "_view_module": "@jupyter-widgets/controls",
            "_model_module_version": "1.5.0",
            "_view_count": null,
            "_view_module_version": "1.5.0",
            "box_style": "",
            "layout": "IPY_MODEL_bfbee634622245c5bcb8a79b56700f1c",
            "_model_module": "@jupyter-widgets/controls",
            "children": [
              "IPY_MODEL_3410cd632f1b48dd88855c807b4d873f",
              "IPY_MODEL_3f50d3c198ba4d9eb4354803f9325685"
            ]
          }
        },
        "bfbee634622245c5bcb8a79b56700f1c": {
          "model_module": "@jupyter-widgets/base",
          "model_name": "LayoutModel",
          "state": {
            "_view_name": "LayoutView",
            "grid_template_rows": null,
            "right": null,
            "justify_content": null,
            "_view_module": "@jupyter-widgets/base",
            "overflow": null,
            "_model_module_version": "1.2.0",
            "_view_count": null,
            "flex_flow": null,
            "width": null,
            "min_width": null,
            "border": null,
            "align_items": null,
            "bottom": null,
            "_model_module": "@jupyter-widgets/base",
            "top": null,
            "grid_column": null,
            "overflow_y": null,
            "overflow_x": null,
            "grid_auto_flow": null,
            "grid_area": null,
            "grid_template_columns": null,
            "flex": null,
            "_model_name": "LayoutModel",
            "justify_items": null,
            "grid_row": null,
            "max_height": null,
            "align_content": null,
            "visibility": null,
            "align_self": null,
            "height": null,
            "min_height": null,
            "padding": null,
            "grid_auto_rows": null,
            "grid_gap": null,
            "max_width": null,
            "order": null,
            "_view_module_version": "1.2.0",
            "grid_template_areas": null,
            "object_position": null,
            "object_fit": null,
            "grid_auto_columns": null,
            "margin": null,
            "display": null,
            "left": null
          }
        },
        "3410cd632f1b48dd88855c807b4d873f": {
          "model_module": "@jupyter-widgets/controls",
          "model_name": "FloatProgressModel",
          "state": {
            "_view_name": "ProgressView",
            "style": "IPY_MODEL_154cea897eef4dcba479395f3c5c89b2",
            "_dom_classes": [],
            "description": "Downloading: 100%",
            "_model_name": "FloatProgressModel",
            "bar_style": "success",
            "max": 433,
            "_view_module": "@jupyter-widgets/controls",
            "_model_module_version": "1.5.0",
            "value": 433,
            "_view_count": null,
            "_view_module_version": "1.5.0",
            "orientation": "horizontal",
            "min": 0,
            "description_tooltip": null,
            "_model_module": "@jupyter-widgets/controls",
            "layout": "IPY_MODEL_c3f1027f97854af085144858c3e620a2"
          }
        },
        "3f50d3c198ba4d9eb4354803f9325685": {
          "model_module": "@jupyter-widgets/controls",
          "model_name": "HTMLModel",
          "state": {
            "_view_name": "HTMLView",
            "style": "IPY_MODEL_557beefce5b546bb9b582292bd155774",
            "_dom_classes": [],
            "description": "",
            "_model_name": "HTMLModel",
            "placeholder": "​",
            "_view_module": "@jupyter-widgets/controls",
            "_model_module_version": "1.5.0",
            "value": " 433/433 [00:06&lt;00:00, 69.9B/s]",
            "_view_count": null,
            "_view_module_version": "1.5.0",
            "description_tooltip": null,
            "_model_module": "@jupyter-widgets/controls",
            "layout": "IPY_MODEL_7c4712f3eecf46db80a303e4bf283cf4"
          }
        },
        "154cea897eef4dcba479395f3c5c89b2": {
          "model_module": "@jupyter-widgets/controls",
          "model_name": "ProgressStyleModel",
          "state": {
            "_view_name": "StyleView",
            "_model_name": "ProgressStyleModel",
            "description_width": "initial",
            "_view_module": "@jupyter-widgets/base",
            "_model_module_version": "1.5.0",
            "_view_count": null,
            "_view_module_version": "1.2.0",
            "bar_color": null,
            "_model_module": "@jupyter-widgets/controls"
          }
        },
        "c3f1027f97854af085144858c3e620a2": {
          "model_module": "@jupyter-widgets/base",
          "model_name": "LayoutModel",
          "state": {
            "_view_name": "LayoutView",
            "grid_template_rows": null,
            "right": null,
            "justify_content": null,
            "_view_module": "@jupyter-widgets/base",
            "overflow": null,
            "_model_module_version": "1.2.0",
            "_view_count": null,
            "flex_flow": null,
            "width": null,
            "min_width": null,
            "border": null,
            "align_items": null,
            "bottom": null,
            "_model_module": "@jupyter-widgets/base",
            "top": null,
            "grid_column": null,
            "overflow_y": null,
            "overflow_x": null,
            "grid_auto_flow": null,
            "grid_area": null,
            "grid_template_columns": null,
            "flex": null,
            "_model_name": "LayoutModel",
            "justify_items": null,
            "grid_row": null,
            "max_height": null,
            "align_content": null,
            "visibility": null,
            "align_self": null,
            "height": null,
            "min_height": null,
            "padding": null,
            "grid_auto_rows": null,
            "grid_gap": null,
            "max_width": null,
            "order": null,
            "_view_module_version": "1.2.0",
            "grid_template_areas": null,
            "object_position": null,
            "object_fit": null,
            "grid_auto_columns": null,
            "margin": null,
            "display": null,
            "left": null
          }
        },
        "557beefce5b546bb9b582292bd155774": {
          "model_module": "@jupyter-widgets/controls",
          "model_name": "DescriptionStyleModel",
          "state": {
            "_view_name": "StyleView",
            "_model_name": "DescriptionStyleModel",
            "description_width": "",
            "_view_module": "@jupyter-widgets/base",
            "_model_module_version": "1.5.0",
            "_view_count": null,
            "_view_module_version": "1.2.0",
            "_model_module": "@jupyter-widgets/controls"
          }
        },
        "7c4712f3eecf46db80a303e4bf283cf4": {
          "model_module": "@jupyter-widgets/base",
          "model_name": "LayoutModel",
          "state": {
            "_view_name": "LayoutView",
            "grid_template_rows": null,
            "right": null,
            "justify_content": null,
            "_view_module": "@jupyter-widgets/base",
            "overflow": null,
            "_model_module_version": "1.2.0",
            "_view_count": null,
            "flex_flow": null,
            "width": null,
            "min_width": null,
            "border": null,
            "align_items": null,
            "bottom": null,
            "_model_module": "@jupyter-widgets/base",
            "top": null,
            "grid_column": null,
            "overflow_y": null,
            "overflow_x": null,
            "grid_auto_flow": null,
            "grid_area": null,
            "grid_template_columns": null,
            "flex": null,
            "_model_name": "LayoutModel",
            "justify_items": null,
            "grid_row": null,
            "max_height": null,
            "align_content": null,
            "visibility": null,
            "align_self": null,
            "height": null,
            "min_height": null,
            "padding": null,
            "grid_auto_rows": null,
            "grid_gap": null,
            "max_width": null,
            "order": null,
            "_view_module_version": "1.2.0",
            "grid_template_areas": null,
            "object_position": null,
            "object_fit": null,
            "grid_auto_columns": null,
            "margin": null,
            "display": null,
            "left": null
          }
        },
        "914139aa1d554a7d85ec9800fa0bea79": {
          "model_module": "@jupyter-widgets/controls",
          "model_name": "HBoxModel",
          "state": {
            "_view_name": "HBoxView",
            "_dom_classes": [],
            "_model_name": "HBoxModel",
            "_view_module": "@jupyter-widgets/controls",
            "_model_module_version": "1.5.0",
            "_view_count": null,
            "_view_module_version": "1.5.0",
            "box_style": "",
            "layout": "IPY_MODEL_207b640bc43e493eb4fbc215a090fe24",
            "_model_module": "@jupyter-widgets/controls",
            "children": [
              "IPY_MODEL_b647055710c048348c1a1e1712f1f41c",
              "IPY_MODEL_fada4a2afc9144de8bbc0a735b0312a1"
            ]
          }
        },
        "207b640bc43e493eb4fbc215a090fe24": {
          "model_module": "@jupyter-widgets/base",
          "model_name": "LayoutModel",
          "state": {
            "_view_name": "LayoutView",
            "grid_template_rows": null,
            "right": null,
            "justify_content": null,
            "_view_module": "@jupyter-widgets/base",
            "overflow": null,
            "_model_module_version": "1.2.0",
            "_view_count": null,
            "flex_flow": null,
            "width": null,
            "min_width": null,
            "border": null,
            "align_items": null,
            "bottom": null,
            "_model_module": "@jupyter-widgets/base",
            "top": null,
            "grid_column": null,
            "overflow_y": null,
            "overflow_x": null,
            "grid_auto_flow": null,
            "grid_area": null,
            "grid_template_columns": null,
            "flex": null,
            "_model_name": "LayoutModel",
            "justify_items": null,
            "grid_row": null,
            "max_height": null,
            "align_content": null,
            "visibility": null,
            "align_self": null,
            "height": null,
            "min_height": null,
            "padding": null,
            "grid_auto_rows": null,
            "grid_gap": null,
            "max_width": null,
            "order": null,
            "_view_module_version": "1.2.0",
            "grid_template_areas": null,
            "object_position": null,
            "object_fit": null,
            "grid_auto_columns": null,
            "margin": null,
            "display": null,
            "left": null
          }
        },
        "b647055710c048348c1a1e1712f1f41c": {
          "model_module": "@jupyter-widgets/controls",
          "model_name": "FloatProgressModel",
          "state": {
            "_view_name": "ProgressView",
            "style": "IPY_MODEL_1c8db2c173c04707a244b81bd2da5404",
            "_dom_classes": [],
            "description": "Downloading: 100%",
            "_model_name": "FloatProgressModel",
            "bar_style": "success",
            "max": 440473133,
            "_view_module": "@jupyter-widgets/controls",
            "_model_module_version": "1.5.0",
            "value": 440473133,
            "_view_count": null,
            "_view_module_version": "1.5.0",
            "orientation": "horizontal",
            "min": 0,
            "description_tooltip": null,
            "_model_module": "@jupyter-widgets/controls",
            "layout": "IPY_MODEL_f2cca2c4efa440d89df5b408d0f07e66"
          }
        },
        "fada4a2afc9144de8bbc0a735b0312a1": {
          "model_module": "@jupyter-widgets/controls",
          "model_name": "HTMLModel",
          "state": {
            "_view_name": "HTMLView",
            "style": "IPY_MODEL_f0b8de36fd6049ebb31dbc9d6c344724",
            "_dom_classes": [],
            "description": "",
            "_model_name": "HTMLModel",
            "placeholder": "​",
            "_view_module": "@jupyter-widgets/controls",
            "_model_module_version": "1.5.0",
            "value": " 440M/440M [00:05&lt;00:00, 74.5MB/s]",
            "_view_count": null,
            "_view_module_version": "1.5.0",
            "description_tooltip": null,
            "_model_module": "@jupyter-widgets/controls",
            "layout": "IPY_MODEL_6a122f01eaa6451d99c6711e187747b9"
          }
        },
        "1c8db2c173c04707a244b81bd2da5404": {
          "model_module": "@jupyter-widgets/controls",
          "model_name": "ProgressStyleModel",
          "state": {
            "_view_name": "StyleView",
            "_model_name": "ProgressStyleModel",
            "description_width": "initial",
            "_view_module": "@jupyter-widgets/base",
            "_model_module_version": "1.5.0",
            "_view_count": null,
            "_view_module_version": "1.2.0",
            "bar_color": null,
            "_model_module": "@jupyter-widgets/controls"
          }
        },
        "f2cca2c4efa440d89df5b408d0f07e66": {
          "model_module": "@jupyter-widgets/base",
          "model_name": "LayoutModel",
          "state": {
            "_view_name": "LayoutView",
            "grid_template_rows": null,
            "right": null,
            "justify_content": null,
            "_view_module": "@jupyter-widgets/base",
            "overflow": null,
            "_model_module_version": "1.2.0",
            "_view_count": null,
            "flex_flow": null,
            "width": null,
            "min_width": null,
            "border": null,
            "align_items": null,
            "bottom": null,
            "_model_module": "@jupyter-widgets/base",
            "top": null,
            "grid_column": null,
            "overflow_y": null,
            "overflow_x": null,
            "grid_auto_flow": null,
            "grid_area": null,
            "grid_template_columns": null,
            "flex": null,
            "_model_name": "LayoutModel",
            "justify_items": null,
            "grid_row": null,
            "max_height": null,
            "align_content": null,
            "visibility": null,
            "align_self": null,
            "height": null,
            "min_height": null,
            "padding": null,
            "grid_auto_rows": null,
            "grid_gap": null,
            "max_width": null,
            "order": null,
            "_view_module_version": "1.2.0",
            "grid_template_areas": null,
            "object_position": null,
            "object_fit": null,
            "grid_auto_columns": null,
            "margin": null,
            "display": null,
            "left": null
          }
        },
        "f0b8de36fd6049ebb31dbc9d6c344724": {
          "model_module": "@jupyter-widgets/controls",
          "model_name": "DescriptionStyleModel",
          "state": {
            "_view_name": "StyleView",
            "_model_name": "DescriptionStyleModel",
            "description_width": "",
            "_view_module": "@jupyter-widgets/base",
            "_model_module_version": "1.5.0",
            "_view_count": null,
            "_view_module_version": "1.2.0",
            "_model_module": "@jupyter-widgets/controls"
          }
        },
        "6a122f01eaa6451d99c6711e187747b9": {
          "model_module": "@jupyter-widgets/base",
          "model_name": "LayoutModel",
          "state": {
            "_view_name": "LayoutView",
            "grid_template_rows": null,
            "right": null,
            "justify_content": null,
            "_view_module": "@jupyter-widgets/base",
            "overflow": null,
            "_model_module_version": "1.2.0",
            "_view_count": null,
            "flex_flow": null,
            "width": null,
            "min_width": null,
            "border": null,
            "align_items": null,
            "bottom": null,
            "_model_module": "@jupyter-widgets/base",
            "top": null,
            "grid_column": null,
            "overflow_y": null,
            "overflow_x": null,
            "grid_auto_flow": null,
            "grid_area": null,
            "grid_template_columns": null,
            "flex": null,
            "_model_name": "LayoutModel",
            "justify_items": null,
            "grid_row": null,
            "max_height": null,
            "align_content": null,
            "visibility": null,
            "align_self": null,
            "height": null,
            "min_height": null,
            "padding": null,
            "grid_auto_rows": null,
            "grid_gap": null,
            "max_width": null,
            "order": null,
            "_view_module_version": "1.2.0",
            "grid_template_areas": null,
            "object_position": null,
            "object_fit": null,
            "grid_auto_columns": null,
            "margin": null,
            "display": null,
            "left": null
          }
        }
      }
    }
  },
  "cells": [
    {
      "cell_type": "code",
      "metadata": {
        "id": "D4jXbHljcE9d",
        "outputId": "ffece7d2-3984-4b99-84da-438b03e99c7a",
        "colab": {
          "base_uri": "https://localhost:8080/",
          "height": 52
        }
      },
      "source": [
        "from google.colab import drive\n",
        "drive.mount('/content/drive')\n",
        "%cd drive/My Drive/SDG/project/sdg-codebase/Third_exp"
      ],
      "execution_count": 1,
      "outputs": [
        {
          "output_type": "stream",
          "text": [
            "Drive already mounted at /content/drive; to attempt to forcibly remount, call drive.mount(\"/content/drive\", force_remount=True).\n",
            "/content/drive/My Drive/SDG/project/sdg-codebase/Third_exp\n"
          ],
          "name": "stdout"
        }
      ]
    },
    {
      "cell_type": "code",
      "metadata": {
        "id": "d_tEzreXN3x4",
        "outputId": "e49793d6-0365-476c-bf5a-e29fdebba08e",
        "colab": {
          "base_uri": "https://localhost:8080/",
          "height": 104
        }
      },
      "source": [
        "ls"
      ],
      "execution_count": 2,
      "outputs": [
        {
          "output_type": "stream",
          "text": [
            "SDG_5Ps_down_sample_rainmakig_impact.ipynb\n",
            "SDG_5Ps_eval_on_rain_manual.ipynb\n",
            "SDG_5Ps_experiment_rainmakig_impact.ipynb\n",
            "SDG_5Ps_experiment_rainmakig_impact_view.ipynb\n",
            "Train_on_all_data.ipynb\n"
          ],
          "name": "stdout"
        }
      ]
    },
    {
      "cell_type": "code",
      "metadata": {
        "id": "onmtFr0YN5LA",
        "outputId": "c3694ca8-7571-4ba0-dd02-0ab06a16d4ac",
        "colab": {
          "base_uri": "https://localhost:8080/",
          "height": 35
        }
      },
      "source": [
        "# !cp 'Train_on_all_data.ipynb' 'SDG_5Ps_experiment_rainmakig_impact_view.ipynb'"
      ],
      "execution_count": null,
      "outputs": [
        {
          "output_type": "stream",
          "text": [
            "cp: cannot stat 'Train_on_all_data.ipynb': No such file or directory\n"
          ],
          "name": "stdout"
        }
      ]
    },
    {
      "cell_type": "markdown",
      "metadata": {
        "id": "AcOTLitJhvAy"
      },
      "source": [
        "# Loading data"
      ]
    },
    {
      "cell_type": "code",
      "metadata": {
        "id": "OME6hHN_fF6T",
        "outputId": "e4258654-401b-4140-8c99-b3fd5e7fcb0f",
        "colab": {
          "base_uri": "https://localhost:8080/",
          "height": 0
        }
      },
      "source": [
        "import pandas as pd\n",
        "!pip install transformers\n",
        "from transformers import BertTokenizer, BertModel, BertForMaskedLM\n",
        "from transformers import AdamW\n",
        "import torch\n",
        "import matplotlib.pyplot as plt\n",
        "from sklearn.model_selection import train_test_split\n",
        "from sklearn.metrics import confusion_matrix, accuracy_score"
      ],
      "execution_count": 2,
      "outputs": [
        {
          "output_type": "stream",
          "text": [
            "Requirement already satisfied: transformers in /usr/local/lib/python3.6/dist-packages (3.3.1)\n",
            "Requirement already satisfied: tqdm>=4.27 in /usr/local/lib/python3.6/dist-packages (from transformers) (4.41.1)\n",
            "Requirement already satisfied: regex!=2019.12.17 in /usr/local/lib/python3.6/dist-packages (from transformers) (2019.12.20)\n",
            "Requirement already satisfied: packaging in /usr/local/lib/python3.6/dist-packages (from transformers) (20.4)\n",
            "Requirement already satisfied: requests in /usr/local/lib/python3.6/dist-packages (from transformers) (2.23.0)\n",
            "Requirement already satisfied: sacremoses in /usr/local/lib/python3.6/dist-packages (from transformers) (0.0.43)\n",
            "Requirement already satisfied: sentencepiece!=0.1.92 in /usr/local/lib/python3.6/dist-packages (from transformers) (0.1.91)\n",
            "Requirement already satisfied: dataclasses; python_version < \"3.7\" in /usr/local/lib/python3.6/dist-packages (from transformers) (0.7)\n",
            "Requirement already satisfied: tokenizers==0.8.1.rc2 in /usr/local/lib/python3.6/dist-packages (from transformers) (0.8.1rc2)\n",
            "Requirement already satisfied: numpy in /usr/local/lib/python3.6/dist-packages (from transformers) (1.18.5)\n",
            "Requirement already satisfied: filelock in /usr/local/lib/python3.6/dist-packages (from transformers) (3.0.12)\n",
            "Requirement already satisfied: six in /usr/local/lib/python3.6/dist-packages (from packaging->transformers) (1.15.0)\n",
            "Requirement already satisfied: pyparsing>=2.0.2 in /usr/local/lib/python3.6/dist-packages (from packaging->transformers) (2.4.7)\n",
            "Requirement already satisfied: idna<3,>=2.5 in /usr/local/lib/python3.6/dist-packages (from requests->transformers) (2.10)\n",
            "Requirement already satisfied: chardet<4,>=3.0.2 in /usr/local/lib/python3.6/dist-packages (from requests->transformers) (3.0.4)\n",
            "Requirement already satisfied: certifi>=2017.4.17 in /usr/local/lib/python3.6/dist-packages (from requests->transformers) (2020.6.20)\n",
            "Requirement already satisfied: urllib3!=1.25.0,!=1.25.1,<1.26,>=1.21.1 in /usr/local/lib/python3.6/dist-packages (from requests->transformers) (1.24.3)\n",
            "Requirement already satisfied: click in /usr/local/lib/python3.6/dist-packages (from sacremoses->transformers) (7.1.2)\n",
            "Requirement already satisfied: joblib in /usr/local/lib/python3.6/dist-packages (from sacremoses->transformers) (0.16.0)\n"
          ],
          "name": "stdout"
        }
      ]
    },
    {
      "cell_type": "code",
      "metadata": {
        "id": "8D5Ya4sH-s_r",
        "outputId": "15b4b334-9a95-4594-a3ef-42f90bcb5d62",
        "colab": {
          "base_uri": "https://localhost:8080/",
          "height": 0
        }
      },
      "source": [
        "def read_data():\n",
        "  return pd.read_csv(\"../data/SDG_5Ps_rainmaking_impact_others_1_label.csv\")\n",
        "\n",
        "data = read_data()\n",
        "data.shape"
      ],
      "execution_count": 3,
      "outputs": [
        {
          "output_type": "execute_result",
          "data": {
            "text/plain": [
              "(2463, 12)"
            ]
          },
          "metadata": {
            "tags": []
          },
          "execution_count": 3
        }
      ]
    },
    {
      "cell_type": "code",
      "metadata": {
        "id": "HdSGCewd-69t",
        "outputId": "9b9bbd2d-3a36-4994-e1ed-53a882ef07de",
        "colab": {
          "base_uri": "https://localhost:8080/",
          "height": 0
        }
      },
      "source": [
        "data.head()"
      ],
      "execution_count": 4,
      "outputs": [
        {
          "output_type": "execute_result",
          "data": {
            "text/html": [
              "<div>\n",
              "<style scoped>\n",
              "    .dataframe tbody tr th:only-of-type {\n",
              "        vertical-align: middle;\n",
              "    }\n",
              "\n",
              "    .dataframe tbody tr th {\n",
              "        vertical-align: top;\n",
              "    }\n",
              "\n",
              "    .dataframe thead th {\n",
              "        text-align: right;\n",
              "    }\n",
              "</style>\n",
              "<table border=\"1\" class=\"dataframe\">\n",
              "  <thead>\n",
              "    <tr style=\"text-align: right;\">\n",
              "      <th></th>\n",
              "      <th>Unnamed: 0</th>\n",
              "      <th>Unnamed: 0.1</th>\n",
              "      <th>Company</th>\n",
              "      <th>Website</th>\n",
              "      <th>Source</th>\n",
              "      <th>Description</th>\n",
              "      <th>Location</th>\n",
              "      <th>SDG Goal</th>\n",
              "      <th>five Ps</th>\n",
              "      <th>Rainmaking SDG Subtopic</th>\n",
              "      <th>Impact Statement</th>\n",
              "      <th>Location of Impact</th>\n",
              "    </tr>\n",
              "  </thead>\n",
              "  <tbody>\n",
              "    <tr>\n",
              "      <th>0</th>\n",
              "      <td>0</td>\n",
              "      <td>0</td>\n",
              "      <td>10Power</td>\n",
              "      <td>http://10pwr.com/</td>\n",
              "      <td>Rainmaking</td>\n",
              "      <td>10Power provides project development and finan...</td>\n",
              "      <td>USA</td>\n",
              "      <td>7</td>\n",
              "      <td>Prosperity</td>\n",
              "      <td>7.1 Energy Access Solutions</td>\n",
              "      <td>To provide project development and finance for...</td>\n",
              "      <td>United States of America</td>\n",
              "    </tr>\n",
              "    <tr>\n",
              "      <th>1</th>\n",
              "      <td>1</td>\n",
              "      <td>1</td>\n",
              "      <td>1Efficiency</td>\n",
              "      <td>1efficiency.com</td>\n",
              "      <td>Rainmaking</td>\n",
              "      <td>1Efficiency offers an integrated suite of cust...</td>\n",
              "      <td>USA</td>\n",
              "      <td>7</td>\n",
              "      <td>Prosperity</td>\n",
              "      <td>7.4 Energy Enablers</td>\n",
              "      <td>Energy management suite</td>\n",
              "      <td>United States of America</td>\n",
              "    </tr>\n",
              "    <tr>\n",
              "      <th>2</th>\n",
              "      <td>2</td>\n",
              "      <td>2</td>\n",
              "      <td>21CC Education</td>\n",
              "      <td>21cceducation.com</td>\n",
              "      <td>Rainmaking</td>\n",
              "      <td>21CC's offers courses for mid and higher level...</td>\n",
              "      <td>Netherlands</td>\n",
              "      <td>9</td>\n",
              "      <td>Prosperity</td>\n",
              "      <td>9.1 Innovative Logistics</td>\n",
              "      <td>21CC Recruitment &amp; Training - Careers &amp; Learni...</td>\n",
              "      <td>Netherlands/India/USA/Thailand</td>\n",
              "    </tr>\n",
              "    <tr>\n",
              "      <th>3</th>\n",
              "      <td>3</td>\n",
              "      <td>3</td>\n",
              "      <td>24SEA</td>\n",
              "      <td>24sea.eu</td>\n",
              "      <td>Rainmaking</td>\n",
              "      <td>24SEA provides a suite of solutions for monito...</td>\n",
              "      <td>Belgium</td>\n",
              "      <td>7</td>\n",
              "      <td>Prosperity</td>\n",
              "      <td>7.1 Energy Access Solutions</td>\n",
              "      <td>Offshore monitoring and engineering service pr...</td>\n",
              "      <td>Belgium</td>\n",
              "    </tr>\n",
              "    <tr>\n",
              "      <th>4</th>\n",
              "      <td>4</td>\n",
              "      <td>4</td>\n",
              "      <td>3B Ventures</td>\n",
              "      <td>https://3bvc.com</td>\n",
              "      <td>Rainmaking</td>\n",
              "      <td>3B Ventures is an early stage impact fund inve...</td>\n",
              "      <td>Malaysia</td>\n",
              "      <td>9</td>\n",
              "      <td>Prosperity</td>\n",
              "      <td>9.4 Data-based SME financing for developing ma...</td>\n",
              "      <td>Provider of AI consulting and data analytics s...</td>\n",
              "      <td>Denmark</td>\n",
              "    </tr>\n",
              "  </tbody>\n",
              "</table>\n",
              "</div>"
            ],
            "text/plain": [
              "   Unnamed: 0  ...              Location of Impact\n",
              "0           0  ...        United States of America\n",
              "1           1  ...        United States of America\n",
              "2           2  ...  Netherlands/India/USA/Thailand\n",
              "3           3  ...                         Belgium\n",
              "4           4  ...                         Denmark\n",
              "\n",
              "[5 rows x 12 columns]"
            ]
          },
          "metadata": {
            "tags": []
          },
          "execution_count": 4
        }
      ]
    },
    {
      "cell_type": "code",
      "metadata": {
        "id": "-iumGgwW7X7A",
        "outputId": "117042e1-6bab-4abc-b5d8-6f2cbce74ac5",
        "colab": {
          "base_uri": "https://localhost:8080/",
          "height": 0
        }
      },
      "source": [
        "data['SDG Goal'].value_counts()"
      ],
      "execution_count": 5,
      "outputs": [
        {
          "output_type": "execute_result",
          "data": {
            "text/plain": [
              "7     591\n",
              "2     365\n",
              "3     250\n",
              "1     219\n",
              "9     165\n",
              "12    148\n",
              "13    136\n",
              "4      98\n",
              "8      80\n",
              "16     78\n",
              "6      56\n",
              "11     55\n",
              "14     55\n",
              "10     51\n",
              "5      45\n",
              "15     37\n",
              "17     34\n",
              "Name: SDG Goal, dtype: int64"
            ]
          },
          "metadata": {
            "tags": []
          },
          "execution_count": 5
        }
      ]
    },
    {
      "cell_type": "code",
      "metadata": {
        "id": "0owuuKtz7dkO",
        "outputId": "8d394e3a-f6fd-42ba-be8b-de1864c86c14",
        "colab": {
          "base_uri": "https://localhost:8080/",
          "height": 0
        }
      },
      "source": [
        "data['five Ps'].value_counts()"
      ],
      "execution_count": 6,
      "outputs": [
        {
          "output_type": "execute_result",
          "data": {
            "text/plain": [
              "Prosperity      1090\n",
              "People          1033\n",
              "Planet           228\n",
              "Peace             78\n",
              "Partnerships      34\n",
              "Name: five Ps, dtype: int64"
            ]
          },
          "metadata": {
            "tags": []
          },
          "execution_count": 6
        }
      ]
    },
    {
      "cell_type": "code",
      "metadata": {
        "id": "MPDbc5ddGZ80",
        "outputId": "dc960f98-90d6-4c10-faa7-c5bb2821be4e",
        "colab": {
          "base_uri": "https://localhost:8080/",
          "height": 0
        }
      },
      "source": [
        "data['Location'].str.lower().value_counts()[:50]"
      ],
      "execution_count": 7,
      "outputs": [
        {
          "output_type": "execute_result",
          "data": {
            "text/plain": [
              "usa               467\n",
              "sweden            204\n",
              "denmark           166\n",
              "india             126\n",
              "norway            114\n",
              "united kingdom    111\n",
              "finland            73\n",
              "netherlands        63\n",
              "københavn          57\n",
              "kenya              48\n",
              "france             42\n",
              "germany            38\n",
              "canada             35\n",
              "spain              34\n",
              "australia          31\n",
              "helsinki           30\n",
              "israel             30\n",
              "south africa       29\n",
              "switzerland        25\n",
              "mexico             24\n",
              "austria            24\n",
              "china              20\n",
              "argentina          19\n",
              "chile              19\n",
              "singapore          19\n",
              "nigeria            16\n",
              "ireland            15\n",
              "italy              15\n",
              "helsingfors        13\n",
              "brazil             13\n",
              "ghana              13\n",
              "oslo               12\n",
              "colombia            9\n",
              "belgium             9\n",
              "indonesia           8\n",
              "stockholm           8\n",
              "peru                8\n",
              "uganda              8\n",
              "espoo               8\n",
              "thailand            7\n",
              "copenhagen          6\n",
              "guatemala           6\n",
              "frederiksberg       6\n",
              "oulu                6\n",
              "philippines         6\n",
              "malaysia            5\n",
              "nepal               5\n",
              "portugal            5\n",
              "odense              5\n",
              "cambodia            4\n",
              "Name: Location, dtype: int64"
            ]
          },
          "metadata": {
            "tags": []
          },
          "execution_count": 7
        }
      ]
    },
    {
      "cell_type": "markdown",
      "metadata": {
        "id": "lJkMVMhsH8Uc"
      },
      "source": [
        "# plot metrics"
      ]
    },
    {
      "cell_type": "code",
      "metadata": {
        "id": "jGZfgw8l86Xy"
      },
      "source": [
        "def plotAccPrecRecall(y_test, y_pred, predicted_prob, verbose=False):\n",
        "  accuracy = metrics.accuracy_score(y_test, y_pred)\n",
        "  auc = metrics.roc_auc_score(y_test, predicted_prob, multi_class=\"ovr\")\n",
        "  print(\"Accuracy:\",  round(accuracy,2))\n",
        "  if verbose:\n",
        "    print(\"Auc:\", round(auc,2))\n",
        "    print(\"Detail:\")\n",
        "    print(metrics.classification_report(y_test, y_pred))\n",
        "\n",
        "  return accuracy"
      ],
      "execution_count": 8,
      "outputs": []
    },
    {
      "cell_type": "code",
      "metadata": {
        "id": "4cGzkgf39VMB"
      },
      "source": [
        "def plotConfusionMatrix(y_test, y_pred, labels):\n",
        "  cm = metrics.confusion_matrix(y_test, y_pred, labels=labels)\n",
        "  fig, ax = plt.subplots()\n",
        "  sns.heatmap(cm, annot=True, fmt='d', ax=ax, cmap=plt.cm.Blues, \n",
        "              cbar=False)\n",
        "  ax.set(xlabel=\"Pred\", ylabel=\"True\", xticklabels=labels, \n",
        "        yticklabels=labels, title=\"Confusion matrix\")\n",
        "  plt.yticks(rotation=0)"
      ],
      "execution_count": 9,
      "outputs": []
    },
    {
      "cell_type": "code",
      "metadata": {
        "id": "Cj3Ax6ZC-aow"
      },
      "source": [
        "def plotRocPrecRecallCurve(y_test, predicted_prob, labels):\n",
        "  y_test_array = pd.get_dummies(y_test, drop_first=False).values\n",
        "  fig, ax = plt.subplots(nrows=1, ncols=2, figsize=(10,5))\n",
        "  ## Plot roc\n",
        "  for i in range(len(labels)):\n",
        "      fpr, tpr, thresholds = metrics.roc_curve(y_test_array[:,i],  \n",
        "                            predicted_prob[:,i])\n",
        "      ax[0].plot(fpr, tpr, lw=3,\n",
        "                label='{0} (area={1:0.2f})'.format(labels[i], \n",
        "                                metrics.auc(fpr, tpr),)\n",
        "                )\n",
        "  ax[0].plot([0,1], [0,1], color='navy', lw=3, linestyle='--')\n",
        "  ax[0].set(xlim=[-0.05,1.0], ylim=[0.0,1.05], \n",
        "            xlabel='False Positive Rate', \n",
        "            ylabel=\"True Positive Rate (Recall)\", \n",
        "            title=\"Receiver operating characteristic\")\n",
        "  ax[0].legend(loc=\"lower right\")\n",
        "  ax[0].grid(True)\n",
        "      \n",
        "  ## Plot precision-recall curve\n",
        "  for i in range(len(labels)):\n",
        "      precision, recall, thresholds = metrics.precision_recall_curve(\n",
        "                  y_test_array[:,i], predicted_prob[:,i])\n",
        "      ax[1].plot(recall, precision, lw=3, \n",
        "                label='{0} (area={1:0.2f})'.format(labels[i], \n",
        "                                    metrics.auc(recall, precision))\n",
        "                )\n",
        "  ax[1].set(xlim=[0.0,1.05], ylim=[0.0,1.05], xlabel='Recall', \n",
        "            ylabel=\"Precision\", title=\"Precision-Recall curve\")\n",
        "  ax[1].legend(loc=\"best\")\n",
        "  ax[1].grid(True)\n",
        "  plt.show()"
      ],
      "execution_count": 10,
      "outputs": []
    },
    {
      "cell_type": "code",
      "metadata": {
        "id": "LPmeEWfahUHD"
      },
      "source": [
        "def SDGToFivePs(x):\n",
        "  x = int(x.replace(\"_goal\",\"\"))\n",
        "  if x in range(0,7):\n",
        "    return 'People'\n",
        "  if x in range(13,16):\n",
        "    return 'Planet'\n",
        "  if x in range(7,13):\n",
        "    return 'Prosperity'\n",
        "  if x in range(16,17):\n",
        "    return 'Peace'\n",
        "  if x in range(17,18):\n",
        "    return 'Partnerships'\n",
        "  return None"
      ],
      "execution_count": 11,
      "outputs": []
    },
    {
      "cell_type": "markdown",
      "metadata": {
        "id": "jUjJUFRG4CQI"
      },
      "source": [
        "# Model"
      ]
    },
    {
      "cell_type": "code",
      "metadata": {
        "id": "Dq6pJwCVpoKQ"
      },
      "source": [
        "class SDGModel(torch.nn.Module):\n",
        "  def __init__(self, output_size):\n",
        "    super(SDGModel, self).__init__()\n",
        "    self.tokenizer = BertTokenizer.from_pretrained('bert-base-uncased')\n",
        "    self.bert = BertModel.from_pretrained('bert-base-uncased')\n",
        "#     for index, param in enumerate(self.bert.parameters()):\n",
        "#         print(index, param.shape)\n",
        "#         param.requires_grad = False\n",
        "    self.out1 = torch.nn.Linear(768, 400)\n",
        "    self.drop = torch.nn.Dropout(0.5)\n",
        "    self.out2 = torch.nn.Linear(400, output_size)\n",
        "\n",
        "  def forward(self, text):\n",
        "    tokenized_text = self.tokenizer.tokenize(\"[CLS] \" + text + \" [SEP]\")\n",
        "    indexed_tokens = self.tokenizer.convert_tokens_to_ids(tokenized_text)\n",
        "    tokens_tensor = torch.tensor([indexed_tokens]).cuda()\n",
        "    \n",
        "    if tokens_tensor.shape[1] > 500:\n",
        "      tokens_tensor = tokens_tensor[0][0:500].unsqueeze(0)\n",
        "    outputs = self.bert(tokens_tensor)[0]\n",
        "    o = torch.nn.ReLU()(self.out1(outputs[0][0]))\n",
        "    o = self.drop(o)\n",
        "    return self.out2(o)\n"
      ],
      "execution_count": 12,
      "outputs": []
    },
    {
      "cell_type": "code",
      "metadata": {
        "id": "PnTS_DCFjPw7"
      },
      "source": [
        "from sklearn import metrics\n",
        "import seaborn as sns\n",
        "import numpy as np\n",
        "\n",
        "def evaluate_mode(X_test, model, verbose=True):\n",
        "\n",
        "  model.eval()\n",
        "  errors = []\n",
        "\n",
        "  #eval\n",
        "  with torch.no_grad():\n",
        "      y_pred = []\n",
        "      predicted_prob = []\n",
        "      y_test = X_test[\"Target\"]\n",
        "      for index, instance in X_test.iterrows():\n",
        "          out = model(instance[\"Description\"].lower())\n",
        "          norm = abs(min(out))+out\n",
        "          probs = [x/sum(norm).item() for x in norm.tolist()]\n",
        "          predicted_prob.append(probs)\n",
        "          y_pred.append(labels[torch.argmax(out).item()])\n",
        "          # collect companies with errors\n",
        "          if instance['Target'] != labels[torch.argmax(out).item()]:\n",
        "            errors.append((instance['Company'], instance['Target'], labels[torch.argmax(out).item()]))\n",
        "      model.train()\n",
        "\n",
        "  predicted_prob = np.array(predicted_prob)\n",
        "\n",
        "  ## plot Accuracy, Precision, Recall\n",
        "  accuracy = plotAccPrecRecall(y_test, y_pred, predicted_prob, verbose)\n",
        "      \n",
        "  ## Plot confusion matrix\n",
        "  plotConfusionMatrix(y_test, y_pred, labels)\n",
        "\n",
        "  ## Plot roc, precision recall curve\n",
        "  if verbose:\n",
        "    plotRocPrecRecallCurve(y_test, predicted_prob, labels)\n",
        "\n",
        "  return errors, accuracy"
      ],
      "execution_count": 13,
      "outputs": []
    },
    {
      "cell_type": "code",
      "metadata": {
        "id": "BmuDMt7SD8VW"
      },
      "source": [
        "# def evaluate_mode(test_data, model):\n",
        "#     model.eval()\n",
        "#     errors = []\n",
        "#     with torch.no_grad():\n",
        "#         y_pred = []\n",
        "#         y_test = test_data[\"Target\"]\n",
        "#         for index, instance in test_data.iterrows():\n",
        "#             out = model(instance[\"Description\"].lower())\n",
        "#             y_pred.append(labels[torch.argmax(out).item()])\n",
        "#             # collect companies with errors\n",
        "#             if instance['Target'] != labels[torch.argmax(out).item()]:\n",
        "#               errors.append((instance['Company'], instance['Target'], labels[torch.argmax(out).item()]))\n",
        "#         model.train()\n",
        "#         return confusion_matrix(y_test, y_pred, labels=labels), accuracy_score(y_test, y_pred), errors\n"
      ],
      "execution_count": 14,
      "outputs": []
    },
    {
      "cell_type": "markdown",
      "metadata": {
        "id": "itkG7TYxN7kv"
      },
      "source": [
        "# All Goals"
      ]
    },
    {
      "cell_type": "markdown",
      "metadata": {
        "id": "pwwB0vMAN7ky"
      },
      "source": [
        "##Predict Five Ps "
      ]
    },
    {
      "cell_type": "code",
      "metadata": {
        "id": "ZKbwcCjpN7ky",
        "outputId": "c1deb135-c370-4c18-f8c9-499a9d38309e",
        "colab": {
          "base_uri": "https://localhost:8080/",
          "height": 35
        }
      },
      "source": [
        "data = read_data()\n",
        "data.shape"
      ],
      "execution_count": 15,
      "outputs": [
        {
          "output_type": "execute_result",
          "data": {
            "text/plain": [
              "(2463, 12)"
            ]
          },
          "metadata": {
            "tags": []
          },
          "execution_count": 15
        }
      ]
    },
    {
      "cell_type": "code",
      "metadata": {
        "id": "3djRsTT8N7k0",
        "outputId": "8001fcdf-6986-483d-c492-74cb391c8d1f",
        "colab": {
          "base_uri": "https://localhost:8080/",
          "height": 87
        }
      },
      "source": [
        "data['Target'] = data['five Ps']\n",
        "labels = list(data['Target'].value_counts().keys().values)\n",
        "X_train, X_test, y_train, y_test = train_test_split(data, data[\"Target\"], test_size=0.15, random_state=42)\n",
        "print(labels)\n",
        "print(len(X_train), len(y_train))\n",
        "print(len(X_test), len(y_test))\n",
        "print(X_train.index[0:5])"
      ],
      "execution_count": 16,
      "outputs": [
        {
          "output_type": "stream",
          "text": [
            "['Prosperity', 'People', 'Planet', 'Peace', 'Partnerships']\n",
            "2093 2093\n",
            "370 370\n",
            "Int64Index([157, 1395, 1983, 498, 765], dtype='int64')\n"
          ],
          "name": "stdout"
        }
      ]
    },
    {
      "cell_type": "code",
      "metadata": {
        "id": "AfdhMS4WgbFv",
        "outputId": "aafe1e97-b7b3-472f-b6ab-378102208e2b",
        "colab": {
          "base_uri": "https://localhost:8080/",
          "height": 121
        }
      },
      "source": [
        "X_train['Target'].value_counts()"
      ],
      "execution_count": 17,
      "outputs": [
        {
          "output_type": "execute_result",
          "data": {
            "text/plain": [
              "Prosperity      925\n",
              "People          884\n",
              "Planet          189\n",
              "Peace            64\n",
              "Partnerships     31\n",
              "Name: Target, dtype: int64"
            ]
          },
          "metadata": {
            "tags": []
          },
          "execution_count": 17
        }
      ]
    },
    {
      "cell_type": "code",
      "metadata": {
        "id": "q4wzcBtCN7k2",
        "outputId": "d9dd6844-479c-4e91-c2be-a69262a7118f",
        "colab": {
          "base_uri": "https://localhost:8080/",
          "height": 121
        }
      },
      "source": [
        "X_test['Target'].value_counts()"
      ],
      "execution_count": 18,
      "outputs": [
        {
          "output_type": "execute_result",
          "data": {
            "text/plain": [
              "Prosperity      165\n",
              "People          149\n",
              "Planet           39\n",
              "Peace            14\n",
              "Partnerships      3\n",
              "Name: Target, dtype: int64"
            ]
          },
          "metadata": {
            "tags": []
          },
          "execution_count": 18
        }
      ]
    },
    {
      "cell_type": "code",
      "metadata": {
        "id": "AvJ3DNTzN7k5",
        "outputId": "0b0492be-8e32-4b12-9267-e7c445c8f3b1",
        "colab": {
          "base_uri": "https://localhost:8080/",
          "height": 200,
          "referenced_widgets": [
            "0642efc997764b5999ec7add14941d84",
            "da8f32176c09476f944c6f8c8627e589",
            "214088575595428682cf20825f9d9f20",
            "d351c3d79b704e448a73724a520aa06d",
            "aff439c4e4764021a13507d08f494ce6",
            "e79eb350e914483382814d1208a8dc97",
            "78fed43421f24201bca1d53afd9290a7",
            "a126dbd9c20a406780f7c5bf8337cce2",
            "7be9caed054449f48e34bfd1f139abb3",
            "bfbee634622245c5bcb8a79b56700f1c",
            "3410cd632f1b48dd88855c807b4d873f",
            "3f50d3c198ba4d9eb4354803f9325685",
            "154cea897eef4dcba479395f3c5c89b2",
            "c3f1027f97854af085144858c3e620a2",
            "557beefce5b546bb9b582292bd155774",
            "7c4712f3eecf46db80a303e4bf283cf4",
            "914139aa1d554a7d85ec9800fa0bea79",
            "207b640bc43e493eb4fbc215a090fe24",
            "b647055710c048348c1a1e1712f1f41c",
            "fada4a2afc9144de8bbc0a735b0312a1",
            "1c8db2c173c04707a244b81bd2da5404",
            "f2cca2c4efa440d89df5b408d0f07e66",
            "f0b8de36fd6049ebb31dbc9d6c344724",
            "6a122f01eaa6451d99c6711e187747b9"
          ]
        }
      },
      "source": [
        "# # new model configuration\n",
        "\n",
        "# model = SDGModel(len(labels)).cuda()\n",
        "# optimizer = AdamW(model.parameters(), lr=1e-5)\n",
        "# losses = []\n",
        "# errors = []\n",
        "# epoch = 1\n",
        "# model(\"Hello World\")"
      ],
      "execution_count": 40,
      "outputs": [
        {
          "output_type": "display_data",
          "data": {
            "application/vnd.jupyter.widget-view+json": {
              "model_id": "0642efc997764b5999ec7add14941d84",
              "version_minor": 0,
              "version_major": 2
            },
            "text/plain": [
              "HBox(children=(FloatProgress(value=0.0, description='Downloading', max=231508.0, style=ProgressStyle(descripti…"
            ]
          },
          "metadata": {
            "tags": []
          }
        },
        {
          "output_type": "stream",
          "text": [
            "\n"
          ],
          "name": "stdout"
        },
        {
          "output_type": "display_data",
          "data": {
            "application/vnd.jupyter.widget-view+json": {
              "model_id": "7be9caed054449f48e34bfd1f139abb3",
              "version_minor": 0,
              "version_major": 2
            },
            "text/plain": [
              "HBox(children=(FloatProgress(value=0.0, description='Downloading', max=433.0, style=ProgressStyle(description_…"
            ]
          },
          "metadata": {
            "tags": []
          }
        },
        {
          "output_type": "stream",
          "text": [
            "\n"
          ],
          "name": "stdout"
        },
        {
          "output_type": "display_data",
          "data": {
            "application/vnd.jupyter.widget-view+json": {
              "model_id": "914139aa1d554a7d85ec9800fa0bea79",
              "version_minor": 0,
              "version_major": 2
            },
            "text/plain": [
              "HBox(children=(FloatProgress(value=0.0, description='Downloading', max=440473133.0, style=ProgressStyle(descri…"
            ]
          },
          "metadata": {
            "tags": []
          }
        },
        {
          "output_type": "stream",
          "text": [
            "\n"
          ],
          "name": "stdout"
        },
        {
          "output_type": "execute_result",
          "data": {
            "text/plain": [
              "tensor([-0.3025,  0.1722, -0.2402, -0.0559, -0.6200], device='cuda:0',\n",
              "       grad_fn=<AddBackward0>)"
            ]
          },
          "metadata": {
            "tags": []
          },
          "execution_count": 40
        }
      ]
    },
    {
      "cell_type": "code",
      "metadata": {
        "id": "Viy_Uy6cmM12"
      },
      "source": [
        "# load model from checkpoint\n",
        "\n",
        "device = torch.device(\"cuda\")\n",
        "model = SDGModel(len(labels))\n",
        "optimizer = AdamW(model.parameters(), lr=1e-5)\n",
        "\n",
        "checkpoint = torch.load(f\"../models/model_5Ps_checkpoint_{8}.tar\")\n",
        "model.load_state_dict(checkpoint['model_state_dict'])\n",
        "model.to(device)\n",
        "optimizer.load_state_dict(checkpoint['optimizer_state_dict'])\n",
        "epoch = checkpoint['epoch']+1\n",
        "losses = checkpoint['losses']\n",
        "errors = checkpoint['errors']\n",
        "\n",
        "# model.eval()\n",
        "# - or -\n",
        "model.train()"
      ],
      "execution_count": null,
      "outputs": []
    },
    {
      "cell_type": "code",
      "metadata": {
        "id": "vlVkAfttN7k-"
      },
      "source": [
        "criterion = torch.nn.CrossEntropyLoss()"
      ],
      "execution_count": 20,
      "outputs": []
    },
    {
      "cell_type": "code",
      "metadata": {
        "id": "SSmGxJgvN7lA",
        "outputId": "4bd69625-e43d-481c-b407-4499591e5840",
        "colab": {
          "base_uri": "https://localhost:8080/",
          "height": 1000
        }
      },
      "source": [
        "import time\n",
        "\n",
        "n_epochs = 3\n",
        "\n",
        "start_time = time.time()\n",
        "\n",
        "for e in range(epoch, epoch+n_epochs):\n",
        "  cnt = 0\n",
        "  current_loss = 0\n",
        "  epoc_loss = 0;\n",
        "  curr_data = X_train.sample(frac=1)\n",
        "  print(len(curr_data))\n",
        "  for index, instance in curr_data.iterrows():\n",
        "    cnt += 1\n",
        "    optimizer.zero_grad()\n",
        "    out = model(instance[\"Description\"].lower())\n",
        "    loss = criterion(out.view(1, -1), torch.LongTensor([labels.index(instance[\"Target\"])]).cuda())\n",
        "    epoc_loss += loss\n",
        "    loss.backward()\n",
        "    optimizer.step()\n",
        "    current_loss += loss.item()\n",
        "    if index % 30 == 0:\n",
        "      print(f\"Epoch={e}, index={index}, loss={current_loss/30}, counter={cnt}\")\n",
        "      print(f\"{instance['Target']} --> {labels[torch.argmax(out).item()]}\")\n",
        "      current_loss = 0\n",
        "  error = evaluate_mode(X_test, model, False)\n",
        "  print(error[0][:5])\n",
        "  print(f\"total loss={epoc_loss/len(curr_data)}\")\n",
        "  losses.append(epoc_loss/len(curr_data))\n",
        "  errors.append(error)\n",
        "  print(f\"TIME TILL NOW: avg={(time.time() - start_time)/60/e:.1f}, for {e} epochs - {(time.time() - start_time)/60:.1f} min\")"
      ],
      "execution_count": 21,
      "outputs": [
        {
          "output_type": "stream",
          "text": [
            "2093\n",
            "Epoch=9, index=1020, loss=0.0017921483852357293, counter=14\n",
            "People --> People\n",
            "Epoch=9, index=1140, loss=0.06525154413538985, counter=25\n",
            "People --> People\n",
            "Epoch=9, index=930, loss=0.0001649644710899641, counter=28\n",
            "People --> People\n",
            "Epoch=9, index=0, loss=0.38076826575997985, counter=91\n",
            "Prosperity --> Prosperity\n",
            "Epoch=9, index=540, loss=0.003007261256182877, counter=112\n",
            "People --> People\n",
            "Epoch=9, index=1290, loss=0.07496785275967947, counter=171\n",
            "People --> People\n",
            "Epoch=9, index=1260, loss=0.0008762364586194356, counter=172\n",
            "Prosperity --> Prosperity\n",
            "Epoch=9, index=1200, loss=0.03100476286102397, counter=204\n",
            "People --> People\n",
            "Epoch=9, index=510, loss=0.23815842187808206, counter=211\n",
            "Prosperity --> Prosperity\n",
            "Epoch=9, index=2370, loss=0.0030286729452200234, counter=221\n",
            "People --> People\n",
            "Epoch=9, index=1890, loss=0.16734331315237796, counter=284\n",
            "People --> People\n",
            "Epoch=9, index=1080, loss=0.04820933228378029, counter=298\n",
            "People --> People\n",
            "Epoch=9, index=960, loss=0.05582910616164251, counter=348\n",
            "Prosperity --> Prosperity\n",
            "Epoch=9, index=1320, loss=0.010904286746517755, counter=384\n",
            "People --> People\n",
            "Epoch=9, index=1680, loss=0.05832848061302987, counter=422\n",
            "Prosperity --> Prosperity\n",
            "Epoch=9, index=1500, loss=0.006883161414104204, counter=446\n",
            "People --> People\n",
            "Epoch=9, index=30, loss=0.0025664897946019965, counter=452\n",
            "People --> People\n",
            "Epoch=9, index=1830, loss=0.20325564997134885, counter=541\n",
            "People --> People\n",
            "Epoch=9, index=60, loss=0.00035298730557163557, counter=544\n",
            "People --> People\n",
            "Epoch=9, index=1590, loss=0.06391357379955782, counter=578\n",
            "Prosperity --> Prosperity\n",
            "Epoch=9, index=750, loss=0.04812649222682618, counter=635\n",
            "People --> People\n",
            "Epoch=9, index=840, loss=0.019915049550763796, counter=638\n",
            "People --> People\n",
            "Epoch=9, index=1950, loss=0.00333093554363586, counter=657\n",
            "People --> People\n",
            "Epoch=9, index=1860, loss=0.007126032556213128, counter=691\n",
            "People --> People\n",
            "Epoch=9, index=1380, loss=0.0137008769903332, counter=727\n",
            "People --> People\n",
            "Epoch=9, index=1470, loss=0.2781874160670365, counter=779\n",
            "Prosperity --> Prosperity\n",
            "Epoch=9, index=2460, loss=0.01791147890908178, counter=826\n",
            "Prosperity --> Prosperity\n",
            "Epoch=9, index=570, loss=0.0016003752204899987, counter=847\n",
            "People --> People\n",
            "Epoch=9, index=630, loss=0.008309497715284426, counter=865\n",
            "Prosperity --> Prosperity\n",
            "Epoch=9, index=1350, loss=0.004333411449139627, counter=884\n",
            "People --> People\n",
            "Epoch=9, index=2130, loss=0.000721355207497254, counter=889\n",
            "People --> People\n",
            "Epoch=9, index=90, loss=0.0418968045404957, counter=956\n",
            "Partnerships --> Partnerships\n",
            "Epoch=9, index=2280, loss=0.006587555043127699, counter=982\n",
            "Prosperity --> Prosperity\n",
            "Epoch=9, index=330, loss=0.1296129769606826, counter=1021\n",
            "Prosperity --> Prosperity\n",
            "Epoch=9, index=2160, loss=0.014477382438538673, counter=1041\n",
            "People --> People\n",
            "Epoch=9, index=720, loss=0.004704212800910075, counter=1050\n",
            "Prosperity --> Prosperity\n",
            "Epoch=9, index=1920, loss=0.0006797169732938831, counter=1060\n",
            "People --> People\n",
            "Epoch=9, index=2400, loss=0.05179393207654357, counter=1078\n",
            "Prosperity --> People\n",
            "Epoch=9, index=600, loss=0.0016774603476126988, counter=1080\n",
            "Prosperity --> Prosperity\n",
            "Epoch=9, index=1230, loss=0.0015489719342440366, counter=1093\n",
            "Prosperity --> Prosperity\n",
            "Epoch=9, index=900, loss=0.037273877773744364, counter=1131\n",
            "Prosperity --> Prosperity\n",
            "Epoch=9, index=690, loss=0.1518874757697631, counter=1182\n",
            "People --> People\n",
            "Epoch=9, index=990, loss=0.04292451833413603, counter=1232\n",
            "People --> People\n",
            "Epoch=9, index=2010, loss=0.017126698702728996, counter=1283\n",
            "Prosperity --> Prosperity\n",
            "Epoch=9, index=360, loss=0.001316884843011697, counter=1285\n",
            "Planet --> Planet\n",
            "Epoch=9, index=780, loss=0.0038505164101176586, counter=1292\n",
            "Prosperity --> Prosperity\n",
            "Epoch=9, index=2070, loss=0.1762008851590508, counter=1332\n",
            "People --> People\n",
            "Epoch=9, index=1410, loss=0.03577696659049252, counter=1377\n",
            "Prosperity --> Prosperity\n",
            "Epoch=9, index=300, loss=0.15286636273328139, counter=1499\n",
            "Prosperity --> Prosperity\n",
            "Epoch=9, index=1650, loss=0.04148857119483485, counter=1538\n",
            "Prosperity --> Prosperity\n",
            "Epoch=9, index=2250, loss=0.006513976401765831, counter=1567\n",
            "Peace --> Peace\n",
            "Epoch=9, index=150, loss=0.12223830571262322, counter=1591\n",
            "People --> People\n",
            "Epoch=9, index=1710, loss=3.764069212290148e-05, counter=1593\n",
            "People --> People\n",
            "Epoch=9, index=660, loss=0.053421752641831216, counter=1608\n",
            "Prosperity --> Prosperity\n",
            "Epoch=9, index=2040, loss=0.007811748365444752, counter=1627\n",
            "Prosperity --> Prosperity\n",
            "Epoch=9, index=1620, loss=0.000344798398631004, counter=1634\n",
            "Prosperity --> Prosperity\n",
            "Epoch=9, index=1740, loss=0.20306664591723045, counter=1687\n",
            "People --> People\n",
            "Epoch=9, index=120, loss=0.05188672737082622, counter=1738\n",
            "Prosperity --> Prosperity\n",
            "Epoch=9, index=1170, loss=0.048376787576125936, counter=1769\n",
            "People --> People\n",
            "Epoch=9, index=270, loss=0.0005009414763965954, counter=1774\n",
            "People --> People\n",
            "Epoch=9, index=2340, loss=0.14029314065313278, counter=1880\n",
            "Prosperity --> Prosperity\n",
            "Epoch=9, index=1980, loss=0.0028277882704666507, counter=1902\n",
            "People --> People\n",
            "Epoch=9, index=1440, loss=0.0318883096818657, counter=1907\n",
            "Prosperity --> Prosperity\n",
            "Epoch=9, index=180, loss=0.257610773955336, counter=2022\n",
            "Prosperity --> Prosperity\n",
            "Epoch=9, index=2190, loss=0.0008667884544896272, counter=2031\n",
            "People --> People\n",
            "Epoch=9, index=870, loss=0.03663411856687162, counter=2056\n",
            "Prosperity --> Prosperity\n",
            "Epoch=9, index=390, loss=0.015937165959136714, counter=2074\n",
            "Peace --> Peace\n",
            "Accuracy: 0.79\n",
            "([('Parkkisähkö', 'Prosperity', 'Planet'), ('Rel8', 'Planet', 'Prosperity'), ('Nocofio', 'Prosperity', 'People'), ('Tempo', 'People', 'Prosperity'), ('Deedster', 'Prosperity', 'People')], 0.7945945945945946)\n",
            "total loss=0.056049250066280365\n",
            "TIME TILL NOW: avg=0.3, for 9 epochs - 2.7 min\n",
            "2093\n",
            "Epoch=10, index=1380, loss=0.023724959932345278, counter=4\n",
            "People --> People\n",
            "Epoch=10, index=1650, loss=0.32040111655854464, counter=46\n",
            "Prosperity --> Prosperity\n",
            "Epoch=10, index=720, loss=0.16995913831245466, counter=99\n",
            "Prosperity --> Prosperity\n",
            "Epoch=10, index=840, loss=0.06987062536451655, counter=124\n",
            "People --> Prosperity\n",
            "Epoch=10, index=900, loss=0.06226502997548475, counter=190\n",
            "Prosperity --> Prosperity\n",
            "Epoch=10, index=600, loss=0.00022365225207371015, counter=195\n",
            "Prosperity --> Prosperity\n",
            "Epoch=10, index=60, loss=0.01380373069938893, counter=220\n",
            "People --> People\n",
            "Epoch=10, index=1200, loss=0.031001225155826737, counter=276\n",
            "People --> People\n",
            "Epoch=10, index=510, loss=0.012985933681193274, counter=298\n",
            "Prosperity --> Prosperity\n",
            "Epoch=10, index=1590, loss=0.042766125568111116, counter=320\n",
            "Prosperity --> Prosperity\n",
            "Epoch=10, index=360, loss=0.2611271768254179, counter=527\n",
            "Planet --> Planet\n",
            "Epoch=10, index=2190, loss=0.0008627207096045216, counter=530\n",
            "People --> People\n",
            "Epoch=10, index=660, loss=0.05515630716060211, counter=580\n",
            "Prosperity --> Prosperity\n",
            "Epoch=10, index=2460, loss=0.08255979374953312, counter=639\n",
            "Prosperity --> Prosperity\n",
            "Epoch=10, index=2160, loss=0.0050336980159045195, counter=668\n",
            "People --> People\n",
            "Epoch=10, index=90, loss=0.1834335682571691, counter=732\n",
            "Partnerships --> Partnerships\n",
            "Epoch=10, index=1740, loss=0.1262005922830819, counter=765\n",
            "People --> People\n",
            "Epoch=10, index=870, loss=0.07208662862928274, counter=799\n",
            "Prosperity --> Prosperity\n",
            "Epoch=10, index=930, loss=0.020991789243998936, counter=848\n",
            "People --> People\n",
            "Epoch=10, index=2280, loss=0.004780998673231807, counter=871\n",
            "Prosperity --> Prosperity\n",
            "Epoch=10, index=270, loss=0.04731539840092106, counter=901\n",
            "People --> People\n",
            "Epoch=10, index=540, loss=0.007621166691630303, counter=956\n",
            "People --> People\n",
            "Epoch=10, index=1920, loss=0.03899795426550554, counter=993\n",
            "People --> People\n",
            "Epoch=10, index=120, loss=0.00048596295334088306, counter=1000\n",
            "Prosperity --> Prosperity\n",
            "Epoch=10, index=2070, loss=0.019238264027323263, counter=1009\n",
            "People --> People\n",
            "Epoch=10, index=1500, loss=0.0007479659621215736, counter=1014\n",
            "People --> People\n",
            "Epoch=10, index=1230, loss=0.16237572643488724, counter=1035\n",
            "Prosperity --> Prosperity\n",
            "Epoch=10, index=1290, loss=0.0007154286790561552, counter=1040\n",
            "People --> People\n",
            "Epoch=10, index=990, loss=0.11458525424629139, counter=1052\n",
            "People --> People\n",
            "Epoch=10, index=1410, loss=0.03570816560046903, counter=1068\n",
            "Prosperity --> Prosperity\n",
            "Epoch=10, index=2040, loss=0.20107456052064662, counter=1131\n",
            "Prosperity --> Prosperity\n",
            "Epoch=10, index=690, loss=0.22152129593208278, counter=1189\n",
            "People --> People\n",
            "Epoch=10, index=1440, loss=0.06952704321496034, counter=1203\n",
            "Prosperity --> Prosperity\n",
            "Epoch=10, index=1470, loss=0.04597216007920603, counter=1257\n",
            "Prosperity --> Prosperity\n",
            "Epoch=10, index=1170, loss=0.08855736595287453, counter=1318\n",
            "People --> People\n",
            "Epoch=10, index=180, loss=0.04197834447356096, counter=1336\n",
            "Prosperity --> Prosperity\n",
            "Epoch=10, index=570, loss=0.0022682069684378803, counter=1344\n",
            "People --> People\n",
            "Epoch=10, index=1710, loss=0.0019591028957317274, counter=1347\n",
            "People --> People\n",
            "Epoch=10, index=150, loss=0.0003135807637590915, counter=1349\n",
            "People --> People\n",
            "Epoch=10, index=30, loss=6.368034131204089e-05, counter=1350\n",
            "People --> People\n",
            "Epoch=10, index=1350, loss=0.021659280765258398, counter=1380\n",
            "People --> People\n",
            "Epoch=10, index=1320, loss=0.006668730639406325, counter=1400\n",
            "People --> People\n",
            "Epoch=10, index=1080, loss=0.006495740200140669, counter=1430\n",
            "People --> People\n",
            "Epoch=10, index=0, loss=0.0015344100296109293, counter=1438\n",
            "Prosperity --> Prosperity\n",
            "Epoch=10, index=1890, loss=0.0017312596707294385, counter=1444\n",
            "People --> People\n",
            "Epoch=10, index=1680, loss=0.005810351836650322, counter=1452\n",
            "Prosperity --> Prosperity\n",
            "Epoch=10, index=780, loss=0.05312462584576375, counter=1561\n",
            "Prosperity --> Prosperity\n",
            "Epoch=10, index=390, loss=0.03003392146153298, counter=1586\n",
            "Peace --> Peace\n",
            "Epoch=10, index=1830, loss=0.05775837262432712, counter=1637\n",
            "People --> People\n",
            "Epoch=10, index=1980, loss=0.004386774891463574, counter=1641\n",
            "People --> People\n",
            "Epoch=10, index=1620, loss=0.01182236814929638, counter=1651\n",
            "Prosperity --> Prosperity\n",
            "Epoch=10, index=2010, loss=0.02969978623635446, counter=1696\n",
            "Prosperity --> Prosperity\n",
            "Epoch=10, index=1860, loss=1.981852741058295e-05, counter=1699\n",
            "People --> People\n",
            "Epoch=10, index=2130, loss=0.0010981654486386105, counter=1707\n",
            "People --> People\n",
            "Epoch=10, index=1260, loss=0.0007464078769165402, counter=1722\n",
            "Prosperity --> Prosperity\n",
            "Epoch=10, index=330, loss=0.007157834553921324, counter=1753\n",
            "Prosperity --> Prosperity\n",
            "Epoch=10, index=750, loss=0.0006516183222023149, counter=1757\n",
            "People --> People\n",
            "Epoch=10, index=2340, loss=0.0006688090094636815, counter=1764\n",
            "Prosperity --> Prosperity\n",
            "Epoch=10, index=1140, loss=0.010124038341261136, counter=1829\n",
            "People --> People\n",
            "Epoch=10, index=300, loss=0.02007941169043382, counter=1847\n",
            "Prosperity --> Prosperity\n",
            "Epoch=10, index=2370, loss=0.14970091303002847, counter=1884\n",
            "People --> People\n",
            "Epoch=10, index=1020, loss=0.2567412510407545, counter=1979\n",
            "People --> People\n",
            "Epoch=10, index=2250, loss=0.17124407964001875, counter=1999\n",
            "Peace --> Peace\n",
            "Epoch=10, index=960, loss=0.013896903289181257, counter=2015\n",
            "Prosperity --> Prosperity\n",
            "Epoch=10, index=2400, loss=0.10842933305248152, counter=2048\n",
            "Prosperity --> People\n",
            "Epoch=10, index=1950, loss=0.0411173693316717, counter=2069\n",
            "People --> People\n",
            "Epoch=10, index=630, loss=0.00019901209161616863, counter=2074\n",
            "Prosperity --> Prosperity\n",
            "Accuracy: 0.81\n",
            "([('Parkkisähkö', 'Prosperity', 'Planet'), ('Rel8', 'Planet', 'Prosperity'), ('Nocofio', 'Prosperity', 'People'), ('Deedster', 'Prosperity', 'People'), ('Blue Water Metrics', 'Planet', 'People')], 0.8108108108108109)\n",
            "total loss=0.052706677466630936\n",
            "TIME TILL NOW: avg=0.5, for 10 epochs - 5.3 min\n",
            "2093\n",
            "Epoch=11, index=510, loss=0.0018366288917604835, counter=13\n",
            "Prosperity --> Prosperity\n",
            "Epoch=11, index=1380, loss=0.0012761525256792083, counter=28\n",
            "People --> People\n",
            "Epoch=11, index=570, loss=0.024694433165617133, counter=52\n",
            "People --> People\n",
            "Epoch=11, index=870, loss=0.03660131611322868, counter=78\n",
            "Prosperity --> Prosperity\n",
            "Epoch=11, index=360, loss=0.002034706933288059, counter=92\n",
            "Planet --> Planet\n",
            "Epoch=11, index=1440, loss=0.02977822298441121, counter=164\n",
            "Prosperity --> Prosperity\n",
            "Epoch=11, index=2040, loss=0.01693199495105849, counter=200\n",
            "Prosperity --> Prosperity\n",
            "Epoch=11, index=600, loss=0.026813648195093263, counter=226\n",
            "Prosperity --> Prosperity\n",
            "Epoch=11, index=1920, loss=0.03507361102383584, counter=246\n",
            "People --> People\n",
            "Epoch=11, index=300, loss=0.0005523519508036164, counter=254\n",
            "Prosperity --> Prosperity\n",
            "Epoch=11, index=1710, loss=0.056523859850130975, counter=279\n",
            "People --> People\n",
            "Epoch=11, index=2250, loss=0.0001771463236461083, counter=280\n",
            "Peace --> Peace\n",
            "Epoch=11, index=270, loss=0.006092121735612939, counter=313\n",
            "People --> People\n",
            "Epoch=11, index=390, loss=0.0038670879366691224, counter=332\n",
            "Peace --> Peace\n",
            "Epoch=11, index=60, loss=0.24488324397073788, counter=378\n",
            "People --> People\n",
            "Epoch=11, index=930, loss=0.10234734245265524, counter=412\n",
            "People --> People\n",
            "Epoch=11, index=2160, loss=0.04771362739702454, counter=434\n",
            "People --> People\n",
            "Epoch=11, index=180, loss=0.017484219517791645, counter=479\n",
            "Prosperity --> Prosperity\n",
            "Epoch=11, index=2010, loss=0.15063959646480118, counter=535\n",
            "Prosperity --> Prosperity\n",
            "Epoch=11, index=1170, loss=0.0035562519949356402, counter=558\n",
            "People --> People\n",
            "Epoch=11, index=1140, loss=0.00042184387226977077, counter=564\n",
            "People --> People\n",
            "Epoch=11, index=0, loss=8.438059521722607e-05, counter=567\n",
            "Prosperity --> Prosperity\n",
            "Epoch=11, index=990, loss=7.839054257298509e-05, counter=569\n",
            "People --> People\n",
            "Epoch=11, index=1080, loss=0.23236962668403674, counter=666\n",
            "People --> People\n",
            "Epoch=11, index=540, loss=0.04407452918142856, counter=691\n",
            "People --> People\n",
            "Epoch=11, index=1590, loss=0.019604209376848303, counter=749\n",
            "Prosperity --> Prosperity\n",
            "Epoch=11, index=2130, loss=0.000585894661101823, counter=752\n",
            "People --> People\n",
            "Epoch=11, index=30, loss=0.0807245591689328, counter=770\n",
            "People --> People\n",
            "Epoch=11, index=900, loss=0.0007505278241296765, counter=776\n",
            "Prosperity --> Prosperity\n",
            "Epoch=11, index=1500, loss=0.0018777365439746063, counter=790\n",
            "People --> People\n",
            "Epoch=11, index=1950, loss=0.010321640397887678, counter=849\n",
            "People --> People\n",
            "Epoch=11, index=2400, loss=0.3188729598327579, counter=947\n",
            "Prosperity --> People\n",
            "Epoch=11, index=1470, loss=0.2508957854898957, counter=968\n",
            "Prosperity --> Prosperity\n",
            "Epoch=11, index=1620, loss=0.34251171998451657, counter=1020\n",
            "Prosperity --> Prosperity\n",
            "Epoch=11, index=1890, loss=0.10334961040061899, counter=1049\n",
            "People --> People\n",
            "Epoch=11, index=1350, loss=0.01665894139635687, counter=1053\n",
            "People --> People\n",
            "Epoch=11, index=1260, loss=0.05886182746786896, counter=1097\n",
            "Prosperity --> Prosperity\n",
            "Epoch=11, index=780, loss=0.0004982284556414621, counter=1105\n",
            "Prosperity --> Prosperity\n",
            "Epoch=11, index=1980, loss=0.27035872028645824, counter=1148\n",
            "People --> People\n",
            "Epoch=11, index=2190, loss=0.06197840329114115, counter=1233\n",
            "People --> People\n",
            "Epoch=11, index=120, loss=0.19898889553636157, counter=1259\n",
            "Prosperity --> Prosperity\n",
            "Epoch=11, index=2280, loss=0.14233935761488586, counter=1297\n",
            "Prosperity --> People\n",
            "Epoch=11, index=2370, loss=0.04554377555468818, counter=1336\n",
            "People --> People\n",
            "Epoch=11, index=2070, loss=0.006108406555722467, counter=1346\n",
            "People --> People\n",
            "Epoch=11, index=2340, loss=0.00773643176847448, counter=1351\n",
            "Prosperity --> Prosperity\n",
            "Epoch=11, index=330, loss=0.027310027878168816, counter=1372\n",
            "Prosperity --> Prosperity\n",
            "Epoch=11, index=630, loss=0.0003013791865669191, counter=1379\n",
            "Prosperity --> Prosperity\n",
            "Epoch=11, index=1320, loss=0.08180241996815311, counter=1426\n",
            "People --> People\n",
            "Epoch=11, index=840, loss=0.03993056189889709, counter=1449\n",
            "People --> Prosperity\n",
            "Epoch=11, index=1830, loss=0.134444315872679, counter=1479\n",
            "People --> People\n",
            "Epoch=11, index=2460, loss=0.054799679593149145, counter=1555\n",
            "Prosperity --> Prosperity\n",
            "Epoch=11, index=1680, loss=0.0035539063799660655, counter=1588\n",
            "Prosperity --> Prosperity\n",
            "Epoch=11, index=750, loss=0.06646116334983769, counter=1623\n",
            "People --> People\n",
            "Epoch=11, index=1020, loss=0.04275826603649572, counter=1687\n",
            "People --> People\n",
            "Epoch=11, index=1740, loss=0.08046663830173202, counter=1698\n",
            "People --> People\n",
            "Epoch=11, index=960, loss=0.024549710956246903, counter=1767\n",
            "Prosperity --> Prosperity\n",
            "Epoch=11, index=720, loss=3.544155285150434e-05, counter=1770\n",
            "Prosperity --> Prosperity\n",
            "Epoch=11, index=660, loss=0.004907777560826314, counter=1798\n",
            "Prosperity --> Prosperity\n",
            "Epoch=11, index=1230, loss=0.000656245741508125, counter=1802\n",
            "Prosperity --> Prosperity\n",
            "Epoch=11, index=1860, loss=0.00017982989908584083, counter=1811\n",
            "People --> People\n",
            "Epoch=11, index=150, loss=0.00022844281629659237, counter=1815\n",
            "People --> People\n",
            "Epoch=11, index=1200, loss=4.2778966599144044e-05, counter=1817\n",
            "People --> People\n",
            "Epoch=11, index=1410, loss=0.0798294514247876, counter=1969\n",
            "Prosperity --> Prosperity\n",
            "Epoch=11, index=690, loss=0.006393269336210021, counter=2000\n",
            "People --> People\n",
            "Epoch=11, index=1290, loss=0.0002903150045312941, counter=2007\n",
            "People --> People\n",
            "Epoch=11, index=90, loss=0.05165644853065411, counter=2013\n",
            "Partnerships --> Partnerships\n",
            "Epoch=11, index=1650, loss=0.09891445192600562, counter=2093\n",
            "Prosperity --> Prosperity\n",
            "Accuracy: 0.82\n",
            "([('Parkkisähkö', 'Prosperity', 'Planet'), ('Rel8', 'Planet', 'Prosperity'), ('Nocofio', 'Prosperity', 'People'), ('Morpher', 'Prosperity', 'People'), ('Deedster', 'Prosperity', 'People')], 0.8216216216216217)\n",
            "total loss=0.054811038076877594\n",
            "TIME TILL NOW: avg=0.7, for 11 epochs - 8.0 min\n"
          ],
          "name": "stdout"
        },
        {
          "output_type": "display_data",
          "data": {
            "image/png": "[encoded data removed]",
            "text/plain": [
              "<Figure size 432x288 with 1 Axes>"
            ]
          },
          "metadata": {
            "tags": [],
            "needs_background": "light"
          }
        },
        {
          "output_type": "display_data",
          "data": {
            "image/png": "[encoded data removed]",
            "text/plain": [
              "<Figure size 432x288 with 1 Axes>"
            ]
          },
          "metadata": {
            "tags": [],
            "needs_background": "light"
          }
        },
        {
          "output_type": "display_data",
          "data": {
            "image/png": "[encoded data removed]",
            "text/plain": [
              "<Figure size 432x288 with 1 Axes>"
            ]
          },
          "metadata": {
            "tags": [],
            "needs_background": "light"
          }
        }
      ]
    },
    {
      "cell_type": "code",
      "metadata": {
        "id": "QOVF5nMxtk4Z",
        "outputId": "25121c2a-9cb9-4445-e2ee-53e0c0a31997",
        "colab": {
          "base_uri": "https://localhost:8080/",
          "height": 992
        }
      },
      "source": [
        "evaluate_mode(X_test, model)"
      ],
      "execution_count": 27,
      "outputs": [
        {
          "output_type": "stream",
          "text": [
            "Accuracy: 0.82\n",
            "Auc: 0.49\n",
            "Detail:\n",
            "              precision    recall  f1-score   support\n",
            "\n",
            "Partnerships       0.00      0.00      0.00         3\n",
            "       Peace       0.73      0.57      0.64        14\n",
            "      People       0.82      0.94      0.88       149\n",
            "      Planet       0.72      0.67      0.69        39\n",
            "  Prosperity       0.87      0.79      0.83       165\n",
            "\n",
            "    accuracy                           0.82       370\n",
            "   macro avg       0.63      0.59      0.61       370\n",
            "weighted avg       0.82      0.82      0.82       370\n",
            "\n"
          ],
          "name": "stdout"
        },
        {
          "output_type": "display_data",
          "data": {
            "image/png": "[encoded data removed]",
            "text/plain": [
              "<Figure size 432x288 with 1 Axes>"
            ]
          },
          "metadata": {
            "tags": [],
            "needs_background": "light"
          }
        },
        {
          "output_type": "display_data",
          "data": {
            "image/png": "[encoded data removed]",
            "text/plain": [
              "<Figure size 720x360 with 2 Axes>"
            ]
          },
          "metadata": {
            "tags": [],
            "needs_background": "light"
          }
        },
        {
          "output_type": "execute_result",
          "data": {
            "text/plain": [
              "([('Parkkisähkö', 'Prosperity', 'Planet'),\n",
              "  ('Rel8', 'Planet', 'Prosperity'),\n",
              "  ('Nocofio', 'Prosperity', 'People'),\n",
              "  ('Morpher', 'Prosperity', 'People'),\n",
              "  ('Deedster', 'Prosperity', 'People')],\n",
              " 0.8216216216216217)"
            ]
          },
          "metadata": {
            "tags": []
          },
          "execution_count": 27
        }
      ]
    },
    {
      "cell_type": "code",
      "metadata": {
        "id": "f0Zzfzo9N7lC",
        "outputId": "a9f51e15-11e2-4324-ef4a-65098aef7c52",
        "colab": {
          "base_uri": "https://localhost:8080/",
          "height": 279
        }
      },
      "source": [
        "## Plot loss for epoc\n",
        "\n",
        "import matplotlib.pyplot as plt\n",
        "%matplotlib inline\n",
        "plt.plot(range(epoch+n_epochs-1), losses)\n",
        "plt.ylabel('Cross Entropy Loss')\n",
        "plt.xlabel('epoch');"
      ],
      "execution_count": 24,
      "outputs": [
        {
          "output_type": "display_data",
          "data": {
            "image/png": "[encoded data removed]",
            "text/plain": [
              "<Figure size 432x288 with 1 Axes>"
            ]
          },
          "metadata": {
            "tags": [],
            "needs_background": "light"
          }
        }
      ]
    },
    {
      "cell_type": "code",
      "metadata": {
        "id": "cACzN8WvN7lL"
      },
      "source": [
        "# errors"
      ],
      "execution_count": null,
      "outputs": []
    },
    {
      "cell_type": "code",
      "metadata": {
        "id": "YFVX5BnIXPGw",
        "outputId": "a7c342ce-fe12-47bb-bcf2-23e0155fb505",
        "colab": {
          "base_uri": "https://localhost:8080/",
          "height": 225
        }
      },
      "source": [
        "scores = [x[1] for x in errors]\n",
        "print(f\"avg - {sum(scores[-10:])/len(scores[-10:])}\")\n",
        "scores"
      ],
      "execution_count": 25,
      "outputs": [
        {
          "output_type": "stream",
          "text": [
            "avg - 0.8062162162162162\n"
          ],
          "name": "stdout"
        },
        {
          "output_type": "execute_result",
          "data": {
            "text/plain": [
              "[0.8297297297297297,\n",
              " 0.8324324324324325,\n",
              " 0.8,\n",
              " 0.8162162162162162,\n",
              " 0.8216216216216217,\n",
              " 0.8054054054054054,\n",
              " 0.772972972972973,\n",
              " 0.7864864864864864,\n",
              " 0.7945945945945946,\n",
              " 0.8108108108108109,\n",
              " 0.8216216216216217]"
            ]
          },
          "metadata": {
            "tags": []
          },
          "execution_count": 25
        }
      ]
    },
    {
      "cell_type": "code",
      "metadata": {
        "id": "99Mx-JG327FN",
        "outputId": "a7357a95-3623-4605-ec4d-d477d4ac6590",
        "colab": {
          "base_uri": "https://localhost:8080/",
          "height": 208
        }
      },
      "source": [
        "losses"
      ],
      "execution_count": 28,
      "outputs": [
        {
          "output_type": "execute_result",
          "data": {
            "text/plain": [
              "[tensor(0.7985, device='cuda:0', requires_grad=True),\n",
              " tensor(0.4852, device='cuda:0', requires_grad=True),\n",
              " tensor(0.3103, device='cuda:0', requires_grad=True),\n",
              " tensor(0.2075, device='cuda:0', requires_grad=True),\n",
              " tensor(0.1392, device='cuda:0', requires_grad=True),\n",
              " tensor(0.1100, device='cuda:0', requires_grad=True),\n",
              " tensor(0.0755, device='cuda:0', requires_grad=True),\n",
              " tensor(0.0669, device='cuda:0', requires_grad=True),\n",
              " tensor(0.0560, device='cuda:0', grad_fn=<DivBackward0>),\n",
              " tensor(0.0527, device='cuda:0', grad_fn=<DivBackward0>),\n",
              " tensor(0.0548, device='cuda:0', grad_fn=<DivBackward0>)]"
            ]
          },
          "metadata": {
            "tags": []
          },
          "execution_count": 28
        }
      ]
    },
    {
      "cell_type": "code",
      "metadata": {
        "id": "FauQgnCGkw--"
      },
      "source": [
        "# save model configuration for later training\n",
        "\n",
        "checkpoint = {\n",
        "    'model_state_dict': model.state_dict(),\n",
        "    'optimizer_state_dict': optimizer.state_dict(),\n",
        "    'epoch': epoch+n_epochs,\n",
        "    'losses': losses,\n",
        "    'errors': errors\n",
        "}\n",
        "\n",
        "torch.save(checkpoint, f\"../models/model_5Ps_checkpoint_{checkpoint['epoch']}.tar\")"
      ],
      "execution_count": 29,
      "outputs": []
    },
    {
      "cell_type": "markdown",
      "metadata": {
        "id": "c72w68Why3v4"
      },
      "source": [
        "## Predict all goals"
      ]
    },
    {
      "cell_type": "code",
      "metadata": {
        "id": "EoTyUhl_y3v9",
        "outputId": "4fcfbed2-c28e-4f74-bb28-a833a9047a21",
        "colab": {
          "base_uri": "https://localhost:8080/",
          "height": 35
        }
      },
      "source": [
        "data = read_data()\n",
        "data.shape"
      ],
      "execution_count": 15,
      "outputs": [
        {
          "output_type": "execute_result",
          "data": {
            "text/plain": [
              "(2463, 12)"
            ]
          },
          "metadata": {
            "tags": []
          },
          "execution_count": 15
        }
      ]
    },
    {
      "cell_type": "code",
      "metadata": {
        "id": "-EsZoEeLy3wC",
        "outputId": "0c72c25a-8c04-4942-e819-a820c843c7c9",
        "colab": {
          "base_uri": "https://localhost:8080/",
          "height": 87
        }
      },
      "source": [
        "data['Target'] = data['SDG Goal']\n",
        "labels = list(data['Target'].value_counts().keys().values)\n",
        "X_train, X_test, y_train, y_test = train_test_split(data, data[\"Target\"], test_size=0.15, random_state=42)\n",
        "print(labels)\n",
        "print(len(X_train), len(y_train))\n",
        "print(len(X_test), len(y_test))\n",
        "print(X_train.index[0:5])"
      ],
      "execution_count": 16,
      "outputs": [
        {
          "output_type": "stream",
          "text": [
            "[7, 2, 3, 1, 9, 12, 13, 4, 8, 16, 6, 11, 14, 10, 5, 15, 17]\n",
            "2093 2093\n",
            "370 370\n",
            "Int64Index([157, 1395, 1983, 498, 765], dtype='int64')\n"
          ],
          "name": "stdout"
        }
      ]
    },
    {
      "cell_type": "code",
      "metadata": {
        "id": "0cVKheOFy3wE",
        "outputId": "9d6b6735-76dd-48df-e79b-9969b2abb410",
        "colab": {
          "base_uri": "https://localhost:8080/",
          "height": 329
        }
      },
      "source": [
        "X_train['Target'].value_counts()"
      ],
      "execution_count": 17,
      "outputs": [
        {
          "output_type": "execute_result",
          "data": {
            "text/plain": [
              "7     505\n",
              "2     304\n",
              "3     217\n",
              "1     188\n",
              "9     135\n",
              "12    120\n",
              "13    115\n",
              "4      86\n",
              "8      70\n",
              "16     64\n",
              "11     49\n",
              "6      48\n",
              "10     46\n",
              "5      41\n",
              "14     40\n",
              "15     34\n",
              "17     31\n",
              "Name: Target, dtype: int64"
            ]
          },
          "metadata": {
            "tags": []
          },
          "execution_count": 17
        }
      ]
    },
    {
      "cell_type": "code",
      "metadata": {
        "id": "C0SpPFb2y3wH",
        "outputId": "4556afc9-c30c-4a2f-e159-fde8e2b053bb",
        "colab": {
          "base_uri": "https://localhost:8080/",
          "height": 329
        }
      },
      "source": [
        "X_test['Target'].value_counts()"
      ],
      "execution_count": 18,
      "outputs": [
        {
          "output_type": "execute_result",
          "data": {
            "text/plain": [
              "7     86\n",
              "2     61\n",
              "3     33\n",
              "1     31\n",
              "9     30\n",
              "12    28\n",
              "13    21\n",
              "14    15\n",
              "16    14\n",
              "4     12\n",
              "8     10\n",
              "6      8\n",
              "11     6\n",
              "10     5\n",
              "5      4\n",
              "15     3\n",
              "17     3\n",
              "Name: Target, dtype: int64"
            ]
          },
          "metadata": {
            "tags": []
          },
          "execution_count": 18
        }
      ]
    },
    {
      "cell_type": "code",
      "metadata": {
        "id": "A-DrDa7Yy3wJ",
        "outputId": "bff46702-d93a-4ef7-fd92-c99361b039e5",
        "colab": {
          "base_uri": "https://localhost:8080/",
          "height": 69
        }
      },
      "source": [
        "# # new model configuration\n",
        "\n",
        "# model = SDGModel(len(labels)).cuda()\n",
        "# optimizer = AdamW(model.parameters(), lr=1e-5)\n",
        "# losses = []\n",
        "# errors = []\n",
        "# epoch = 1\n",
        "# model(\"Hello World\")"
      ],
      "execution_count": 20,
      "outputs": [
        {
          "output_type": "execute_result",
          "data": {
            "text/plain": [
              "tensor([ 0.3176,  0.0302,  0.1202,  0.0289, -0.1265,  0.0641, -0.0220,  0.2733,\n",
              "         0.2220,  0.2880, -0.2730,  0.0338,  0.0984,  0.3492, -0.0865,  0.2354,\n",
              "         0.0700], device='cuda:0', grad_fn=<AddBackward0>)"
            ]
          },
          "metadata": {
            "tags": []
          },
          "execution_count": 20
        }
      ]
    },
    {
      "cell_type": "code",
      "metadata": {
        "id": "4x_altHny3wM"
      },
      "source": [
        "# load model from checkpoint\n",
        "\n",
        "device = torch.device(\"cuda\")\n",
        "model = SDGModel(len(labels))\n",
        "optimizer = AdamW(model.parameters(), lr=1e-5)\n",
        "\n",
        "checkpoint = torch.load(f\"../models/model_SDG_checkpoint_{8}.tar\")\n",
        "model.load_state_dict(checkpoint['model_state_dict'])\n",
        "model.to(device)\n",
        "optimizer.load_state_dict(checkpoint['optimizer_state_dict'])\n",
        "epoch = checkpoint['epoch']\n",
        "losses = checkpoint['losses']\n",
        "errors = checkpoint['errors']\n",
        "\n",
        "# model.eval()\n",
        "# - or -\n",
        "model.train()"
      ],
      "execution_count": null,
      "outputs": []
    },
    {
      "cell_type": "code",
      "metadata": {
        "id": "0QZl96Fmy3wO"
      },
      "source": [
        "criterion = torch.nn.CrossEntropyLoss()"
      ],
      "execution_count": 20,
      "outputs": []
    },
    {
      "cell_type": "code",
      "metadata": {
        "id": "y8h5X9Fiy3wR",
        "outputId": "126ac9bd-b5fc-4de2-e584-8d905c8383d0",
        "colab": {
          "base_uri": "https://localhost:8080/",
          "height": 1000
        }
      },
      "source": [
        "import time\n",
        "\n",
        "n_epochs = 6\n",
        "\n",
        "start_time = time.time()\n",
        "\n",
        "for e in range(epoch, epoch+n_epochs):\n",
        "  cnt = 0\n",
        "  current_loss = 0\n",
        "  epoc_loss = 0;\n",
        "  curr_data = X_train.sample(frac=1)\n",
        "  print(len(curr_data))\n",
        "  for index, instance in curr_data.iterrows():\n",
        "    cnt += 1\n",
        "    optimizer.zero_grad()\n",
        "    out = model(instance[\"Description\"].lower())\n",
        "    loss = criterion(out.view(1, -1), torch.LongTensor([labels.index(instance[\"Target\"])]).cuda())\n",
        "    epoc_loss += loss\n",
        "    loss.backward()\n",
        "    optimizer.step()\n",
        "    current_loss += loss.item()\n",
        "    if index % 30 == 0:\n",
        "      print(f\"Epoch={e}, index={index}, loss={current_loss/30}, counter={cnt}\")\n",
        "      print(f\"{instance['Target']} --> {labels[torch.argmax(out).item()]}\")\n",
        "      current_loss = 0\n",
        "  error = evaluate_mode(X_test, model, False)\n",
        "  print(error[0][:5])\n",
        "  print(f\"total loss={epoc_loss/len(curr_data)}\")\n",
        "  losses.append(epoc_loss/len(curr_data))\n",
        "  errors.append(error)\n",
        "  print(f\"TIME TILL NOW: avg={(time.time() - start_time)/60/e:.1f}, for {e} epochs - {(time.time() - start_time)/60:.1f} min\")"
      ],
      "execution_count": 21,
      "outputs": [
        {
          "output_type": "stream",
          "text": [
            "2093\n",
            "Epoch=8, index=780, loss=0.1817730995050321, counter=39\n",
            "10 --> 10\n",
            "Epoch=8, index=930, loss=0.0358164433700343, counter=50\n",
            "2 --> 2\n",
            "Epoch=8, index=2460, loss=0.3008187383413315, counter=95\n",
            "8 --> 8\n",
            "Epoch=8, index=1980, loss=0.2090946886339225, counter=133\n",
            "3 --> 3\n",
            "Epoch=8, index=1230, loss=0.004217812418937683, counter=138\n",
            "12 --> 12\n",
            "Epoch=8, index=1920, loss=0.22668164616916328, counter=166\n",
            "2 --> 2\n",
            "Epoch=8, index=2040, loss=0.24801750735302144, counter=202\n",
            "12 --> 12\n",
            "Epoch=8, index=1380, loss=0.031470651435665783, counter=222\n",
            "4 --> 4\n",
            "Epoch=8, index=2280, loss=0.0031177886451284093, counter=224\n",
            "8 --> 8\n",
            "Epoch=8, index=120, loss=0.27891318935435266, counter=290\n",
            "7 --> 7\n",
            "Epoch=8, index=1950, loss=0.2526230526311944, counter=320\n",
            "3 --> 3\n",
            "Epoch=8, index=1590, loss=0.006736374413594604, counter=325\n",
            "8 --> 8\n",
            "Epoch=8, index=1290, loss=0.02863281241734512, counter=350\n",
            "5 --> 5\n",
            "Epoch=8, index=2160, loss=0.12259054749738425, counter=382\n",
            "3 --> 3\n",
            "Epoch=8, index=1650, loss=0.452446018710422, counter=410\n",
            "8 --> 8\n",
            "Epoch=8, index=1620, loss=0.05650732113669316, counter=437\n",
            "9 --> 9\n",
            "Epoch=8, index=1440, loss=0.4771150937691952, counter=530\n",
            "7 --> 7\n",
            "Epoch=8, index=1350, loss=0.1148344836741065, counter=602\n",
            "4 --> 4\n",
            "Epoch=8, index=2250, loss=0.0007031458740433057, counter=603\n",
            "16 --> 16\n",
            "Epoch=8, index=750, loss=0.15043218517675996, counter=665\n",
            "2 --> 2\n",
            "Epoch=8, index=1740, loss=0.06569328556458155, counter=696\n",
            "3 --> 3\n",
            "Epoch=8, index=1020, loss=0.0026369107111046714, counter=700\n",
            "2 --> 2\n",
            "Epoch=8, index=2340, loss=0.25037637402225904, counter=767\n",
            "7 --> 7\n",
            "Epoch=8, index=1860, loss=0.33497019693410646, counter=808\n",
            "2 --> 2\n",
            "Epoch=8, index=180, loss=0.0006235876896729072, counter=810\n",
            "12 --> 12\n",
            "Epoch=8, index=1410, loss=0.05012691299198195, counter=844\n",
            "7 --> 7\n",
            "Epoch=8, index=2010, loss=0.09973558059427887, counter=856\n",
            "12 --> 12\n",
            "Epoch=8, index=90, loss=0.014854675977646063, counter=860\n",
            "17 --> 17\n",
            "Epoch=8, index=660, loss=0.27078917768473426, counter=888\n",
            "7 --> 7\n",
            "Epoch=8, index=1710, loss=0.4221135819136786, counter=925\n",
            "2 --> 2\n",
            "Epoch=8, index=1140, loss=0.014891839244713385, counter=935\n",
            "3 --> 3\n",
            "Epoch=8, index=390, loss=0.4334863680182025, counter=995\n",
            "16 --> 16\n",
            "Epoch=8, index=1170, loss=0.011244853135819237, counter=1004\n",
            "1 --> 1\n",
            "Epoch=8, index=270, loss=0.3070417466961468, counter=1054\n",
            "5 --> 5\n",
            "Epoch=8, index=870, loss=0.03094615552884837, counter=1067\n",
            "7 --> 7\n",
            "Epoch=8, index=2190, loss=0.4035187033509525, counter=1117\n",
            "4 --> 4\n",
            "Epoch=8, index=990, loss=0.026854997035115957, counter=1143\n",
            "2 --> 2\n",
            "Epoch=8, index=2400, loss=0.15633062409081808, counter=1154\n",
            "10 --> 3\n",
            "Epoch=8, index=570, loss=0.018942803237587215, counter=1159\n",
            "2 --> 2\n",
            "Epoch=8, index=1470, loss=0.30160035886025677, counter=1229\n",
            "12 --> 12\n",
            "Epoch=8, index=1830, loss=0.004802243861680229, counter=1239\n",
            "2 --> 2\n",
            "Epoch=8, index=0, loss=0.2916400899955382, counter=1288\n",
            "7 --> 7\n",
            "Epoch=8, index=690, loss=0.7893779868066001, counter=1354\n",
            "1 --> 1\n",
            "Epoch=8, index=840, loss=0.11281011689764758, counter=1369\n",
            "2 --> 9\n",
            "Epoch=8, index=1260, loss=0.28767488289934895, counter=1399\n",
            "9 --> 9\n",
            "Epoch=8, index=1200, loss=0.03547921197799345, counter=1415\n",
            "1 --> 1\n",
            "Epoch=8, index=1890, loss=0.27378571333441265, counter=1480\n",
            "2 --> 2\n",
            "Epoch=8, index=2070, loss=0.23855078384513034, counter=1561\n",
            "3 --> 3\n",
            "Epoch=8, index=300, loss=0.0405961079755798, counter=1578\n",
            "12 --> 12\n",
            "Epoch=8, index=630, loss=0.11073385299338649, counter=1589\n",
            "7 --> 7\n",
            "Epoch=8, index=600, loss=0.0006847144414981206, counter=1590\n",
            "7 --> 7\n",
            "Epoch=8, index=1080, loss=0.03213673752422134, counter=1628\n",
            "5 --> 5\n",
            "Epoch=8, index=360, loss=0.7221164714952465, counter=1782\n",
            "13 --> 13\n",
            "Epoch=8, index=720, loss=0.00721545626098911, counter=1786\n",
            "7 --> 7\n",
            "Epoch=8, index=510, loss=0.023728442137750487, counter=1813\n",
            "7 --> 7\n",
            "Epoch=8, index=1500, loss=0.3883530330689003, counter=1872\n",
            "1 --> 1\n",
            "Epoch=8, index=150, loss=0.0077014396588007605, counter=1877\n",
            "2 --> 2\n",
            "Epoch=8, index=900, loss=0.005264426814392209, counter=1887\n",
            "7 --> 7\n",
            "Epoch=8, index=1320, loss=0.057404135121032596, counter=1902\n",
            "1 --> 1\n",
            "Epoch=8, index=30, loss=0.29587605516426263, counter=1930\n",
            "6 --> 6\n",
            "Epoch=8, index=330, loss=0.08220293849396208, counter=1938\n",
            "7 --> 7\n",
            "Epoch=8, index=60, loss=0.0014236394315958023, counter=1941\n",
            "2 --> 2\n",
            "Epoch=8, index=1680, loss=0.04896859071062257, counter=1959\n",
            "7 --> 7\n",
            "Epoch=8, index=2370, loss=0.349821451457683, counter=2005\n",
            "3 --> 4\n",
            "Epoch=8, index=2130, loss=0.059324243986823906, counter=2049\n",
            "5 --> 5\n",
            "Epoch=8, index=540, loss=0.2949694582649196, counter=2081\n",
            "6 --> 6\n",
            "Epoch=8, index=960, loss=0.011398980192219218, counter=2089\n",
            "7 --> 7\n",
            "Accuracy: 0.72\n",
            "[('Parkkisähkö', 7, 13), ('Rel8', 13, 9), ('Nocofio', 8, 2), ('Crocus Energy', 7, 9), ('Sawtooth seafood', 14, 1)]\n",
            "total loss=0.15903618931770325\n",
            "TIME TILL NOW: avg=0.3, for 8 epochs - 2.8 min\n",
            "2093\n",
            "Epoch=9, index=2370, loss=0.06764236220236247, counter=15\n",
            "3 --> 3\n",
            "Epoch=9, index=1950, loss=0.007328519116466244, counter=23\n",
            "3 --> 3\n",
            "Epoch=9, index=840, loss=0.20601754455516735, counter=31\n",
            "2 --> 2\n",
            "Epoch=9, index=180, loss=0.27616180328962703, counter=50\n",
            "12 --> 12\n",
            "Epoch=9, index=30, loss=0.2023071934701875, counter=109\n",
            "6 --> 6\n",
            "Epoch=9, index=1650, loss=0.23294314411468803, counter=148\n",
            "8 --> 8\n",
            "Epoch=9, index=2400, loss=0.4376405259167465, counter=227\n",
            "10 --> 10\n",
            "Epoch=9, index=1290, loss=0.5291865690844133, counter=302\n",
            "5 --> 5\n",
            "Epoch=9, index=1710, loss=0.21753945849680653, counter=343\n",
            "2 --> 2\n",
            "Epoch=9, index=2040, loss=0.0019145632162690164, counter=345\n",
            "12 --> 12\n",
            "Epoch=9, index=1680, loss=0.23379673396314804, counter=398\n",
            "7 --> 7\n",
            "Epoch=9, index=2010, loss=0.1147420033152836, counter=411\n",
            "12 --> 12\n",
            "Epoch=9, index=1020, loss=0.14862337261050318, counter=455\n",
            "2 --> 2\n",
            "Epoch=9, index=1920, loss=0.020418191188946368, counter=485\n",
            "2 --> 2\n",
            "Epoch=9, index=870, loss=0.064826347764271, counter=531\n",
            "7 --> 7\n",
            "Epoch=9, index=750, loss=0.0469175790475371, counter=573\n",
            "2 --> 2\n",
            "Epoch=9, index=2160, loss=0.05033815457718447, counter=613\n",
            "3 --> 3\n",
            "Epoch=9, index=1590, loss=0.0074352761187280215, counter=621\n",
            "8 --> 8\n",
            "Epoch=9, index=360, loss=0.2345905860963588, counter=656\n",
            "13 --> 13\n",
            "Epoch=9, index=270, loss=0.052531402565849324, counter=702\n",
            "5 --> 5\n",
            "Epoch=9, index=1230, loss=0.016182982358926287, counter=722\n",
            "12 --> 12\n",
            "Epoch=9, index=900, loss=0.019020307145547123, counter=739\n",
            "7 --> 7\n",
            "Epoch=9, index=660, loss=0.014536823130523164, counter=755\n",
            "7 --> 7\n",
            "Epoch=9, index=2250, loss=0.018462992544906836, counter=771\n",
            "16 --> 16\n",
            "Epoch=9, index=1260, loss=0.16735630948096514, counter=838\n",
            "9 --> 9\n",
            "Epoch=9, index=690, loss=0.3397928935029389, counter=867\n",
            "1 --> 1\n",
            "Epoch=9, index=1500, loss=0.6029937153313464, counter=957\n",
            "1 --> 1\n",
            "Epoch=9, index=960, loss=0.00026057961707313856, counter=958\n",
            "7 --> 7\n",
            "Epoch=9, index=60, loss=0.02778150754359861, counter=967\n",
            "2 --> 2\n",
            "Epoch=9, index=630, loss=0.1105635748982119, counter=982\n",
            "7 --> 7\n",
            "Epoch=9, index=1380, loss=0.005583497664580743, counter=988\n",
            "4 --> 4\n",
            "Epoch=9, index=540, loss=0.002303225267678499, counter=990\n",
            "6 --> 6\n",
            "Epoch=9, index=1860, loss=0.00575149324722588, counter=997\n",
            "2 --> 2\n",
            "Epoch=9, index=120, loss=0.04188676320482045, counter=1028\n",
            "7 --> 7\n",
            "Epoch=9, index=1740, loss=0.02305758719642957, counter=1040\n",
            "3 --> 3\n",
            "Epoch=9, index=1320, loss=0.013828159771704426, counter=1051\n",
            "1 --> 1\n",
            "Epoch=9, index=330, loss=0.045283769443631175, counter=1059\n",
            "7 --> 7\n",
            "Epoch=9, index=2130, loss=0.06411340929334983, counter=1136\n",
            "5 --> 5\n",
            "Epoch=9, index=1200, loss=0.14616350145467247, counter=1167\n",
            "1 --> 1\n",
            "Epoch=9, index=2070, loss=0.01114863947344323, counter=1174\n",
            "3 --> 3\n",
            "Epoch=9, index=2460, loss=0.009138732287101447, counter=1199\n",
            "8 --> 8\n",
            "Epoch=9, index=390, loss=0.21407317081078267, counter=1249\n",
            "16 --> 16\n",
            "Epoch=9, index=1890, loss=0.20145248735401158, counter=1310\n",
            "2 --> 2\n",
            "Epoch=9, index=1470, loss=0.007813954745264104, counter=1322\n",
            "12 --> 12\n",
            "Epoch=9, index=1080, loss=0.11213637294713408, counter=1339\n",
            "5 --> 5\n",
            "Epoch=9, index=1440, loss=0.028143059361415604, counter=1380\n",
            "7 --> 7\n",
            "Epoch=9, index=2280, loss=0.004046571945461134, counter=1384\n",
            "8 --> 8\n",
            "Epoch=9, index=990, loss=0.2953857064111313, counter=1433\n",
            "2 --> 2\n",
            "Epoch=9, index=90, loss=0.01943926279588292, counter=1451\n",
            "17 --> 17\n",
            "Epoch=9, index=570, loss=0.2985542277339846, counter=1473\n",
            "2 --> 2\n",
            "Epoch=9, index=600, loss=0.024325310438871383, counter=1495\n",
            "7 --> 7\n",
            "Epoch=9, index=1140, loss=0.004894978723799189, counter=1503\n",
            "3 --> 3\n",
            "Epoch=9, index=1620, loss=0.034874263250579435, counter=1514\n",
            "9 --> 9\n",
            "Epoch=9, index=2190, loss=0.8318863871934202, counter=1705\n",
            "4 --> 4\n",
            "Epoch=9, index=1410, loss=0.002610442213093241, counter=1710\n",
            "7 --> 7\n",
            "Epoch=9, index=0, loss=0.049023614691880844, counter=1739\n",
            "7 --> 7\n",
            "Epoch=9, index=300, loss=0.38323310484411194, counter=1855\n",
            "12 --> 12\n",
            "Epoch=9, index=780, loss=0.005484507946918408, counter=1865\n",
            "10 --> 10\n",
            "Epoch=9, index=1980, loss=0.0022250017616897823, counter=1870\n",
            "3 --> 3\n",
            "Epoch=9, index=150, loss=0.00023554591462016106, counter=1871\n",
            "2 --> 2\n",
            "Epoch=9, index=2340, loss=0.0008262881465877096, counter=1876\n",
            "7 --> 7\n",
            "Epoch=9, index=1170, loss=0.0025433182095487912, counter=1881\n",
            "1 --> 1\n",
            "Epoch=9, index=510, loss=0.19619318723368148, counter=1912\n",
            "7 --> 7\n",
            "Epoch=9, index=1830, loss=0.05316009763240193, counter=1938\n",
            "2 --> 2\n",
            "Epoch=9, index=930, loss=0.030455023762381947, counter=1963\n",
            "2 --> 2\n",
            "Epoch=9, index=1350, loss=0.008712645107880234, counter=1972\n",
            "4 --> 4\n",
            "Epoch=9, index=720, loss=0.004808583731452624, counter=1978\n",
            "7 --> 7\n",
            "Accuracy: 0.72\n",
            "[('Parkkisähkö', 7, 13), ('Rel8', 13, 9), ('Nocofio', 8, 2), ('Sawtooth seafood', 14, 1), ('MEMBRASENZ GmbH', 7, 9)]\n",
            "total loss=0.12481550872325897\n",
            "TIME TILL NOW: avg=0.6, for 9 epochs - 5.6 min\n",
            "2093\n",
            "Epoch=10, index=360, loss=0.1489080202106076, counter=62\n",
            "13 --> 13\n",
            "Epoch=10, index=2340, loss=0.008053531835321337, counter=74\n",
            "7 --> 7\n",
            "Epoch=10, index=2460, loss=0.04856986965363224, counter=88\n",
            "8 --> 8\n",
            "Epoch=10, index=1890, loss=0.05073954745215208, counter=109\n",
            "2 --> 2\n",
            "Epoch=10, index=1830, loss=0.0034032802330330016, counter=151\n",
            "2 --> 2\n",
            "Epoch=10, index=2250, loss=0.07344153233959029, counter=172\n",
            "16 --> 16\n",
            "Epoch=10, index=330, loss=0.09247872707783245, counter=204\n",
            "7 --> 7\n",
            "Epoch=10, index=2160, loss=0.019086779048666357, counter=231\n",
            "3 --> 3\n",
            "Epoch=10, index=1950, loss=0.03142948385017614, counter=237\n",
            "3 --> 3\n",
            "Epoch=10, index=60, loss=0.2950004304099518, counter=290\n",
            "2 --> 2\n",
            "Epoch=10, index=1680, loss=0.09128373547379548, counter=392\n",
            "7 --> 7\n",
            "Epoch=10, index=2010, loss=0.061424913552279276, counter=407\n",
            "12 --> 12\n",
            "Epoch=10, index=2070, loss=0.04250709457943837, counter=440\n",
            "3 --> 3\n",
            "Epoch=10, index=2400, loss=0.15800215487834066, counter=467\n",
            "10 --> 10\n",
            "Epoch=10, index=540, loss=0.04091843477217481, counter=495\n",
            "6 --> 6\n",
            "Epoch=10, index=750, loss=0.37810281953813196, counter=558\n",
            "2 --> 2\n",
            "Epoch=10, index=1080, loss=0.0027505006330708665, counter=562\n",
            "5 --> 5\n",
            "Epoch=10, index=990, loss=0.04291708543508624, counter=602\n",
            "2 --> 2\n",
            "Epoch=10, index=510, loss=0.00025519741078217827, counter=603\n",
            "7 --> 7\n",
            "Epoch=10, index=840, loss=0.16126381554252778, counter=630\n",
            "2 --> 12\n",
            "Epoch=10, index=2130, loss=0.0010210680620123943, counter=632\n",
            "5 --> 5\n",
            "Epoch=10, index=1920, loss=0.003190122350739936, counter=642\n",
            "2 --> 2\n",
            "Epoch=10, index=2370, loss=0.17093038941190267, counter=676\n",
            "3 --> 4\n",
            "Epoch=10, index=960, loss=0.11786632371367886, counter=737\n",
            "7 --> 7\n",
            "Epoch=10, index=1470, loss=0.006011752142027641, counter=748\n",
            "12 --> 12\n",
            "Epoch=10, index=1200, loss=0.003617797795838366, counter=757\n",
            "1 --> 1\n",
            "Epoch=10, index=1740, loss=0.10277695272040242, counter=787\n",
            "3 --> 3\n",
            "Epoch=10, index=1860, loss=0.00023801458689073722, counter=789\n",
            "2 --> 2\n",
            "Epoch=10, index=150, loss=0.027314382801220442, counter=825\n",
            "2 --> 2\n",
            "Epoch=10, index=1500, loss=0.0005495943439503511, counter=827\n",
            "1 --> 1\n",
            "Epoch=10, index=570, loss=0.011393625686954087, counter=858\n",
            "2 --> 2\n",
            "Epoch=10, index=1980, loss=0.0056491414550691845, counter=863\n",
            "3 --> 3\n",
            "Epoch=10, index=660, loss=0.239287610410247, counter=904\n",
            "7 --> 7\n",
            "Epoch=10, index=1020, loss=0.17354432837164496, counter=985\n",
            "2 --> 2\n",
            "Epoch=10, index=1710, loss=0.6086513131507673, counter=1087\n",
            "2 --> 2\n",
            "Epoch=10, index=1140, loss=0.17848033599245053, counter=1129\n",
            "3 --> 3\n",
            "Epoch=10, index=2040, loss=0.16626891925698145, counter=1156\n",
            "12 --> 12\n",
            "Epoch=10, index=1260, loss=0.0001628665408740441, counter=1157\n",
            "9 --> 9\n",
            "Epoch=10, index=1650, loss=0.02607183693908155, counter=1194\n",
            "8 --> 8\n",
            "Epoch=10, index=600, loss=0.2258511166398724, counter=1206\n",
            "7 --> 7\n",
            "Epoch=10, index=1290, loss=0.3161541007827812, counter=1255\n",
            "5 --> 5\n",
            "Epoch=10, index=30, loss=0.0034076650626957417, counter=1265\n",
            "6 --> 6\n",
            "Epoch=10, index=300, loss=0.12826736385468393, counter=1273\n",
            "12 --> 12\n",
            "Epoch=10, index=2280, loss=0.0667924436274916, counter=1276\n",
            "8 --> 8\n",
            "Epoch=10, index=690, loss=0.030721373237126197, counter=1318\n",
            "1 --> 1\n",
            "Epoch=10, index=1170, loss=0.36844768199371175, counter=1380\n",
            "1 --> 1\n",
            "Epoch=10, index=720, loss=0.0007257753051817418, counter=1383\n",
            "7 --> 7\n",
            "Epoch=10, index=1440, loss=0.00013427278026938437, counter=1384\n",
            "7 --> 7\n",
            "Epoch=10, index=2190, loss=0.009953181790964057, counter=1393\n",
            "4 --> 4\n",
            "Epoch=10, index=780, loss=0.11452229613205418, counter=1449\n",
            "10 --> 10\n",
            "Epoch=10, index=1350, loss=0.004110427821675936, counter=1451\n",
            "4 --> 4\n",
            "Epoch=10, index=1620, loss=0.0002893009843925635, counter=1453\n",
            "9 --> 9\n",
            "Epoch=10, index=870, loss=0.0025112731692691643, counter=1465\n",
            "7 --> 7\n",
            "Epoch=10, index=90, loss=0.06979760282750552, counter=1514\n",
            "17 --> 17\n",
            "Epoch=10, index=270, loss=0.3704269041976659, counter=1584\n",
            "5 --> 5\n",
            "Epoch=10, index=120, loss=0.03184067383020495, counter=1594\n",
            "7 --> 7\n",
            "Epoch=10, index=1410, loss=0.006125896385249992, counter=1607\n",
            "7 --> 7\n",
            "Epoch=10, index=1590, loss=0.00446836039579163, counter=1612\n",
            "8 --> 8\n",
            "Epoch=10, index=390, loss=0.38013129992371736, counter=1762\n",
            "16 --> 16\n",
            "Epoch=10, index=1230, loss=0.019869081835107258, counter=1788\n",
            "12 --> 12\n",
            "Epoch=10, index=1380, loss=0.0015704517136327922, counter=1792\n",
            "4 --> 4\n",
            "Epoch=10, index=0, loss=0.27882680366553053, counter=1838\n",
            "7 --> 7\n",
            "Epoch=10, index=1320, loss=0.08353490684336672, counter=1860\n",
            "1 --> 1\n",
            "Epoch=10, index=930, loss=0.7579820668324828, counter=2021\n",
            "2 --> 2\n",
            "Epoch=10, index=180, loss=0.013508530504380663, counter=2032\n",
            "12 --> 12\n",
            "Epoch=10, index=900, loss=0.039673995942575854, counter=2077\n",
            "7 --> 7\n",
            "Accuracy: 0.72\n",
            "[('Parkkisähkö', 7, 13), ('Rel8', 13, 9), ('Nocofio', 8, 2), ('Sawtooth seafood', 14, 1), ('DoPay', 1, 8)]\n",
            "total loss=0.09990230202674866\n",
            "TIME TILL NOW: avg=0.8, for 10 epochs - 8.3 min\n",
            "2093\n",
            "Epoch=11, index=600, loss=0.005708363077913722, counter=21\n",
            "7 --> 7\n",
            "Epoch=11, index=90, loss=0.015293256752192974, counter=39\n",
            "17 --> 17\n",
            "Epoch=11, index=1890, loss=0.012247132843670745, counter=54\n",
            "2 --> 2\n",
            "Epoch=11, index=0, loss=0.0012499890639446677, counter=58\n",
            "7 --> 7\n",
            "Epoch=11, index=870, loss=0.002819236874347553, counter=63\n",
            "7 --> 7\n",
            "Epoch=11, index=930, loss=0.041828906182005694, counter=99\n",
            "2 --> 2\n",
            "Epoch=11, index=270, loss=0.0013566535897552967, counter=103\n",
            "5 --> 5\n",
            "Epoch=11, index=2040, loss=0.046112332076882014, counter=156\n",
            "12 --> 12\n",
            "Epoch=11, index=1590, loss=0.2224106919039817, counter=252\n",
            "8 --> 8\n",
            "Epoch=11, index=330, loss=0.001803556678351015, counter=259\n",
            "7 --> 7\n",
            "Epoch=11, index=960, loss=0.49535816847346725, counter=385\n",
            "7 --> 7\n",
            "Epoch=11, index=1470, loss=0.06390859877768283, counter=411\n",
            "12 --> 12\n",
            "Epoch=11, index=750, loss=0.09349158169546475, counter=440\n",
            "2 --> 2\n",
            "Epoch=11, index=1170, loss=0.00673189862864092, counter=451\n",
            "1 --> 1\n",
            "Epoch=11, index=1410, loss=0.0010752931547661623, counter=456\n",
            "7 --> 7\n",
            "Epoch=11, index=2160, loss=0.2514992528614433, counter=516\n",
            "3 --> 3\n",
            "Epoch=11, index=1650, loss=0.10682363787588353, counter=534\n",
            "8 --> 8\n",
            "Epoch=11, index=150, loss=0.09055914790369571, counter=566\n",
            "2 --> 2\n",
            "Epoch=11, index=1980, loss=0.11129254967866777, counter=590\n",
            "3 --> 3\n",
            "Epoch=11, index=840, loss=0.05488740320627888, counter=632\n",
            "2 --> 2\n",
            "Epoch=11, index=990, loss=0.09515649794484489, counter=689\n",
            "2 --> 2\n",
            "Epoch=11, index=1260, loss=0.4669163844412348, counter=764\n",
            "9 --> 9\n",
            "Epoch=11, index=1380, loss=0.0018196138475711147, counter=770\n",
            "4 --> 4\n",
            "Epoch=11, index=390, loss=0.12949583013153945, counter=806\n",
            "16 --> 16\n",
            "Epoch=11, index=690, loss=0.306576508958824, counter=960\n",
            "1 --> 1\n",
            "Epoch=11, index=300, loss=0.20015237122230853, counter=974\n",
            "12 --> 12\n",
            "Epoch=11, index=780, loss=0.009512100630672649, counter=985\n",
            "10 --> 10\n",
            "Epoch=11, index=360, loss=0.0981387082041086, counter=1070\n",
            "13 --> 13\n",
            "Epoch=11, index=1680, loss=0.4066762987388453, counter=1137\n",
            "7 --> 7\n",
            "Epoch=11, index=2370, loss=0.16435629593518872, counter=1147\n",
            "3 --> 4\n",
            "Epoch=11, index=540, loss=0.052935897073863696, counter=1204\n",
            "6 --> 6\n",
            "Epoch=11, index=1740, loss=0.03442639327646854, counter=1228\n",
            "3 --> 3\n",
            "Epoch=11, index=2190, loss=0.42595348867665356, counter=1254\n",
            "4 --> 4\n",
            "Epoch=11, index=1350, loss=0.026746524039966364, counter=1277\n",
            "4 --> 4\n",
            "Epoch=11, index=1710, loss=0.4723341735467936, counter=1346\n",
            "2 --> 2\n",
            "Epoch=11, index=1080, loss=0.03420654679260527, counter=1371\n",
            "5 --> 5\n",
            "Epoch=11, index=2280, loss=0.0016713074408471584, counter=1373\n",
            "8 --> 8\n",
            "Epoch=11, index=1500, loss=0.07557230053159097, counter=1398\n",
            "1 --> 1\n",
            "Epoch=11, index=510, loss=0.19397369892491648, counter=1409\n",
            "7 --> 7\n",
            "Epoch=11, index=1830, loss=0.4644498076212282, counter=1463\n",
            "2 --> 2\n",
            "Epoch=11, index=180, loss=0.07333620002803704, counter=1473\n",
            "12 --> 12\n",
            "Epoch=11, index=1230, loss=0.006263999369305869, counter=1501\n",
            "12 --> 12\n",
            "Epoch=11, index=2250, loss=0.002642299747094512, counter=1505\n",
            "16 --> 16\n",
            "Epoch=11, index=1440, loss=0.04103251708826671, counter=1519\n",
            "7 --> 7\n",
            "Epoch=11, index=660, loss=0.279390965293472, counter=1582\n",
            "7 --> 7\n",
            "Epoch=11, index=1920, loss=0.0038904598040971905, counter=1592\n",
            "2 --> 2\n",
            "Epoch=11, index=1290, loss=0.25979416227395025, counter=1612\n",
            "5 --> 5\n",
            "Epoch=11, index=1320, loss=0.10214317460389187, counter=1616\n",
            "1 --> 1\n",
            "Epoch=11, index=60, loss=0.032344891736283896, counter=1627\n",
            "2 --> 2\n",
            "Epoch=11, index=2130, loss=0.016509463731199502, counter=1651\n",
            "5 --> 5\n",
            "Epoch=11, index=900, loss=0.0031937127001583575, counter=1656\n",
            "7 --> 7\n",
            "Epoch=11, index=2070, loss=0.07326803027729814, counter=1698\n",
            "3 --> 3\n",
            "Epoch=11, index=1140, loss=0.14003811521300424, counter=1710\n",
            "3 --> 3\n",
            "Epoch=11, index=570, loss=0.00046049713467558224, counter=1712\n",
            "2 --> 2\n",
            "Epoch=11, index=1950, loss=0.013858236543213328, counter=1732\n",
            "3 --> 3\n",
            "Epoch=11, index=2010, loss=0.3172337212522204, counter=1779\n",
            "12 --> 12\n",
            "Epoch=11, index=720, loss=0.011204242799431085, counter=1798\n",
            "7 --> 7\n",
            "Epoch=11, index=2340, loss=0.40049284827546217, counter=1884\n",
            "7 --> 7\n",
            "Epoch=11, index=1200, loss=0.051410063041839746, counter=1920\n",
            "1 --> 1\n",
            "Epoch=11, index=2400, loss=0.3787210441873564, counter=1948\n",
            "10 --> 4\n",
            "Epoch=11, index=630, loss=0.1373151562564696, counter=1964\n",
            "7 --> 7\n",
            "Epoch=11, index=1020, loss=0.000693426871051391, counter=1966\n",
            "2 --> 2\n",
            "Epoch=11, index=1860, loss=0.14389802184111128, counter=1994\n",
            "2 --> 2\n",
            "Epoch=11, index=1620, loss=0.10120173902250826, counter=2057\n",
            "9 --> 9\n",
            "Epoch=11, index=120, loss=0.02904262295148025, counter=2072\n",
            "7 --> 7\n",
            "Epoch=11, index=30, loss=0.0005744697526097297, counter=2073\n",
            "6 --> 6\n",
            "Epoch=11, index=2460, loss=0.007524141583902141, counter=2083\n",
            "8 --> 8\n",
            "Accuracy: 0.74\n",
            "[('Parkkisähkö', 7, 13), ('Rel8', 13, 9), ('Nocofio', 8, 2), ('upm-kymmene corporation', 7, 13), ('Sawtooth seafood', 14, 1)]\n",
            "total loss=0.11357125639915466\n",
            "TIME TILL NOW: avg=1.0, for 11 epochs - 11.1 min\n",
            "2093\n",
            "Epoch=12, index=990, loss=0.015683695829162996, counter=4\n",
            "2 --> 2\n",
            "Epoch=12, index=2040, loss=0.15969153511493156, counter=17\n",
            "12 --> 12\n",
            "Epoch=12, index=1140, loss=0.3910807232372463, counter=111\n",
            "3 --> 3\n",
            "Epoch=12, index=120, loss=0.0009096170232320825, counter=114\n",
            "7 --> 7\n",
            "Epoch=12, index=1920, loss=0.0399447611940559, counter=158\n",
            "2 --> 2\n",
            "Epoch=12, index=960, loss=0.2192091199744027, counter=216\n",
            "7 --> 7\n",
            "Epoch=12, index=1230, loss=0.014628028033378844, counter=235\n",
            "12 --> 12\n",
            "Epoch=12, index=1500, loss=0.004833787846534202, counter=250\n",
            "1 --> 1\n",
            "Epoch=12, index=90, loss=0.003874107589945197, counter=253\n",
            "17 --> 17\n",
            "Epoch=12, index=1620, loss=0.01174421700804184, counter=262\n",
            "9 --> 9\n",
            "Epoch=12, index=540, loss=0.0009870706126093864, counter=265\n",
            "6 --> 6\n",
            "Epoch=12, index=60, loss=0.029191905985741565, counter=287\n",
            "2 --> 2\n",
            "Epoch=12, index=1650, loss=0.1558946324463856, counter=341\n",
            "8 --> 8\n",
            "Epoch=12, index=2250, loss=0.00535935719187061, counter=352\n",
            "16 --> 16\n",
            "Epoch=12, index=2400, loss=0.5827834011278659, counter=508\n",
            "10 --> 3\n",
            "Epoch=12, index=2370, loss=0.0141276891498516, counter=512\n",
            "3 --> 3\n",
            "Epoch=12, index=360, loss=0.3109395994494359, counter=563\n",
            "13 --> 13\n",
            "Epoch=12, index=600, loss=0.040333169512450695, counter=580\n",
            "7 --> 7\n",
            "Epoch=12, index=660, loss=0.02987546621977041, counter=614\n",
            "7 --> 7\n",
            "Epoch=12, index=2340, loss=0.16958645871588185, counter=664\n",
            "7 --> 7\n",
            "Epoch=12, index=780, loss=0.24869820619157204, counter=710\n",
            "10 --> 10\n",
            "Epoch=12, index=1830, loss=0.04515307191565322, counter=786\n",
            "2 --> 2\n",
            "Epoch=12, index=2280, loss=0.08646475527590762, counter=842\n",
            "8 --> 8\n",
            "Epoch=12, index=570, loss=0.01541259595930266, counter=862\n",
            "2 --> 2\n",
            "Epoch=12, index=720, loss=0.010819562990218402, counter=886\n",
            "7 --> 7\n",
            "Epoch=12, index=1890, loss=0.009488336901025225, counter=899\n",
            "2 --> 2\n",
            "Epoch=12, index=330, loss=0.0053567127053005, counter=910\n",
            "7 --> 7\n",
            "Epoch=12, index=750, loss=0.011323002636587868, counter=925\n",
            "2 --> 2\n",
            "Epoch=12, index=2010, loss=0.046645112595676136, counter=977\n",
            "12 --> 12\n",
            "Epoch=12, index=1710, loss=0.14361508772708476, counter=1015\n",
            "2 --> 2\n",
            "Epoch=12, index=690, loss=0.015086898537507902, counter=1032\n",
            "1 --> 1\n",
            "Epoch=12, index=1590, loss=0.23169357202714308, counter=1078\n",
            "8 --> 8\n",
            "Epoch=12, index=900, loss=0.11640198442619294, counter=1150\n",
            "7 --> 7\n",
            "Epoch=12, index=1260, loss=0.0019431800775540373, counter=1156\n",
            "9 --> 9\n",
            "Epoch=12, index=150, loss=0.13642459145436683, counter=1169\n",
            "2 --> 2\n",
            "Epoch=12, index=2160, loss=0.38433499391345927, counter=1199\n",
            "3 --> 3\n",
            "Epoch=12, index=1860, loss=0.009378011831237624, counter=1228\n",
            "2 --> 2\n",
            "Epoch=12, index=930, loss=0.28763723965967075, counter=1343\n",
            "2 --> 2\n",
            "Epoch=12, index=1980, loss=0.0008481914332757394, counter=1347\n",
            "3 --> 3\n",
            "Epoch=12, index=2070, loss=0.011465184553526343, counter=1371\n",
            "3 --> 3\n",
            "Epoch=12, index=1380, loss=0.001565332202396045, counter=1375\n",
            "4 --> 4\n",
            "Epoch=12, index=390, loss=0.00013332688249647617, counter=1376\n",
            "16 --> 16\n",
            "Epoch=12, index=510, loss=0.008522870531305671, counter=1395\n",
            "7 --> 7\n",
            "Epoch=12, index=1290, loss=0.023500168641718725, counter=1413\n",
            "5 --> 5\n",
            "Epoch=12, index=630, loss=0.003112807256790499, counter=1425\n",
            "7 --> 7\n",
            "Epoch=12, index=1080, loss=0.40532454392135453, counter=1603\n",
            "5 --> 5\n",
            "Epoch=12, index=1680, loss=0.004112553914698462, counter=1611\n",
            "7 --> 7\n",
            "Epoch=12, index=1740, loss=0.08740638366628749, counter=1639\n",
            "3 --> 3\n",
            "Epoch=12, index=1950, loss=0.0013678147360527268, counter=1644\n",
            "3 --> 3\n",
            "Epoch=12, index=2190, loss=0.012411800921351338, counter=1655\n",
            "4 --> 4\n",
            "Epoch=12, index=1470, loss=0.1372403906250838, counter=1677\n",
            "12 --> 12\n",
            "Epoch=12, index=1410, loss=0.000511920622860392, counter=1680\n",
            "7 --> 7\n",
            "Epoch=12, index=180, loss=0.0003820926882326603, counter=1681\n",
            "12 --> 12\n",
            "Epoch=12, index=1020, loss=0.004038966673154694, counter=1699\n",
            "2 --> 2\n",
            "Epoch=12, index=270, loss=0.0013583256242175898, counter=1702\n",
            "5 --> 5\n",
            "Epoch=12, index=1350, loss=0.0030705917432593804, counter=1709\n",
            "4 --> 4\n",
            "Epoch=12, index=2460, loss=0.2096215005478977, counter=1768\n",
            "8 --> 8\n",
            "Epoch=12, index=30, loss=0.0005663252746065457, counter=1769\n",
            "6 --> 6\n",
            "Epoch=12, index=1200, loss=0.004242163000162691, counter=1778\n",
            "1 --> 1\n",
            "Epoch=12, index=2130, loss=0.21807621021289378, counter=1802\n",
            "5 --> 5\n",
            "Epoch=12, index=0, loss=0.008242188186462348, counter=1821\n",
            "7 --> 7\n",
            "Epoch=12, index=1170, loss=0.10961261074601983, counter=1865\n",
            "1 --> 1\n",
            "Epoch=12, index=1320, loss=0.11557951493693205, counter=1919\n",
            "1 --> 1\n",
            "Epoch=12, index=840, loss=0.06852430316309134, counter=1921\n",
            "2 --> 12\n",
            "Epoch=12, index=870, loss=0.4005054133362137, counter=1991\n",
            "7 --> 7\n",
            "Epoch=12, index=1440, loss=0.003732240289294471, counter=2003\n",
            "7 --> 7\n",
            "Epoch=12, index=300, loss=0.1447757139025877, counter=2074\n",
            "12 --> 12\n",
            "Accuracy: 0.72\n",
            "[('Parkkisähkö', 7, 13), ('Rel8', 13, 9), ('Nocofio', 8, 2), ('DoPay', 1, 8), ('MEMBRASENZ GmbH', 7, 9)]\n",
            "total loss=0.08609452843666077\n",
            "TIME TILL NOW: avg=1.2, for 12 epochs - 13.9 min\n",
            "2093\n",
            "Epoch=13, index=1320, loss=0.002946118148975074, counter=9\n",
            "1 --> 1\n",
            "Epoch=13, index=1020, loss=0.10826797189268594, counter=58\n",
            "2 --> 2\n",
            "Epoch=13, index=1860, loss=0.0028390402808630218, counter=70\n",
            "2 --> 2\n",
            "Epoch=13, index=2070, loss=0.006335671083070338, counter=90\n",
            "3 --> 3\n",
            "Epoch=13, index=2040, loss=0.0127960861621735, counter=123\n",
            "12 --> 12\n",
            "Epoch=13, index=300, loss=0.0316602758015506, counter=160\n",
            "12 --> 12\n",
            "Epoch=13, index=930, loss=0.0030231962116279948, counter=170\n",
            "2 --> 2\n",
            "Epoch=13, index=660, loss=0.008038755436427892, counter=191\n",
            "7 --> 7\n",
            "Epoch=13, index=840, loss=0.04281913812155835, counter=197\n",
            "2 --> 2\n",
            "Epoch=13, index=1200, loss=0.0004531890774766604, counter=199\n",
            "1 --> 1\n",
            "Epoch=13, index=270, loss=0.23268014868178094, counter=254\n",
            "5 --> 5\n",
            "Epoch=13, index=1890, loss=0.05367997495244102, counter=290\n",
            "2 --> 2\n",
            "Epoch=13, index=1500, loss=0.010284130872848133, counter=296\n",
            "1 --> 1\n",
            "Epoch=13, index=360, loss=0.001000630494672805, counter=301\n",
            "13 --> 13\n",
            "Epoch=13, index=1080, loss=0.05034912990716597, counter=313\n",
            "5 --> 5\n",
            "Epoch=13, index=2250, loss=0.012754682118732793, counter=343\n",
            "16 --> 16\n",
            "Epoch=13, index=1230, loss=0.0014915364483992259, counter=344\n",
            "12 --> 12\n",
            "Epoch=13, index=1290, loss=0.021002917592219696, counter=391\n",
            "5 --> 5\n",
            "Epoch=13, index=960, loss=0.10084636038712537, counter=402\n",
            "7 --> 7\n",
            "Epoch=13, index=990, loss=0.0032243179448414594, counter=413\n",
            "2 --> 2\n",
            "Epoch=13, index=60, loss=0.07839780337914513, counter=434\n",
            "2 --> 2\n",
            "Epoch=13, index=870, loss=0.033533114756573924, counter=507\n",
            "7 --> 7\n",
            "Epoch=13, index=1170, loss=0.28646237146458586, counter=546\n",
            "1 --> 1\n",
            "Epoch=13, index=1440, loss=0.000649248156696558, counter=549\n",
            "7 --> 7\n",
            "Epoch=13, index=540, loss=0.02696073053521104, counter=614\n",
            "6 --> 6\n",
            "Epoch=13, index=1620, loss=0.30046767679111025, counter=644\n",
            "9 --> 9\n",
            "Epoch=13, index=1380, loss=0.0017928377414743106, counter=648\n",
            "4 --> 4\n",
            "Epoch=13, index=1740, loss=0.01076998229060943, counter=656\n",
            "3 --> 3\n",
            "Epoch=13, index=1710, loss=0.0004477022564969957, counter=660\n",
            "2 --> 2\n",
            "Epoch=13, index=1830, loss=0.03255590693394576, counter=668\n",
            "2 --> 2\n",
            "Epoch=13, index=150, loss=0.051953334390418604, counter=712\n",
            "2 --> 2\n",
            "Epoch=13, index=90, loss=0.004336518409157482, counter=727\n",
            "17 --> 17\n",
            "Epoch=13, index=1260, loss=0.04097065560054034, counter=744\n",
            "9 --> 9\n",
            "Epoch=13, index=180, loss=0.13840562840729642, counter=802\n",
            "12 --> 12\n",
            "Epoch=13, index=1650, loss=0.09833160416941003, counter=830\n",
            "8 --> 8\n",
            "Epoch=13, index=1950, loss=0.03844950726779643, counter=848\n",
            "3 --> 3\n",
            "Epoch=13, index=2340, loss=0.10333559728460387, counter=880\n",
            "7 --> 7\n",
            "Epoch=13, index=1680, loss=1.6708953383689127e-05, counter=881\n",
            "7 --> 7\n",
            "Epoch=13, index=1920, loss=0.03491206278170769, counter=904\n",
            "2 --> 2\n",
            "Epoch=13, index=2460, loss=0.18837269508027626, counter=1057\n",
            "8 --> 8\n",
            "Epoch=13, index=0, loss=0.07476640346964511, counter=1100\n",
            "7 --> 7\n",
            "Epoch=13, index=780, loss=0.004697265413900216, counter=1103\n",
            "10 --> 10\n",
            "Epoch=13, index=690, loss=0.0001284822045514981, counter=1104\n",
            "1 --> 1\n",
            "Epoch=13, index=510, loss=0.4915403833928091, counter=1171\n",
            "7 --> 7\n",
            "Epoch=13, index=1470, loss=0.008294317360559944, counter=1176\n",
            "12 --> 12\n",
            "Epoch=13, index=330, loss=0.13483996089586678, counter=1191\n",
            "7 --> 7\n",
            "Epoch=13, index=120, loss=0.013186574461481844, counter=1206\n",
            "7 --> 7\n",
            "Epoch=13, index=1140, loss=0.2907681257114746, counter=1269\n",
            "3 --> 3\n",
            "Epoch=13, index=2400, loss=0.1614588710013777, counter=1277\n",
            "10 --> 4\n",
            "Epoch=13, index=2370, loss=0.16509602073929272, counter=1298\n",
            "3 --> 4\n",
            "Epoch=13, index=390, loss=0.03240824743406847, counter=1330\n",
            "16 --> 16\n",
            "Epoch=13, index=2130, loss=0.10334726329698848, counter=1368\n",
            "5 --> 5\n",
            "Epoch=13, index=2190, loss=0.0009579428161183994, counter=1370\n",
            "4 --> 4\n",
            "Epoch=13, index=1590, loss=0.5725898225449783, counter=1452\n",
            "8 --> 8\n",
            "Epoch=13, index=2280, loss=0.010930758196627722, counter=1468\n",
            "8 --> 8\n",
            "Epoch=13, index=1980, loss=0.01907953232876025, counter=1480\n",
            "3 --> 3\n",
            "Epoch=13, index=750, loss=0.0005685014824848622, counter=1486\n",
            "2 --> 2\n",
            "Epoch=13, index=900, loss=0.5226871309675819, counter=1544\n",
            "7 --> 7\n",
            "Epoch=13, index=1350, loss=0.3138173278653994, counter=1568\n",
            "4 --> 4\n",
            "Epoch=13, index=570, loss=0.013054502491528789, counter=1573\n",
            "2 --> 2\n",
            "Epoch=13, index=630, loss=0.342074553668499, counter=1665\n",
            "7 --> 7\n",
            "Epoch=13, index=720, loss=0.42902266344948053, counter=1757\n",
            "7 --> 7\n",
            "Epoch=13, index=1410, loss=0.3212182897822155, counter=1773\n",
            "7 --> 7\n",
            "Epoch=13, index=30, loss=0.10096284141667032, counter=1817\n",
            "6 --> 6\n",
            "Epoch=13, index=600, loss=0.0007057752673669408, counter=1823\n",
            "7 --> 7\n",
            "Epoch=13, index=2160, loss=0.0011522026111682256, counter=1828\n",
            "3 --> 3\n",
            "Epoch=13, index=2010, loss=0.3094316615150698, counter=1847\n",
            "12 --> 12\n",
            "Accuracy: 0.72\n",
            "[('Parkkisähkö', 7, 13), ('Rel8', 13, 9), ('Nocofio', 8, 2), ('DoPay', 1, 8), ('MEMBRASENZ GmbH', 7, 9)]\n",
            "total loss=0.10313525050878525\n",
            "TIME TILL NOW: avg=1.3, for 13 epochs - 16.6 min\n"
          ],
          "name": "stdout"
        },
        {
          "output_type": "display_data",
          "data": {
            "image/png": "[encoded data removed]",
            "text/plain": [
              "<Figure size 432x288 with 1 Axes>"
            ]
          },
          "metadata": {
            "tags": [],
            "needs_background": "light"
          }
        },
        {
          "output_type": "display_data",
          "data": {
            "image/png": "[encoded data removed]",
            "text/plain": [
              "<Figure size 432x288 with 1 Axes>"
            ]
          },
          "metadata": {
            "tags": [],
            "needs_background": "light"
          }
        },
        {
          "output_type": "display_data",
          "data": {
            "image/png": "[encoded data removed]",
            "text/plain": [
              "<Figure size 432x288 with 1 Axes>"
            ]
          },
          "metadata": {
            "tags": [],
            "needs_background": "light"
          }
        },
        {
          "output_type": "display_data",
          "data": {
            "image/png": "[encoded data removed]",
            "text/plain": [
              "<Figure size 432x288 with 1 Axes>"
            ]
          },
          "metadata": {
            "tags": [],
            "needs_background": "light"
          }
        },
        {
          "output_type": "display_data",
          "data": {
            "image/png": "[encoded data removed]",
            "text/plain": [
              "<Figure size 432x288 with 1 Axes>"
            ]
          },
          "metadata": {
            "tags": [],
            "needs_background": "light"
          }
        },
        {
          "output_type": "display_data",
          "data": {
            "image/png": "[encoded data removed]",
            "text/plain": [
              "<Figure size 432x288 with 1 Axes>"
            ]
          },
          "metadata": {
            "tags": [],
            "needs_background": "light"
          }
        }
      ]
    },
    {
      "cell_type": "code",
      "metadata": {
        "id": "r8poCQIcy3wT",
        "outputId": "5365367e-3401-4275-9b54-9050538c699f",
        "colab": {
          "base_uri": "https://localhost:8080/",
          "height": 1000
        }
      },
      "source": [
        "evaluate_mode(X_test, model)"
      ],
      "execution_count": 22,
      "outputs": [
        {
          "output_type": "stream",
          "text": [
            "Accuracy: 0.72\n",
            "Auc: 0.56\n",
            "Detail:\n",
            "              precision    recall  f1-score   support\n",
            "\n",
            "           1       0.76      0.84      0.80        31\n",
            "           2       0.74      0.95      0.83        61\n",
            "           3       0.93      0.82      0.87        33\n",
            "           4       0.73      0.92      0.81        12\n",
            "           5       0.67      1.00      0.80         4\n",
            "           6       0.62      0.62      0.62         8\n",
            "           7       0.85      0.93      0.89        86\n",
            "           8       0.57      0.40      0.47        10\n",
            "           9       0.48      0.33      0.39        30\n",
            "          10       0.25      0.20      0.22         5\n",
            "          11       0.22      0.33      0.27         6\n",
            "          12       0.75      0.54      0.63        28\n",
            "          13       0.46      0.29      0.35        21\n",
            "          14       0.80      0.80      0.80        15\n",
            "          15       0.00      0.00      0.00         3\n",
            "          16       0.78      0.50      0.61        14\n",
            "          17       0.00      0.00      0.00         3\n",
            "\n",
            "    accuracy                           0.72       370\n",
            "   macro avg       0.57      0.56      0.55       370\n",
            "weighted avg       0.72      0.72      0.71       370\n",
            "\n"
          ],
          "name": "stdout"
        },
        {
          "output_type": "display_data",
          "data": {
            "image/png": "[encoded data removed]",
            "text/plain": [
              "<Figure size 432x288 with 1 Axes>"
            ]
          },
          "metadata": {
            "tags": [],
            "needs_background": "light"
          }
        },
        {
          "output_type": "display_data",
          "data": {
            "image/png": "[encoded data removed]",
            "text/plain": [
              "<Figure size 720x360 with 2 Axes>"
            ]
          },
          "metadata": {
            "tags": [],
            "needs_background": "light"
          }
        },
        {
          "output_type": "execute_result",
          "data": {
            "text/plain": [
              "([('Parkkisähkö', 7, 13),\n",
              "  ('Rel8', 13, 9),\n",
              "  ('Nocofio', 8, 2),\n",
              "  ('DoPay', 1, 8),\n",
              "  ('MEMBRASENZ GmbH', 7, 9),\n",
              "  ('Deedster', 12, 8),\n",
              "  ('TimberFish Technologies', 14, 15),\n",
              "  ('SparkMarket', 9, 17),\n",
              "  ('Klarity', 16, 1),\n",
              "  ('PNGK', 16, 17),\n",
              "  ('Smart Symbiotech AS', 12, 7),\n",
              "  ('UniqKey', 16, 1),\n",
              "  ('Moving Mamas AS', 10, 5),\n",
              "  ('Nano Gas Technologies', 9, 14),\n",
              "  ('Bruhn NewTech', 1, 9),\n",
              "  ('http://incluyeme.com', 8, 10),\n",
              "  ('The Protein Directory', 12, 9),\n",
              "  ('Soil Scout Oy', 6, 2),\n",
              "  ('Internet of Trees', 1, 15),\n",
              "  ('Sun City Energy', 7, 2),\n",
              "  ('new horizon', 13, 11),\n",
              "  ('Konfio', 9, 1),\n",
              "  ('Weeboon', 16, 1),\n",
              "  ('SolarWave AB', 6, 7),\n",
              "  ('EVmatch', 13, 7),\n",
              "  ('Miopac. Mycelium biobased packaging', 9, 2),\n",
              "  ('Zero1 Capital', 9, 1),\n",
              "  ('Inforglobe Oy', 16, 9),\n",
              "  ('https://kiturbano.com/', 11, 12),\n",
              "  ('Growth Mosaic', 13, 9),\n",
              "  ('https://ororatech.com/', 15, 13),\n",
              "  ('Lead Sustainability', 17, 8),\n",
              "  ('Secrid', 9, 12),\n",
              "  ('Nordic Mapping Technologies', 9, 16),\n",
              "  ('Naava', 3, 6),\n",
              "  ('Ecoist AB', 13, 11),\n",
              "  ('Copenhagen Cycles', 10, 11),\n",
              "  ('KRING', 9, 11),\n",
              "  ('Evercharge', 13, 7),\n",
              "  ('MicroGraam Marketplace', 9, 2),\n",
              "  ('iUNU', 2, 7),\n",
              "  ('van de sant innovations', 14, 12),\n",
              "  ('HelloFresh', 12, 2),\n",
              "  ('Work Ahead', 8, 17),\n",
              "  ('Alva Motor Solutions', 12, 7),\n",
              "  ('Whim', 11, 13),\n",
              "  ('https://www.voiceitt.com/', 3, 10),\n",
              "  ('https://apic.ai/', 2, 15),\n",
              "  ('CrowdFarm', 11, 2),\n",
              "  ('ecobee', 7, 9),\n",
              "  ('Hydrocoin', 7, 1),\n",
              "  ('nilan a/s', 7, 3),\n",
              "  ('La Ciudad Posible', 13, 11),\n",
              "  ('Novaton', 13, 14),\n",
              "  ('Waste App', 9, 12),\n",
              "  ('TrusTrace', 12, 2),\n",
              "  ('Umati Capital', 9, 2),\n",
              "  ('bluetown', 9, 3),\n",
              "  ('SafePlug', 9, 7),\n",
              "  ('Intao', 8, 4),\n",
              "  ('SignLab AS', 10, 4),\n",
              "  ('https://www.ellipsis.earth/', 15, 14),\n",
              "  ('Adili Africa', 8, 5),\n",
              "  ('New Forests', 15, 2),\n",
              "  ('Biochar Central', 13, 2),\n",
              "  ('Nutrient Recovery & Upcycling', 9, 2),\n",
              "  ('BillerudKorsnäs', 9, 2),\n",
              "  ('Refarmed', 12, 2),\n",
              "  ('http://skilllab.io/', 8, 4),\n",
              "  ('Skyqraft', 9, 7),\n",
              "  ('Red Flash', 10, 16),\n",
              "  ('the apple girl', 12, 2),\n",
              "  ('Etsimo Healthcare', 3, 10),\n",
              "  ('Vilike', 3, 4),\n",
              "  ('https://www.planetwatchers.com/', 12, 2),\n",
              "  ('Pinoa Foods', 12, 2),\n",
              "  ('CarbonX', 13, 7),\n",
              "  ('Mark Labs Inc. ', 1, 9),\n",
              "  ('Folkelig AS', 17, 11),\n",
              "  ('Cocotech Colombia SAS', 13, 7),\n",
              "  ('Rebuilding Exchange', 13, 12),\n",
              "  ('Hippogriff', 3, 9),\n",
              "  ('Gro Play', 4, 2),\n",
              "  ('Integrico Composites', 9, 13),\n",
              "  ('GoPlayDOT', 3, 15),\n",
              "  ('https://www.solidrip.com/', 6, 2),\n",
              "  ('Disberse', 16, 17),\n",
              "  ('Yazamtec', 11, 13),\n",
              "  ('Mysa', 9, 7),\n",
              "  ('CORO; Co-lab Roskilde', 17, 9),\n",
              "  ('Seeds', 16, 1),\n",
              "  ('WellGuard', 14, 6),\n",
              "  ('Sulapac', 12, 13),\n",
              "  ('Phytonix Corporation', 9, 7),\n",
              "  ('Fair Green', 12, 2),\n",
              "  ('Points4Green', 13, 1),\n",
              "  ('NordSense', 12, 9),\n",
              "  ('Claro Energy', 2, 6),\n",
              "  ('dinex', 13, 7),\n",
              "  ('https://www.everimpact.com/', 13, 11),\n",
              "  ('Landslidepad', 1, 13),\n",
              "  ('Enertime', 9, 7)],\n",
              " 0.7243243243243244)"
            ]
          },
          "metadata": {
            "tags": []
          },
          "execution_count": 22
        }
      ]
    },
    {
      "cell_type": "code",
      "metadata": {
        "id": "9jgwtUoSy3wV",
        "outputId": "73e47626-ffc4-45b9-f5ab-4ceca123671d",
        "colab": {
          "base_uri": "https://localhost:8080/",
          "height": 279
        }
      },
      "source": [
        "## Plot loss for epoc\n",
        "\n",
        "import matplotlib.pyplot as plt\n",
        "%matplotlib inline\n",
        "plt.plot(range(epoch+n_epochs-1), losses)\n",
        "plt.ylabel('Cross Entropy Loss')\n",
        "plt.xlabel('epoch');"
      ],
      "execution_count": 24,
      "outputs": [
        {
          "output_type": "display_data",
          "data": {
            "image/png": "[encoded data removed]",
            "text/plain": [
              "<Figure size 432x288 with 1 Axes>"
            ]
          },
          "metadata": {
            "tags": [],
            "needs_background": "light"
          }
        }
      ]
    },
    {
      "cell_type": "code",
      "metadata": {
        "id": "4rQd-7zn4MB0",
        "outputId": "9227da5b-3bad-4783-b26c-5a91a5986c59",
        "colab": {
          "base_uri": "https://localhost:8080/",
          "height": 243
        }
      },
      "source": [
        "losses"
      ],
      "execution_count": 25,
      "outputs": [
        {
          "output_type": "execute_result",
          "data": {
            "text/plain": [
              "[tensor(1.6972, device='cuda:0', requires_grad=True),\n",
              " tensor(1.0721, device='cuda:0', requires_grad=True),\n",
              " tensor(0.7486, device='cuda:0', requires_grad=True),\n",
              " tensor(0.5085, device='cuda:0', requires_grad=True),\n",
              " tensor(0.3625, device='cuda:0', requires_grad=True),\n",
              " tensor(0.2475, device='cuda:0', requires_grad=True),\n",
              " tensor(0.1824, device='cuda:0', requires_grad=True),\n",
              " tensor(0.1590, device='cuda:0', grad_fn=<DivBackward0>),\n",
              " tensor(0.1248, device='cuda:0', grad_fn=<DivBackward0>),\n",
              " tensor(0.0999, device='cuda:0', grad_fn=<DivBackward0>),\n",
              " tensor(0.1136, device='cuda:0', grad_fn=<DivBackward0>),\n",
              " tensor(0.0861, device='cuda:0', grad_fn=<DivBackward0>),\n",
              " tensor(0.1031, device='cuda:0', grad_fn=<DivBackward0>)]"
            ]
          },
          "metadata": {
            "tags": []
          },
          "execution_count": 25
        }
      ]
    },
    {
      "cell_type": "code",
      "metadata": {
        "id": "_OJ6CG1Ry3wX"
      },
      "source": [
        "# errors"
      ],
      "execution_count": null,
      "outputs": []
    },
    {
      "cell_type": "code",
      "metadata": {
        "id": "f_CDR6KMy3wZ",
        "outputId": "57ad0319-fa98-4878-9152-c4d032a5ab81",
        "colab": {
          "base_uri": "https://localhost:8080/",
          "height": 260
        }
      },
      "source": [
        "scores = [x[1] for x in errors]\n",
        "print(f\"avg - {sum(scores[-10:])/len(scores[-10:])}\")\n",
        "scores"
      ],
      "execution_count": 26,
      "outputs": [
        {
          "output_type": "stream",
          "text": [
            "avg - 0.721891891891892\n"
          ],
          "name": "stdout"
        },
        {
          "output_type": "execute_result",
          "data": {
            "text/plain": [
              "[0.6756756756756757,\n",
              " 0.7378378378378379,\n",
              " 0.727027027027027,\n",
              " 0.7135135135135136,\n",
              " 0.7135135135135136,\n",
              " 0.7405405405405405,\n",
              " 0.7162162162162162,\n",
              " 0.7189189189189189,\n",
              " 0.7162162162162162,\n",
              " 0.7243243243243244,\n",
              " 0.7351351351351352,\n",
              " 0.7162162162162162,\n",
              " 0.7243243243243244]"
            ]
          },
          "metadata": {
            "tags": []
          },
          "execution_count": 26
        }
      ]
    },
    {
      "cell_type": "code",
      "metadata": {
        "id": "EY6NHhmqy3wa"
      },
      "source": [
        "# save model configuration for latter training\n",
        "\n",
        "checkpoint = {\n",
        "    'model_state_dict': model.state_dict(),\n",
        "    'optimizer_state_dict': optimizer.state_dict(),\n",
        "    'epoch': epoch+n_epochs,\n",
        "    'losses': losses,\n",
        "    'errors': errors\n",
        "}\n",
        "\n",
        "torch.save(checkpoint, f\"../models/model_SDG_checkpoint_{checkpoint['epoch']}.tar\")"
      ],
      "execution_count": 27,
      "outputs": []
    },
    {
      "cell_type": "markdown",
      "metadata": {
        "id": "qb_3CdPWECz-"
      },
      "source": [
        "# Top N Goals"
      ]
    },
    {
      "cell_type": "code",
      "metadata": {
        "id": "YYAqeqzh__Tt"
      },
      "source": [
        "# Configuration\n",
        "\n",
        "N = 7\n",
        "n_epochs = 30\n",
        "\n",
        "def readDataAndselectTopGoals(N):\n",
        "  data = read_data()\n",
        "  labels = data['SDG Goal'].value_counts().index.tolist()[:N]\n",
        "  return data[data['SDG Goal'].isin(labels)]\n"
      ],
      "execution_count": null,
      "outputs": []
    },
    {
      "cell_type": "markdown",
      "metadata": {
        "id": "g5lQ5xYpDq8D"
      },
      "source": [
        "##Predict Five Ps from Top N goals"
      ]
    },
    {
      "cell_type": "code",
      "metadata": {
        "id": "aeQk5b4_CHUR"
      },
      "source": [
        "data = readDataAndselectTopGoals(N)\n",
        "data.shape"
      ],
      "execution_count": null,
      "outputs": []
    },
    {
      "cell_type": "code",
      "metadata": {
        "id": "f27Br2iEwgq7"
      },
      "source": [
        "data['Target'] = data['five Ps']\n",
        "labels = list(data['Target'].value_counts().keys().values)\n",
        "X_train, X_test, y_train, y_test = train_test_split(data, data[\"Target\"], test_size=0.15, random_state=42)\n",
        "print(labels)\n",
        "print(len(X_train), len(y_train))\n",
        "print(len(X_test), len(y_test))\n",
        "print(X_train.index[0:5])"
      ],
      "execution_count": null,
      "outputs": []
    },
    {
      "cell_type": "code",
      "metadata": {
        "id": "TVLXGJo1hd8D",
        "outputId": "2a5ac7ae-ff12-491b-a37a-9a757bdc0ced",
        "colab": {
          "base_uri": "https://localhost:8080/",
          "height": 69
        }
      },
      "source": [
        "data['Target'].value_counts()"
      ],
      "execution_count": null,
      "outputs": [
        {
          "output_type": "execute_result",
          "data": {
            "text/plain": [
              "Prosperity    292\n",
              "People        285\n",
              "Name: Target, dtype: int64"
            ]
          },
          "metadata": {
            "tags": []
          },
          "execution_count": 85
        }
      ]
    },
    {
      "cell_type": "code",
      "metadata": {
        "id": "KcQuB0fZK9YX"
      },
      "source": [
        "X_test['Target'].value_counts()"
      ],
      "execution_count": null,
      "outputs": []
    },
    {
      "cell_type": "code",
      "metadata": {
        "id": "NE5g5iZmfF65"
      },
      "source": [
        "model = SDGModel(len(labels)).cuda()"
      ],
      "execution_count": null,
      "outputs": []
    },
    {
      "cell_type": "code",
      "metadata": {
        "id": "EnVuFOSkco63"
      },
      "source": [
        "model(\"Hello World\")"
      ],
      "execution_count": null,
      "outputs": []
    },
    {
      "cell_type": "code",
      "metadata": {
        "id": "BEt8deYMfF6-"
      },
      "source": [
        "criterion = torch.nn.CrossEntropyLoss()\n",
        "optimizer = AdamW(model.parameters(), lr=1e-5)"
      ],
      "execution_count": null,
      "outputs": []
    },
    {
      "cell_type": "code",
      "metadata": {
        "id": "SwKpBtd7zqT1"
      },
      "source": [
        "import time\n",
        "\n",
        "start_time = time.time()\n",
        "losses = []\n",
        "errors = []\n",
        "\n",
        "for e in range(1, n_epochs+1):\n",
        "  current_loss = 0\n",
        "  curr_loss = 0;\n",
        "  curr_data = X_train.sample(frac=1)\n",
        "  print(len(curr_data))\n",
        "  for index, instance in curr_data.iterrows():\n",
        "    optimizer.zero_grad()\n",
        "    out = model(instance[\"About\"].lower())\n",
        "    loss = criterion(out.view(1, -1), torch.LongTensor([labels.index(instance[\"Target\"])]).cuda())\n",
        "    curr_loss += loss\n",
        "    loss.backward()\n",
        "    optimizer.step()\n",
        "    current_loss += loss.item()\n",
        "    if index % 30 == 0:\n",
        "      print(f\"Epoch={e}, index={index}, loss={current_loss/30}\")\n",
        "      print(f\"{instance['Target']} --> {labels[torch.argmax(out).item()]}\")\n",
        "      current_loss = 0\n",
        "  error = evaluate_mode(X_test, model)\n",
        "  print(error)\n",
        "  print(f\"total loss={curr_loss}\")\n",
        "  losses.append(curr_loss)\n",
        "  errors.append(error)\n",
        "  if e%5 == 0:\n",
        "    print(f\"TIME TILL NOW: for {e} epochs - {(time.time() - start_time)/60:.1f} min\")"
      ],
      "execution_count": null,
      "outputs": []
    },
    {
      "cell_type": "code",
      "metadata": {
        "id": "ktKQeag9PEna"
      },
      "source": [
        "import matplotlib.pyplot as plt\n",
        "%matplotlib inline\n",
        "plt.plot(range(n_epochs), losses)\n",
        "plt.ylabel('Cross Entropy Loss')\n",
        "plt.xlabel('epoch');"
      ],
      "execution_count": null,
      "outputs": []
    },
    {
      "cell_type": "code",
      "metadata": {
        "id": "hRWogGK6_lmY"
      },
      "source": [
        "evaluate_mode(X_test, model)"
      ],
      "execution_count": null,
      "outputs": []
    },
    {
      "cell_type": "code",
      "metadata": {
        "id": "xIrJhT-93rnl"
      },
      "source": [
        "errors"
      ],
      "execution_count": null,
      "outputs": []
    },
    {
      "cell_type": "code",
      "metadata": {
        "id": "64IccQ3_TMjw"
      },
      "source": [
        "scores = [x[1] for x in errors]\n",
        "scores"
      ],
      "execution_count": null,
      "outputs": []
    },
    {
      "cell_type": "markdown",
      "metadata": {
        "id": "QNV4oQi1JRWc"
      },
      "source": [
        "##Predict Goals from Top N goals"
      ]
    },
    {
      "cell_type": "code",
      "metadata": {
        "id": "kgzdRT4INZaf"
      },
      "source": [
        "data = readDataAndselectTopGoals(N)\n",
        "data.shape"
      ],
      "execution_count": null,
      "outputs": []
    },
    {
      "cell_type": "code",
      "metadata": {
        "id": "kg82rYC3JRWd"
      },
      "source": [
        "data['Target'] = data['SDG Goal']\n",
        "labels = list(data['Target'].value_counts().keys().values)\n",
        "X_train, X_test, y_train, y_test = train_test_split(data, data[\"Target\"], test_size=0.15, random_state=42)\n",
        "print(labels)\n",
        "print(len(X_train), len(y_train))\n",
        "print(len(X_test), len(y_test))\n",
        "print(X_train.index[0:5])"
      ],
      "execution_count": null,
      "outputs": []
    },
    {
      "cell_type": "code",
      "metadata": {
        "id": "RXEvumYLbRWk"
      },
      "source": [
        "X_test['Target'].value_counts()"
      ],
      "execution_count": null,
      "outputs": []
    },
    {
      "cell_type": "code",
      "metadata": {
        "id": "7ka2xwdhJRWg"
      },
      "source": [
        "model = SDGModel(len(labels)).cuda()"
      ],
      "execution_count": null,
      "outputs": []
    },
    {
      "cell_type": "code",
      "metadata": {
        "id": "bvlq4M98JRWj"
      },
      "source": [
        "model(\"Hello World\")"
      ],
      "execution_count": null,
      "outputs": []
    },
    {
      "cell_type": "code",
      "metadata": {
        "id": "2HHbjQ5PJRWl"
      },
      "source": [
        "criterion = torch.nn.CrossEntropyLoss()\n",
        "optimizer = AdamW(model.parameters(), lr=1e-5)"
      ],
      "execution_count": null,
      "outputs": []
    },
    {
      "cell_type": "code",
      "metadata": {
        "id": "OBkIC0IoJRWn"
      },
      "source": [
        "import time\n",
        "\n",
        "start_time = time.time()\n",
        "losses = []\n",
        "errors = []\n",
        "\n",
        "for e in range(1, n_epochs+1):\n",
        "  current_loss = 0\n",
        "  curr_loss = 0;\n",
        "  curr_data = X_train.sample(frac=1)\n",
        "  print(len(curr_data))\n",
        "  for index, instance in curr_data.iterrows():\n",
        "    optimizer.zero_grad()\n",
        "    out = model(instance[\"About\"].lower())\n",
        "    loss = criterion(out.view(1, -1), torch.LongTensor([labels.index(instance[\"Target\"])]).cuda())\n",
        "    curr_loss += loss\n",
        "    loss.backward()\n",
        "    optimizer.step()\n",
        "    current_loss += loss.item()\n",
        "    if index % 30 == 0:\n",
        "      print(f\"Epoch={e}, index={index}, loss={current_loss/30}\")\n",
        "      print(f\"{instance['Target']} --> {labels[torch.argmax(out).item()]}\")\n",
        "      current_loss = 0\n",
        "  error = evaluate_mode(X_test, model)\n",
        "  print(error)\n",
        "  print(f\"total loss={curr_loss}\")\n",
        "  losses.append(curr_loss)\n",
        "  errors.append(error)\n",
        "  if e%5 == 0:\n",
        "    print(f\"TIME TILL NOW: for {e} epochs - {(time.time() - start_time)/60:.1f} min\")"
      ],
      "execution_count": null,
      "outputs": []
    },
    {
      "cell_type": "code",
      "metadata": {
        "id": "UVxHZcbSJRWq"
      },
      "source": [
        "import matplotlib.pyplot as plt\n",
        "%matplotlib inline\n",
        "plt.plot(range(n_epochs), losses)\n",
        "plt.ylabel('Cross Entropy Loss')\n",
        "plt.xlabel('epoch');"
      ],
      "execution_count": null,
      "outputs": []
    },
    {
      "cell_type": "code",
      "metadata": {
        "id": "UeEf-2VZJRWs"
      },
      "source": [
        "evaluate_mode(X_test, model)"
      ],
      "execution_count": null,
      "outputs": []
    },
    {
      "cell_type": "code",
      "metadata": {
        "id": "Hnwqx2FRJRWv"
      },
      "source": [
        "errors"
      ],
      "execution_count": null,
      "outputs": []
    },
    {
      "cell_type": "code",
      "metadata": {
        "id": "vgdzUscdXNJw"
      },
      "source": [
        "scores = [x[1] for x in errors]\n",
        "scores"
      ],
      "execution_count": null,
      "outputs": []
    }
  ]
}