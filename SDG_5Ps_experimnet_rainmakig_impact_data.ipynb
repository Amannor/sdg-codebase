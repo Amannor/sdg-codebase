{
  "nbformat": 4,
  "nbformat_minor": 0,
  "metadata": {
    "colab": {
      "name": "SDG_5Ps_experiment_rainmakig_impact.ipynb",
      "provenance": [],
      "collapsed_sections": [
        "AcOTLitJhvAy",
        "qb_3CdPWECz-"
      ]
    },
    "kernelspec": {
      "name": "python3",
      "display_name": "Python 3"
    },
    "accelerator": "GPU",
    "widgets": {
      "application/vnd.jupyter.widget-state+json": {
        "b2873a6a44b54c178dd9fe7c2522d361": {
          "model_module": "@jupyter-widgets/controls",
          "model_name": "HBoxModel",
          "state": {
            "_view_name": "HBoxView",
            "_dom_classes": [],
            "_model_name": "HBoxModel",
            "_view_module": "@jupyter-widgets/controls",
            "_model_module_version": "1.5.0",
            "_view_count": null,
            "_view_module_version": "1.5.0",
            "box_style": "",
            "layout": "IPY_MODEL_9a890efd1c1740759fd3787c4cb66095",
            "_model_module": "@jupyter-widgets/controls",
            "children": [
              "IPY_MODEL_bc89ff9da8964205a6a8cc6a9a98d40c",
              "IPY_MODEL_dffd4ad963c94ffa8c9b95dc4a170d84"
            ]
          }
        },
        "9a890efd1c1740759fd3787c4cb66095": {
          "model_module": "@jupyter-widgets/base",
          "model_name": "LayoutModel",
          "state": {
            "_view_name": "LayoutView",
            "grid_template_rows": null,
            "right": null,
            "justify_content": null,
            "_view_module": "@jupyter-widgets/base",
            "overflow": null,
            "_model_module_version": "1.2.0",
            "_view_count": null,
            "flex_flow": null,
            "width": null,
            "min_width": null,
            "border": null,
            "align_items": null,
            "bottom": null,
            "_model_module": "@jupyter-widgets/base",
            "top": null,
            "grid_column": null,
            "overflow_y": null,
            "overflow_x": null,
            "grid_auto_flow": null,
            "grid_area": null,
            "grid_template_columns": null,
            "flex": null,
            "_model_name": "LayoutModel",
            "justify_items": null,
            "grid_row": null,
            "max_height": null,
            "align_content": null,
            "visibility": null,
            "align_self": null,
            "height": null,
            "min_height": null,
            "padding": null,
            "grid_auto_rows": null,
            "grid_gap": null,
            "max_width": null,
            "order": null,
            "_view_module_version": "1.2.0",
            "grid_template_areas": null,
            "object_position": null,
            "object_fit": null,
            "grid_auto_columns": null,
            "margin": null,
            "display": null,
            "left": null
          }
        },
        "bc89ff9da8964205a6a8cc6a9a98d40c": {
          "model_module": "@jupyter-widgets/controls",
          "model_name": "FloatProgressModel",
          "state": {
            "_view_name": "ProgressView",
            "style": "IPY_MODEL_51ce3cdb22dc4e818eb81b2715e724f4",
            "_dom_classes": [],
            "description": "Downloading: 100%",
            "_model_name": "FloatProgressModel",
            "bar_style": "success",
            "max": 231508,
            "_view_module": "@jupyter-widgets/controls",
            "_model_module_version": "1.5.0",
            "value": 231508,
            "_view_count": null,
            "_view_module_version": "1.5.0",
            "orientation": "horizontal",
            "min": 0,
            "description_tooltip": null,
            "_model_module": "@jupyter-widgets/controls",
            "layout": "IPY_MODEL_f8d8928d77db4c66a8b190ba30cb8343"
          }
        },
        "dffd4ad963c94ffa8c9b95dc4a170d84": {
          "model_module": "@jupyter-widgets/controls",
          "model_name": "HTMLModel",
          "state": {
            "_view_name": "HTMLView",
            "style": "IPY_MODEL_10ff0604d48d429f84f8ac2da5e1831a",
            "_dom_classes": [],
            "description": "",
            "_model_name": "HTMLModel",
            "placeholder": "​",
            "_view_module": "@jupyter-widgets/controls",
            "_model_module_version": "1.5.0",
            "value": " 232k/232k [00:00&lt;00:00, 790kB/s]",
            "_view_count": null,
            "_view_module_version": "1.5.0",
            "description_tooltip": null,
            "_model_module": "@jupyter-widgets/controls",
            "layout": "IPY_MODEL_ba0050723b804937a1c7c82b4babd260"
          }
        },
        "51ce3cdb22dc4e818eb81b2715e724f4": {
          "model_module": "@jupyter-widgets/controls",
          "model_name": "ProgressStyleModel",
          "state": {
            "_view_name": "StyleView",
            "_model_name": "ProgressStyleModel",
            "description_width": "initial",
            "_view_module": "@jupyter-widgets/base",
            "_model_module_version": "1.5.0",
            "_view_count": null,
            "_view_module_version": "1.2.0",
            "bar_color": null,
            "_model_module": "@jupyter-widgets/controls"
          }
        },
        "f8d8928d77db4c66a8b190ba30cb8343": {
          "model_module": "@jupyter-widgets/base",
          "model_name": "LayoutModel",
          "state": {
            "_view_name": "LayoutView",
            "grid_template_rows": null,
            "right": null,
            "justify_content": null,
            "_view_module": "@jupyter-widgets/base",
            "overflow": null,
            "_model_module_version": "1.2.0",
            "_view_count": null,
            "flex_flow": null,
            "width": null,
            "min_width": null,
            "border": null,
            "align_items": null,
            "bottom": null,
            "_model_module": "@jupyter-widgets/base",
            "top": null,
            "grid_column": null,
            "overflow_y": null,
            "overflow_x": null,
            "grid_auto_flow": null,
            "grid_area": null,
            "grid_template_columns": null,
            "flex": null,
            "_model_name": "LayoutModel",
            "justify_items": null,
            "grid_row": null,
            "max_height": null,
            "align_content": null,
            "visibility": null,
            "align_self": null,
            "height": null,
            "min_height": null,
            "padding": null,
            "grid_auto_rows": null,
            "grid_gap": null,
            "max_width": null,
            "order": null,
            "_view_module_version": "1.2.0",
            "grid_template_areas": null,
            "object_position": null,
            "object_fit": null,
            "grid_auto_columns": null,
            "margin": null,
            "display": null,
            "left": null
          }
        },
        "10ff0604d48d429f84f8ac2da5e1831a": {
          "model_module": "@jupyter-widgets/controls",
          "model_name": "DescriptionStyleModel",
          "state": {
            "_view_name": "StyleView",
            "_model_name": "DescriptionStyleModel",
            "description_width": "",
            "_view_module": "@jupyter-widgets/base",
            "_model_module_version": "1.5.0",
            "_view_count": null,
            "_view_module_version": "1.2.0",
            "_model_module": "@jupyter-widgets/controls"
          }
        },
        "ba0050723b804937a1c7c82b4babd260": {
          "model_module": "@jupyter-widgets/base",
          "model_name": "LayoutModel",
          "state": {
            "_view_name": "LayoutView",
            "grid_template_rows": null,
            "right": null,
            "justify_content": null,
            "_view_module": "@jupyter-widgets/base",
            "overflow": null,
            "_model_module_version": "1.2.0",
            "_view_count": null,
            "flex_flow": null,
            "width": null,
            "min_width": null,
            "border": null,
            "align_items": null,
            "bottom": null,
            "_model_module": "@jupyter-widgets/base",
            "top": null,
            "grid_column": null,
            "overflow_y": null,
            "overflow_x": null,
            "grid_auto_flow": null,
            "grid_area": null,
            "grid_template_columns": null,
            "flex": null,
            "_model_name": "LayoutModel",
            "justify_items": null,
            "grid_row": null,
            "max_height": null,
            "align_content": null,
            "visibility": null,
            "align_self": null,
            "height": null,
            "min_height": null,
            "padding": null,
            "grid_auto_rows": null,
            "grid_gap": null,
            "max_width": null,
            "order": null,
            "_view_module_version": "1.2.0",
            "grid_template_areas": null,
            "object_position": null,
            "object_fit": null,
            "grid_auto_columns": null,
            "margin": null,
            "display": null,
            "left": null
          }
        },
        "35f3d9c8f00e4d31868c2f98f79d7c2b": {
          "model_module": "@jupyter-widgets/controls",
          "model_name": "HBoxModel",
          "state": {
            "_view_name": "HBoxView",
            "_dom_classes": [],
            "_model_name": "HBoxModel",
            "_view_module": "@jupyter-widgets/controls",
            "_model_module_version": "1.5.0",
            "_view_count": null,
            "_view_module_version": "1.5.0",
            "box_style": "",
            "layout": "IPY_MODEL_54c15078c736435e987482e3f2295774",
            "_model_module": "@jupyter-widgets/controls",
            "children": [
              "IPY_MODEL_f100858d09d9485fb72a06f0448b1560",
              "IPY_MODEL_8c944f2e2bcd4ea4afc7a275432a18cc"
            ]
          }
        },
        "54c15078c736435e987482e3f2295774": {
          "model_module": "@jupyter-widgets/base",
          "model_name": "LayoutModel",
          "state": {
            "_view_name": "LayoutView",
            "grid_template_rows": null,
            "right": null,
            "justify_content": null,
            "_view_module": "@jupyter-widgets/base",
            "overflow": null,
            "_model_module_version": "1.2.0",
            "_view_count": null,
            "flex_flow": null,
            "width": null,
            "min_width": null,
            "border": null,
            "align_items": null,
            "bottom": null,
            "_model_module": "@jupyter-widgets/base",
            "top": null,
            "grid_column": null,
            "overflow_y": null,
            "overflow_x": null,
            "grid_auto_flow": null,
            "grid_area": null,
            "grid_template_columns": null,
            "flex": null,
            "_model_name": "LayoutModel",
            "justify_items": null,
            "grid_row": null,
            "max_height": null,
            "align_content": null,
            "visibility": null,
            "align_self": null,
            "height": null,
            "min_height": null,
            "padding": null,
            "grid_auto_rows": null,
            "grid_gap": null,
            "max_width": null,
            "order": null,
            "_view_module_version": "1.2.0",
            "grid_template_areas": null,
            "object_position": null,
            "object_fit": null,
            "grid_auto_columns": null,
            "margin": null,
            "display": null,
            "left": null
          }
        },
        "f100858d09d9485fb72a06f0448b1560": {
          "model_module": "@jupyter-widgets/controls",
          "model_name": "FloatProgressModel",
          "state": {
            "_view_name": "ProgressView",
            "style": "IPY_MODEL_5501182fa84f4c1fa92674a6fec87dd0",
            "_dom_classes": [],
            "description": "Downloading: 100%",
            "_model_name": "FloatProgressModel",
            "bar_style": "success",
            "max": 433,
            "_view_module": "@jupyter-widgets/controls",
            "_model_module_version": "1.5.0",
            "value": 433,
            "_view_count": null,
            "_view_module_version": "1.5.0",
            "orientation": "horizontal",
            "min": 0,
            "description_tooltip": null,
            "_model_module": "@jupyter-widgets/controls",
            "layout": "IPY_MODEL_251644e7edb94a60a136ef83955aa7ad"
          }
        },
        "8c944f2e2bcd4ea4afc7a275432a18cc": {
          "model_module": "@jupyter-widgets/controls",
          "model_name": "HTMLModel",
          "state": {
            "_view_name": "HTMLView",
            "style": "IPY_MODEL_6a00f83cb52e481fba88218d19c33d02",
            "_dom_classes": [],
            "description": "",
            "_model_name": "HTMLModel",
            "placeholder": "​",
            "_view_module": "@jupyter-widgets/controls",
            "_model_module_version": "1.5.0",
            "value": " 433/433 [00:09&lt;00:00, 44.2B/s]",
            "_view_count": null,
            "_view_module_version": "1.5.0",
            "description_tooltip": null,
            "_model_module": "@jupyter-widgets/controls",
            "layout": "IPY_MODEL_6323fe02c64c4fcdb7991eb61cfd5c09"
          }
        },
        "5501182fa84f4c1fa92674a6fec87dd0": {
          "model_module": "@jupyter-widgets/controls",
          "model_name": "ProgressStyleModel",
          "state": {
            "_view_name": "StyleView",
            "_model_name": "ProgressStyleModel",
            "description_width": "initial",
            "_view_module": "@jupyter-widgets/base",
            "_model_module_version": "1.5.0",
            "_view_count": null,
            "_view_module_version": "1.2.0",
            "bar_color": null,
            "_model_module": "@jupyter-widgets/controls"
          }
        },
        "251644e7edb94a60a136ef83955aa7ad": {
          "model_module": "@jupyter-widgets/base",
          "model_name": "LayoutModel",
          "state": {
            "_view_name": "LayoutView",
            "grid_template_rows": null,
            "right": null,
            "justify_content": null,
            "_view_module": "@jupyter-widgets/base",
            "overflow": null,
            "_model_module_version": "1.2.0",
            "_view_count": null,
            "flex_flow": null,
            "width": null,
            "min_width": null,
            "border": null,
            "align_items": null,
            "bottom": null,
            "_model_module": "@jupyter-widgets/base",
            "top": null,
            "grid_column": null,
            "overflow_y": null,
            "overflow_x": null,
            "grid_auto_flow": null,
            "grid_area": null,
            "grid_template_columns": null,
            "flex": null,
            "_model_name": "LayoutModel",
            "justify_items": null,
            "grid_row": null,
            "max_height": null,
            "align_content": null,
            "visibility": null,
            "align_self": null,
            "height": null,
            "min_height": null,
            "padding": null,
            "grid_auto_rows": null,
            "grid_gap": null,
            "max_width": null,
            "order": null,
            "_view_module_version": "1.2.0",
            "grid_template_areas": null,
            "object_position": null,
            "object_fit": null,
            "grid_auto_columns": null,
            "margin": null,
            "display": null,
            "left": null
          }
        },
        "6a00f83cb52e481fba88218d19c33d02": {
          "model_module": "@jupyter-widgets/controls",
          "model_name": "DescriptionStyleModel",
          "state": {
            "_view_name": "StyleView",
            "_model_name": "DescriptionStyleModel",
            "description_width": "",
            "_view_module": "@jupyter-widgets/base",
            "_model_module_version": "1.5.0",
            "_view_count": null,
            "_view_module_version": "1.2.0",
            "_model_module": "@jupyter-widgets/controls"
          }
        },
        "6323fe02c64c4fcdb7991eb61cfd5c09": {
          "model_module": "@jupyter-widgets/base",
          "model_name": "LayoutModel",
          "state": {
            "_view_name": "LayoutView",
            "grid_template_rows": null,
            "right": null,
            "justify_content": null,
            "_view_module": "@jupyter-widgets/base",
            "overflow": null,
            "_model_module_version": "1.2.0",
            "_view_count": null,
            "flex_flow": null,
            "width": null,
            "min_width": null,
            "border": null,
            "align_items": null,
            "bottom": null,
            "_model_module": "@jupyter-widgets/base",
            "top": null,
            "grid_column": null,
            "overflow_y": null,
            "overflow_x": null,
            "grid_auto_flow": null,
            "grid_area": null,
            "grid_template_columns": null,
            "flex": null,
            "_model_name": "LayoutModel",
            "justify_items": null,
            "grid_row": null,
            "max_height": null,
            "align_content": null,
            "visibility": null,
            "align_self": null,
            "height": null,
            "min_height": null,
            "padding": null,
            "grid_auto_rows": null,
            "grid_gap": null,
            "max_width": null,
            "order": null,
            "_view_module_version": "1.2.0",
            "grid_template_areas": null,
            "object_position": null,
            "object_fit": null,
            "grid_auto_columns": null,
            "margin": null,
            "display": null,
            "left": null
          }
        },
        "7fc2f179d10549b69252c707b5dd5e98": {
          "model_module": "@jupyter-widgets/controls",
          "model_name": "HBoxModel",
          "state": {
            "_view_name": "HBoxView",
            "_dom_classes": [],
            "_model_name": "HBoxModel",
            "_view_module": "@jupyter-widgets/controls",
            "_model_module_version": "1.5.0",
            "_view_count": null,
            "_view_module_version": "1.5.0",
            "box_style": "",
            "layout": "IPY_MODEL_1bdf08494cfa4786b1bc6247daf75529",
            "_model_module": "@jupyter-widgets/controls",
            "children": [
              "IPY_MODEL_28077b71268149acac4d1ad97b1f814a",
              "IPY_MODEL_4201493da52d45ac8fd9d371012b7148"
            ]
          }
        },
        "1bdf08494cfa4786b1bc6247daf75529": {
          "model_module": "@jupyter-widgets/base",
          "model_name": "LayoutModel",
          "state": {
            "_view_name": "LayoutView",
            "grid_template_rows": null,
            "right": null,
            "justify_content": null,
            "_view_module": "@jupyter-widgets/base",
            "overflow": null,
            "_model_module_version": "1.2.0",
            "_view_count": null,
            "flex_flow": null,
            "width": null,
            "min_width": null,
            "border": null,
            "align_items": null,
            "bottom": null,
            "_model_module": "@jupyter-widgets/base",
            "top": null,
            "grid_column": null,
            "overflow_y": null,
            "overflow_x": null,
            "grid_auto_flow": null,
            "grid_area": null,
            "grid_template_columns": null,
            "flex": null,
            "_model_name": "LayoutModel",
            "justify_items": null,
            "grid_row": null,
            "max_height": null,
            "align_content": null,
            "visibility": null,
            "align_self": null,
            "height": null,
            "min_height": null,
            "padding": null,
            "grid_auto_rows": null,
            "grid_gap": null,
            "max_width": null,
            "order": null,
            "_view_module_version": "1.2.0",
            "grid_template_areas": null,
            "object_position": null,
            "object_fit": null,
            "grid_auto_columns": null,
            "margin": null,
            "display": null,
            "left": null
          }
        },
        "28077b71268149acac4d1ad97b1f814a": {
          "model_module": "@jupyter-widgets/controls",
          "model_name": "FloatProgressModel",
          "state": {
            "_view_name": "ProgressView",
            "style": "IPY_MODEL_03a6936534fc4202ac1b8e91359c4826",
            "_dom_classes": [],
            "description": "Downloading: 100%",
            "_model_name": "FloatProgressModel",
            "bar_style": "success",
            "max": 440473133,
            "_view_module": "@jupyter-widgets/controls",
            "_model_module_version": "1.5.0",
            "value": 440473133,
            "_view_count": null,
            "_view_module_version": "1.5.0",
            "orientation": "horizontal",
            "min": 0,
            "description_tooltip": null,
            "_model_module": "@jupyter-widgets/controls",
            "layout": "IPY_MODEL_aeb115b785df408f8c4a82c42856b762"
          }
        },
        "4201493da52d45ac8fd9d371012b7148": {
          "model_module": "@jupyter-widgets/controls",
          "model_name": "HTMLModel",
          "state": {
            "_view_name": "HTMLView",
            "style": "IPY_MODEL_40741df285c24edcaf5e67bdefbb3018",
            "_dom_classes": [],
            "description": "",
            "_model_name": "HTMLModel",
            "placeholder": "​",
            "_view_module": "@jupyter-widgets/controls",
            "_model_module_version": "1.5.0",
            "value": " 440M/440M [00:09&lt;00:00, 45.6MB/s]",
            "_view_count": null,
            "_view_module_version": "1.5.0",
            "description_tooltip": null,
            "_model_module": "@jupyter-widgets/controls",
            "layout": "IPY_MODEL_aca6cc7040074dc089cd8e60fb1a610f"
          }
        },
        "03a6936534fc4202ac1b8e91359c4826": {
          "model_module": "@jupyter-widgets/controls",
          "model_name": "ProgressStyleModel",
          "state": {
            "_view_name": "StyleView",
            "_model_name": "ProgressStyleModel",
            "description_width": "initial",
            "_view_module": "@jupyter-widgets/base",
            "_model_module_version": "1.5.0",
            "_view_count": null,
            "_view_module_version": "1.2.0",
            "bar_color": null,
            "_model_module": "@jupyter-widgets/controls"
          }
        },
        "aeb115b785df408f8c4a82c42856b762": {
          "model_module": "@jupyter-widgets/base",
          "model_name": "LayoutModel",
          "state": {
            "_view_name": "LayoutView",
            "grid_template_rows": null,
            "right": null,
            "justify_content": null,
            "_view_module": "@jupyter-widgets/base",
            "overflow": null,
            "_model_module_version": "1.2.0",
            "_view_count": null,
            "flex_flow": null,
            "width": null,
            "min_width": null,
            "border": null,
            "align_items": null,
            "bottom": null,
            "_model_module": "@jupyter-widgets/base",
            "top": null,
            "grid_column": null,
            "overflow_y": null,
            "overflow_x": null,
            "grid_auto_flow": null,
            "grid_area": null,
            "grid_template_columns": null,
            "flex": null,
            "_model_name": "LayoutModel",
            "justify_items": null,
            "grid_row": null,
            "max_height": null,
            "align_content": null,
            "visibility": null,
            "align_self": null,
            "height": null,
            "min_height": null,
            "padding": null,
            "grid_auto_rows": null,
            "grid_gap": null,
            "max_width": null,
            "order": null,
            "_view_module_version": "1.2.0",
            "grid_template_areas": null,
            "object_position": null,
            "object_fit": null,
            "grid_auto_columns": null,
            "margin": null,
            "display": null,
            "left": null
          }
        },
        "40741df285c24edcaf5e67bdefbb3018": {
          "model_module": "@jupyter-widgets/controls",
          "model_name": "DescriptionStyleModel",
          "state": {
            "_view_name": "StyleView",
            "_model_name": "DescriptionStyleModel",
            "description_width": "",
            "_view_module": "@jupyter-widgets/base",
            "_model_module_version": "1.5.0",
            "_view_count": null,
            "_view_module_version": "1.2.0",
            "_model_module": "@jupyter-widgets/controls"
          }
        },
        "aca6cc7040074dc089cd8e60fb1a610f": {
          "model_module": "@jupyter-widgets/base",
          "model_name": "LayoutModel",
          "state": {
            "_view_name": "LayoutView",
            "grid_template_rows": null,
            "right": null,
            "justify_content": null,
            "_view_module": "@jupyter-widgets/base",
            "overflow": null,
            "_model_module_version": "1.2.0",
            "_view_count": null,
            "flex_flow": null,
            "width": null,
            "min_width": null,
            "border": null,
            "align_items": null,
            "bottom": null,
            "_model_module": "@jupyter-widgets/base",
            "top": null,
            "grid_column": null,
            "overflow_y": null,
            "overflow_x": null,
            "grid_auto_flow": null,
            "grid_area": null,
            "grid_template_columns": null,
            "flex": null,
            "_model_name": "LayoutModel",
            "justify_items": null,
            "grid_row": null,
            "max_height": null,
            "align_content": null,
            "visibility": null,
            "align_self": null,
            "height": null,
            "min_height": null,
            "padding": null,
            "grid_auto_rows": null,
            "grid_gap": null,
            "max_width": null,
            "order": null,
            "_view_module_version": "1.2.0",
            "grid_template_areas": null,
            "object_position": null,
            "object_fit": null,
            "grid_auto_columns": null,
            "margin": null,
            "display": null,
            "left": null
          }
        }
      }
    }
  },
  "cells": [
    {
      "cell_type": "code",
      "metadata": {
        "id": "D4jXbHljcE9d",
        "outputId": "03f885da-bb35-45ec-d06f-ec7d519bdebd",
        "colab": {
          "base_uri": "https://localhost:8080/",
          "height": 52
        }
      },
      "source": [
        "from google.colab import drive\n",
        "drive.mount('/content/drive')\n",
        "%cd drive/My Drive/SDG/project/sdg-codebase"
      ],
      "execution_count": null,
      "outputs": [
        {
          "output_type": "stream",
          "text": [
            "Drive already mounted at /content/drive; to attempt to forcibly remount, call drive.mount(\"/content/drive\", force_remount=True).\n",
            "/content/drive/My Drive/SDG/project/sdg-codebase\n"
          ],
          "name": "stdout"
        }
      ]
    },
    {
      "cell_type": "markdown",
      "metadata": {
        "id": "AcOTLitJhvAy"
      },
      "source": [
        "# Loading data"
      ]
    },
    {
      "cell_type": "code",
      "metadata": {
        "id": "OME6hHN_fF6T",
        "outputId": "8be93ed9-1890-4d9f-d3d2-dcaeda612a17",
        "colab": {
          "base_uri": "https://localhost:8080/",
          "height": 367
        }
      },
      "source": [
        "import pandas as pd\n",
        "!pip install transformers\n",
        "from transformers import BertTokenizer, BertModel, BertForMaskedLM\n",
        "from transformers import AdamW\n",
        "import torch\n",
        "import matplotlib.pyplot as plt\n",
        "from sklearn.model_selection import train_test_split\n",
        "from sklearn.metrics import confusion_matrix, accuracy_score"
      ],
      "execution_count": null,
      "outputs": [
        {
          "output_type": "stream",
          "text": [
            "Requirement already satisfied: transformers in /usr/local/lib/python3.6/dist-packages (3.3.1)\n",
            "Requirement already satisfied: regex!=2019.12.17 in /usr/local/lib/python3.6/dist-packages (from transformers) (2019.12.20)\n",
            "Requirement already satisfied: numpy in /usr/local/lib/python3.6/dist-packages (from transformers) (1.18.5)\n",
            "Requirement already satisfied: tokenizers==0.8.1.rc2 in /usr/local/lib/python3.6/dist-packages (from transformers) (0.8.1rc2)\n",
            "Requirement already satisfied: sacremoses in /usr/local/lib/python3.6/dist-packages (from transformers) (0.0.43)\n",
            "Requirement already satisfied: sentencepiece!=0.1.92 in /usr/local/lib/python3.6/dist-packages (from transformers) (0.1.91)\n",
            "Requirement already satisfied: filelock in /usr/local/lib/python3.6/dist-packages (from transformers) (3.0.12)\n",
            "Requirement already satisfied: tqdm>=4.27 in /usr/local/lib/python3.6/dist-packages (from transformers) (4.41.1)\n",
            "Requirement already satisfied: packaging in /usr/local/lib/python3.6/dist-packages (from transformers) (20.4)\n",
            "Requirement already satisfied: requests in /usr/local/lib/python3.6/dist-packages (from transformers) (2.23.0)\n",
            "Requirement already satisfied: dataclasses; python_version < \"3.7\" in /usr/local/lib/python3.6/dist-packages (from transformers) (0.7)\n",
            "Requirement already satisfied: six in /usr/local/lib/python3.6/dist-packages (from sacremoses->transformers) (1.15.0)\n",
            "Requirement already satisfied: joblib in /usr/local/lib/python3.6/dist-packages (from sacremoses->transformers) (0.16.0)\n",
            "Requirement already satisfied: click in /usr/local/lib/python3.6/dist-packages (from sacremoses->transformers) (7.1.2)\n",
            "Requirement already satisfied: pyparsing>=2.0.2 in /usr/local/lib/python3.6/dist-packages (from packaging->transformers) (2.4.7)\n",
            "Requirement already satisfied: idna<3,>=2.5 in /usr/local/lib/python3.6/dist-packages (from requests->transformers) (2.10)\n",
            "Requirement already satisfied: urllib3!=1.25.0,!=1.25.1,<1.26,>=1.21.1 in /usr/local/lib/python3.6/dist-packages (from requests->transformers) (1.24.3)\n",
            "Requirement already satisfied: chardet<4,>=3.0.2 in /usr/local/lib/python3.6/dist-packages (from requests->transformers) (3.0.4)\n",
            "Requirement already satisfied: certifi>=2017.4.17 in /usr/local/lib/python3.6/dist-packages (from requests->transformers) (2020.6.20)\n"
          ],
          "name": "stdout"
        }
      ]
    },
    {
      "cell_type": "code",
      "metadata": {
        "id": "8D5Ya4sH-s_r",
        "outputId": "ec8a71d2-30a0-4c39-af6b-7748f184f91a",
        "colab": {
          "base_uri": "https://localhost:8080/",
          "height": 35
        }
      },
      "source": [
        "def read_data():\n",
        "  return pd.read_csv(\"data/SDG_5Ps_rainmaking_impact_others_1_label.csv\")\n",
        "\n",
        "data = read_data()\n",
        "data.shape"
      ],
      "execution_count": null,
      "outputs": [
        {
          "output_type": "execute_result",
          "data": {
            "text/plain": [
              "(2463, 12)"
            ]
          },
          "metadata": {
            "tags": []
          },
          "execution_count": 4
        }
      ]
    },
    {
      "cell_type": "code",
      "metadata": {
        "id": "HdSGCewd-69t",
        "outputId": "af0cc7b8-8ea8-4c5b-b77b-dc5b5e09c8a9",
        "colab": {
          "base_uri": "https://localhost:8080/",
          "height": 603
        }
      },
      "source": [
        "data.head()"
      ],
      "execution_count": null,
      "outputs": [
        {
          "output_type": "execute_result",
          "data": {
            "text/html": [
              "<div>\n",
              "<style scoped>\n",
              "    .dataframe tbody tr th:only-of-type {\n",
              "        vertical-align: middle;\n",
              "    }\n",
              "\n",
              "    .dataframe tbody tr th {\n",
              "        vertical-align: top;\n",
              "    }\n",
              "\n",
              "    .dataframe thead th {\n",
              "        text-align: right;\n",
              "    }\n",
              "</style>\n",
              "<table border=\"1\" class=\"dataframe\">\n",
              "  <thead>\n",
              "    <tr style=\"text-align: right;\">\n",
              "      <th></th>\n",
              "      <th>Unnamed: 0</th>\n",
              "      <th>Unnamed: 0.1</th>\n",
              "      <th>Company</th>\n",
              "      <th>Website</th>\n",
              "      <th>Source</th>\n",
              "      <th>Description</th>\n",
              "      <th>Location</th>\n",
              "      <th>SDG Goal</th>\n",
              "      <th>five Ps</th>\n",
              "      <th>Rainmaking SDG Subtopic</th>\n",
              "      <th>Impact Statement</th>\n",
              "      <th>Location of Impact</th>\n",
              "    </tr>\n",
              "  </thead>\n",
              "  <tbody>\n",
              "    <tr>\n",
              "      <th>0</th>\n",
              "      <td>0</td>\n",
              "      <td>0</td>\n",
              "      <td>10Power</td>\n",
              "      <td>http://10pwr.com/</td>\n",
              "      <td>Rainmaking</td>\n",
              "      <td>10Power provides project development and finan...</td>\n",
              "      <td>USA</td>\n",
              "      <td>7</td>\n",
              "      <td>Prosperity</td>\n",
              "      <td>7.1 Energy Access Solutions</td>\n",
              "      <td>To provide project development and finance for...</td>\n",
              "      <td>United States of America</td>\n",
              "    </tr>\n",
              "    <tr>\n",
              "      <th>1</th>\n",
              "      <td>1</td>\n",
              "      <td>1</td>\n",
              "      <td>1Efficiency</td>\n",
              "      <td>1efficiency.com</td>\n",
              "      <td>Rainmaking</td>\n",
              "      <td>1Efficiency offers an integrated suite of cust...</td>\n",
              "      <td>USA</td>\n",
              "      <td>7</td>\n",
              "      <td>Prosperity</td>\n",
              "      <td>7.4 Energy Enablers</td>\n",
              "      <td>Energy management suite</td>\n",
              "      <td>United States of America</td>\n",
              "    </tr>\n",
              "    <tr>\n",
              "      <th>2</th>\n",
              "      <td>2</td>\n",
              "      <td>2</td>\n",
              "      <td>21CC Education</td>\n",
              "      <td>21cceducation.com</td>\n",
              "      <td>Rainmaking</td>\n",
              "      <td>21CC's offers courses for mid and higher level...</td>\n",
              "      <td>Netherlands</td>\n",
              "      <td>9</td>\n",
              "      <td>Prosperity</td>\n",
              "      <td>9.1 Innovative Logistics</td>\n",
              "      <td>21CC Recruitment &amp; Training - Careers &amp; Learni...</td>\n",
              "      <td>Netherlands/India/USA/Thailand</td>\n",
              "    </tr>\n",
              "    <tr>\n",
              "      <th>3</th>\n",
              "      <td>3</td>\n",
              "      <td>3</td>\n",
              "      <td>24SEA</td>\n",
              "      <td>24sea.eu</td>\n",
              "      <td>Rainmaking</td>\n",
              "      <td>24SEA provides a suite of solutions for monito...</td>\n",
              "      <td>Belgium</td>\n",
              "      <td>7</td>\n",
              "      <td>Prosperity</td>\n",
              "      <td>7.1 Energy Access Solutions</td>\n",
              "      <td>Offshore monitoring and engineering service pr...</td>\n",
              "      <td>Belgium</td>\n",
              "    </tr>\n",
              "    <tr>\n",
              "      <th>4</th>\n",
              "      <td>4</td>\n",
              "      <td>4</td>\n",
              "      <td>3B Ventures</td>\n",
              "      <td>https://3bvc.com</td>\n",
              "      <td>Rainmaking</td>\n",
              "      <td>3B Ventures is an early stage impact fund inve...</td>\n",
              "      <td>Malaysia</td>\n",
              "      <td>9</td>\n",
              "      <td>Prosperity</td>\n",
              "      <td>9.4 Data-based SME financing for developing ma...</td>\n",
              "      <td>Provider of AI consulting and data analytics s...</td>\n",
              "      <td>Denmark</td>\n",
              "    </tr>\n",
              "  </tbody>\n",
              "</table>\n",
              "</div>"
            ],
            "text/plain": [
              "   Unnamed: 0  ...              Location of Impact\n",
              "0           0  ...        United States of America\n",
              "1           1  ...        United States of America\n",
              "2           2  ...  Netherlands/India/USA/Thailand\n",
              "3           3  ...                         Belgium\n",
              "4           4  ...                         Denmark\n",
              "\n",
              "[5 rows x 12 columns]"
            ]
          },
          "metadata": {
            "tags": []
          },
          "execution_count": 5
        }
      ]
    },
    {
      "cell_type": "code",
      "metadata": {
        "id": "-iumGgwW7X7A",
        "outputId": "42bf90dd-f068-4a29-eec2-c52724a86494",
        "colab": {
          "base_uri": "https://localhost:8080/",
          "height": 329
        }
      },
      "source": [
        "data['SDG Goal'].value_counts()"
      ],
      "execution_count": null,
      "outputs": [
        {
          "output_type": "execute_result",
          "data": {
            "text/plain": [
              "7     591\n",
              "2     365\n",
              "3     250\n",
              "1     219\n",
              "9     165\n",
              "12    148\n",
              "13    136\n",
              "4      98\n",
              "8      80\n",
              "16     78\n",
              "6      56\n",
              "11     55\n",
              "14     55\n",
              "10     51\n",
              "5      45\n",
              "15     37\n",
              "17     34\n",
              "Name: SDG Goal, dtype: int64"
            ]
          },
          "metadata": {
            "tags": []
          },
          "execution_count": 6
        }
      ]
    },
    {
      "cell_type": "code",
      "metadata": {
        "id": "0owuuKtz7dkO",
        "outputId": "ca925e74-2c8f-4caa-df2e-11b97eb733f1",
        "colab": {
          "base_uri": "https://localhost:8080/",
          "height": 121
        }
      },
      "source": [
        "data['five Ps'].value_counts()"
      ],
      "execution_count": null,
      "outputs": [
        {
          "output_type": "execute_result",
          "data": {
            "text/plain": [
              "Prosperity      1090\n",
              "People          1033\n",
              "Planet           228\n",
              "Peace             78\n",
              "Partnerships      34\n",
              "Name: five Ps, dtype: int64"
            ]
          },
          "metadata": {
            "tags": []
          },
          "execution_count": 7
        }
      ]
    },
    {
      "cell_type": "code",
      "metadata": {
        "id": "MPDbc5ddGZ80",
        "outputId": "5374ffbd-273f-4c5b-e2ca-46b067480551",
        "colab": {
          "base_uri": "https://localhost:8080/",
          "height": 901
        }
      },
      "source": [
        "data['Location'].str.lower().value_counts()[:50]"
      ],
      "execution_count": null,
      "outputs": [
        {
          "output_type": "execute_result",
          "data": {
            "text/plain": [
              "usa               467\n",
              "sweden            204\n",
              "denmark           166\n",
              "india             126\n",
              "norway            114\n",
              "united kingdom    111\n",
              "finland            73\n",
              "netherlands        63\n",
              "københavn          57\n",
              "kenya              48\n",
              "france             42\n",
              "germany            38\n",
              "canada             35\n",
              "spain              34\n",
              "australia          31\n",
              "israel             30\n",
              "helsinki           30\n",
              "south africa       29\n",
              "switzerland        25\n",
              "austria            24\n",
              "mexico             24\n",
              "china              20\n",
              "argentina          19\n",
              "chile              19\n",
              "singapore          19\n",
              "nigeria            16\n",
              "ireland            15\n",
              "italy              15\n",
              "ghana              13\n",
              "helsingfors        13\n",
              "brazil             13\n",
              "oslo               12\n",
              "belgium             9\n",
              "colombia            9\n",
              "espoo               8\n",
              "uganda              8\n",
              "peru                8\n",
              "stockholm           8\n",
              "indonesia           8\n",
              "thailand            7\n",
              "copenhagen          6\n",
              "philippines         6\n",
              "frederiksberg       6\n",
              "guatemala           6\n",
              "oulu                6\n",
              "odense              5\n",
              "portugal            5\n",
              "nepal               5\n",
              "malaysia            5\n",
              "aalborg             4\n",
              "Name: Location, dtype: int64"
            ]
          },
          "metadata": {
            "tags": []
          },
          "execution_count": 33
        }
      ]
    },
    {
      "cell_type": "markdown",
      "metadata": {
        "id": "lJkMVMhsH8Uc"
      },
      "source": [
        "# plot metrics"
      ]
    },
    {
      "cell_type": "code",
      "metadata": {
        "id": "jGZfgw8l86Xy"
      },
      "source": [
        "def plotAccPrecRecall(y_test, y_pred, predicted_prob, verbose=False):\n",
        "  accuracy = metrics.accuracy_score(y_test, y_pred)\n",
        "  auc = metrics.roc_auc_score(y_test, predicted_prob, multi_class=\"ovr\")\n",
        "  print(\"Accuracy:\",  round(accuracy,2))\n",
        "  if verbose:\n",
        "    print(\"Auc:\", round(auc,2))\n",
        "    print(\"Detail:\")\n",
        "    print(metrics.classification_report(y_test, y_pred))\n",
        "\n",
        "  return accuracy"
      ],
      "execution_count": null,
      "outputs": []
    },
    {
      "cell_type": "code",
      "metadata": {
        "id": "4cGzkgf39VMB"
      },
      "source": [
        "def plotConfusionMatrix(y_test, y_pred, labels):\n",
        "  cm = metrics.confusion_matrix(y_test, y_pred, labels=labels)\n",
        "  fig, ax = plt.subplots()\n",
        "  sns.heatmap(cm, annot=True, fmt='d', ax=ax, cmap=plt.cm.Blues, \n",
        "              cbar=False)\n",
        "  ax.set(xlabel=\"Pred\", ylabel=\"True\", xticklabels=labels, \n",
        "        yticklabels=labels, title=\"Confusion matrix\")\n",
        "  plt.yticks(rotation=0)"
      ],
      "execution_count": null,
      "outputs": []
    },
    {
      "cell_type": "code",
      "metadata": {
        "id": "Cj3Ax6ZC-aow"
      },
      "source": [
        "def plotRocPrecRecallCurve(y_test, predicted_prob, labels):\n",
        "  y_test_array = pd.get_dummies(y_test, drop_first=False).values\n",
        "  fig, ax = plt.subplots(nrows=1, ncols=2, figsize=(10,5))\n",
        "  ## Plot roc\n",
        "  for i in range(len(labels)):\n",
        "      fpr, tpr, thresholds = metrics.roc_curve(y_test_array[:,i],  \n",
        "                            predicted_prob[:,i])\n",
        "      ax[0].plot(fpr, tpr, lw=3,\n",
        "                label='{0} (area={1:0.2f})'.format(labels[i], \n",
        "                                metrics.auc(fpr, tpr),)\n",
        "                )\n",
        "  ax[0].plot([0,1], [0,1], color='navy', lw=3, linestyle='--')\n",
        "  ax[0].set(xlim=[-0.05,1.0], ylim=[0.0,1.05], \n",
        "            xlabel='False Positive Rate', \n",
        "            ylabel=\"True Positive Rate (Recall)\", \n",
        "            title=\"Receiver operating characteristic\")\n",
        "  ax[0].legend(loc=\"lower right\")\n",
        "  ax[0].grid(True)\n",
        "      \n",
        "  ## Plot precision-recall curve\n",
        "  for i in range(len(labels)):\n",
        "      precision, recall, thresholds = metrics.precision_recall_curve(\n",
        "                  y_test_array[:,i], predicted_prob[:,i])\n",
        "      ax[1].plot(recall, precision, lw=3, \n",
        "                label='{0} (area={1:0.2f})'.format(labels[i], \n",
        "                                    metrics.auc(recall, precision))\n",
        "                )\n",
        "  ax[1].set(xlim=[0.0,1.05], ylim=[0.0,1.05], xlabel='Recall', \n",
        "            ylabel=\"Precision\", title=\"Precision-Recall curve\")\n",
        "  ax[1].legend(loc=\"best\")\n",
        "  ax[1].grid(True)\n",
        "  plt.show()"
      ],
      "execution_count": null,
      "outputs": []
    },
    {
      "cell_type": "code",
      "metadata": {
        "id": "LPmeEWfahUHD"
      },
      "source": [
        "def SDGToFivePs(x):\n",
        "  x = int(x.replace(\"_goal\",\"\"))\n",
        "  if x in range(0,7):\n",
        "    return 'People'\n",
        "  if x in range(13,16):\n",
        "    return 'Planet'\n",
        "  if x in range(7,13):\n",
        "    return 'Prosperity'\n",
        "  if x in range(16,17):\n",
        "    return 'Peace'\n",
        "  if x in range(17,18):\n",
        "    return 'Partnerships'\n",
        "  return None"
      ],
      "execution_count": null,
      "outputs": []
    },
    {
      "cell_type": "markdown",
      "metadata": {
        "id": "jUjJUFRG4CQI"
      },
      "source": [
        "# Model"
      ]
    },
    {
      "cell_type": "code",
      "metadata": {
        "id": "Dq6pJwCVpoKQ"
      },
      "source": [
        "class SDGModel(torch.nn.Module):\n",
        "  def __init__(self, output_size):\n",
        "    super(SDGModel, self).__init__()\n",
        "    self.tokenizer = BertTokenizer.from_pretrained('bert-base-uncased')\n",
        "    self.bert = BertModel.from_pretrained('bert-base-uncased')\n",
        "#     for index, param in enumerate(self.bert.parameters()):\n",
        "#         print(index, param.shape)\n",
        "#         param.requires_grad = False\n",
        "    self.out1 = torch.nn.Linear(768, 400)\n",
        "    self.drop = torch.nn.Dropout(0.5)\n",
        "    self.out2 = torch.nn.Linear(400, output_size)\n",
        "\n",
        "  def forward(self, text):\n",
        "    tokenized_text = self.tokenizer.tokenize(\"[CLS] \" + text + \" [SEP]\")\n",
        "    indexed_tokens = self.tokenizer.convert_tokens_to_ids(tokenized_text)\n",
        "    tokens_tensor = torch.tensor([indexed_tokens]).cuda()\n",
        "    \n",
        "    if tokens_tensor.shape[1] > 500:\n",
        "      tokens_tensor = tokens_tensor[0][0:500].unsqueeze(0)\n",
        "    outputs = self.bert(tokens_tensor)[0]\n",
        "    o = torch.nn.ReLU()(self.out1(outputs[0][0]))\n",
        "    o = self.drop(o)\n",
        "    return self.out2(o)\n"
      ],
      "execution_count": null,
      "outputs": []
    },
    {
      "cell_type": "code",
      "metadata": {
        "id": "PnTS_DCFjPw7"
      },
      "source": [
        "from sklearn import metrics\n",
        "import seaborn as sns\n",
        "import numpy as np\n",
        "\n",
        "def evaluate_mode(X_test, model, verbose=True):\n",
        "\n",
        "  model.eval()\n",
        "  errors = []\n",
        "\n",
        "  #eval\n",
        "  with torch.no_grad():\n",
        "      y_pred = []\n",
        "      predicted_prob = []\n",
        "      y_test = X_test[\"Target\"]\n",
        "      for index, instance in X_test.iterrows():\n",
        "          out = model(instance[\"Description\"].lower())\n",
        "          norm = abs(min(out))+out\n",
        "          probs = [x/sum(norm).item() for x in norm.tolist()]\n",
        "          predicted_prob.append(probs)\n",
        "          y_pred.append(labels[torch.argmax(out).item()])\n",
        "          # collect companies with errors\n",
        "          if instance['Target'] != labels[torch.argmax(out).item()]:\n",
        "            errors.append((instance['Company'], instance['Target'], labels[torch.argmax(out).item()]))\n",
        "      model.train()\n",
        "\n",
        "  predicted_prob = np.array(predicted_prob)\n",
        "\n",
        "  ## plot Accuracy, Precision, Recall\n",
        "  accuracy = plotAccPrecRecall(y_test, y_pred, predicted_prob, verbose)\n",
        "      \n",
        "  ## Plot confusion matrix\n",
        "  plotConfusionMatrix(y_test, y_pred, labels)\n",
        "\n",
        "  ## Plot roc, precision recall curve\n",
        "  if verbose:\n",
        "    plotRocPrecRecallCurve(y_test, predicted_prob, labels)\n",
        "\n",
        "  return errors[:5], accuracy"
      ],
      "execution_count": null,
      "outputs": []
    },
    {
      "cell_type": "code",
      "metadata": {
        "id": "BmuDMt7SD8VW"
      },
      "source": [
        "# def evaluate_mode(test_data, model):\n",
        "#     model.eval()\n",
        "#     errors = []\n",
        "#     with torch.no_grad():\n",
        "#         y_pred = []\n",
        "#         y_test = test_data[\"Target\"]\n",
        "#         for index, instance in test_data.iterrows():\n",
        "#             out = model(instance[\"Description\"].lower())\n",
        "#             y_pred.append(labels[torch.argmax(out).item()])\n",
        "#             # collect companies with errors\n",
        "#             if instance['Target'] != labels[torch.argmax(out).item()]:\n",
        "#               errors.append((instance['Company'], instance['Target'], labels[torch.argmax(out).item()]))\n",
        "#         model.train()\n",
        "#         return confusion_matrix(y_test, y_pred, labels=labels), accuracy_score(y_test, y_pred), errors\n"
      ],
      "execution_count": null,
      "outputs": []
    },
    {
      "cell_type": "markdown",
      "metadata": {
        "id": "itkG7TYxN7kv"
      },
      "source": [
        "# All Goals"
      ]
    },
    {
      "cell_type": "markdown",
      "metadata": {
        "id": "pwwB0vMAN7ky"
      },
      "source": [
        "##Predict Five Ps from all goals"
      ]
    },
    {
      "cell_type": "code",
      "metadata": {
        "id": "ZKbwcCjpN7ky",
        "outputId": "c330e6b8-91d6-4fef-b71d-0dcc568bbc33",
        "colab": {
          "base_uri": "https://localhost:8080/",
          "height": 35
        }
      },
      "source": [
        "data = read_data()\n",
        "data.shape"
      ],
      "execution_count": null,
      "outputs": [
        {
          "output_type": "execute_result",
          "data": {
            "text/plain": [
              "(2463, 12)"
            ]
          },
          "metadata": {
            "tags": []
          },
          "execution_count": 14
        }
      ]
    },
    {
      "cell_type": "code",
      "metadata": {
        "id": "3djRsTT8N7k0",
        "outputId": "231ec4fd-ddf7-4df3-ffab-a3c783bc405e",
        "colab": {
          "base_uri": "https://localhost:8080/",
          "height": 87
        }
      },
      "source": [
        "data['Target'] = data['five Ps']\n",
        "labels = list(data['Target'].value_counts().keys().values)\n",
        "X_train, X_test, y_train, y_test = train_test_split(data, data[\"Target\"], test_size=0.15, random_state=42)\n",
        "print(labels)\n",
        "print(len(X_train), len(y_train))\n",
        "print(len(X_test), len(y_test))\n",
        "print(X_train.index[0:5])"
      ],
      "execution_count": null,
      "outputs": [
        {
          "output_type": "stream",
          "text": [
            "['Prosperity', 'People', 'Planet', 'Peace', 'Partnerships']\n",
            "2093 2093\n",
            "370 370\n",
            "Int64Index([157, 1395, 1983, 498, 765], dtype='int64')\n"
          ],
          "name": "stdout"
        }
      ]
    },
    {
      "cell_type": "code",
      "metadata": {
        "id": "AfdhMS4WgbFv",
        "outputId": "d1cc8156-1f12-4367-c656-bde833e86549",
        "colab": {
          "base_uri": "https://localhost:8080/",
          "height": 121
        }
      },
      "source": [
        "X_train['Target'].value_counts()"
      ],
      "execution_count": null,
      "outputs": [
        {
          "output_type": "execute_result",
          "data": {
            "text/plain": [
              "Prosperity      925\n",
              "People          884\n",
              "Planet          189\n",
              "Peace            64\n",
              "Partnerships     31\n",
              "Name: Target, dtype: int64"
            ]
          },
          "metadata": {
            "tags": []
          },
          "execution_count": 16
        }
      ]
    },
    {
      "cell_type": "code",
      "metadata": {
        "id": "q4wzcBtCN7k2",
        "outputId": "e6b59587-5282-4070-9c36-cf8ad003f549",
        "colab": {
          "base_uri": "https://localhost:8080/",
          "height": 121
        }
      },
      "source": [
        "X_test['Target'].value_counts()"
      ],
      "execution_count": null,
      "outputs": [
        {
          "output_type": "execute_result",
          "data": {
            "text/plain": [
              "Prosperity      165\n",
              "People          149\n",
              "Planet           39\n",
              "Peace            14\n",
              "Partnerships      3\n",
              "Name: Target, dtype: int64"
            ]
          },
          "metadata": {
            "tags": []
          },
          "execution_count": 17
        }
      ]
    },
    {
      "cell_type": "code",
      "metadata": {
        "id": "AvJ3DNTzN7k5",
        "outputId": "2263fe6e-a7ca-4ace-95ec-dac8be22c2d3",
        "colab": {
          "base_uri": "https://localhost:8080/",
          "height": 165,
          "referenced_widgets": [
            "b2873a6a44b54c178dd9fe7c2522d361",
            "9a890efd1c1740759fd3787c4cb66095",
            "bc89ff9da8964205a6a8cc6a9a98d40c",
            "dffd4ad963c94ffa8c9b95dc4a170d84",
            "51ce3cdb22dc4e818eb81b2715e724f4",
            "f8d8928d77db4c66a8b190ba30cb8343",
            "10ff0604d48d429f84f8ac2da5e1831a",
            "ba0050723b804937a1c7c82b4babd260",
            "35f3d9c8f00e4d31868c2f98f79d7c2b",
            "54c15078c736435e987482e3f2295774",
            "f100858d09d9485fb72a06f0448b1560",
            "8c944f2e2bcd4ea4afc7a275432a18cc",
            "5501182fa84f4c1fa92674a6fec87dd0",
            "251644e7edb94a60a136ef83955aa7ad",
            "6a00f83cb52e481fba88218d19c33d02",
            "6323fe02c64c4fcdb7991eb61cfd5c09",
            "7fc2f179d10549b69252c707b5dd5e98",
            "1bdf08494cfa4786b1bc6247daf75529",
            "28077b71268149acac4d1ad97b1f814a",
            "4201493da52d45ac8fd9d371012b7148",
            "03a6936534fc4202ac1b8e91359c4826",
            "aeb115b785df408f8c4a82c42856b762",
            "40741df285c24edcaf5e67bdefbb3018",
            "aca6cc7040074dc089cd8e60fb1a610f"
          ]
        }
      },
      "source": [
        "model = SDGModel(len(labels)).cuda()\n",
        "# model = torch.load(\"models/allGoalsTo5Ps3.net\")"
      ],
      "execution_count": null,
      "outputs": [
        {
          "output_type": "display_data",
          "data": {
            "application/vnd.jupyter.widget-view+json": {
              "model_id": "b2873a6a44b54c178dd9fe7c2522d361",
              "version_minor": 0,
              "version_major": 2
            },
            "text/plain": [
              "HBox(children=(FloatProgress(value=0.0, description='Downloading', max=231508.0, style=ProgressStyle(descripti…"
            ]
          },
          "metadata": {
            "tags": []
          }
        },
        {
          "output_type": "stream",
          "text": [
            "\n"
          ],
          "name": "stdout"
        },
        {
          "output_type": "display_data",
          "data": {
            "application/vnd.jupyter.widget-view+json": {
              "model_id": "35f3d9c8f00e4d31868c2f98f79d7c2b",
              "version_minor": 0,
              "version_major": 2
            },
            "text/plain": [
              "HBox(children=(FloatProgress(value=0.0, description='Downloading', max=433.0, style=ProgressStyle(description_…"
            ]
          },
          "metadata": {
            "tags": []
          }
        },
        {
          "output_type": "stream",
          "text": [
            "\n"
          ],
          "name": "stdout"
        },
        {
          "output_type": "display_data",
          "data": {
            "application/vnd.jupyter.widget-view+json": {
              "model_id": "7fc2f179d10549b69252c707b5dd5e98",
              "version_minor": 0,
              "version_major": 2
            },
            "text/plain": [
              "HBox(children=(FloatProgress(value=0.0, description='Downloading', max=440473133.0, style=ProgressStyle(descri…"
            ]
          },
          "metadata": {
            "tags": []
          }
        },
        {
          "output_type": "stream",
          "text": [
            "\n"
          ],
          "name": "stdout"
        }
      ]
    },
    {
      "cell_type": "code",
      "metadata": {
        "id": "Q8XQKDDpL4KL",
        "outputId": "8eadf582-515f-47ce-f367-54fb7489a701",
        "colab": {
          "base_uri": "https://localhost:8080/",
          "height": 52
        }
      },
      "source": [
        "model(\"Hello World\")\n",
        "# model.train()"
      ],
      "execution_count": null,
      "outputs": [
        {
          "output_type": "execute_result",
          "data": {
            "text/plain": [
              "tensor([ 0.0741, -0.0099, -0.1677,  0.1670, -0.0598], device='cuda:0',\n",
              "       grad_fn=<AddBackward0>)"
            ]
          },
          "metadata": {
            "tags": []
          },
          "execution_count": 19
        }
      ]
    },
    {
      "cell_type": "code",
      "metadata": {
        "id": "vlVkAfttN7k-"
      },
      "source": [
        "criterion = torch.nn.CrossEntropyLoss()\n",
        "optimizer = AdamW(model.parameters(), lr=1e-5)"
      ],
      "execution_count": null,
      "outputs": []
    },
    {
      "cell_type": "code",
      "metadata": {
        "id": "SSmGxJgvN7lA",
        "outputId": "65d0ad1c-82e2-4c1c-ce32-57668564a90b",
        "colab": {
          "base_uri": "https://localhost:8080/",
          "height": 1000
        }
      },
      "source": [
        "import time\n",
        "\n",
        "n_epochs = 7\n",
        "\n",
        "start_time = time.time()\n",
        "losses = []\n",
        "errors = []\n",
        "\n",
        "for e in range(1, n_epochs+1):\n",
        "  current_loss = 0\n",
        "  epoc_loss = 0;\n",
        "  curr_data = X_train.sample(frac=1)\n",
        "  print(len(curr_data))\n",
        "  for index, instance in curr_data.iterrows():\n",
        "    optimizer.zero_grad()\n",
        "    out = model(instance[\"Description\"].lower())\n",
        "    loss = criterion(out.view(1, -1), torch.LongTensor([labels.index(instance[\"Target\"])]).cuda())\n",
        "    epoc_loss += loss\n",
        "    loss.backward()\n",
        "    optimizer.step()\n",
        "    current_loss += loss.item()\n",
        "    if index % 30 == 0:\n",
        "      print(f\"Epoch={e}, index={index}, loss={current_loss/30}\")\n",
        "      print(f\"{instance['Target']} --> {labels[torch.argmax(out).item()]}\")\n",
        "      current_loss = 0\n",
        "  error = evaluate_mode(X_test, model, False)\n",
        "  print(error)\n",
        "  print(f\"total loss={epoc_loss/len(curr_data)}\")\n",
        "  losses.append(epoc_loss/len(curr_data))\n",
        "  errors.append(error)\n",
        "  print(f\"TIME TILL NOW: avg={(time.time() - start_time)/60/e:.1f}, for {e} epochs - {(time.time() - start_time)/60:.1f} min\")"
      ],
      "execution_count": null,
      "outputs": [
        {
          "output_type": "stream",
          "text": [
            "2093\n",
            "Epoch=1, index=540, loss=0.3426271637280782\n",
            "People --> Prosperity\n",
            "Epoch=1, index=270, loss=1.1573862910270691\n",
            "People --> Prosperity\n",
            "Epoch=1, index=1020, loss=3.0269584248463315\n",
            "People --> Prosperity\n",
            "Epoch=1, index=2460, loss=2.4178476770718893\n",
            "Prosperity --> Prosperity\n",
            "Epoch=1, index=1590, loss=3.092602460583051\n",
            "Prosperity --> People\n",
            "Epoch=1, index=1890, loss=0.3340208888053894\n",
            "People --> People\n",
            "Epoch=1, index=840, loss=1.153268936276436\n",
            "People --> People\n",
            "Epoch=1, index=120, loss=0.18614516258239747\n",
            "Prosperity --> Prosperity\n",
            "Epoch=1, index=960, loss=0.03394990166028341\n",
            "Prosperity --> Prosperity\n",
            "Epoch=1, index=780, loss=1.0901807362834612\n",
            "Prosperity --> People\n",
            "Epoch=1, index=1380, loss=1.4710604300101597\n",
            "People --> People\n",
            "Epoch=1, index=300, loss=0.45847005595763524\n",
            "Prosperity --> Prosperity\n",
            "Epoch=1, index=600, loss=0.9820684383312861\n",
            "Prosperity --> Prosperity\n",
            "Epoch=1, index=2340, loss=0.7825557318826516\n",
            "Prosperity --> Prosperity\n",
            "Epoch=1, index=2160, loss=0.5590905946989854\n",
            "People --> People\n",
            "Epoch=1, index=150, loss=0.08866183161735534\n",
            "People --> People\n",
            "Epoch=1, index=1260, loss=1.1962692603468894\n",
            "Prosperity --> Prosperity\n",
            "Epoch=1, index=2190, loss=0.5145984639724096\n",
            "People --> People\n",
            "Epoch=1, index=390, loss=0.35104601134856545\n",
            "Peace --> People\n",
            "Epoch=1, index=30, loss=0.04436929523944855\n",
            "People --> People\n",
            "Epoch=1, index=2250, loss=0.4597562571366628\n",
            "Peace --> Prosperity\n",
            "Epoch=1, index=1680, loss=0.7393009851376215\n",
            "Prosperity --> Prosperity\n",
            "Epoch=1, index=720, loss=1.1876998454332353\n",
            "Prosperity --> Prosperity\n",
            "Epoch=1, index=870, loss=0.33863744388024014\n",
            "Prosperity --> Prosperity\n",
            "Epoch=1, index=0, loss=0.018433390309413274\n",
            "Prosperity --> Prosperity\n",
            "Epoch=1, index=1830, loss=1.391867610315482\n",
            "People --> People\n",
            "Epoch=1, index=660, loss=0.5987459855775038\n",
            "Prosperity --> Prosperity\n",
            "Epoch=1, index=2040, loss=1.2403570945064226\n",
            "Prosperity --> Prosperity\n",
            "Epoch=1, index=1410, loss=0.06238772074381511\n",
            "Prosperity --> Prosperity\n",
            "Epoch=1, index=1140, loss=0.22989229162534078\n",
            "People --> People\n",
            "Epoch=1, index=2130, loss=0.6438967861235142\n",
            "People --> Prosperity\n",
            "Epoch=1, index=900, loss=0.6678572927912076\n",
            "Prosperity --> Prosperity\n",
            "Epoch=1, index=630, loss=1.6881579798956712\n",
            "Prosperity --> Prosperity\n",
            "Epoch=1, index=1710, loss=1.8902406359712283\n",
            "People --> People\n",
            "Epoch=1, index=330, loss=1.4443246232966582\n",
            "Prosperity --> Prosperity\n",
            "Epoch=1, index=1620, loss=0.4098429923256238\n",
            "Prosperity --> Prosperity\n",
            "Epoch=1, index=2280, loss=2.671340124433239\n",
            "Prosperity --> Prosperity\n",
            "Epoch=1, index=1440, loss=0.14005877350767454\n",
            "Prosperity --> Prosperity\n",
            "Epoch=1, index=2070, loss=0.7132089010129372\n",
            "People --> People\n",
            "Epoch=1, index=930, loss=1.3803576709081729\n",
            "People --> People\n",
            "Epoch=1, index=2010, loss=1.351065376897653\n",
            "Prosperity --> Prosperity\n",
            "Epoch=1, index=360, loss=0.16599324444929758\n",
            "Planet --> Prosperity\n",
            "Epoch=1, index=1470, loss=0.005637756983439128\n",
            "Prosperity --> Prosperity\n",
            "Epoch=1, index=1170, loss=0.10858740409215291\n",
            "People --> Prosperity\n",
            "Epoch=1, index=180, loss=1.642664046337207\n",
            "Prosperity --> Prosperity\n",
            "Epoch=1, index=1860, loss=1.0039393831044436\n",
            "People --> People\n",
            "Epoch=1, index=90, loss=0.5731442873676618\n",
            "Partnerships --> Prosperity\n",
            "Epoch=1, index=990, loss=0.45598025421301525\n",
            "People --> People\n",
            "Epoch=1, index=750, loss=1.1255322977900506\n",
            "People --> People\n",
            "Epoch=1, index=1320, loss=1.6655935525894165\n",
            "People --> People\n",
            "Epoch=1, index=1080, loss=0.39066292097171146\n",
            "People --> People\n",
            "Epoch=1, index=2370, loss=0.11842264557878177\n",
            "People --> People\n",
            "Epoch=1, index=1500, loss=0.3003617464875182\n",
            "People --> People\n",
            "Epoch=1, index=1650, loss=1.2819219355781872\n",
            "Prosperity --> Prosperity\n",
            "Epoch=1, index=510, loss=0.18089620620012284\n",
            "Prosperity --> Prosperity\n",
            "Epoch=1, index=1950, loss=1.4770072519779205\n",
            "People --> People\n",
            "Epoch=1, index=1350, loss=0.23587279965480168\n",
            "People --> People\n",
            "Epoch=1, index=1290, loss=0.1818657952050368\n",
            "People --> People\n",
            "Epoch=1, index=2400, loss=2.2339949073890844\n",
            "Prosperity --> People\n",
            "Epoch=1, index=1920, loss=0.0028645478188991545\n",
            "People --> People\n",
            "Epoch=1, index=690, loss=1.1140132784843444\n",
            "People --> People\n",
            "Epoch=1, index=1740, loss=0.3819474302232265\n",
            "People --> People\n",
            "Epoch=1, index=1980, loss=0.9426022320985794\n",
            "People --> People\n",
            "Epoch=1, index=1230, loss=1.4089998507251342\n",
            "Prosperity --> People\n",
            "Epoch=1, index=60, loss=0.31756025925278664\n",
            "People --> People\n",
            "Epoch=1, index=1200, loss=0.31905233586827914\n",
            "People --> People\n",
            "Epoch=1, index=570, loss=0.37908975140502055\n",
            "People --> People\n",
            "Accuracy: 0.79\n",
            "([('Rel8', 'Planet', 'Prosperity'), ('Nocofio', 'Prosperity', 'People'), ('Tempo', 'People', 'Prosperity'), ('Sawtooth seafood', 'Planet', 'People'), ('Morpher', 'Prosperity', 'People')], 0.7891891891891892)\n",
            "total loss=0.8308821320533752\n",
            "TIME TILL NOW: avg=4.7, for 1 epochs - 4.7 min\n",
            "2093\n",
            "Epoch=2, index=1170, loss=0.37685684288541477\n",
            "People --> People\n",
            "Epoch=2, index=1500, loss=0.30607497692108154\n",
            "People --> People\n",
            "Epoch=2, index=1410, loss=0.1302548550069332\n",
            "Prosperity --> Prosperity\n",
            "Epoch=2, index=1020, loss=0.5895876941581567\n",
            "People --> People\n",
            "Epoch=2, index=2190, loss=0.8445391945540905\n",
            "People --> People\n",
            "Epoch=2, index=2010, loss=0.14942624469598134\n",
            "Prosperity --> Prosperity\n",
            "Epoch=2, index=2070, loss=1.0803744196891785\n",
            "People --> People\n",
            "Epoch=2, index=2460, loss=1.2593993462622166\n",
            "Prosperity --> Prosperity\n",
            "Epoch=2, index=1350, loss=1.5345468307534853\n",
            "People --> People\n",
            "Epoch=2, index=1680, loss=0.9830164632449547\n",
            "Prosperity --> Prosperity\n",
            "Epoch=2, index=90, loss=1.5401549293349186\n",
            "Partnerships --> Prosperity\n",
            "Epoch=2, index=30, loss=0.24522602520883083\n",
            "People --> People\n",
            "Epoch=2, index=1830, loss=0.27515658798317116\n",
            "People --> People\n",
            "Epoch=2, index=840, loss=0.8412073279420534\n",
            "People --> People\n",
            "Epoch=2, index=2370, loss=0.14538160413503648\n",
            "People --> People\n",
            "Epoch=2, index=300, loss=0.3099044864376386\n",
            "Prosperity --> People\n",
            "Epoch=2, index=360, loss=0.9779377327611048\n",
            "Planet --> Prosperity\n",
            "Epoch=2, index=1650, loss=0.3359779038156072\n",
            "Prosperity --> Prosperity\n",
            "Epoch=2, index=180, loss=0.5732139219840368\n",
            "Prosperity --> Prosperity\n",
            "Epoch=2, index=600, loss=0.2253885816161831\n",
            "Prosperity --> Prosperity\n",
            "Epoch=2, index=2160, loss=0.37679473757743837\n",
            "People --> People\n",
            "Epoch=2, index=150, loss=0.06981349276999632\n",
            "People --> People\n",
            "Epoch=2, index=960, loss=0.23171646830936274\n",
            "Prosperity --> Prosperity\n",
            "Epoch=2, index=2040, loss=0.22925561169783273\n",
            "Prosperity --> Prosperity\n",
            "Epoch=2, index=60, loss=0.5179468351105849\n",
            "People --> People\n",
            "Epoch=2, index=1380, loss=0.5744151408473651\n",
            "People --> People\n",
            "Epoch=2, index=1320, loss=0.8976970542532702\n",
            "People --> People\n",
            "Epoch=2, index=1620, loss=0.6611528357490897\n",
            "Prosperity --> Prosperity\n",
            "Epoch=2, index=1950, loss=0.6777687245979905\n",
            "People --> People\n",
            "Epoch=2, index=0, loss=0.3230628641943137\n",
            "Prosperity --> Prosperity\n",
            "Epoch=2, index=390, loss=0.903726726025343\n",
            "Peace --> Peace\n",
            "Epoch=2, index=660, loss=0.009727887312571208\n",
            "Prosperity --> Prosperity\n",
            "Epoch=2, index=1080, loss=0.11316807766755423\n",
            "People --> People\n",
            "Epoch=2, index=990, loss=0.8508263358846306\n",
            "People --> People\n",
            "Epoch=2, index=1860, loss=0.33825764947881304\n",
            "People --> People\n",
            "Epoch=2, index=120, loss=0.004172272980213165\n",
            "Prosperity --> Prosperity\n",
            "Epoch=2, index=1470, loss=0.9555266751597326\n",
            "Prosperity --> Prosperity\n",
            "Epoch=2, index=540, loss=0.5141885250806808\n",
            "People --> People\n",
            "Epoch=2, index=510, loss=0.5550236288458109\n",
            "Prosperity --> Prosperity\n",
            "Epoch=2, index=330, loss=0.2699600517749786\n",
            "Prosperity --> Prosperity\n",
            "Epoch=2, index=1980, loss=0.8429854040965438\n",
            "People --> People\n",
            "Epoch=2, index=570, loss=0.5292631374051173\n",
            "People --> People\n",
            "Epoch=2, index=930, loss=0.0009177841246128082\n",
            "People --> People\n",
            "Epoch=2, index=780, loss=0.8738467059408624\n",
            "Prosperity --> People\n",
            "Epoch=2, index=1230, loss=0.5877767819911242\n",
            "Prosperity --> People\n",
            "Epoch=2, index=900, loss=0.08976535797119141\n",
            "Prosperity --> Prosperity\n",
            "Epoch=2, index=750, loss=0.27531350621332723\n",
            "People --> People\n",
            "Epoch=2, index=1200, loss=0.41348785869777205\n",
            "People --> People\n",
            "Epoch=2, index=2280, loss=0.14531703672061363\n",
            "Prosperity --> Prosperity\n",
            "Epoch=2, index=870, loss=0.21587811056524514\n",
            "Prosperity --> Prosperity\n",
            "Epoch=2, index=2400, loss=0.5915991042430202\n",
            "Prosperity --> People\n",
            "Epoch=2, index=630, loss=0.18888797809680302\n",
            "Prosperity --> Prosperity\n",
            "Epoch=2, index=1290, loss=0.2982192690173785\n",
            "People --> People\n",
            "Epoch=2, index=2340, loss=0.4209317771097024\n",
            "Prosperity --> Prosperity\n",
            "Epoch=2, index=690, loss=0.3357840164254109\n",
            "People --> People\n",
            "Epoch=2, index=1920, loss=0.4081701879700025\n",
            "People --> People\n",
            "Epoch=2, index=2130, loss=0.08666493358711401\n",
            "People --> Prosperity\n",
            "Epoch=2, index=1140, loss=0.2385831673940023\n",
            "People --> People\n",
            "Epoch=2, index=720, loss=0.6364961056349178\n",
            "Prosperity --> Prosperity\n",
            "Epoch=2, index=1440, loss=0.07021189257502555\n",
            "Prosperity --> Prosperity\n",
            "Epoch=2, index=1710, loss=0.5188759002213676\n",
            "People --> People\n",
            "Epoch=2, index=1890, loss=0.3426005812982718\n",
            "People --> People\n",
            "Epoch=2, index=1740, loss=1.3028155074454844\n",
            "People --> People\n",
            "Epoch=2, index=1260, loss=0.5602722256444395\n",
            "Prosperity --> Prosperity\n",
            "Epoch=2, index=2250, loss=1.7171927895396948\n",
            "Peace --> Prosperity\n",
            "Epoch=2, index=1590, loss=0.4113075882817308\n",
            "Prosperity --> Peace\n",
            "Epoch=2, index=270, loss=1.8654800258887312\n",
            "People --> People\n",
            "Accuracy: 0.82\n",
            "([('Rel8', 'Planet', 'Prosperity'), ('Everex', 'People', 'Prosperity'), ('Nocofio', 'Prosperity', 'People'), ('Tempo', 'People', 'Prosperity'), ('Sawtooth seafood', 'Planet', 'People')], 0.8216216216216217)\n",
            "total loss=0.514378547668457\n",
            "TIME TILL NOW: avg=4.7, for 2 epochs - 9.5 min\n",
            "2093\n",
            "Epoch=3, index=2280, loss=1.0683098214988906\n",
            "Prosperity --> Prosperity\n",
            "Epoch=3, index=2040, loss=0.48751809597015383\n",
            "Prosperity --> Prosperity\n",
            "Epoch=3, index=1080, loss=0.14374008849263192\n",
            "People --> People\n",
            "Epoch=3, index=1200, loss=1.9210872653561333\n",
            "People --> People\n",
            "Epoch=3, index=930, loss=0.004525277515252431\n",
            "People --> People\n",
            "Epoch=3, index=150, loss=0.15242322124540805\n",
            "People --> People\n",
            "Epoch=3, index=1830, loss=0.02297199728588263\n",
            "People --> People\n",
            "Epoch=3, index=960, loss=0.05879172409574191\n",
            "Prosperity --> Prosperity\n",
            "Epoch=3, index=1440, loss=0.7607644079253078\n",
            "Prosperity --> Prosperity\n",
            "Epoch=3, index=540, loss=0.13883384509632984\n",
            "People --> People\n",
            "Epoch=3, index=1290, loss=0.3318607079796493\n",
            "People --> People\n",
            "Epoch=3, index=1470, loss=0.5064133713642757\n",
            "Prosperity --> Prosperity\n",
            "Epoch=3, index=570, loss=0.18953377523769935\n",
            "People --> People\n",
            "Epoch=3, index=1920, loss=0.13072661735738317\n",
            "People --> People\n",
            "Epoch=3, index=510, loss=0.19779927848527828\n",
            "Prosperity --> Prosperity\n",
            "Epoch=3, index=2190, loss=0.076981489546597\n",
            "People --> People\n",
            "Epoch=3, index=840, loss=0.03711299228792389\n",
            "People --> People\n",
            "Epoch=3, index=90, loss=0.2297346545693775\n",
            "Partnerships --> Partnerships\n",
            "Epoch=3, index=1650, loss=0.24249096407244602\n",
            "Prosperity --> Prosperity\n",
            "Epoch=3, index=600, loss=0.3840208594997724\n",
            "Prosperity --> Prosperity\n",
            "Epoch=3, index=60, loss=0.000836508721113205\n",
            "People --> People\n",
            "Epoch=3, index=660, loss=0.05316849211230874\n",
            "Prosperity --> Prosperity\n",
            "Epoch=3, index=0, loss=0.31140497863913574\n",
            "Prosperity --> Prosperity\n",
            "Epoch=3, index=330, loss=0.29681768218676247\n",
            "Prosperity --> Prosperity\n",
            "Epoch=3, index=30, loss=0.5577549347343544\n",
            "People --> People\n",
            "Epoch=3, index=2130, loss=0.18303994331508874\n",
            "People --> Prosperity\n",
            "Epoch=3, index=690, loss=0.06419424650569756\n",
            "People --> People\n",
            "Epoch=3, index=2160, loss=0.18162659366304676\n",
            "People --> People\n",
            "Epoch=3, index=1740, loss=0.061556606398274503\n",
            "People --> People\n",
            "Epoch=3, index=1410, loss=0.0013158025840918222\n",
            "Prosperity --> Prosperity\n",
            "Epoch=3, index=2400, loss=0.25847717250386876\n",
            "Prosperity --> People\n",
            "Epoch=3, index=390, loss=0.309667037303249\n",
            "Peace --> Peace\n",
            "Epoch=3, index=360, loss=0.25641463765253625\n",
            "Planet --> Planet\n",
            "Epoch=3, index=1170, loss=1.0340793882807096\n",
            "People --> People\n",
            "Epoch=3, index=2010, loss=0.12187371340890725\n",
            "Prosperity --> Prosperity\n",
            "Epoch=3, index=1140, loss=0.254774182724456\n",
            "People --> People\n",
            "Epoch=3, index=900, loss=0.17563896992554268\n",
            "Prosperity --> Prosperity\n",
            "Epoch=3, index=1950, loss=0.2663609104851882\n",
            "People --> People\n",
            "Epoch=3, index=1890, loss=0.5935689118380348\n",
            "People --> People\n",
            "Epoch=3, index=720, loss=0.11097274442824225\n",
            "Prosperity --> Prosperity\n",
            "Epoch=3, index=780, loss=0.026549122482538223\n",
            "Prosperity --> Prosperity\n",
            "Epoch=3, index=2250, loss=0.15020512205859024\n",
            "Peace --> Prosperity\n",
            "Epoch=3, index=1980, loss=0.05497389075656732\n",
            "People --> People\n",
            "Epoch=3, index=750, loss=0.4672885674672822\n",
            "People --> People\n",
            "Epoch=3, index=2340, loss=0.3365127310777704\n",
            "Prosperity --> Prosperity\n",
            "Epoch=3, index=1020, loss=1.1110965126504502\n",
            "People --> People\n",
            "Epoch=3, index=1350, loss=0.014173570523659388\n",
            "People --> People\n",
            "Epoch=3, index=1620, loss=0.17768228286877275\n",
            "Prosperity --> Prosperity\n",
            "Epoch=3, index=180, loss=0.9355692336025337\n",
            "Prosperity --> Prosperity\n",
            "Epoch=3, index=300, loss=0.01635377804438273\n",
            "Prosperity --> Prosperity\n",
            "Epoch=3, index=2460, loss=0.011539835234483082\n",
            "Prosperity --> Prosperity\n",
            "Epoch=3, index=1710, loss=0.09337825030088424\n",
            "People --> People\n",
            "Epoch=3, index=120, loss=1.0319313557042429\n",
            "Prosperity --> Prosperity\n",
            "Epoch=3, index=1260, loss=0.3586873847991228\n",
            "Prosperity --> Prosperity\n",
            "Epoch=3, index=1680, loss=0.19406149794037145\n",
            "Prosperity --> Prosperity\n",
            "Epoch=3, index=2370, loss=0.6199739958004405\n",
            "People --> People\n",
            "Epoch=3, index=1500, loss=0.7373831906976799\n",
            "People --> People\n",
            "Epoch=3, index=1590, loss=0.26362099323111277\n",
            "Prosperity --> Prosperity\n",
            "Epoch=3, index=1320, loss=0.983251534937881\n",
            "People --> People\n",
            "Epoch=3, index=270, loss=1.5955748395062983\n",
            "People --> People\n",
            "Epoch=3, index=630, loss=0.21018251770486435\n",
            "Prosperity --> Prosperity\n",
            "Epoch=3, index=990, loss=0.026225784420967103\n",
            "People --> People\n",
            "Epoch=3, index=870, loss=0.17017115615308284\n",
            "Prosperity --> Prosperity\n",
            "Epoch=3, index=1860, loss=0.1597140895202756\n",
            "People --> People\n",
            "Epoch=3, index=2070, loss=0.13144070968652766\n",
            "People --> People\n",
            "Epoch=3, index=1230, loss=0.08064849028984705\n",
            "Prosperity --> Prosperity\n",
            "Epoch=3, index=1380, loss=0.3735768868587911\n",
            "People --> People\n",
            "Accuracy: 0.8\n",
            "([('Rel8', 'Planet', 'Prosperity'), ('Nocofio', 'Prosperity', 'People'), ('DoPay', 'People', 'Prosperity'), ('Deedster', 'Prosperity', 'Peace'), ('Citisense', 'Peace', 'Prosperity')], 0.8)\n",
            "total loss=0.3480951189994812\n",
            "TIME TILL NOW: avg=4.8, for 3 epochs - 14.3 min\n",
            "2093\n",
            "Epoch=4, index=360, loss=0.010031181573867797\n",
            "Planet --> Planet\n",
            "Epoch=4, index=1950, loss=0.21325447180618842\n",
            "People --> People\n",
            "Epoch=4, index=1200, loss=0.39645296876939634\n",
            "People --> People\n",
            "Epoch=4, index=2460, loss=0.1156739223903666\n",
            "Prosperity --> Prosperity\n",
            "Epoch=4, index=1380, loss=0.11452887804868321\n",
            "People --> People\n",
            "Epoch=4, index=750, loss=0.09898112487668792\n",
            "People --> People\n",
            "Epoch=4, index=1680, loss=0.3310857165294389\n",
            "Prosperity --> Prosperity\n",
            "Epoch=4, index=870, loss=0.3396843245718628\n",
            "Prosperity --> Prosperity\n",
            "Epoch=4, index=390, loss=0.0272905135837694\n",
            "Peace --> Peace\n",
            "Epoch=4, index=510, loss=0.15886745654667417\n",
            "Prosperity --> Prosperity\n",
            "Epoch=4, index=2370, loss=0.39823491250475246\n",
            "People --> People\n",
            "Epoch=4, index=1740, loss=0.3363276427456488\n",
            "People --> People\n",
            "Epoch=4, index=1830, loss=0.016983654567350945\n",
            "People --> People\n",
            "Epoch=4, index=540, loss=0.2762195251105974\n",
            "People --> People\n",
            "Epoch=4, index=1620, loss=0.04953351745692392\n",
            "Prosperity --> Prosperity\n",
            "Epoch=4, index=1920, loss=0.524934292002581\n",
            "People --> People\n",
            "Epoch=4, index=330, loss=0.01952968550225099\n",
            "Prosperity --> Prosperity\n",
            "Epoch=4, index=960, loss=0.7356024699285626\n",
            "Prosperity --> Prosperity\n",
            "Epoch=4, index=60, loss=0.006001183382856349\n",
            "People --> People\n",
            "Epoch=4, index=1980, loss=0.29717031271041683\n",
            "People --> People\n",
            "Epoch=4, index=1140, loss=0.17499217474833131\n",
            "People --> People\n",
            "Epoch=4, index=2040, loss=0.0004286386693517367\n",
            "Prosperity --> Prosperity\n",
            "Epoch=4, index=1020, loss=0.3725774987755964\n",
            "People --> People\n",
            "Epoch=4, index=1350, loss=0.398922676499933\n",
            "People --> People\n",
            "Epoch=4, index=2400, loss=0.6817193117768814\n",
            "Prosperity --> People\n",
            "Epoch=4, index=270, loss=0.008855874681224426\n",
            "People --> People\n",
            "Epoch=4, index=1860, loss=0.1392796843778342\n",
            "People --> People\n",
            "Epoch=4, index=2280, loss=0.5263412268832326\n",
            "Prosperity --> Prosperity\n",
            "Epoch=4, index=570, loss=0.03982623809327682\n",
            "People --> People\n",
            "Epoch=4, index=1710, loss=0.5002511977062871\n",
            "People --> People\n",
            "Epoch=4, index=0, loss=0.2599234722244243\n",
            "Prosperity --> Prosperity\n",
            "Epoch=4, index=1500, loss=0.010376248446603616\n",
            "People --> People\n",
            "Epoch=4, index=1260, loss=0.938504745438695\n",
            "Prosperity --> Prosperity\n",
            "Epoch=4, index=2340, loss=0.3353406384276847\n",
            "Prosperity --> Prosperity\n",
            "Epoch=4, index=2070, loss=0.0011678952258080244\n",
            "People --> People\n",
            "Epoch=4, index=840, loss=0.16092590969055892\n",
            "People --> People\n",
            "Epoch=4, index=1410, loss=0.057615123440821966\n",
            "Prosperity --> Prosperity\n",
            "Epoch=4, index=1470, loss=0.23992337676075598\n",
            "Prosperity --> Prosperity\n",
            "Epoch=4, index=2190, loss=0.9680698873009532\n",
            "People --> People\n",
            "Epoch=4, index=30, loss=0.09645291016592333\n",
            "People --> People\n",
            "Epoch=4, index=990, loss=0.18629297310641657\n",
            "People --> People\n",
            "Epoch=4, index=930, loss=0.003995179912696282\n",
            "People --> People\n",
            "Epoch=4, index=900, loss=0.6354113217210398\n",
            "Prosperity --> Prosperity\n",
            "Epoch=4, index=2250, loss=0.3073664374804745\n",
            "Peace --> Peace\n",
            "Epoch=4, index=1230, loss=0.06867795448439816\n",
            "Prosperity --> People\n",
            "Epoch=4, index=2130, loss=0.005591360727945963\n",
            "People --> People\n",
            "Epoch=4, index=1170, loss=0.230127091302226\n",
            "People --> People\n",
            "Epoch=4, index=1290, loss=0.007650262877965967\n",
            "People --> People\n",
            "Epoch=4, index=660, loss=0.0004299881247182687\n",
            "Prosperity --> Prosperity\n",
            "Epoch=4, index=780, loss=0.24860356167579692\n",
            "Prosperity --> Prosperity\n",
            "Epoch=4, index=600, loss=0.2888164620536069\n",
            "Prosperity --> Prosperity\n",
            "Epoch=4, index=720, loss=0.34566384240364034\n",
            "Prosperity --> Prosperity\n",
            "Epoch=4, index=1440, loss=0.055454637637982765\n",
            "Prosperity --> Prosperity\n",
            "Epoch=4, index=150, loss=0.035444129072129724\n",
            "People --> People\n",
            "Epoch=4, index=1890, loss=0.3852702513958017\n",
            "People --> People\n",
            "Epoch=4, index=300, loss=0.016198687620150545\n",
            "Prosperity --> Prosperity\n",
            "Epoch=4, index=1590, loss=0.12546525404322892\n",
            "Prosperity --> Prosperity\n",
            "Epoch=4, index=1320, loss=0.17055461869264643\n",
            "People --> People\n",
            "Epoch=4, index=180, loss=0.06764113667110602\n",
            "Prosperity --> Prosperity\n",
            "Epoch=4, index=90, loss=0.33761437724654875\n",
            "Partnerships --> Partnerships\n",
            "Epoch=4, index=630, loss=0.498264777334407\n",
            "Prosperity --> Prosperity\n",
            "Epoch=4, index=120, loss=0.3906575448345393\n",
            "Prosperity --> Prosperity\n",
            "Epoch=4, index=1080, loss=0.35678174641604227\n",
            "People --> People\n",
            "Epoch=4, index=690, loss=0.022050697170197964\n",
            "People --> People\n",
            "Epoch=4, index=1650, loss=0.13633619542233646\n",
            "Prosperity --> Prosperity\n",
            "Epoch=4, index=2160, loss=0.37616001603504023\n",
            "People --> People\n",
            "Epoch=4, index=2010, loss=0.10549726439639925\n",
            "Prosperity --> Prosperity\n",
            "Accuracy: 0.83\n",
            "([('Rel8', 'Planet', 'Prosperity'), ('Nocofio', 'Prosperity', 'People'), ('Deedster', 'Prosperity', 'Peace'), ('PantaPå', 'Prosperity', 'People'), ('Citisense', 'Peace', 'Prosperity')], 0.827027027027027)\n",
            "total loss=0.22627097368240356\n",
            "TIME TILL NOW: avg=4.8, for 4 epochs - 19.1 min\n",
            "2093\n",
            "Epoch=5, index=1170, loss=0.13411737308682253\n",
            "People --> People\n",
            "Epoch=5, index=1470, loss=0.32147137359716\n",
            "Prosperity --> Prosperity\n",
            "Epoch=5, index=930, loss=0.48908210947023084\n",
            "People --> People\n",
            "Epoch=5, index=900, loss=0.1622003924722473\n",
            "Prosperity --> Prosperity\n",
            "Epoch=5, index=1440, loss=0.060819263383746144\n",
            "Prosperity --> Prosperity\n",
            "Epoch=5, index=2250, loss=0.20525553751115996\n",
            "Peace --> Peace\n",
            "Epoch=5, index=2370, loss=0.10668811725142101\n",
            "People --> People\n",
            "Epoch=5, index=1890, loss=0.010108087832729021\n",
            "People --> People\n",
            "Epoch=5, index=1740, loss=0.1509107189796244\n",
            "People --> People\n",
            "Epoch=5, index=1410, loss=0.09403531161757807\n",
            "Prosperity --> Prosperity\n",
            "Epoch=5, index=180, loss=0.05667669296575089\n",
            "Prosperity --> Prosperity\n",
            "Epoch=5, index=720, loss=0.4985772451463466\n",
            "Prosperity --> Prosperity\n",
            "Epoch=5, index=960, loss=0.2499428844312206\n",
            "Prosperity --> Prosperity\n",
            "Epoch=5, index=1230, loss=0.10529338349588216\n",
            "Prosperity --> Prosperity\n",
            "Epoch=5, index=1650, loss=0.15713085643171024\n",
            "Prosperity --> Prosperity\n",
            "Epoch=5, index=750, loss=0.00017598423485954602\n",
            "People --> People\n",
            "Epoch=5, index=510, loss=0.36183647157158705\n",
            "Prosperity --> Prosperity\n",
            "Epoch=5, index=60, loss=0.07156424344672511\n",
            "People --> People\n",
            "Epoch=5, index=1200, loss=0.09807661455124617\n",
            "People --> Prosperity\n",
            "Epoch=5, index=990, loss=0.10599077658262104\n",
            "People --> People\n",
            "Epoch=5, index=1350, loss=0.5824069976806641\n",
            "People --> People\n",
            "Epoch=5, index=2190, loss=0.14013760526043673\n",
            "People --> People\n",
            "Epoch=5, index=0, loss=0.08158491769960771\n",
            "Prosperity --> Prosperity\n",
            "Epoch=5, index=1980, loss=0.0027792767932017645\n",
            "People --> People\n",
            "Epoch=5, index=30, loss=0.02845406687508027\n",
            "People --> People\n",
            "Epoch=5, index=1290, loss=0.02165307612158358\n",
            "People --> People\n",
            "Epoch=5, index=270, loss=0.0037621492675195137\n",
            "People --> People\n",
            "Epoch=5, index=1320, loss=0.13329690104971328\n",
            "People --> People\n",
            "Epoch=5, index=1260, loss=0.13648798351641744\n",
            "Prosperity --> Prosperity\n",
            "Epoch=5, index=1380, loss=0.10992948076066872\n",
            "People --> People\n",
            "Epoch=5, index=1860, loss=0.009811665024608373\n",
            "People --> People\n",
            "Epoch=5, index=90, loss=0.042408475854123634\n",
            "Partnerships --> Partnerships\n",
            "Epoch=5, index=2130, loss=0.021093110965254406\n",
            "People --> People\n",
            "Epoch=5, index=2400, loss=0.22432624088445058\n",
            "Prosperity --> People\n",
            "Epoch=5, index=120, loss=0.0007358000924189886\n",
            "Prosperity --> Prosperity\n",
            "Epoch=5, index=2040, loss=0.32975864290104556\n",
            "Prosperity --> Prosperity\n",
            "Epoch=5, index=1080, loss=0.013763509892548124\n",
            "People --> People\n",
            "Epoch=5, index=1920, loss=0.3211543359095231\n",
            "People --> People\n",
            "Epoch=5, index=150, loss=0.001902011021350821\n",
            "People --> People\n",
            "Epoch=5, index=570, loss=0.13966331040331473\n",
            "People --> People\n",
            "Epoch=5, index=780, loss=0.18276402177483153\n",
            "Prosperity --> Prosperity\n",
            "Epoch=5, index=1500, loss=0.05000986052521815\n",
            "People --> People\n",
            "Epoch=5, index=330, loss=0.1810469295713119\n",
            "Prosperity --> Prosperity\n",
            "Epoch=5, index=1020, loss=0.05137377889671673\n",
            "People --> Planet\n",
            "Epoch=5, index=690, loss=0.0019222637793670097\n",
            "People --> People\n",
            "Epoch=5, index=1710, loss=0.0688358944064627\n",
            "People --> People\n",
            "Epoch=5, index=840, loss=0.28525151625120393\n",
            "People --> Prosperity\n",
            "Epoch=5, index=2160, loss=0.3457981628831476\n",
            "People --> People\n",
            "Epoch=5, index=300, loss=0.21384796814915413\n",
            "Prosperity --> Prosperity\n",
            "Epoch=5, index=1590, loss=0.3069988803685798\n",
            "Prosperity --> Prosperity\n",
            "Epoch=5, index=870, loss=0.03107587438231955\n",
            "Prosperity --> Prosperity\n",
            "Epoch=5, index=2460, loss=0.5611680690975239\n",
            "Prosperity --> Prosperity\n",
            "Epoch=5, index=360, loss=0.28980617826067223\n",
            "Planet --> Planet\n",
            "Epoch=5, index=1620, loss=0.17604737161503484\n",
            "Prosperity --> Prosperity\n",
            "Epoch=5, index=2070, loss=0.0003192072423795859\n",
            "People --> People\n",
            "Epoch=5, index=1140, loss=0.24640293257155765\n",
            "People --> People\n",
            "Epoch=5, index=2280, loss=0.24905946203895535\n",
            "Prosperity --> Prosperity\n",
            "Epoch=5, index=660, loss=0.21194515354000032\n",
            "Prosperity --> Prosperity\n",
            "Epoch=5, index=600, loss=0.05658510026987642\n",
            "Prosperity --> Planet\n",
            "Epoch=5, index=390, loss=0.005996019036198656\n",
            "Peace --> Peace\n",
            "Epoch=5, index=1950, loss=0.00020895337996383508\n",
            "People --> People\n",
            "Epoch=5, index=1680, loss=0.19387007666906964\n",
            "Prosperity --> Prosperity\n",
            "Epoch=5, index=630, loss=0.0654599039039264\n",
            "Prosperity --> Prosperity\n",
            "Epoch=5, index=1830, loss=0.07475001364170263\n",
            "People --> People\n",
            "Epoch=5, index=540, loss=0.2531516512002175\n",
            "People --> People\n",
            "Epoch=5, index=2340, loss=0.4327881772381564\n",
            "Prosperity --> Prosperity\n",
            "Epoch=5, index=2010, loss=0.11780468464906638\n",
            "Prosperity --> Prosperity\n",
            "Accuracy: 0.82\n",
            "([('Parkkisähkö', 'Prosperity', 'Planet'), ('Rel8', 'Planet', 'Prosperity'), ('Nocofio', 'Prosperity', 'People'), ('DoPay', 'People', 'Prosperity'), ('Deedster', 'Prosperity', 'Peace')], 0.8243243243243243)\n",
            "total loss=0.14963284134864807\n",
            "TIME TILL NOW: avg=4.8, for 5 epochs - 24.0 min\n",
            "2093\n",
            "Epoch=6, index=2250, loss=0.029771429533138872\n",
            "Peace --> Peace\n",
            "Epoch=6, index=1260, loss=0.024327342041457693\n",
            "Prosperity --> Prosperity\n",
            "Epoch=6, index=1320, loss=0.029710518122495463\n",
            "People --> People\n",
            "Epoch=6, index=1500, loss=0.05670930631458759\n",
            "People --> People\n",
            "Epoch=6, index=0, loss=0.26602016677691914\n",
            "Prosperity --> Prosperity\n",
            "Epoch=6, index=270, loss=0.00010848254896700382\n",
            "People --> People\n",
            "Epoch=6, index=1470, loss=0.30669588174981377\n",
            "Prosperity --> Prosperity\n",
            "Epoch=6, index=1860, loss=0.1512994114930431\n",
            "People --> People\n",
            "Epoch=6, index=690, loss=0.1362572974137341\n",
            "People --> People\n",
            "Epoch=6, index=870, loss=0.04183396545704454\n",
            "Prosperity --> Prosperity\n",
            "Epoch=6, index=720, loss=0.04906719634697462\n",
            "Prosperity --> Prosperity\n",
            "Epoch=6, index=2370, loss=0.20380081585220372\n",
            "People --> People\n",
            "Epoch=6, index=2070, loss=0.14169827620498837\n",
            "People --> People\n",
            "Epoch=6, index=1080, loss=0.07806774324659879\n",
            "People --> People\n",
            "Epoch=6, index=1140, loss=0.31829046076745726\n",
            "People --> People\n",
            "Epoch=6, index=30, loss=0.09760361295969536\n",
            "People --> People\n",
            "Epoch=6, index=2160, loss=0.25575797775527465\n",
            "People --> People\n",
            "Epoch=6, index=90, loss=0.2623360809093962\n",
            "Partnerships --> Partnerships\n",
            "Epoch=6, index=1440, loss=0.07614066933747381\n",
            "Prosperity --> Prosperity\n",
            "Epoch=6, index=1350, loss=0.10767394620925189\n",
            "People --> People\n",
            "Epoch=6, index=2010, loss=0.008801989754041036\n",
            "Prosperity --> Prosperity\n",
            "Epoch=6, index=840, loss=0.03864424806088209\n",
            "People --> Prosperity\n",
            "Epoch=6, index=1980, loss=0.0010128235366816322\n",
            "People --> People\n",
            "Epoch=6, index=360, loss=0.029687719714517394\n",
            "Planet --> Planet\n",
            "Epoch=6, index=600, loss=0.018630873085930942\n",
            "Prosperity --> Prosperity\n",
            "Epoch=6, index=1200, loss=0.2477742251047554\n",
            "People --> People\n",
            "Epoch=6, index=120, loss=0.007827254136403401\n",
            "Prosperity --> Prosperity\n",
            "Epoch=6, index=780, loss=0.004133596969768405\n",
            "Prosperity --> Prosperity\n",
            "Epoch=6, index=2280, loss=0.5459334909838314\n",
            "Prosperity --> Prosperity\n",
            "Epoch=6, index=60, loss=0.0006394317839294672\n",
            "People --> People\n",
            "Epoch=6, index=1920, loss=0.08815882199754317\n",
            "People --> People\n",
            "Epoch=6, index=2040, loss=0.24400317221491907\n",
            "Prosperity --> Prosperity\n",
            "Epoch=6, index=1950, loss=0.37317974199540915\n",
            "People --> People\n",
            "Epoch=6, index=2400, loss=0.21729993479481588\n",
            "Prosperity --> People\n",
            "Epoch=6, index=630, loss=0.08016490904459109\n",
            "Prosperity --> Prosperity\n",
            "Epoch=6, index=330, loss=0.2730074759495134\n",
            "Prosperity --> Prosperity\n",
            "Epoch=6, index=1620, loss=0.2699012818047777\n",
            "Prosperity --> Prosperity\n",
            "Epoch=6, index=1590, loss=0.06732021912078684\n",
            "Prosperity --> Prosperity\n",
            "Epoch=6, index=900, loss=0.0012246944010257722\n",
            "Prosperity --> Prosperity\n",
            "Epoch=6, index=1740, loss=0.1043127030832693\n",
            "People --> People\n",
            "Epoch=6, index=960, loss=0.018288033781573176\n",
            "Prosperity --> Prosperity\n",
            "Epoch=6, index=180, loss=0.18287313355443377\n",
            "Prosperity --> Prosperity\n",
            "Epoch=6, index=2460, loss=0.09351959911485513\n",
            "Prosperity --> Prosperity\n",
            "Epoch=6, index=1170, loss=0.04718682635575533\n",
            "People --> Prosperity\n",
            "Epoch=6, index=510, loss=0.011600506709267695\n",
            "Prosperity --> Prosperity\n",
            "Epoch=6, index=1230, loss=0.09699581422998259\n",
            "Prosperity --> Prosperity\n",
            "Epoch=6, index=150, loss=0.005148706414426367\n",
            "People --> People\n",
            "Epoch=6, index=750, loss=0.29815336930332703\n",
            "People --> People\n",
            "Epoch=6, index=2190, loss=0.005605844951545199\n",
            "People --> People\n",
            "Epoch=6, index=2130, loss=0.2402853291404123\n",
            "People --> People\n",
            "Epoch=6, index=1650, loss=0.013836995419114827\n",
            "Prosperity --> Prosperity\n",
            "Epoch=6, index=1020, loss=0.06478301068612685\n",
            "People --> People\n",
            "Epoch=6, index=1410, loss=0.0009772850200533867\n",
            "Prosperity --> Prosperity\n",
            "Epoch=6, index=2340, loss=0.25391791716683654\n",
            "Prosperity --> Prosperity\n",
            "Epoch=6, index=1710, loss=0.018007695050134012\n",
            "People --> People\n",
            "Epoch=6, index=1680, loss=7.472794968634843e-05\n",
            "Prosperity --> Prosperity\n",
            "Epoch=6, index=660, loss=0.05532677688170225\n",
            "Prosperity --> Prosperity\n",
            "Epoch=6, index=1830, loss=0.4749958796426654\n",
            "People --> People\n",
            "Epoch=6, index=390, loss=0.21561650971028332\n",
            "Peace --> Peace\n",
            "Epoch=6, index=990, loss=0.0750909352907911\n",
            "People --> People\n",
            "Epoch=6, index=570, loss=0.00784599109708021\n",
            "People --> People\n",
            "Epoch=6, index=930, loss=0.32119233862807356\n",
            "People --> People\n",
            "Epoch=6, index=300, loss=0.19779939955721298\n",
            "Prosperity --> Prosperity\n",
            "Epoch=6, index=1890, loss=0.00800373317518582\n",
            "People --> People\n",
            "Epoch=6, index=1380, loss=0.23722024316278598\n",
            "People --> People\n",
            "Epoch=6, index=540, loss=0.0015894067551319798\n",
            "People --> People\n",
            "Epoch=6, index=1290, loss=0.1635170986992307\n",
            "People --> People\n",
            "Accuracy: 0.81\n",
            "([('Parkkisähkö', 'Prosperity', 'Planet'), ('Rel8', 'Planet', 'Prosperity'), ('Nocofio', 'Prosperity', 'People'), ('Deedster', 'Prosperity', 'Peace'), ('TimberFish Technologies', 'Planet', 'Prosperity')], 0.8108108108108109)\n",
            "total loss=0.12017398327589035\n",
            "TIME TILL NOW: avg=4.8, for 6 epochs - 28.8 min\n",
            "2093\n",
            "Epoch=7, index=1470, loss=0.008351324234778683\n",
            "Prosperity --> Prosperity\n",
            "Epoch=7, index=2400, loss=0.15411746714574595\n",
            "Prosperity --> People\n",
            "Epoch=7, index=1080, loss=0.05551753648711989\n",
            "People --> People\n",
            "Epoch=7, index=960, loss=0.016100026826219013\n",
            "Prosperity --> Prosperity\n",
            "Epoch=7, index=1350, loss=0.2259843442084578\n",
            "People --> People\n",
            "Epoch=7, index=2340, loss=0.0037832166029450796\n",
            "Prosperity --> Prosperity\n",
            "Epoch=7, index=1710, loss=0.18754518083684768\n",
            "People --> People\n",
            "Epoch=7, index=180, loss=0.00046434059428672\n",
            "Prosperity --> Prosperity\n",
            "Epoch=7, index=2280, loss=0.00424231649376452\n",
            "Prosperity --> Prosperity\n",
            "Epoch=7, index=2010, loss=0.09822326835322505\n",
            "Prosperity --> Prosperity\n",
            "Epoch=7, index=1230, loss=0.003050684191597005\n",
            "Prosperity --> Prosperity\n",
            "Epoch=7, index=540, loss=0.7472995894961059\n",
            "People --> People\n",
            "Epoch=7, index=1290, loss=0.03363725307087104\n",
            "People --> People\n",
            "Epoch=7, index=1950, loss=0.07604288735310546\n",
            "People --> People\n",
            "Epoch=7, index=1650, loss=0.00042091721940475205\n",
            "Prosperity --> Prosperity\n",
            "Epoch=7, index=1740, loss=0.02355189255128304\n",
            "People --> People\n",
            "Epoch=7, index=570, loss=0.26530638405432305\n",
            "People --> People\n",
            "Epoch=7, index=600, loss=0.0011296788696199655\n",
            "Prosperity --> Prosperity\n",
            "Epoch=7, index=2040, loss=0.06250969948596322\n",
            "Prosperity --> Prosperity\n",
            "Epoch=7, index=870, loss=0.010531831555999816\n",
            "Prosperity --> Prosperity\n",
            "Epoch=7, index=270, loss=0.01418066288655003\n",
            "People --> People\n",
            "Epoch=7, index=300, loss=0.006513471439636002\n",
            "Prosperity --> Prosperity\n",
            "Epoch=7, index=60, loss=0.06352000716530408\n",
            "People --> People\n",
            "Epoch=7, index=30, loss=0.0709115369284215\n",
            "People --> People\n",
            "Epoch=7, index=1830, loss=0.45078126087707154\n",
            "People --> People\n",
            "Epoch=7, index=2130, loss=0.0013587970597048601\n",
            "People --> People\n",
            "Epoch=7, index=2070, loss=0.29098819034988993\n",
            "People --> People\n",
            "Epoch=7, index=660, loss=0.29930236232466995\n",
            "Prosperity --> Prosperity\n",
            "Epoch=7, index=840, loss=0.5955889623204712\n",
            "People --> People\n",
            "Epoch=7, index=930, loss=0.09380631577417566\n",
            "People --> People\n",
            "Epoch=7, index=1680, loss=0.2174270395926821\n",
            "Prosperity --> Prosperity\n",
            "Epoch=7, index=120, loss=0.04194846730679273\n",
            "Prosperity --> Prosperity\n",
            "Epoch=7, index=1500, loss=0.0946221363148652\n",
            "People --> People\n",
            "Epoch=7, index=1170, loss=0.1620858656009659\n",
            "People --> People\n",
            "Epoch=7, index=780, loss=0.013503962211931746\n",
            "Prosperity --> Prosperity\n",
            "Epoch=7, index=1320, loss=0.12704581668561635\n",
            "People --> People\n",
            "Epoch=7, index=1140, loss=0.035499065140417466\n",
            "People --> People\n",
            "Epoch=7, index=1980, loss=0.25936934797791766\n",
            "People --> People\n",
            "Epoch=7, index=90, loss=0.02370738094129289\n",
            "Partnerships --> Partnerships\n",
            "Epoch=7, index=510, loss=0.11662296079836475\n",
            "Prosperity --> Prosperity\n",
            "Epoch=7, index=1020, loss=0.012921552988700569\n",
            "People --> People\n",
            "Epoch=7, index=1440, loss=0.029963044511775175\n",
            "Prosperity --> Prosperity\n",
            "Epoch=7, index=2370, loss=0.11187745548474291\n",
            "People --> People\n",
            "Epoch=7, index=0, loss=0.0048690386892606815\n",
            "Prosperity --> Prosperity\n",
            "Epoch=7, index=1380, loss=0.003918924000269423\n",
            "People --> People\n",
            "Epoch=7, index=1410, loss=0.0027562165904479723\n",
            "Prosperity --> Prosperity\n",
            "Epoch=7, index=990, loss=0.0012508816881260524\n",
            "People --> People\n",
            "Epoch=7, index=1890, loss=0.1491139935348959\n",
            "People --> People\n",
            "Epoch=7, index=900, loss=0.07586030531480598\n",
            "Prosperity --> Prosperity\n",
            "Epoch=7, index=2160, loss=0.06710425705144492\n",
            "People --> People\n",
            "Epoch=7, index=1260, loss=0.009168014081660658\n",
            "Prosperity --> Prosperity\n",
            "Epoch=7, index=720, loss=0.0057174006593413654\n",
            "Prosperity --> Prosperity\n",
            "Epoch=7, index=750, loss=0.018071109200051675\n",
            "People --> People\n",
            "Epoch=7, index=390, loss=0.006588274124078452\n",
            "Peace --> Peace\n",
            "Epoch=7, index=690, loss=0.11051093351270538\n",
            "People --> People\n",
            "Epoch=7, index=2460, loss=0.2634870984164687\n",
            "Prosperity --> Prosperity\n",
            "Epoch=7, index=2190, loss=0.0031990958552341906\n",
            "People --> People\n",
            "Epoch=7, index=1860, loss=0.0006593062619989117\n",
            "People --> People\n",
            "Epoch=7, index=1620, loss=0.1483516066373947\n",
            "Prosperity --> Prosperity\n",
            "Epoch=7, index=1590, loss=0.06504136787261813\n",
            "Prosperity --> Prosperity\n",
            "Epoch=7, index=150, loss=0.001682850221792857\n",
            "People --> People\n",
            "Epoch=7, index=360, loss=0.006602000260803227\n",
            "Planet --> Planet\n",
            "Epoch=7, index=330, loss=0.005895877786679193\n",
            "Prosperity --> Prosperity\n",
            "Epoch=7, index=630, loss=0.17935578525842477\n",
            "Prosperity --> Prosperity\n",
            "Epoch=7, index=2250, loss=0.055383190799814956\n",
            "Peace --> Peace\n",
            "Epoch=7, index=1920, loss=0.014587834929504122\n",
            "People --> People\n",
            "Epoch=7, index=1200, loss=0.01027983813546598\n",
            "People --> People\n",
            "Accuracy: 0.82\n",
            "([('Parkkisähkö', 'Prosperity', 'Planet'), ('Rel8', 'Planet', 'Prosperity'), ('Nocofio', 'Prosperity', 'People'), ('Sawtooth seafood', 'Planet', 'People'), ('Deedster', 'Prosperity', 'Peace')], 0.8243243243243243)\n",
            "total loss=0.09112413227558136\n",
            "TIME TILL NOW: avg=4.8, for 7 epochs - 33.6 min\n"
          ],
          "name": "stdout"
        },
        {
          "output_type": "display_data",
          "data": {
            "image/png": "[encoded data removed]",
            "text/plain": [
              "<Figure size 432x288 with 1 Axes>"
            ]
          },
          "metadata": {
            "tags": [],
            "needs_background": "light"
          }
        },
        {
          "output_type": "display_data",
          "data": {
            "image/png": "[encoded data removed]",
            "text/plain": [
              "<Figure size 432x288 with 1 Axes>"
            ]
          },
          "metadata": {
            "tags": [],
            "needs_background": "light"
          }
        },
        {
          "output_type": "display_data",
          "data": {
            "image/png": "[encoded data removed]",
            "text/plain": [
              "<Figure size 432x288 with 1 Axes>"
            ]
          },
          "metadata": {
            "tags": [],
            "needs_background": "light"
          }
        },
        {
          "output_type": "display_data",
          "data": {
            "image/png": "[encoded data removed]",
            "text/plain": [
              "<Figure size 432x288 with 1 Axes>"
            ]
          },
          "metadata": {
            "tags": [],
            "needs_background": "light"
          }
        },
        {
          "output_type": "display_data",
          "data": {
            "image/png": "[encoded data removed]",
            "text/plain": [
              "<Figure size 432x288 with 1 Axes>"
            ]
          },
          "metadata": {
            "tags": [],
            "needs_background": "light"
          }
        },
        {
          "output_type": "display_data",
          "data": {
            "image/png": "[encoded data removed]",
            "text/plain": [
              "<Figure size 432x288 with 1 Axes>"
            ]
          },
          "metadata": {
            "tags": [],
            "needs_background": "light"
          }
        },
        {
          "output_type": "display_data",
          "data": {
            "image/png": "[encoded data removed]",
            "text/plain": [
              "<Figure size 432x288 with 1 Axes>"
            ]
          },
          "metadata": {
            "tags": [],
            "needs_background": "light"
          }
        }
      ]
    },
    {
      "cell_type": "code",
      "metadata": {
        "id": "QOVF5nMxtk4Z",
        "outputId": "32030b18-ba2a-42a3-9dda-1b3f9104c562",
        "colab": {
          "base_uri": "https://localhost:8080/",
          "height": 992
        }
      },
      "source": [
        "evaluate_mode(X_test, model)"
      ],
      "execution_count": null,
      "outputs": [
        {
          "output_type": "stream",
          "text": [
            "Accuracy: 0.82\n",
            "Auc: 0.51\n",
            "Detail:\n",
            "              precision    recall  f1-score   support\n",
            "\n",
            "Partnerships       0.33      0.33      0.33         3\n",
            "       Peace       0.70      0.50      0.58        14\n",
            "      People       0.83      0.92      0.87       149\n",
            "      Planet       0.81      0.54      0.65        39\n",
            "  Prosperity       0.84      0.84      0.84       165\n",
            "\n",
            "    accuracy                           0.82       370\n",
            "   macro avg       0.70      0.63      0.66       370\n",
            "weighted avg       0.82      0.82      0.82       370\n",
            "\n"
          ],
          "name": "stdout"
        },
        {
          "output_type": "display_data",
          "data": {
            "image/png": "[encoded data removed]",
            "text/plain": [
              "<Figure size 432x288 with 1 Axes>"
            ]
          },
          "metadata": {
            "tags": [],
            "needs_background": "light"
          }
        },
        {
          "output_type": "display_data",
          "data": {
            "image/png": "[encoded data removed]",
            "text/plain": [
              "<Figure size 720x360 with 2 Axes>"
            ]
          },
          "metadata": {
            "tags": [],
            "needs_background": "light"
          }
        },
        {
          "output_type": "execute_result",
          "data": {
            "text/plain": [
              "([('Parkkisähkö', 'Prosperity', 'Planet'),\n",
              "  ('Rel8', 'Planet', 'Prosperity'),\n",
              "  ('Nocofio', 'Prosperity', 'People'),\n",
              "  ('Sawtooth seafood', 'Planet', 'People'),\n",
              "  ('Deedster', 'Prosperity', 'Peace')],\n",
              " 0.8243243243243243)"
            ]
          },
          "metadata": {
            "tags": []
          },
          "execution_count": 22
        }
      ]
    },
    {
      "cell_type": "code",
      "metadata": {
        "id": "f0Zzfzo9N7lC",
        "outputId": "af89e53b-1cc5-4488-9c68-0901e5e7f56a",
        "colab": {
          "base_uri": "https://localhost:8080/",
          "height": 279
        }
      },
      "source": [
        "## Plot loss for epoc\n",
        "\n",
        "import matplotlib.pyplot as plt\n",
        "%matplotlib inline\n",
        "plt.plot(range(n_epochs), losses)\n",
        "plt.ylabel('Cross Entropy Loss')\n",
        "plt.xlabel('epoch');"
      ],
      "execution_count": null,
      "outputs": [
        {
          "output_type": "display_data",
          "data": {
            "image/png": "[encoded data removed]",
            "text/plain": [
              "<Figure size 432x288 with 1 Axes>"
            ]
          },
          "metadata": {
            "tags": [],
            "needs_background": "light"
          }
        }
      ]
    },
    {
      "cell_type": "code",
      "metadata": {
        "id": "cACzN8WvN7lL"
      },
      "source": [
        "# errors"
      ],
      "execution_count": null,
      "outputs": []
    },
    {
      "cell_type": "code",
      "metadata": {
        "id": "YFVX5BnIXPGw",
        "outputId": "9e388334-93dd-4daf-8f97-08b3e4cf2465",
        "colab": {
          "base_uri": "https://localhost:8080/",
          "height": 156
        }
      },
      "source": [
        "scores = [x[1] for x in errors]\n",
        "print(f\"avg - {sum(scores[-10:])/len(scores[-10:])}\")\n",
        "scores"
      ],
      "execution_count": null,
      "outputs": [
        {
          "output_type": "stream",
          "text": [
            "avg - 0.813899613899614\n"
          ],
          "name": "stdout"
        },
        {
          "output_type": "execute_result",
          "data": {
            "text/plain": [
              "[0.7891891891891892,\n",
              " 0.8216216216216217,\n",
              " 0.8,\n",
              " 0.827027027027027,\n",
              " 0.8243243243243243,\n",
              " 0.8108108108108109,\n",
              " 0.8243243243243243]"
            ]
          },
          "metadata": {
            "tags": []
          },
          "execution_count": 25
        }
      ]
    },
    {
      "cell_type": "code",
      "metadata": {
        "id": "J0B3KGzX1twx"
      },
      "source": [
        "# Be careful to overwrite our original name file!\n",
        "model_name = 'models/allGoalsTo5Ps3.net'"
      ],
      "execution_count": null,
      "outputs": []
    },
    {
      "cell_type": "code",
      "metadata": {
        "id": "tEr1Yui61tw0"
      },
      "source": [
        "torch.save(model,model_name)"
      ],
      "execution_count": null,
      "outputs": []
    },
    {
      "cell_type": "code",
      "metadata": {
        "id": "b-Xg5E0i1tw7"
      },
      "source": [
        "# model = torch.load(model_name)\n",
        "# model.eval()"
      ],
      "execution_count": null,
      "outputs": []
    },
    {
      "cell_type": "markdown",
      "metadata": {
        "id": "POZwDxs0N7lN"
      },
      "source": [
        "##Predict Goals from all goals"
      ]
    },
    {
      "cell_type": "code",
      "metadata": {
        "id": "IxWALjQfO24Y",
        "outputId": "e905d485-bc87-41d1-e97e-cce8091f8d01",
        "colab": {
          "base_uri": "https://localhost:8080/",
          "height": 35
        }
      },
      "source": [
        "data = read_data()\n",
        "data.shape"
      ],
      "execution_count": null,
      "outputs": [
        {
          "output_type": "execute_result",
          "data": {
            "text/plain": [
              "(2463, 12)"
            ]
          },
          "metadata": {
            "tags": []
          },
          "execution_count": 15
        }
      ]
    },
    {
      "cell_type": "code",
      "metadata": {
        "id": "rdsy-z4fN7lQ",
        "outputId": "0b45c19c-9e99-43f6-e2d6-9f860db24831",
        "colab": {
          "base_uri": "https://localhost:8080/",
          "height": 87
        }
      },
      "source": [
        "data['Target'] = data['SDG Goal']\n",
        "labels = list(data['Target'].value_counts().keys().values)\n",
        "X_train, X_test, y_train, y_test = train_test_split(data, data[\"Target\"], test_size=0.15, random_state=42)\n",
        "print(labels)\n",
        "print(len(X_train), len(y_train))\n",
        "print(len(X_test), len(y_test))\n",
        "print(X_train.index[0:5])"
      ],
      "execution_count": null,
      "outputs": [
        {
          "output_type": "stream",
          "text": [
            "[7, 2, 3, 1, 9, 12, 13, 4, 8, 16, 6, 11, 14, 10, 5, 15, 17]\n",
            "2093 2093\n",
            "370 370\n",
            "Int64Index([157, 1395, 1983, 498, 765], dtype='int64')\n"
          ],
          "name": "stdout"
        }
      ]
    },
    {
      "cell_type": "code",
      "metadata": {
        "id": "botE7uSyN7lS",
        "outputId": "5e787a93-c70c-4f1c-c0cc-1dd078eabcdc",
        "colab": {
          "base_uri": "https://localhost:8080/",
          "height": 329
        }
      },
      "source": [
        "X_test['Target'].value_counts()"
      ],
      "execution_count": null,
      "outputs": [
        {
          "output_type": "execute_result",
          "data": {
            "text/plain": [
              "7     86\n",
              "2     61\n",
              "3     33\n",
              "1     31\n",
              "9     30\n",
              "12    28\n",
              "13    21\n",
              "14    15\n",
              "16    14\n",
              "4     12\n",
              "8     10\n",
              "6      8\n",
              "11     6\n",
              "10     5\n",
              "5      4\n",
              "15     3\n",
              "17     3\n",
              "Name: Target, dtype: int64"
            ]
          },
          "metadata": {
            "tags": []
          },
          "execution_count": 17
        }
      ]
    },
    {
      "cell_type": "code",
      "metadata": {
        "id": "DN4l0CCoN7lU"
      },
      "source": [
        "model = SDGModel(len(labels)).cuda()\n",
        "# model = torch.load(\"models/allGoalsToGoals3.net\")"
      ],
      "execution_count": null,
      "outputs": []
    },
    {
      "cell_type": "code",
      "metadata": {
        "id": "SMAnvOmrN7lW",
        "outputId": "29157403-fdaa-4db6-8b5d-cec3ad7f0929",
        "colab": {
          "base_uri": "https://localhost:8080/",
          "height": 69
        }
      },
      "source": [
        "model(\"Hello World\")"
      ],
      "execution_count": null,
      "outputs": [
        {
          "output_type": "execute_result",
          "data": {
            "text/plain": [
              "tensor([-0.3116,  0.1905, -0.1943, -0.1998, -0.3223,  0.0833, -0.1255, -0.2417,\n",
              "        -0.0740,  0.0847,  0.1603, -0.2312, -0.1569,  0.2418, -0.1918, -0.2143,\n",
              "         0.2873], device='cuda:0', grad_fn=<AddBackward0>)"
            ]
          },
          "metadata": {
            "tags": []
          },
          "execution_count": 19
        }
      ]
    },
    {
      "cell_type": "code",
      "metadata": {
        "id": "l3otWxoPN7lY"
      },
      "source": [
        "criterion = torch.nn.CrossEntropyLoss()\n",
        "optimizer = AdamW(model.parameters(), lr=1e-5)"
      ],
      "execution_count": null,
      "outputs": []
    },
    {
      "cell_type": "code",
      "metadata": {
        "id": "nf5sWkDcN7la",
        "outputId": "ee2dd9fa-f76d-4d7b-baf4-6d992e873c88",
        "colab": {
          "base_uri": "https://localhost:8080/",
          "height": 1000
        }
      },
      "source": [
        "import time\n",
        "\n",
        "n_epochs = 7\n",
        "\n",
        "start_time = time.time()\n",
        "losses = []\n",
        "errors = []\n",
        "\n",
        "for e in range(1, n_epochs+1):\n",
        "  current_loss = 0\n",
        "  epoc_loss = 0;\n",
        "  curr_data = X_train.sample(frac=1)\n",
        "  print(len(curr_data))\n",
        "  for index, instance in curr_data.iterrows():\n",
        "    optimizer.zero_grad()\n",
        "    out = model(instance[\"Description\"].lower())\n",
        "    loss = criterion(out.view(1, -1), torch.LongTensor([labels.index(instance[\"Target\"])]).cuda())\n",
        "    epoc_loss += loss\n",
        "    loss.backward()\n",
        "    optimizer.step()\n",
        "    current_loss += loss.item()\n",
        "    if index % 30 == 0:\n",
        "      print(f\"Epoch={e}, index={index}, loss={current_loss/30}\")\n",
        "      print(f\"{instance['Target']} --> {labels[torch.argmax(out).item()]}\")\n",
        "      current_loss = 0\n",
        "  error = evaluate_mode(X_test, model, False)\n",
        "  print(error)\n",
        "  print(f\"total loss={epoc_loss/len(curr_data)}\")\n",
        "  losses.append(epoc_loss/len(curr_data))\n",
        "  errors.append(error)\n",
        "  print(f\"TIME TILL NOW: avg={(time.time() - start_time)/60/e:.1f}, for {e} epochs - {(time.time() - start_time)/60:.1f} min\")"
      ],
      "execution_count": null,
      "outputs": [
        {
          "output_type": "stream",
          "text": [
            "2093\n",
            "Epoch=1, index=2280, loss=1.1508437156677247\n",
            "8 --> 6\n",
            "Epoch=1, index=1920, loss=7.443877434730529\n",
            "2 --> 2\n",
            "Epoch=1, index=1590, loss=5.106106702486674\n",
            "8 --> 7\n",
            "Epoch=1, index=600, loss=1.0040834108988443\n",
            "7 --> 7\n",
            "Epoch=1, index=2130, loss=3.6928747495015464\n",
            "5 --> 7\n",
            "Epoch=1, index=840, loss=9.372736271222433\n",
            "2 --> 2\n",
            "Epoch=1, index=1020, loss=2.4897794564565023\n",
            "2 --> 2\n",
            "Epoch=1, index=1620, loss=1.274224179983139\n",
            "9 --> 7\n",
            "Epoch=1, index=570, loss=2.5063870122035343\n",
            "2 --> 2\n",
            "Epoch=1, index=1680, loss=0.5682085355122884\n",
            "7 --> 7\n",
            "Epoch=1, index=330, loss=0.9362632433573405\n",
            "7 --> 7\n",
            "Epoch=1, index=300, loss=1.4165946225325265\n",
            "12 --> 2\n",
            "Epoch=1, index=1410, loss=3.908199120561282\n",
            "7 --> 7\n",
            "Epoch=1, index=1290, loss=2.619175292054812\n",
            "5 --> 3\n",
            "Epoch=1, index=390, loss=0.7074790149927139\n",
            "16 --> 1\n",
            "Epoch=1, index=2160, loss=6.520841281612714\n",
            "3 --> 3\n",
            "Epoch=1, index=2190, loss=1.4361443102359772\n",
            "4 --> 3\n",
            "Epoch=1, index=750, loss=1.048728131254514\n",
            "2 --> 7\n",
            "Epoch=1, index=1740, loss=2.7084211806456246\n",
            "3 --> 8\n",
            "Epoch=1, index=1350, loss=1.2376654346783955\n",
            "4 --> 4\n",
            "Epoch=1, index=2010, loss=0.12767672538757324\n",
            "12 --> 2\n",
            "Epoch=1, index=660, loss=2.9626957664887112\n",
            "7 --> 7\n",
            "Epoch=1, index=90, loss=1.198011146982511\n",
            "17 --> 9\n",
            "Epoch=1, index=1380, loss=1.764812059700489\n",
            "4 --> 3\n",
            "Epoch=1, index=180, loss=2.1721576606233914\n",
            "12 --> 12\n",
            "Epoch=1, index=1890, loss=0.9011846363544465\n",
            "2 --> 2\n",
            "Epoch=1, index=60, loss=0.013641996184984843\n",
            "2 --> 2\n",
            "Epoch=1, index=30, loss=1.055460553864638\n",
            "6 --> 3\n",
            "Epoch=1, index=2040, loss=0.8408262213071187\n",
            "12 --> 1\n",
            "Epoch=1, index=1980, loss=2.363254168132941\n",
            "3 --> 3\n",
            "Epoch=1, index=1860, loss=0.338055028518041\n",
            "2 --> 2\n",
            "Epoch=1, index=540, loss=4.708065724372863\n",
            "6 --> 6\n",
            "Epoch=1, index=2460, loss=4.391528968016306\n",
            "8 --> 3\n",
            "Epoch=1, index=1140, loss=2.281172261138757\n",
            "3 --> 3\n",
            "Epoch=1, index=1470, loss=0.37477016597986224\n",
            "12 --> 2\n",
            "Epoch=1, index=1200, loss=0.7499539941549301\n",
            "1 --> 1\n",
            "Epoch=1, index=510, loss=0.26704663336277007\n",
            "7 --> 7\n",
            "Epoch=1, index=960, loss=0.11591205596923829\n",
            "7 --> 2\n",
            "Epoch=1, index=1080, loss=0.11696617205937704\n",
            "5 --> 3\n",
            "Epoch=1, index=1230, loss=3.0265467882156374\n",
            "12 --> 2\n",
            "Epoch=1, index=720, loss=0.3964518328507741\n",
            "7 --> 7\n",
            "Epoch=1, index=2400, loss=0.16459506551424663\n",
            "10 --> 3\n",
            "Epoch=1, index=360, loss=1.6006869442760945\n",
            "13 --> 7\n",
            "Epoch=1, index=1950, loss=3.025846942762534\n",
            "3 --> 3\n",
            "Epoch=1, index=1500, loss=1.3453274523218473\n",
            "1 --> 1\n",
            "Epoch=1, index=0, loss=1.561748779565096\n",
            "7 --> 7\n",
            "Epoch=1, index=150, loss=0.5052620572348435\n",
            "2 --> 2\n",
            "Epoch=1, index=2250, loss=0.5857346246639887\n",
            "16 --> 4\n",
            "Epoch=1, index=900, loss=1.8479957568148773\n",
            "7 --> 7\n",
            "Epoch=1, index=990, loss=0.3151675303777059\n",
            "2 --> 2\n",
            "Epoch=1, index=270, loss=1.9345259686311087\n",
            "5 --> 10\n",
            "Epoch=1, index=2340, loss=3.8582811479767165\n",
            "7 --> 7\n",
            "Epoch=1, index=1650, loss=0.4432186077038447\n",
            "8 --> 3\n",
            "Epoch=1, index=2070, loss=0.3442354028423627\n",
            "3 --> 3\n",
            "Epoch=1, index=870, loss=0.22757825156052908\n",
            "7 --> 7\n",
            "Epoch=1, index=1830, loss=0.31420299982031186\n",
            "2 --> 2\n",
            "Epoch=1, index=630, loss=3.152203790595134\n",
            "7 --> 7\n",
            "Epoch=1, index=120, loss=0.7681177901724975\n",
            "7 --> 7\n",
            "Epoch=1, index=1440, loss=0.3963476181030273\n",
            "7 --> 7\n",
            "Epoch=1, index=780, loss=0.6127634552617868\n",
            "10 --> 4\n",
            "Epoch=1, index=1170, loss=0.9619828430314858\n",
            "1 --> 1\n",
            "Epoch=1, index=1710, loss=0.4883898129065832\n",
            "2 --> 2\n",
            "Epoch=1, index=2370, loss=0.9433409020304679\n",
            "3 --> 4\n",
            "Epoch=1, index=690, loss=0.29439517160256706\n",
            "1 --> 1\n",
            "Epoch=1, index=1260, loss=0.6451532853146394\n",
            "9 --> 7\n",
            "Epoch=1, index=1320, loss=1.4502297056217988\n",
            "1 --> 1\n",
            "Epoch=1, index=930, loss=0.06397404496868452\n",
            "2 --> 2\n",
            "Accuracy: 0.71\n",
            "([('Rel8', 13, 12), ('Nocofio', 8, 2), ('Sawtooth seafood', 14, 1), ('Morpher', 9, 1), ('Deedster', 12, 3)], 0.7108108108108108)\n",
            "total loss=1.7100580930709839\n",
            "TIME TILL NOW: avg=4.6, for 1 epochs - 4.6 min\n",
            "2093\n",
            "Epoch=2, index=1740, loss=2.255767912666003\n",
            "3 --> 3\n",
            "Epoch=2, index=990, loss=1.5323504348595938\n",
            "2 --> 2\n",
            "Epoch=2, index=1680, loss=0.05688334554433823\n",
            "7 --> 7\n",
            "Epoch=2, index=2130, loss=2.333039733270804\n",
            "5 --> 16\n",
            "Epoch=2, index=1620, loss=0.2299187829097112\n",
            "9 --> 16\n",
            "Epoch=2, index=2400, loss=1.8198906265199184\n",
            "10 --> 3\n",
            "Epoch=2, index=1890, loss=1.0121643578012784\n",
            "2 --> 2\n",
            "Epoch=2, index=1500, loss=1.4113033403952917\n",
            "1 --> 1\n",
            "Epoch=2, index=1080, loss=1.4254227928817271\n",
            "5 --> 3\n",
            "Epoch=2, index=960, loss=0.13026605149110157\n",
            "7 --> 7\n",
            "Epoch=2, index=1020, loss=1.0442008609573046\n",
            "2 --> 2\n",
            "Epoch=2, index=1230, loss=1.084947553773721\n",
            "12 --> 2\n",
            "Epoch=2, index=600, loss=0.8954146295785904\n",
            "7 --> 7\n",
            "Epoch=2, index=1470, loss=0.19173026978969573\n",
            "12 --> 12\n",
            "Epoch=2, index=1590, loss=1.1240773623188336\n",
            "8 --> 16\n",
            "Epoch=2, index=2340, loss=0.5218058613439401\n",
            "7 --> 7\n",
            "Epoch=2, index=840, loss=0.07331018745899201\n",
            "2 --> 2\n",
            "Epoch=2, index=1260, loss=0.7626948267221451\n",
            "9 --> 7\n",
            "Epoch=2, index=690, loss=1.423640612512827\n",
            "1 --> 1\n",
            "Epoch=2, index=1380, loss=4.00020467142264\n",
            "4 --> 4\n",
            "Epoch=2, index=630, loss=0.18250778938333193\n",
            "7 --> 7\n",
            "Epoch=2, index=2370, loss=0.19272220854957897\n",
            "3 --> 3\n",
            "Epoch=2, index=60, loss=0.27588470752040545\n",
            "2 --> 2\n",
            "Epoch=2, index=180, loss=0.1900038828452428\n",
            "12 --> 12\n",
            "Epoch=2, index=510, loss=1.0219172661503155\n",
            "7 --> 7\n",
            "Epoch=2, index=1440, loss=0.1804825166861216\n",
            "7 --> 7\n",
            "Epoch=2, index=1170, loss=0.8526018624504407\n",
            "1 --> 1\n",
            "Epoch=2, index=2010, loss=1.0320719892779986\n",
            "12 --> 2\n",
            "Epoch=2, index=1830, loss=0.37500967383384703\n",
            "2 --> 2\n",
            "Epoch=2, index=1350, loss=0.10164490814010302\n",
            "4 --> 4\n",
            "Epoch=2, index=660, loss=0.07839913417895635\n",
            "7 --> 7\n",
            "Epoch=2, index=360, loss=2.933296457802256\n",
            "13 --> 13\n",
            "Epoch=2, index=2040, loss=1.9692519715676704\n",
            "12 --> 12\n",
            "Epoch=2, index=2190, loss=1.1148254301398992\n",
            "4 --> 4\n",
            "Epoch=2, index=2280, loss=1.0026720774670441\n",
            "8 --> 12\n",
            "Epoch=2, index=30, loss=0.4414589573939641\n",
            "6 --> 6\n",
            "Epoch=2, index=900, loss=0.3104468410213788\n",
            "7 --> 7\n",
            "Epoch=2, index=2160, loss=2.7968897100538017\n",
            "3 --> 3\n",
            "Epoch=2, index=2250, loss=0.5757776687542597\n",
            "16 --> 9\n",
            "Epoch=2, index=540, loss=1.0512019721170267\n",
            "6 --> 6\n",
            "Epoch=2, index=570, loss=0.3548073043425878\n",
            "2 --> 2\n",
            "Epoch=2, index=930, loss=0.8253257606178522\n",
            "2 --> 2\n",
            "Epoch=2, index=2460, loss=0.4653656249245008\n",
            "8 --> 4\n",
            "Epoch=2, index=390, loss=0.7129672755797704\n",
            "16 --> 16\n",
            "Epoch=2, index=150, loss=0.6316437042007844\n",
            "2 --> 2\n",
            "Epoch=2, index=750, loss=2.3961509097367526\n",
            "2 --> 2\n",
            "Epoch=2, index=300, loss=0.11315805514653524\n",
            "12 --> 2\n",
            "Epoch=2, index=330, loss=1.4308812958498796\n",
            "7 --> 7\n",
            "Epoch=2, index=1860, loss=2.5257800057530404\n",
            "2 --> 2\n",
            "Epoch=2, index=1650, loss=1.0463238216936588\n",
            "8 --> 8\n",
            "Epoch=2, index=1200, loss=4.526376859595378\n",
            "1 --> 1\n",
            "Epoch=2, index=120, loss=2.1217435166239738\n",
            "7 --> 7\n",
            "Epoch=2, index=1320, loss=3.40245534516871\n",
            "1 --> 1\n",
            "Epoch=2, index=1290, loss=0.7811875578636924\n",
            "5 --> 3\n",
            "Epoch=2, index=1980, loss=0.8553951847056548\n",
            "3 --> 3\n",
            "Epoch=2, index=90, loss=1.1752895705401898\n",
            "17 --> 12\n",
            "Epoch=2, index=1710, loss=0.23823831925789515\n",
            "2 --> 2\n",
            "Epoch=2, index=270, loss=0.23635520736376445\n",
            "5 --> 5\n",
            "Epoch=2, index=1950, loss=0.3079308723409971\n",
            "3 --> 3\n",
            "Epoch=2, index=720, loss=2.0287934513762593\n",
            "7 --> 7\n",
            "Epoch=2, index=780, loss=0.985091965769728\n",
            "10 --> 4\n",
            "Epoch=2, index=870, loss=3.425566671974957\n",
            "7 --> 7\n",
            "Epoch=2, index=1410, loss=0.885803406064709\n",
            "7 --> 7\n",
            "Epoch=2, index=2070, loss=1.1624935514604051\n",
            "3 --> 3\n",
            "Epoch=2, index=1140, loss=0.306624315927426\n",
            "3 --> 3\n",
            "Epoch=2, index=1920, loss=0.6543447052439054\n",
            "2 --> 2\n",
            "Epoch=2, index=0, loss=0.2420119933784008\n",
            "7 --> 7\n",
            "Accuracy: 0.76\n",
            "([('Parkkisähkö', 7, 13), ('Rel8', 13, 9), ('Nocofio', 8, 2), ('Morpher', 9, 1), ('Deedster', 12, 3)], 0.7648648648648648)\n",
            "total loss=1.0629403591156006\n",
            "TIME TILL NOW: avg=4.7, for 2 epochs - 9.3 min\n",
            "2093\n",
            "Epoch=3, index=1140, loss=0.04363384892543157\n",
            "3 --> 3\n",
            "Epoch=3, index=1590, loss=0.6962794904907544\n",
            "8 --> 8\n",
            "Epoch=3, index=90, loss=0.13344070514043171\n",
            "17 --> 9\n",
            "Epoch=3, index=1350, loss=0.041809410353501636\n",
            "4 --> 4\n",
            "Epoch=3, index=570, loss=1.1170079956452053\n",
            "2 --> 2\n",
            "Epoch=3, index=1290, loss=2.327491395175457\n",
            "5 --> 5\n",
            "Epoch=3, index=360, loss=1.312869288958609\n",
            "13 --> 13\n",
            "Epoch=3, index=0, loss=0.3751969486474991\n",
            "7 --> 7\n",
            "Epoch=3, index=1410, loss=0.5326086450989048\n",
            "7 --> 7\n",
            "Epoch=3, index=60, loss=0.43515194120506445\n",
            "2 --> 2\n",
            "Epoch=3, index=990, loss=0.1482665133352081\n",
            "2 --> 2\n",
            "Epoch=3, index=2070, loss=0.9344163085023562\n",
            "3 --> 3\n",
            "Epoch=3, index=840, loss=0.4007858724643787\n",
            "2 --> 2\n",
            "Epoch=3, index=1980, loss=0.8361214028050502\n",
            "3 --> 3\n",
            "Epoch=3, index=1260, loss=0.36133576134840645\n",
            "9 --> 9\n",
            "Epoch=3, index=2250, loss=0.25965451784431937\n",
            "16 --> 16\n",
            "Epoch=3, index=690, loss=1.2116163472955426\n",
            "1 --> 1\n",
            "Epoch=3, index=300, loss=0.7653679297616084\n",
            "12 --> 12\n",
            "Epoch=3, index=270, loss=0.5225410650173823\n",
            "5 --> 5\n",
            "Epoch=3, index=1320, loss=0.6566015814741453\n",
            "1 --> 1\n",
            "Epoch=3, index=1860, loss=0.6042590292791525\n",
            "2 --> 2\n",
            "Epoch=3, index=960, loss=0.8410047043114901\n",
            "7 --> 7\n",
            "Epoch=3, index=1020, loss=1.1390392356552184\n",
            "2 --> 2\n",
            "Epoch=3, index=30, loss=0.10072942165036997\n",
            "6 --> 6\n",
            "Epoch=3, index=2460, loss=2.346277798898518\n",
            "8 --> 8\n",
            "Epoch=3, index=600, loss=0.012130109469095866\n",
            "7 --> 7\n",
            "Epoch=3, index=1650, loss=0.18619510519007842\n",
            "8 --> 8\n",
            "Epoch=3, index=1830, loss=0.13639376523594063\n",
            "2 --> 2\n",
            "Epoch=3, index=180, loss=0.6568326377620299\n",
            "12 --> 12\n",
            "Epoch=3, index=120, loss=0.9067034764836231\n",
            "7 --> 7\n",
            "Epoch=3, index=1230, loss=0.7715893696372708\n",
            "12 --> 12\n",
            "Epoch=3, index=750, loss=1.836590277714034\n",
            "2 --> 2\n",
            "Epoch=3, index=2010, loss=1.08487131173412\n",
            "12 --> 12\n",
            "Epoch=3, index=2190, loss=0.4462776924173037\n",
            "4 --> 4\n",
            "Epoch=3, index=2160, loss=0.46600542552769186\n",
            "3 --> 3\n",
            "Epoch=3, index=660, loss=0.13482680581510068\n",
            "7 --> 7\n",
            "Epoch=3, index=720, loss=0.09749810261030992\n",
            "7 --> 7\n",
            "Epoch=3, index=1440, loss=1.7617421574269732\n",
            "7 --> 7\n",
            "Epoch=3, index=1680, loss=1.0786818952610095\n",
            "7 --> 7\n",
            "Epoch=3, index=150, loss=0.7522332929695646\n",
            "2 --> 2\n",
            "Epoch=3, index=1470, loss=0.30449447861562173\n",
            "12 --> 12\n",
            "Epoch=3, index=1500, loss=0.08042223080992698\n",
            "1 --> 1\n",
            "Epoch=3, index=390, loss=1.7114791652808587\n",
            "16 --> 16\n",
            "Epoch=3, index=2280, loss=0.66890419870615\n",
            "8 --> 12\n",
            "Epoch=3, index=2130, loss=0.11918126742045085\n",
            "5 --> 5\n",
            "Epoch=3, index=1380, loss=0.4334174825499455\n",
            "4 --> 4\n",
            "Epoch=3, index=780, loss=0.6494288757443428\n",
            "10 --> 10\n",
            "Epoch=3, index=2400, loss=0.7449178288380305\n",
            "10 --> 10\n",
            "Epoch=3, index=2370, loss=0.49593305264910065\n",
            "3 --> 4\n",
            "Epoch=3, index=2040, loss=0.24797408220668635\n",
            "12 --> 12\n",
            "Epoch=3, index=930, loss=1.1116567701101303\n",
            "2 --> 2\n",
            "Epoch=3, index=1170, loss=0.0492708424727122\n",
            "1 --> 1\n",
            "Epoch=3, index=630, loss=1.5373962867073714\n",
            "7 --> 7\n",
            "Epoch=3, index=1740, loss=3.3323502307447295\n",
            "3 --> 3\n",
            "Epoch=3, index=870, loss=0.004474349319934845\n",
            "7 --> 7\n",
            "Epoch=3, index=1890, loss=0.6967135128875573\n",
            "2 --> 12\n",
            "Epoch=3, index=2340, loss=0.41653018246094387\n",
            "7 --> 7\n",
            "Epoch=3, index=540, loss=0.8646341842288773\n",
            "6 --> 6\n",
            "Epoch=3, index=1620, loss=0.27320527533690137\n",
            "9 --> 8\n",
            "Epoch=3, index=330, loss=1.987137079363068\n",
            "7 --> 7\n",
            "Epoch=3, index=1920, loss=0.2078470753505826\n",
            "2 --> 2\n",
            "Epoch=3, index=900, loss=1.6162686277491352\n",
            "7 --> 7\n",
            "Epoch=3, index=1080, loss=0.13010792328665655\n",
            "5 --> 5\n",
            "Epoch=3, index=1950, loss=0.538289318109552\n",
            "3 --> 3\n",
            "Epoch=3, index=510, loss=2.454123571018378\n",
            "7 --> 7\n",
            "Epoch=3, index=1710, loss=0.35357654144366585\n",
            "2 --> 2\n",
            "Epoch=3, index=1200, loss=0.508679299087574\n",
            "1 --> 1\n",
            "Accuracy: 0.75\n",
            "([('Parkkisähkö', 7, 13), ('Rel8', 13, 9), ('Nocofio', 8, 2), ('Sawtooth seafood', 14, 9), ('Morpher', 9, 1)], 0.7513513513513513)\n",
            "total loss=0.7313027381896973\n",
            "TIME TILL NOW: avg=4.7, for 3 epochs - 14.1 min\n",
            "2093\n",
            "Epoch=4, index=30, loss=0.19934841400633255\n",
            "6 --> 6\n",
            "Epoch=4, index=2400, loss=0.3421199794858694\n",
            "10 --> 4\n",
            "Epoch=4, index=840, loss=0.06677272043501338\n",
            "2 --> 2\n",
            "Epoch=4, index=1140, loss=0.622576839166383\n",
            "3 --> 3\n",
            "Epoch=4, index=1200, loss=0.6938632126276691\n",
            "1 --> 1\n",
            "Epoch=4, index=0, loss=0.9277156082292398\n",
            "7 --> 7\n",
            "Epoch=4, index=1260, loss=0.022194199884931248\n",
            "9 --> 9\n",
            "Epoch=4, index=1980, loss=0.7125185748717437\n",
            "3 --> 3\n",
            "Epoch=4, index=360, loss=0.6747222660109401\n",
            "13 --> 13\n",
            "Epoch=4, index=2010, loss=0.011107573409875234\n",
            "12 --> 12\n",
            "Epoch=4, index=1590, loss=0.0345312320937713\n",
            "8 --> 8\n",
            "Epoch=4, index=1020, loss=0.19245580298205217\n",
            "2 --> 2\n",
            "Epoch=4, index=1230, loss=1.7631792720096806\n",
            "12 --> 12\n",
            "Epoch=4, index=960, loss=2.435629064310342\n",
            "7 --> 7\n",
            "Epoch=4, index=270, loss=0.4076526542504629\n",
            "5 --> 5\n",
            "Epoch=4, index=1440, loss=0.09045262274642786\n",
            "7 --> 7\n",
            "Epoch=4, index=990, loss=0.11362007856369019\n",
            "2 --> 2\n",
            "Epoch=4, index=330, loss=1.6748423983653387\n",
            "7 --> 7\n",
            "Epoch=4, index=2280, loss=0.20438514078656833\n",
            "8 --> 12\n",
            "Epoch=4, index=390, loss=0.29518332462757824\n",
            "16 --> 16\n",
            "Epoch=4, index=2370, loss=0.10917153830329578\n",
            "3 --> 4\n",
            "Epoch=4, index=1650, loss=1.0742784629420687\n",
            "8 --> 8\n",
            "Epoch=4, index=570, loss=0.8292928269132972\n",
            "2 --> 2\n",
            "Epoch=4, index=1080, loss=0.009275966882705688\n",
            "5 --> 5\n",
            "Epoch=4, index=630, loss=0.973653020709753\n",
            "7 --> 7\n",
            "Epoch=4, index=150, loss=0.06751409980158012\n",
            "2 --> 2\n",
            "Epoch=4, index=2190, loss=0.30930011843641597\n",
            "4 --> 4\n",
            "Epoch=4, index=780, loss=0.5614413988466064\n",
            "10 --> 10\n",
            "Epoch=4, index=690, loss=0.59130985258768\n",
            "1 --> 1\n",
            "Epoch=4, index=750, loss=0.09003454390913249\n",
            "2 --> 2\n",
            "Epoch=4, index=2250, loss=0.7275878323242069\n",
            "16 --> 16\n",
            "Epoch=4, index=1860, loss=0.120418806001544\n",
            "2 --> 2\n",
            "Epoch=4, index=540, loss=0.135832645992438\n",
            "6 --> 6\n",
            "Epoch=4, index=300, loss=0.2031551545796295\n",
            "12 --> 12\n",
            "Epoch=4, index=2340, loss=0.4983127162481348\n",
            "7 --> 7\n",
            "Epoch=4, index=1410, loss=0.14328351505100728\n",
            "7 --> 7\n",
            "Epoch=4, index=2160, loss=1.4990924209045866\n",
            "3 --> 3\n",
            "Epoch=4, index=1350, loss=0.01097095829124252\n",
            "4 --> 4\n",
            "Epoch=4, index=510, loss=1.7201926368909577\n",
            "7 --> 7\n",
            "Epoch=4, index=2070, loss=0.6251897751664122\n",
            "3 --> 3\n",
            "Epoch=4, index=1500, loss=1.3699809291710456\n",
            "1 --> 1\n",
            "Epoch=4, index=930, loss=0.16246742947647969\n",
            "2 --> 2\n",
            "Epoch=4, index=60, loss=0.16406498346477746\n",
            "2 --> 2\n",
            "Epoch=4, index=720, loss=0.28202723163800936\n",
            "7 --> 7\n",
            "Epoch=4, index=1680, loss=0.30121839307248593\n",
            "7 --> 7\n",
            "Epoch=4, index=120, loss=0.154316269295911\n",
            "7 --> 7\n",
            "Epoch=4, index=1380, loss=0.0060222864151000975\n",
            "4 --> 4\n",
            "Epoch=4, index=90, loss=0.1434660634646813\n",
            "17 --> 8\n",
            "Epoch=4, index=1950, loss=0.704520878676946\n",
            "3 --> 3\n",
            "Epoch=4, index=1890, loss=0.8018294313612083\n",
            "2 --> 2\n",
            "Epoch=4, index=1740, loss=0.03613846233735482\n",
            "3 --> 3\n",
            "Epoch=4, index=1830, loss=0.16799871070931355\n",
            "2 --> 2\n",
            "Epoch=4, index=1320, loss=0.09451530192357799\n",
            "1 --> 1\n",
            "Epoch=4, index=1920, loss=0.09043914874394735\n",
            "2 --> 2\n",
            "Epoch=4, index=2130, loss=0.8728376606479287\n",
            "5 --> 5\n",
            "Epoch=4, index=2040, loss=0.023319006462891898\n",
            "12 --> 12\n",
            "Epoch=4, index=1170, loss=0.013413829480608304\n",
            "1 --> 1\n",
            "Epoch=4, index=870, loss=0.8671416598372161\n",
            "7 --> 7\n",
            "Epoch=4, index=1710, loss=0.3231015789632996\n",
            "2 --> 2\n",
            "Epoch=4, index=600, loss=0.06250447109341621\n",
            "7 --> 7\n",
            "Epoch=4, index=660, loss=0.44634581975017984\n",
            "7 --> 7\n",
            "Epoch=4, index=2460, loss=2.3095550931058826\n",
            "8 --> 8\n",
            "Epoch=4, index=180, loss=0.09799038209021091\n",
            "12 --> 12\n",
            "Epoch=4, index=1470, loss=1.2672085298690945\n",
            "12 --> 12\n",
            "Epoch=4, index=1290, loss=0.2030050686871012\n",
            "5 --> 5\n",
            "Epoch=4, index=1620, loss=0.3002946322162946\n",
            "9 --> 9\n",
            "Epoch=4, index=900, loss=0.18678431001802284\n",
            "7 --> 7\n",
            "Accuracy: 0.75\n",
            "([('Parkkisähkö', 7, 13), ('Rel8', 13, 9), ('Nocofio', 8, 2), ('upm-kymmene corporation', 7, 13), ('Morpher', 9, 1)], 0.7513513513513513)\n",
            "total loss=0.49327051639556885\n",
            "TIME TILL NOW: avg=4.7, for 4 epochs - 18.9 min\n",
            "2093\n",
            "Epoch=5, index=870, loss=0.2930039557317893\n",
            "7 --> 7\n",
            "Epoch=5, index=630, loss=0.16045541899899643\n",
            "7 --> 7\n",
            "Epoch=5, index=2160, loss=1.4976396078864733\n",
            "3 --> 3\n",
            "Epoch=5, index=900, loss=0.591352776841571\n",
            "7 --> 7\n",
            "Epoch=5, index=30, loss=0.41965993836832544\n",
            "6 --> 6\n",
            "Epoch=5, index=2130, loss=1.1489183391133944\n",
            "5 --> 5\n",
            "Epoch=5, index=300, loss=0.2862429308394591\n",
            "12 --> 12\n",
            "Epoch=5, index=600, loss=0.5898543706163764\n",
            "7 --> 7\n",
            "Epoch=5, index=990, loss=0.0560232591504852\n",
            "2 --> 2\n",
            "Epoch=5, index=1470, loss=0.023605559890468916\n",
            "12 --> 12\n",
            "Epoch=5, index=780, loss=0.019268615916371346\n",
            "10 --> 10\n",
            "Epoch=5, index=570, loss=0.5632939959565798\n",
            "2 --> 2\n",
            "Epoch=5, index=270, loss=0.3511137961099545\n",
            "5 --> 5\n",
            "Epoch=5, index=1950, loss=1.0316345882291595\n",
            "3 --> 3\n",
            "Epoch=5, index=1290, loss=1.2366066991661986\n",
            "5 --> 5\n",
            "Epoch=5, index=1380, loss=0.16752811452994745\n",
            "4 --> 4\n",
            "Epoch=5, index=720, loss=0.15787877762534966\n",
            "7 --> 7\n",
            "Epoch=5, index=120, loss=0.0027209951852758727\n",
            "7 --> 7\n",
            "Epoch=5, index=60, loss=0.045786676059166594\n",
            "2 --> 2\n",
            "Epoch=5, index=1140, loss=0.05343080181628466\n",
            "3 --> 3\n",
            "Epoch=5, index=1830, loss=0.05464144122476379\n",
            "2 --> 2\n",
            "Epoch=5, index=1410, loss=0.12310709841549397\n",
            "7 --> 7\n",
            "Epoch=5, index=1440, loss=0.8176839925348759\n",
            "7 --> 7\n",
            "Epoch=5, index=1500, loss=1.1145721885065238\n",
            "1 --> 1\n",
            "Epoch=5, index=690, loss=0.7115485121573631\n",
            "1 --> 1\n",
            "Epoch=5, index=2280, loss=0.3082248126001408\n",
            "8 --> 12\n",
            "Epoch=5, index=2400, loss=0.032992786106963955\n",
            "10 --> 10\n",
            "Epoch=5, index=660, loss=0.08285585326763491\n",
            "7 --> 7\n",
            "Epoch=5, index=1890, loss=0.8639553945045918\n",
            "2 --> 2\n",
            "Epoch=5, index=1920, loss=0.07724627756203215\n",
            "2 --> 2\n",
            "Epoch=5, index=2340, loss=0.01958257264147202\n",
            "7 --> 7\n",
            "Epoch=5, index=540, loss=0.2045018646866083\n",
            "6 --> 6\n",
            "Epoch=5, index=840, loss=0.02333164264758428\n",
            "2 --> 2\n",
            "Epoch=5, index=1260, loss=0.018328367049495378\n",
            "9 --> 9\n",
            "Epoch=5, index=1350, loss=0.1274770664672057\n",
            "4 --> 4\n",
            "Epoch=5, index=1620, loss=1.4718971708634248\n",
            "9 --> 9\n",
            "Epoch=5, index=1680, loss=0.008492618302504222\n",
            "7 --> 7\n",
            "Epoch=5, index=1860, loss=0.0324886672043552\n",
            "2 --> 2\n",
            "Epoch=5, index=960, loss=0.03026799767588576\n",
            "7 --> 7\n",
            "Epoch=5, index=2070, loss=1.0220593844540418\n",
            "3 --> 3\n",
            "Epoch=5, index=1590, loss=0.36763997630526624\n",
            "8 --> 8\n",
            "Epoch=5, index=2040, loss=0.010537316463887692\n",
            "12 --> 12\n",
            "Epoch=5, index=1170, loss=0.2432548872816066\n",
            "1 --> 1\n",
            "Epoch=5, index=510, loss=0.005397455828885237\n",
            "7 --> 7\n",
            "Epoch=5, index=0, loss=0.5336370079312474\n",
            "7 --> 7\n",
            "Epoch=5, index=90, loss=0.08703860578437646\n",
            "17 --> 17\n",
            "Epoch=5, index=2460, loss=0.6463145854650065\n",
            "8 --> 8\n",
            "Epoch=5, index=2250, loss=0.09167165987504025\n",
            "16 --> 16\n",
            "Epoch=5, index=1650, loss=0.24276876545821627\n",
            "8 --> 8\n",
            "Epoch=5, index=330, loss=0.7693099740038937\n",
            "7 --> 7\n",
            "Epoch=5, index=1320, loss=0.6222809146468838\n",
            "1 --> 1\n",
            "Epoch=5, index=180, loss=0.032500268115351595\n",
            "12 --> 12\n",
            "Epoch=5, index=390, loss=0.5034062853703897\n",
            "16 --> 16\n",
            "Epoch=5, index=930, loss=0.5503985489330565\n",
            "2 --> 2\n",
            "Epoch=5, index=1230, loss=0.04904228455076615\n",
            "12 --> 12\n",
            "Epoch=5, index=1980, loss=0.09007078347106774\n",
            "3 --> 3\n",
            "Epoch=5, index=150, loss=0.5104820290425172\n",
            "2 --> 2\n",
            "Epoch=5, index=1710, loss=0.5371896388009191\n",
            "2 --> 2\n",
            "Epoch=5, index=360, loss=0.05592393227852881\n",
            "13 --> 13\n",
            "Epoch=5, index=2010, loss=0.19606304361174504\n",
            "12 --> 12\n",
            "Epoch=5, index=1080, loss=0.280127640410016\n",
            "5 --> 5\n",
            "Epoch=5, index=1740, loss=0.364341697221001\n",
            "3 --> 3\n",
            "Epoch=5, index=1020, loss=0.3973280492859582\n",
            "2 --> 2\n",
            "Epoch=5, index=2370, loss=0.19442290427784126\n",
            "3 --> 4\n",
            "Epoch=5, index=750, loss=0.2857087588015323\n",
            "2 --> 2\n",
            "Epoch=5, index=2190, loss=0.4837321234866977\n",
            "4 --> 4\n",
            "Epoch=5, index=1200, loss=0.034443878941237925\n",
            "1 --> 1\n",
            "Accuracy: 0.76\n",
            "([('Parkkisähkö', 7, 13), ('Rel8', 13, 9), ('Nocofio', 8, 2), ('Sawtooth seafood', 14, 1), ('DoPay', 1, 8)], 0.7648648648648648)\n",
            "total loss=0.3535117208957672\n",
            "TIME TILL NOW: avg=4.7, for 5 epochs - 23.7 min\n",
            "2093\n",
            "Epoch=6, index=1620, loss=0.015811520318190258\n",
            "9 --> 9\n",
            "Epoch=6, index=1860, loss=0.2384606753475964\n",
            "2 --> 2\n",
            "Epoch=6, index=1380, loss=0.0036779092003901797\n",
            "4 --> 4\n",
            "Epoch=6, index=960, loss=0.034166718398531276\n",
            "7 --> 7\n",
            "Epoch=6, index=330, loss=0.8855359423129509\n",
            "7 --> 7\n",
            "Epoch=6, index=1710, loss=0.306219066780371\n",
            "2 --> 2\n",
            "Epoch=6, index=1080, loss=0.04391877936820189\n",
            "5 --> 5\n",
            "Epoch=6, index=1950, loss=0.038570934627205136\n",
            "3 --> 3\n",
            "Epoch=6, index=570, loss=0.34515650196311376\n",
            "2 --> 2\n",
            "Epoch=6, index=1680, loss=0.06152858315035701\n",
            "7 --> 7\n",
            "Epoch=6, index=870, loss=1.6700905092526228\n",
            "7 --> 7\n",
            "Epoch=6, index=1200, loss=0.2522475851078828\n",
            "1 --> 1\n",
            "Epoch=6, index=0, loss=0.2359352558851242\n",
            "7 --> 7\n",
            "Epoch=6, index=60, loss=0.1776140997496744\n",
            "2 --> 2\n",
            "Epoch=6, index=2280, loss=0.032956477844466765\n",
            "8 --> 8\n",
            "Epoch=6, index=2130, loss=0.5452489058331896\n",
            "5 --> 5\n",
            "Epoch=6, index=750, loss=0.27632191446609794\n",
            "2 --> 2\n",
            "Epoch=6, index=1650, loss=0.02304051263878743\n",
            "8 --> 8\n",
            "Epoch=6, index=1500, loss=0.07513688790301482\n",
            "1 --> 1\n",
            "Epoch=6, index=1140, loss=0.01677253673163553\n",
            "3 --> 3\n",
            "Epoch=6, index=1740, loss=0.06508908164687455\n",
            "3 --> 3\n",
            "Epoch=6, index=1920, loss=0.07347452038278182\n",
            "2 --> 2\n",
            "Epoch=6, index=1440, loss=0.02228332053249081\n",
            "7 --> 7\n",
            "Epoch=6, index=990, loss=0.08138533835299314\n",
            "2 --> 2\n",
            "Epoch=6, index=1320, loss=0.011758462789778908\n",
            "1 --> 1\n",
            "Epoch=6, index=510, loss=0.039169486006721856\n",
            "7 --> 7\n",
            "Epoch=6, index=900, loss=0.006332104839384556\n",
            "7 --> 7\n",
            "Epoch=6, index=30, loss=0.19009044437358777\n",
            "6 --> 6\n",
            "Epoch=6, index=1170, loss=0.0006407165589431921\n",
            "1 --> 1\n",
            "Epoch=6, index=2070, loss=0.11718559766498705\n",
            "3 --> 3\n",
            "Epoch=6, index=1980, loss=0.1643403030621509\n",
            "3 --> 3\n",
            "Epoch=6, index=1020, loss=0.5473758638836443\n",
            "2 --> 2\n",
            "Epoch=6, index=1590, loss=0.14127861104595166\n",
            "8 --> 8\n",
            "Epoch=6, index=690, loss=0.1510109286910544\n",
            "1 --> 1\n",
            "Epoch=6, index=270, loss=0.07246992060293754\n",
            "5 --> 5\n",
            "Epoch=6, index=120, loss=0.0507085298653692\n",
            "7 --> 7\n",
            "Epoch=6, index=2160, loss=0.04082217067480087\n",
            "3 --> 3\n",
            "Epoch=6, index=1470, loss=0.47002404442367457\n",
            "12 --> 12\n",
            "Epoch=6, index=1350, loss=0.5903225254888336\n",
            "4 --> 4\n",
            "Epoch=6, index=2370, loss=0.35666054179891943\n",
            "3 --> 4\n",
            "Epoch=6, index=1230, loss=0.7690345196363827\n",
            "12 --> 12\n",
            "Epoch=6, index=930, loss=0.4171630616455028\n",
            "2 --> 2\n",
            "Epoch=6, index=540, loss=0.14116758493085702\n",
            "6 --> 6\n",
            "Epoch=6, index=2040, loss=0.4463931665600588\n",
            "12 --> 12\n",
            "Epoch=6, index=90, loss=0.4424520672454188\n",
            "17 --> 17\n",
            "Epoch=6, index=720, loss=0.16562925213947893\n",
            "7 --> 7\n",
            "Epoch=6, index=780, loss=0.23172196394298225\n",
            "10 --> 10\n",
            "Epoch=6, index=360, loss=0.09810023953517279\n",
            "13 --> 13\n",
            "Epoch=6, index=2190, loss=0.0842118468756477\n",
            "4 --> 4\n",
            "Epoch=6, index=390, loss=0.13880378405253094\n",
            "16 --> 16\n",
            "Epoch=6, index=1890, loss=0.4996038586987803\n",
            "2 --> 2\n",
            "Epoch=6, index=2460, loss=0.294977828177313\n",
            "8 --> 9\n",
            "Epoch=6, index=1830, loss=0.12928289033782978\n",
            "2 --> 2\n",
            "Epoch=6, index=660, loss=0.23361530664066474\n",
            "7 --> 7\n",
            "Epoch=6, index=630, loss=0.5759347630431876\n",
            "7 --> 7\n",
            "Epoch=6, index=2340, loss=0.23847328582778574\n",
            "7 --> 7\n",
            "Epoch=6, index=1260, loss=0.4377344864808644\n",
            "9 --> 9\n",
            "Epoch=6, index=840, loss=0.07976583441098531\n",
            "2 --> 2\n",
            "Epoch=6, index=2400, loss=0.33024906693802525\n",
            "10 --> 4\n",
            "Epoch=6, index=1290, loss=0.02159553732102116\n",
            "5 --> 5\n",
            "Epoch=6, index=2250, loss=0.05369135073851794\n",
            "16 --> 16\n",
            "Epoch=6, index=1410, loss=0.8619187543867156\n",
            "7 --> 7\n",
            "Epoch=6, index=300, loss=0.1825520796701312\n",
            "12 --> 12\n",
            "Epoch=6, index=2010, loss=0.23125141623119513\n",
            "12 --> 12\n",
            "Epoch=6, index=150, loss=1.8571508263936267\n",
            "2 --> 2\n",
            "Epoch=6, index=600, loss=0.029206504113972187\n",
            "7 --> 7\n",
            "Epoch=6, index=180, loss=0.016636331969251236\n",
            "12 --> 12\n",
            "Accuracy: 0.76\n",
            "([('Parkkisähkö', 7, 13), ('Rel8', 13, 9), ('Nocofio', 8, 2), ('Morpher', 9, 1), ('MEMBRASENZ GmbH', 7, 9)], 0.7648648648648648)\n",
            "total loss=0.25489187240600586\n",
            "TIME TILL NOW: avg=4.7, for 6 epochs - 28.4 min\n",
            "2093\n",
            "Epoch=7, index=0, loss=0.0003826976753771305\n",
            "7 --> 7\n",
            "Epoch=7, index=660, loss=0.4225106108079975\n",
            "7 --> 7\n",
            "Epoch=7, index=1590, loss=0.0025056302547454834\n",
            "8 --> 8\n",
            "Epoch=7, index=1230, loss=0.4212526484935855\n",
            "12 --> 12\n",
            "Epoch=7, index=1740, loss=0.021526038933855792\n",
            "3 --> 3\n",
            "Epoch=7, index=750, loss=0.006808197234446803\n",
            "2 --> 2\n",
            "Epoch=7, index=60, loss=0.36533849358869097\n",
            "2 --> 2\n",
            "Epoch=7, index=1140, loss=0.000979528265694777\n",
            "3 --> 3\n",
            "Epoch=7, index=270, loss=0.08417186041673025\n",
            "5 --> 5\n",
            "Epoch=7, index=510, loss=0.10751694841310382\n",
            "7 --> 7\n",
            "Epoch=7, index=1440, loss=0.044513573249181114\n",
            "7 --> 7\n",
            "Epoch=7, index=630, loss=0.004331024643033743\n",
            "7 --> 7\n",
            "Epoch=7, index=2370, loss=0.2869354656742265\n",
            "3 --> 4\n",
            "Epoch=7, index=1680, loss=0.01606751405633986\n",
            "7 --> 7\n",
            "Epoch=7, index=2190, loss=0.04902592594735324\n",
            "4 --> 4\n",
            "Epoch=7, index=570, loss=0.5548539522375601\n",
            "2 --> 2\n",
            "Epoch=7, index=1380, loss=0.32667777546060583\n",
            "4 --> 4\n",
            "Epoch=7, index=2040, loss=0.10393991409800947\n",
            "12 --> 12\n",
            "Epoch=7, index=2130, loss=0.3387368171087777\n",
            "5 --> 5\n",
            "Epoch=7, index=2250, loss=0.005931772788365682\n",
            "16 --> 16\n",
            "Epoch=7, index=2340, loss=0.023543325539988776\n",
            "7 --> 7\n",
            "Epoch=7, index=30, loss=0.49804724010949336\n",
            "6 --> 6\n",
            "Epoch=7, index=690, loss=0.6281480757364383\n",
            "1 --> 1\n",
            "Epoch=7, index=1290, loss=0.08616780248315384\n",
            "5 --> 5\n",
            "Epoch=7, index=1260, loss=0.015924058055194715\n",
            "9 --> 9\n",
            "Epoch=7, index=1920, loss=0.7836216144574185\n",
            "2 --> 2\n",
            "Epoch=7, index=1950, loss=0.0003971074086924394\n",
            "3 --> 3\n",
            "Epoch=7, index=1410, loss=0.010055920652424296\n",
            "7 --> 7\n",
            "Epoch=7, index=90, loss=0.009645500282446543\n",
            "17 --> 17\n",
            "Epoch=7, index=1350, loss=0.0005915490910410881\n",
            "4 --> 4\n",
            "Epoch=7, index=1710, loss=0.11898902370594441\n",
            "2 --> 2\n",
            "Epoch=7, index=1620, loss=0.42491856700895975\n",
            "9 --> 9\n",
            "Epoch=7, index=840, loss=0.21930877637738982\n",
            "2 --> 12\n",
            "Epoch=7, index=1500, loss=0.26233069313457236\n",
            "1 --> 1\n",
            "Epoch=7, index=1320, loss=0.00016700245129565398\n",
            "1 --> 1\n",
            "Epoch=7, index=2070, loss=0.087288753176108\n",
            "3 --> 3\n",
            "Epoch=7, index=1080, loss=0.003247367093960444\n",
            "5 --> 5\n",
            "Epoch=7, index=2400, loss=0.09909557349358995\n",
            "10 --> 4\n",
            "Epoch=7, index=360, loss=0.041083809034898874\n",
            "13 --> 13\n",
            "Epoch=7, index=780, loss=0.19414610820046316\n",
            "10 --> 10\n",
            "Epoch=7, index=1650, loss=0.008596860601877173\n",
            "8 --> 8\n",
            "Epoch=7, index=990, loss=0.005888666693742077\n",
            "2 --> 2\n",
            "Epoch=7, index=960, loss=0.23697821888296555\n",
            "7 --> 7\n",
            "Epoch=7, index=2460, loss=0.02864443516979615\n",
            "8 --> 8\n",
            "Epoch=7, index=390, loss=1.1343933772761374\n",
            "16 --> 16\n",
            "Epoch=7, index=1830, loss=0.05033505513953666\n",
            "2 --> 2\n",
            "Epoch=7, index=1470, loss=0.02422465660298864\n",
            "12 --> 12\n",
            "Epoch=7, index=1980, loss=0.025678468650827804\n",
            "3 --> 3\n",
            "Epoch=7, index=870, loss=0.13370166646006207\n",
            "7 --> 7\n",
            "Epoch=7, index=540, loss=0.07597403021839758\n",
            "6 --> 6\n",
            "Epoch=7, index=330, loss=0.011575903076057633\n",
            "7 --> 7\n",
            "Epoch=7, index=1200, loss=0.46133699260341626\n",
            "1 --> 1\n",
            "Epoch=7, index=180, loss=0.026983316979991893\n",
            "12 --> 12\n",
            "Epoch=7, index=2160, loss=0.10323131744128962\n",
            "3 --> 3\n",
            "Epoch=7, index=600, loss=0.08649822917456428\n",
            "7 --> 7\n",
            "Epoch=7, index=2010, loss=0.7679407128870177\n",
            "12 --> 12\n",
            "Epoch=7, index=900, loss=0.011883435615648827\n",
            "7 --> 7\n",
            "Epoch=7, index=1170, loss=0.19154606183680395\n",
            "1 --> 1\n",
            "Epoch=7, index=930, loss=0.014656600806241234\n",
            "2 --> 2\n",
            "Epoch=7, index=300, loss=0.1682145857717842\n",
            "12 --> 12\n",
            "Epoch=7, index=2280, loss=0.21427661368312936\n",
            "8 --> 8\n",
            "Epoch=7, index=720, loss=0.4527398009163638\n",
            "7 --> 7\n",
            "Epoch=7, index=1890, loss=0.7434939033972721\n",
            "2 --> 2\n",
            "Epoch=7, index=120, loss=0.0978821754300346\n",
            "7 --> 7\n",
            "Epoch=7, index=1020, loss=0.1310267804035296\n",
            "2 --> 2\n",
            "Epoch=7, index=150, loss=0.28582554555808504\n",
            "2 --> 2\n",
            "Epoch=7, index=1860, loss=0.00010731015354394912\n",
            "2 --> 2\n",
            "Accuracy: 0.74\n",
            "([('Parkkisähkö', 7, 13), ('Rel8', 13, 9), ('Nocofio', 8, 2), ('Morpher', 9, 1), ('DoPay', 1, 8)], 0.7405405405405405)\n",
            "total loss=0.18061356246471405\n",
            "TIME TILL NOW: avg=4.7, for 7 epochs - 33.2 min\n"
          ],
          "name": "stdout"
        },
        {
          "output_type": "display_data",
          "data": {
            "image/png": "[encoded data removed]",
            "text/plain": [
              "<Figure size 432x288 with 1 Axes>"
            ]
          },
          "metadata": {
            "tags": [],
            "needs_background": "light"
          }
        },
        {
          "output_type": "display_data",
          "data": {
            "image/png": "[encoded data removed]",
            "text/plain": [
              "<Figure size 432x288 with 1 Axes>"
            ]
          },
          "metadata": {
            "tags": [],
            "needs_background": "light"
          }
        },
        {
          "output_type": "display_data",
          "data": {
            "image/png": "[encoded data removed]",
            "text/plain": [
              "<Figure size 432x288 with 1 Axes>"
            ]
          },
          "metadata": {
            "tags": [],
            "needs_background": "light"
          }
        },
        {
          "output_type": "display_data",
          "data": {
            "image/png": "[encoded data removed]",
            "text/plain": [
              "<Figure size 432x288 with 1 Axes>"
            ]
          },
          "metadata": {
            "tags": [],
            "needs_background": "light"
          }
        },
        {
          "output_type": "display_data",
          "data": {
            "image/png": "[encoded data removed]",
            "text/plain": [
              "<Figure size 432x288 with 1 Axes>"
            ]
          },
          "metadata": {
            "tags": [],
            "needs_background": "light"
          }
        },
        {
          "output_type": "display_data",
          "data": {
            "image/png": "[encoded data removed]",
            "text/plain": [
              "<Figure size 432x288 with 1 Axes>"
            ]
          },
          "metadata": {
            "tags": [],
            "needs_background": "light"
          }
        },
        {
          "output_type": "display_data",
          "data": {
            "image/png": "[encoded data removed]",
            "text/plain": [
              "<Figure size 432x288 with 1 Axes>"
            ]
          },
          "metadata": {
            "tags": [],
            "needs_background": "light"
          }
        }
      ]
    },
    {
      "cell_type": "code",
      "metadata": {
        "id": "IC0cle4dN7lb",
        "outputId": "7c2e33bb-c2e1-48bd-b904-acd55a3ae42b",
        "colab": {
          "base_uri": "https://localhost:8080/",
          "height": 279
        }
      },
      "source": [
        "import matplotlib.pyplot as plt\n",
        "%matplotlib inline\n",
        "plt.plot(range(n_epochs), losses)\n",
        "plt.ylabel('Cross Entropy Loss')\n",
        "plt.xlabel('epoch');"
      ],
      "execution_count": null,
      "outputs": [
        {
          "output_type": "display_data",
          "data": {
            "image/png": "[encoded data removed]",
            "text/plain": [
              "<Figure size 432x288 with 1 Axes>"
            ]
          },
          "metadata": {
            "tags": [],
            "needs_background": "light"
          }
        }
      ]
    },
    {
      "cell_type": "code",
      "metadata": {
        "id": "rOyDlMNs4J1d",
        "outputId": "95b8ecc2-af6f-43c0-d689-5cba70d1005d",
        "colab": {
          "base_uri": "https://localhost:8080/",
          "height": 1000
        }
      },
      "source": [
        "evaluate_mode(X_test, model)"
      ],
      "execution_count": null,
      "outputs": [
        {
          "output_type": "stream",
          "text": [
            "Accuracy: 0.74\n",
            "Auc: 0.59\n",
            "Detail:\n",
            "              precision    recall  f1-score   support\n",
            "\n",
            "           1       0.70      0.74      0.72        31\n",
            "           2       0.81      0.90      0.85        61\n",
            "           3       0.93      0.79      0.85        33\n",
            "           4       0.73      0.92      0.81        12\n",
            "           5       0.80      1.00      0.89         4\n",
            "           6       0.50      0.38      0.43         8\n",
            "           7       0.84      0.94      0.89        86\n",
            "           8       0.71      0.50      0.59        10\n",
            "           9       0.50      0.37      0.42        30\n",
            "          10       0.20      0.20      0.20         5\n",
            "          11       0.50      0.33      0.40         6\n",
            "          12       0.69      0.64      0.67        28\n",
            "          13       0.50      0.57      0.53        21\n",
            "          14       0.87      0.87      0.87        15\n",
            "          15       0.00      0.00      0.00         3\n",
            "          16       0.80      0.57      0.67        14\n",
            "          17       0.50      0.67      0.57         3\n",
            "\n",
            "    accuracy                           0.74       370\n",
            "   macro avg       0.62      0.61      0.61       370\n",
            "weighted avg       0.73      0.74      0.73       370\n",
            "\n"
          ],
          "name": "stdout"
        },
        {
          "output_type": "display_data",
          "data": {
            "image/png": "[encoded data removed]",
            "text/plain": [
              "<Figure size 432x288 with 1 Axes>"
            ]
          },
          "metadata": {
            "tags": [],
            "needs_background": "light"
          }
        },
        {
          "output_type": "display_data",
          "data": {
            "image/png": "[encoded data removed]",
            "text/plain": [
              "<Figure size 720x360 with 2 Axes>"
            ]
          },
          "metadata": {
            "tags": [],
            "needs_background": "light"
          }
        },
        {
          "output_type": "execute_result",
          "data": {
            "text/plain": [
              "([('Parkkisähkö', 7, 13),\n",
              "  ('Rel8', 13, 9),\n",
              "  ('Nocofio', 8, 2),\n",
              "  ('DoPay', 1, 8),\n",
              "  ('MEMBRASENZ GmbH', 7, 9)],\n",
              " 0.7432432432432432)"
            ]
          },
          "metadata": {
            "tags": []
          },
          "execution_count": 26
        }
      ]
    },
    {
      "cell_type": "code",
      "metadata": {
        "id": "AQOgOM6YN7lg"
      },
      "source": [
        "# errors"
      ],
      "execution_count": null,
      "outputs": []
    },
    {
      "cell_type": "code",
      "metadata": {
        "id": "JBs0p2KCXQel",
        "outputId": "c9b579e9-64e9-45e1-cb9c-539da4425edd",
        "colab": {
          "base_uri": "https://localhost:8080/",
          "height": 156
        }
      },
      "source": [
        "scores = [x[1] for x in errors]\n",
        "print(f\"avg - {sum(scores[-10:])/len(scores[-10:])}\")\n",
        "scores"
      ],
      "execution_count": null,
      "outputs": [
        {
          "output_type": "stream",
          "text": [
            "avg - 0.7498069498069497\n"
          ],
          "name": "stdout"
        },
        {
          "output_type": "execute_result",
          "data": {
            "text/plain": [
              "[0.7108108108108108,\n",
              " 0.7648648648648648,\n",
              " 0.7513513513513513,\n",
              " 0.7513513513513513,\n",
              " 0.7648648648648648,\n",
              " 0.7648648648648648,\n",
              " 0.7405405405405405]"
            ]
          },
          "metadata": {
            "tags": []
          },
          "execution_count": 24
        }
      ]
    },
    {
      "cell_type": "code",
      "metadata": {
        "id": "8yG8AALQ3GHp"
      },
      "source": [
        "# Be careful to overwrite our original name file!\n",
        "model_name = 'models/allGoalsToGoals3.net'"
      ],
      "execution_count": null,
      "outputs": []
    },
    {
      "cell_type": "code",
      "metadata": {
        "id": "ikCbhhvb3GHs"
      },
      "source": [
        "torch.save(model,model_name)"
      ],
      "execution_count": null,
      "outputs": []
    },
    {
      "cell_type": "markdown",
      "metadata": {
        "id": "qb_3CdPWECz-"
      },
      "source": [
        "# Top N Goals"
      ]
    },
    {
      "cell_type": "code",
      "metadata": {
        "id": "YYAqeqzh__Tt"
      },
      "source": [
        "# Configuration\n",
        "\n",
        "N = 7\n",
        "n_epochs = 30\n",
        "\n",
        "def readDataAndselectTopGoals(N):\n",
        "  data = read_data()\n",
        "  labels = data['SDG Goal'].value_counts().index.tolist()[:N]\n",
        "  return data[data['SDG Goal'].isin(labels)]\n"
      ],
      "execution_count": null,
      "outputs": []
    },
    {
      "cell_type": "markdown",
      "metadata": {
        "id": "g5lQ5xYpDq8D"
      },
      "source": [
        "##Predict Five Ps from Top N goals"
      ]
    },
    {
      "cell_type": "code",
      "metadata": {
        "id": "aeQk5b4_CHUR"
      },
      "source": [
        "data = readDataAndselectTopGoals(N)\n",
        "data.shape"
      ],
      "execution_count": null,
      "outputs": []
    },
    {
      "cell_type": "code",
      "metadata": {
        "id": "f27Br2iEwgq7"
      },
      "source": [
        "data['Target'] = data['five Ps']\n",
        "labels = list(data['Target'].value_counts().keys().values)\n",
        "X_train, X_test, y_train, y_test = train_test_split(data, data[\"Target\"], test_size=0.15, random_state=42)\n",
        "print(labels)\n",
        "print(len(X_train), len(y_train))\n",
        "print(len(X_test), len(y_test))\n",
        "print(X_train.index[0:5])"
      ],
      "execution_count": null,
      "outputs": []
    },
    {
      "cell_type": "code",
      "metadata": {
        "id": "TVLXGJo1hd8D",
        "outputId": "2a5ac7ae-ff12-491b-a37a-9a757bdc0ced",
        "colab": {
          "base_uri": "https://localhost:8080/",
          "height": 69
        }
      },
      "source": [
        "data['Target'].value_counts()"
      ],
      "execution_count": null,
      "outputs": [
        {
          "output_type": "execute_result",
          "data": {
            "text/plain": [
              "Prosperity    292\n",
              "People        285\n",
              "Name: Target, dtype: int64"
            ]
          },
          "metadata": {
            "tags": []
          },
          "execution_count": 85
        }
      ]
    },
    {
      "cell_type": "code",
      "metadata": {
        "id": "KcQuB0fZK9YX"
      },
      "source": [
        "X_test['Target'].value_counts()"
      ],
      "execution_count": null,
      "outputs": []
    },
    {
      "cell_type": "code",
      "metadata": {
        "id": "NE5g5iZmfF65"
      },
      "source": [
        "model = SDGModel(len(labels)).cuda()"
      ],
      "execution_count": null,
      "outputs": []
    },
    {
      "cell_type": "code",
      "metadata": {
        "id": "EnVuFOSkco63"
      },
      "source": [
        "model(\"Hello World\")"
      ],
      "execution_count": null,
      "outputs": []
    },
    {
      "cell_type": "code",
      "metadata": {
        "id": "BEt8deYMfF6-"
      },
      "source": [
        "criterion = torch.nn.CrossEntropyLoss()\n",
        "optimizer = AdamW(model.parameters(), lr=1e-5)"
      ],
      "execution_count": null,
      "outputs": []
    },
    {
      "cell_type": "code",
      "metadata": {
        "id": "SwKpBtd7zqT1"
      },
      "source": [
        "import time\n",
        "\n",
        "start_time = time.time()\n",
        "losses = []\n",
        "errors = []\n",
        "\n",
        "for e in range(1, n_epochs+1):\n",
        "  current_loss = 0\n",
        "  curr_loss = 0;\n",
        "  curr_data = X_train.sample(frac=1)\n",
        "  print(len(curr_data))\n",
        "  for index, instance in curr_data.iterrows():\n",
        "    optimizer.zero_grad()\n",
        "    out = model(instance[\"About\"].lower())\n",
        "    loss = criterion(out.view(1, -1), torch.LongTensor([labels.index(instance[\"Target\"])]).cuda())\n",
        "    curr_loss += loss\n",
        "    loss.backward()\n",
        "    optimizer.step()\n",
        "    current_loss += loss.item()\n",
        "    if index % 30 == 0:\n",
        "      print(f\"Epoch={e}, index={index}, loss={current_loss/30}\")\n",
        "      print(f\"{instance['Target']} --> {labels[torch.argmax(out).item()]}\")\n",
        "      current_loss = 0\n",
        "  error = evaluate_mode(X_test, model)\n",
        "  print(error)\n",
        "  print(f\"total loss={curr_loss}\")\n",
        "  losses.append(curr_loss)\n",
        "  errors.append(error)\n",
        "  if e%5 == 0:\n",
        "    print(f\"TIME TILL NOW: for {e} epochs - {(time.time() - start_time)/60:.1f} min\")"
      ],
      "execution_count": null,
      "outputs": []
    },
    {
      "cell_type": "code",
      "metadata": {
        "id": "ktKQeag9PEna"
      },
      "source": [
        "import matplotlib.pyplot as plt\n",
        "%matplotlib inline\n",
        "plt.plot(range(n_epochs), losses)\n",
        "plt.ylabel('Cross Entropy Loss')\n",
        "plt.xlabel('epoch');"
      ],
      "execution_count": null,
      "outputs": []
    },
    {
      "cell_type": "code",
      "metadata": {
        "id": "hRWogGK6_lmY"
      },
      "source": [
        "evaluate_mode(X_test, model)"
      ],
      "execution_count": null,
      "outputs": []
    },
    {
      "cell_type": "code",
      "metadata": {
        "id": "xIrJhT-93rnl"
      },
      "source": [
        "errors"
      ],
      "execution_count": null,
      "outputs": []
    },
    {
      "cell_type": "code",
      "metadata": {
        "id": "64IccQ3_TMjw"
      },
      "source": [
        "scores = [x[1] for x in errors]\n",
        "scores"
      ],
      "execution_count": null,
      "outputs": []
    },
    {
      "cell_type": "markdown",
      "metadata": {
        "id": "QNV4oQi1JRWc"
      },
      "source": [
        "##Predict Goals from Top N goals"
      ]
    },
    {
      "cell_type": "code",
      "metadata": {
        "id": "kgzdRT4INZaf"
      },
      "source": [
        "data = readDataAndselectTopGoals(N)\n",
        "data.shape"
      ],
      "execution_count": null,
      "outputs": []
    },
    {
      "cell_type": "code",
      "metadata": {
        "id": "kg82rYC3JRWd"
      },
      "source": [
        "data['Target'] = data['SDG Goal']\n",
        "labels = list(data['Target'].value_counts().keys().values)\n",
        "X_train, X_test, y_train, y_test = train_test_split(data, data[\"Target\"], test_size=0.15, random_state=42)\n",
        "print(labels)\n",
        "print(len(X_train), len(y_train))\n",
        "print(len(X_test), len(y_test))\n",
        "print(X_train.index[0:5])"
      ],
      "execution_count": null,
      "outputs": []
    },
    {
      "cell_type": "code",
      "metadata": {
        "id": "RXEvumYLbRWk"
      },
      "source": [
        "X_test['Target'].value_counts()"
      ],
      "execution_count": null,
      "outputs": []
    },
    {
      "cell_type": "code",
      "metadata": {
        "id": "7ka2xwdhJRWg"
      },
      "source": [
        "model = SDGModel(len(labels)).cuda()"
      ],
      "execution_count": null,
      "outputs": []
    },
    {
      "cell_type": "code",
      "metadata": {
        "id": "bvlq4M98JRWj"
      },
      "source": [
        "model(\"Hello World\")"
      ],
      "execution_count": null,
      "outputs": []
    },
    {
      "cell_type": "code",
      "metadata": {
        "id": "2HHbjQ5PJRWl"
      },
      "source": [
        "criterion = torch.nn.CrossEntropyLoss()\n",
        "optimizer = AdamW(model.parameters(), lr=1e-5)"
      ],
      "execution_count": null,
      "outputs": []
    },
    {
      "cell_type": "code",
      "metadata": {
        "id": "OBkIC0IoJRWn"
      },
      "source": [
        "import time\n",
        "\n",
        "start_time = time.time()\n",
        "losses = []\n",
        "errors = []\n",
        "\n",
        "for e in range(1, n_epochs+1):\n",
        "  current_loss = 0\n",
        "  curr_loss = 0;\n",
        "  curr_data = X_train.sample(frac=1)\n",
        "  print(len(curr_data))\n",
        "  for index, instance in curr_data.iterrows():\n",
        "    optimizer.zero_grad()\n",
        "    out = model(instance[\"About\"].lower())\n",
        "    loss = criterion(out.view(1, -1), torch.LongTensor([labels.index(instance[\"Target\"])]).cuda())\n",
        "    curr_loss += loss\n",
        "    loss.backward()\n",
        "    optimizer.step()\n",
        "    current_loss += loss.item()\n",
        "    if index % 30 == 0:\n",
        "      print(f\"Epoch={e}, index={index}, loss={current_loss/30}\")\n",
        "      print(f\"{instance['Target']} --> {labels[torch.argmax(out).item()]}\")\n",
        "      current_loss = 0\n",
        "  error = evaluate_mode(X_test, model)\n",
        "  print(error)\n",
        "  print(f\"total loss={curr_loss}\")\n",
        "  losses.append(curr_loss)\n",
        "  errors.append(error)\n",
        "  if e%5 == 0:\n",
        "    print(f\"TIME TILL NOW: for {e} epochs - {(time.time() - start_time)/60:.1f} min\")"
      ],
      "execution_count": null,
      "outputs": []
    },
    {
      "cell_type": "code",
      "metadata": {
        "id": "UVxHZcbSJRWq"
      },
      "source": [
        "import matplotlib.pyplot as plt\n",
        "%matplotlib inline\n",
        "plt.plot(range(n_epochs), losses)\n",
        "plt.ylabel('Cross Entropy Loss')\n",
        "plt.xlabel('epoch');"
      ],
      "execution_count": null,
      "outputs": []
    },
    {
      "cell_type": "code",
      "metadata": {
        "id": "UeEf-2VZJRWs"
      },
      "source": [
        "evaluate_mode(X_test, model)"
      ],
      "execution_count": null,
      "outputs": []
    },
    {
      "cell_type": "code",
      "metadata": {
        "id": "Hnwqx2FRJRWv"
      },
      "source": [
        "errors"
      ],
      "execution_count": null,
      "outputs": []
    },
    {
      "cell_type": "code",
      "metadata": {
        "id": "vgdzUscdXNJw"
      },
      "source": [
        "scores = [x[1] for x in errors]\n",
        "scores"
      ],
      "execution_count": null,
      "outputs": []
    }
  ]
}